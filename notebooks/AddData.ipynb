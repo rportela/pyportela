{
 "cells": [
  {
   "cell_type": "markdown",
   "metadata": {},
   "source": [
    "# What is the neatest way to add data?\n",
    "\n",
    "In this notebook we explore the best way to add data to the warehouse."
   ]
  },
  {
   "cell_type": "code",
   "execution_count": 1,
   "metadata": {},
   "outputs": [],
   "source": [
    "from pyportela.models.CountryCode import CountryCode\n",
    "from pyportela.models.OrganizationType import OrganizationType\n",
    "\n",
    "\n",
    "def add_data(\n",
    "        country: CountryCode,\n",
    "        org_type: OrganizationType,\n",
    "        org_name: str,\n",
    "        dataset_name: str,\n",
    "        table_name: str\n",
    "):\n",
    "    pass"
   ]
  },
  {
   "cell_type": "code",
   "execution_count": null,
   "metadata": {},
   "outputs": [],
   "source": [
    "class AddDataPayload:\n",
    "    "
   ]
  }
 ],
 "metadata": {
  "kernelspec": {
   "display_name": ".venv",
   "language": "python",
   "name": "python3"
  },
  "language_info": {
   "codemirror_mode": {
    "name": "ipython",
    "version": 3
   },
   "file_extension": ".py",
   "mimetype": "text/x-python",
   "name": "python",
   "nbconvert_exporter": "python",
   "pygments_lexer": "ipython3",
   "version": "3.10.12"
  }
 },
 "nbformat": 4,
 "nbformat_minor": 2
}
