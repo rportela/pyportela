{
 "cells": [
  {
   "cell_type": "markdown",
   "metadata": {},
   "source": [
    "# Fundos de Investimento: Documentos: Informe Diário\n",
    "\n",
    "source: https://dados.cvm.gov.br/dataset/fi-doc-inf_diario\n",
    "\n",
    "O INFORME DIÁRIO é um demonstrativo que contém as seguintes informações do fundo, relativas à data de competência:\n",
    "\n",
    "- Valor total da carteira do fundo;\n",
    "- Patrimônio líquido;\n",
    "- Valor da cota;\n",
    "- Captações realizadas no dia;\n",
    "- Resgates pagos no dia;\n",
    "- Número de cotistas\n",
    "\n",
    "**Importante**: A partir de maio/2022, os arquivos de dados de Informe Diário de Fundos passarão a ser disponibilizados no formato csv compactado (zip).\n",
    "\n"
   ]
  },
  {
   "cell_type": "markdown",
   "metadata": {},
   "source": [
    "### Import relevant packages"
   ]
  },
  {
   "cell_type": "code",
   "execution_count": 1,
   "metadata": {},
   "outputs": [],
   "source": [
    "from datetime import datetime\n",
    "from io import BytesIO\n",
    "from typing import Optional, Union, List\n",
    "\n",
    "import pandas as pd\n",
    "import requests\n",
    "from dateutil.relativedelta import relativedelta\n",
    "\n",
    "from pyportela.models.DataResource import DataResource\n",
    "from pyportela.services.CachedDownload import CachedDownload\n",
    "from pyportela.utils import unzip_csv_to_df, download, digits_to_int"
   ]
  },
  {
   "cell_type": "markdown",
   "metadata": {},
   "source": [
    "## Recursos de dados\n",
    "\n",
    "Aqui vamos montar todas as urls relevantes para nossa base. \n",
    "\n",
    "Cada url vai ter uma data de expiração que indica se deve ser atualizada ou se nossa basse já está ok com ela."
   ]
  },
  {
   "cell_type": "code",
   "execution_count": 2,
   "metadata": {},
   "outputs": [],
   "source": [
    "resources: List[DataResource] = []\n",
    "for year in range(2004, 2021):\n",
    "    fileName = f\"inf_diario_fi_{year}.zip\"\n",
    "    url = \"https://dados.cvm.gov.br/dados/FI/DOC/INF_DIARIO/DADOS/HIST/\" + fileName\n",
    "    resource = DataResource(dataset_id=\"br_gov_cvm\", url=url, etag=fileName)\n",
    "    resources.append(resource)\n",
    "dt = datetime(2021, 1, 1)\n",
    "end = datetime.now()\n",
    "while dt < end:\n",
    "    year = dt.year\n",
    "    month = dt.month\n",
    "    fileName = f\"inf_diario_fi_{year}{month:02d}.zip\"\n",
    "    url = \"https://dados.cvm.gov.br/dados/FI/DOC/INF_DIARIO/DADOS/\" + fileName\n",
    "    resource = DataResource(dataset_id=\"br_gov_cvm\", url=url, etag=fileName)\n",
    "    resources.append(resource)\n",
    "    dt = dt + relativedelta(months=1)\n",
    "resources[-1].expires = True\n",
    "resources[-1].expires_at = datetime.now() + relativedelta(hours=12)"
   ]
  },
  {
   "cell_type": "markdown",
   "metadata": {},
   "source": [
    "### Check url expiration dates"
   ]
  },
  {
   "cell_type": "code",
   "execution_count": 3,
   "metadata": {},
   "outputs": [],
   "source": [
    "ckan_url = \"https://dados.cvm.gov.br/api/action/package_show?id=fi-doc-inf_diario\"\n",
    "ckan_url_res = requests.get(ckan_url).json()"
   ]
  },
  {
   "cell_type": "code",
   "execution_count": 4,
   "metadata": {},
   "outputs": [],
   "source": [
    "# ckan_url_res"
   ]
  },
  {
   "cell_type": "code",
   "execution_count": 5,
   "metadata": {},
   "outputs": [],
   "source": [
    "for resource in ckan_url_res[\"result\"][\"resources\"]:\n",
    "    url = resource[\"url\"]\n",
    "    found = next((item for item in resources if item.url == url), None)\n",
    "    if found is None:\n",
    "        continue\n",
    "    found.expires_at = datetime.strptime(resource[\"last_modified\"], \"%Y-%m-%dT%H:%M:%S.%f\")\n",
    "    found.expires = True\n"
   ]
  },
  {
   "cell_type": "code",
   "execution_count": 6,
   "metadata": {},
   "outputs": [],
   "source": [
    "# Uncomment the line below to see the resources that will be downloaded\n",
    "# pd.DataFrame(f.model_dump() for f in resources)"
   ]
  },
  {
   "cell_type": "markdown",
   "metadata": {},
   "source": [
    "## Parsing the Data"
   ]
  },
  {
   "cell_type": "code",
   "execution_count": 11,
   "metadata": {},
   "outputs": [],
   "source": [
    "def to_df(zip_file: Union[str, BytesIO], etag: str) -> pd.DataFrame:\n",
    "    \"\"\"\n",
    "    This method takes a zip file and returns a pandas DataFrame with the data\n",
    "    contained in the csv files inside the zip file.\n",
    "    \"\"\"\n",
    "    df = unzip_csv_to_df(zip_file, sep=\";\", dtype=str)\n",
    "    df[\"CNPJ_FUNDO\"] = df[\"CNPJ_FUNDO\"].apply(digits_to_int)\n",
    "    df[\"DT_COMPTC\"] = df[\"DT_COMPTC\"].apply(\n",
    "        lambda x: datetime.strptime(x, \"%Y-%m-%d\").date()\n",
    "    )\n",
    "    for col in [\n",
    "        \"VL_TOTAL\",\n",
    "        \"VL_QUOTA\",\n",
    "        \"VL_PATRIM_LIQ\",\n",
    "        \"CAPTC_DIA\",\n",
    "        \"RESG_DIA\",\n",
    "        \"NR_COTST\",\n",
    "    ]:\n",
    "        df[col] = df[col].astype(float)\n",
    "    if \"TP_FUNDO\" not in df.columns:\n",
    "        df[\"TP_FUNDO\"] = None\n",
    "    col_names = {}\n",
    "    for col in df.columns:\n",
    "        col_names[col] = col.lower()\n",
    "    df.rename(columns=col_names, inplace=True)\n",
    "    df[\"etag\"] = etag\n",
    "    df[\"edate\"] = datetime.utcnow()\n",
    "    df.Name = \"fi_doc_inf_diario\"\n",
    "    return df\n",
    "\n",
    "\n",
    "#test_df = to_df(download(resources[0].url), resources[0].etag)\n",
    "#test_df"
   ]
  },
  {
   "cell_type": "code",
   "execution_count": 12,
   "metadata": {},
   "outputs": [],
   "source": [
    "#test_df2 = to_df(download(resources[-1].url), resources[-1].etag)\n",
    "#test_df2"
   ]
  },
  {
   "cell_type": "markdown",
   "metadata": {},
   "source": [
    "## Saving Data\n",
    "\n",
    "In the next cells we'll save data to the warehouse."
   ]
  },
  {
   "cell_type": "code",
   "execution_count": 1,
   "metadata": {},
   "outputs": [],
   "source": [
    "from pyportela.models.CountryCode import CountryCode\n",
    "from pyportela.models.Organization import Organization\n",
    "from pyportela.models.OrganizationType import OrganizationType\n",
    "\n",
    "organization = Organization(CountryCode.BR, OrganizationType.COM, \"CVM\", \"Comissão de Valores Mobiliários (CVM)\")"
   ]
  },
  {
   "cell_type": "code",
   "execution_count": 2,
   "metadata": {},
   "outputs": [
    {
     "data": {
      "text/plain": [
       "'{\"country\":\"BR\",\"org_type\":\"COM\",\"name\":\"CVM\",\"title\":\"Comissão de Valores Mobiliários (CVM)\",\"description\":null}'"
      ]
     },
     "execution_count": 2,
     "metadata": {},
     "output_type": "execute_result"
    }
   ],
   "source": [
    "organization.model_dump_json()"
   ]
  },
  {
   "cell_type": "code",
   "execution_count": 3,
   "metadata": {},
   "outputs": [
    {
     "data": {
      "text/plain": [
       "'br_com_cvm'"
      ]
     },
     "execution_count": 3,
     "metadata": {},
     "output_type": "execute_result"
    }
   ],
   "source": [
    "organization.get_id()"
   ]
  },
  {
   "cell_type": "code",
   "execution_count": 4,
   "metadata": {},
   "outputs": [
    {
     "data": {
      "text/plain": [
       "'{\"organization\":{\"country\":\"BR\",\"org_type\":\"COM\",\"name\":\"CVM\",\"title\":\"Comissão de Valores Mobiliários (CVM)\",\"description\":null},\"license\":{\"name\":\"CC_BY_4\",\"url\":\"https://creativecommons.org/licenses/by/4.0/\",\"description\":\"Creative Commons Attribution 4.0 International\"},\"name\":\"fundos\",\"description\":null,\"tags\":null}'"
      ]
     },
     "execution_count": 4,
     "metadata": {},
     "output_type": "execute_result"
    }
   ],
   "source": [
    "from pyportela.models.License import LICENSE_CC\n",
    "\n",
    "dataset = Dataset(organization, LICENSE_CC, \"fundos\")\n",
    "dataset.model_dump_json()"
   ]
  },
  {
   "cell_type": "code",
   "execution_count": 5,
   "metadata": {},
   "outputs": [
    {
     "data": {
      "text/plain": [
       "'br_com_cvm__fundos'"
      ]
     },
     "execution_count": 5,
     "metadata": {},
     "output_type": "execute_result"
    }
   ],
   "source": [
    "dataset.get_id()"
   ]
  }
 ],
 "metadata": {
  "kernelspec": {
   "display_name": ".venv",
   "language": "python",
   "name": "python3"
  },
  "language_info": {
   "codemirror_mode": {
    "name": "ipython",
    "version": 3
   },
   "file_extension": ".py",
   "mimetype": "text/x-python",
   "name": "python",
   "nbconvert_exporter": "python",
   "pygments_lexer": "ipython3",
   "version": "3.10.12"
  }
 },
 "nbformat": 4,
 "nbformat_minor": 2
}
