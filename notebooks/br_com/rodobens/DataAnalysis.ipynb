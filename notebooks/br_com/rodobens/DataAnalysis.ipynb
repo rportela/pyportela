{
 "cells": [
  {
   "cell_type": "markdown",
   "metadata": {},
   "source": [
    "# Análise dos dados\n",
    "\n",
    "A análise dos dados de sorteios de um consórcio de imóvel é essencial para entender o comportamento e as tendências dentro do grupo de consorciados. Essa análise permite identificar padrões de contemplação, prever os momentos mais propícios para o sorteio de determinados participantes e melhorar a gestão do consórcio como um todo. Além disso, auxilia na transparência e na tomada de decisões estratégicas, como ajustes nas regras do consórcio, proporcionando mais confiança e previsibilidade para os consorciados. Ao utilizar dados históricos e tendências, é possível aumentar a eficiência e a satisfação dos participantes.\n",
    "\n"
   ]
  },
  {
   "cell_type": "markdown",
   "metadata": {},
   "source": [
    "## Os Dados"
   ]
  },
  {
   "cell_type": "code",
   "execution_count": 83,
   "metadata": {},
   "outputs": [],
   "source": [
    "import pandas as pd\n",
    "import plotly.express as px"
   ]
  },
  {
   "cell_type": "code",
   "execution_count": 84,
   "metadata": {},
   "outputs": [],
   "source": [
    "id_cota = 2450765\n",
    "# [2450765, 2450766, 2450770]"
   ]
  },
  {
   "cell_type": "code",
   "execution_count": 85,
   "metadata": {},
   "outputs": [],
   "source": [
    "df_contemplados = pd.read_parquet(f\"./data/contemplados-{id_cota}.parquet\")\n",
    "df_opcoes_contemplacao = pd.read_parquet(f\"./data/opcoes_contemplacao-{id_cota}.parquet\")"
   ]
  },
  {
   "cell_type": "markdown",
   "metadata": {},
   "source": [
    "### Agrupando dados relevantes\n",
    "\n",
    "Aqui vamos fazer um dataframe onde a data da assembleia, cota, versao e quantidade de parcelas são únicos\n",
    "entre contemplados e não contemplados. Precisamos juntar as informações e evitar possíveis duplicidades ou \n",
    "incoerências, onde por exemplo, um contemplado não faz parte das opções de contemplação.\n",
    "\n",
    "Alem disso, vamos adicionar:\n",
    "\n",
    "- **max_parcelas**: O número máximo possível de um lance que é o número de parcelas remanescentes do consórcio\n",
    "- **max_viavel**: O número de parcelas de lance que seria equivalente a um financiamento imobilário."
   ]
  },
  {
   "cell_type": "code",
   "execution_count": 86,
   "metadata": {},
   "outputs": [],
   "source": [
    "df_contemplados[\"contemplado\"] = 1\n",
    "df_opcoes_contemplacao[\"contemplado\"] = 0\n",
    "\n",
    "colunas_relevantes = [\n",
    "    \"assembleia\",\n",
    "    \"data_assembleia\",\n",
    "    \"cota\",\n",
    "    \"versao\",\n",
    "    \"quantidadeParcelaLance\",\n",
    "    \"modalidade\",\n",
    "    \"contemplado\",\n",
    "]\n",
    "\n",
    "df = pd.concat(\n",
    "    [\n",
    "        df_contemplados[colunas_relevantes],\n",
    "        df_opcoes_contemplacao[colunas_relevantes],\n",
    "    ]\n",
    ")\n",
    "df = df.groupby(colunas_relevantes[:-2]).max().reset_index()\n",
    "df[\"max_parcelas\"] = df[\"assembleia\"].apply(lambda x: 216 - x)\n",
    "df[\"max_selic\"] = df[\"assembleia\"].apply(lambda x: 152 - x)\n",
    "df[\"max_fin_imob\"] = df[\"assembleia\"].apply(lambda x: 157 - x)\n",
    "df[\"max_sem_perda\"] = df[\"assembleia\"].apply(lambda x: 175 - x)\n",
    "df[\"str_cota\"] = df.apply(lambda x: f\"{x['cota']}-{x['versao']}\", axis=1)\n",
    "# df"
   ]
  },
  {
   "cell_type": "code",
   "execution_count": 87,
   "metadata": {},
   "outputs": [
    {
     "data": {
      "text/plain": [
       "np.int64(650)"
      ]
     },
     "execution_count": 87,
     "metadata": {},
     "output_type": "execute_result"
    }
   ],
   "source": [
    "df[\"cota\"].max()"
   ]
  },
  {
   "cell_type": "markdown",
   "metadata": {},
   "source": [
    "## Evolução das Cotas\n",
    "\n",
    "Aqui utilizamos as opções de contamplação com apenas uma modalidade por cota."
   ]
  },
  {
   "cell_type": "markdown",
   "metadata": {},
   "source": [
    "### Opções de Contemplação"
   ]
  },
  {
   "cell_type": "code",
   "execution_count": 88,
   "metadata": {},
   "outputs": [
    {
     "data": {
      "application/vnd.plotly.v1+json": {
       "config": {
        "plotlyServerURL": "https://plot.ly"
       },
       "data": [
        {
         "alignmentgroup": "True",
         "hovertemplate": "modalidade=Sort. Canceladas<br>Data da assembleia=%{x}<br>Numero de Cotas=%{y}<extra></extra>",
         "legendgroup": "Sort. Canceladas",
         "marker": {
          "color": "#636efa",
          "pattern": {
           "shape": ""
          }
         },
         "name": "Sort. Canceladas",
         "offsetgroup": "Sort. Canceladas",
         "orientation": "v",
         "showlegend": true,
         "textposition": "auto",
         "type": "bar",
         "x": [
          "2023-12-14T00:00:00",
          "2024-01-12T00:00:00",
          "2023-10-17T00:00:00",
          "2023-11-14T00:00:00",
          "2024-02-15T00:00:00",
          "2023-09-14T00:00:00",
          "2024-03-14T00:00:00",
          "2022-02-15T00:00:00",
          "2023-07-13T00:00:00",
          "2023-06-15T00:00:00",
          "2023-05-12T00:00:00",
          "2024-06-12T00:00:00",
          "2023-04-13T00:00:00",
          "2023-08-15T00:00:00",
          "2024-07-12T00:00:00",
          "2024-08-14T00:00:00",
          "2024-04-12T00:00:00",
          "2024-05-14T00:00:00",
          "2022-01-13T00:00:00",
          "2022-11-14T00:00:00",
          "2023-01-12T00:00:00",
          "2022-12-15T00:00:00",
          "2023-02-14T00:00:00",
          "2023-03-14T00:00:00",
          "2021-12-14T00:00:00",
          "2022-10-13T00:00:00",
          "2021-11-12T00:00:00",
          "2022-09-15T00:00:00",
          "2022-08-12T00:00:00",
          "2021-10-15T00:00:00",
          "2022-06-15T00:00:00",
          "2022-07-14T00:00:00",
          "2021-09-14T00:00:00",
          "2021-08-12T00:00:00",
          "2022-05-12T00:00:00",
          "2021-07-15T00:00:00",
          "2022-04-14T00:00:00",
          "2022-03-15T00:00:00",
          "2021-06-14T00:00:00",
          "2021-05-13T00:00:00",
          "2021-04-14T00:00:00",
          "2021-03-12T00:00:00",
          "2021-02-12T00:00:00",
          "2021-01-14T00:00:00",
          "2020-12-14T00:00:00",
          "2020-11-12T00:00:00",
          "2020-10-15T00:00:00"
         ],
         "xaxis": "x",
         "y": [
          712,
          712,
          710,
          705,
          703,
          701,
          700,
          695,
          695,
          685,
          681,
          678,
          675,
          675,
          674,
          671,
          666,
          665,
          661,
          655,
          654,
          653,
          650,
          650,
          636,
          630,
          607,
          604,
          600,
          595,
          574,
          573,
          570,
          538,
          510,
          508,
          493,
          468,
          452,
          414,
          370,
          333,
          287,
          235,
          183,
          128,
          90
         ],
         "yaxis": "y"
        },
        {
         "alignmentgroup": "True",
         "hovertemplate": "modalidade=Sorteio Ativas<br>Data da assembleia=%{x}<br>Numero de Cotas=%{y}<extra></extra>",
         "legendgroup": "Sorteio Ativas",
         "marker": {
          "color": "#EF553B",
          "pattern": {
           "shape": ""
          }
         },
         "name": "Sorteio Ativas",
         "offsetgroup": "Sorteio Ativas",
         "orientation": "v",
         "showlegend": true,
         "textposition": "auto",
         "type": "bar",
         "x": [
          "2024-04-12T00:00:00",
          "2024-03-14T00:00:00",
          "2024-08-14T00:00:00",
          "2024-05-14T00:00:00",
          "2024-01-12T00:00:00",
          "2023-12-14T00:00:00",
          "2024-06-12T00:00:00",
          "2024-07-12T00:00:00",
          "2023-07-13T00:00:00",
          "2023-08-15T00:00:00",
          "2023-10-17T00:00:00",
          "2024-02-15T00:00:00",
          "2023-06-15T00:00:00",
          "2023-09-14T00:00:00",
          "2023-11-14T00:00:00",
          "2023-05-12T00:00:00",
          "2023-03-14T00:00:00",
          "2022-12-15T00:00:00",
          "2023-01-12T00:00:00",
          "2022-11-14T00:00:00",
          "2022-09-15T00:00:00",
          "2023-02-14T00:00:00",
          "2023-04-13T00:00:00",
          "2022-02-15T00:00:00",
          "2021-12-14T00:00:00",
          "2022-01-13T00:00:00",
          "2022-08-12T00:00:00",
          "2022-10-13T00:00:00",
          "2021-11-12T00:00:00",
          "2022-06-15T00:00:00",
          "2022-07-14T00:00:00",
          "2021-10-15T00:00:00",
          "2022-04-14T00:00:00",
          "2022-05-12T00:00:00",
          "2021-09-14T00:00:00",
          "2021-08-12T00:00:00",
          "2022-03-15T00:00:00",
          "2021-07-15T00:00:00",
          "2021-06-14T00:00:00",
          "2021-05-13T00:00:00",
          "2021-04-14T00:00:00",
          "2021-03-12T00:00:00",
          "2021-02-12T00:00:00",
          "2021-01-14T00:00:00",
          "2020-12-14T00:00:00",
          "2020-11-12T00:00:00",
          "2020-10-15T00:00:00"
         ],
         "xaxis": "x",
         "y": [
          285,
          284,
          273,
          272,
          269,
          268,
          267,
          262,
          253,
          252,
          250,
          250,
          248,
          248,
          245,
          237,
          232,
          230,
          229,
          227,
          226,
          225,
          221,
          220,
          216,
          216,
          215,
          214,
          211,
          207,
          204,
          202,
          201,
          197,
          195,
          187,
          183,
          179,
          168,
          163,
          157,
          150,
          138,
          133,
          111,
          86,
          68
         ],
         "yaxis": "y"
        },
        {
         "alignmentgroup": "True",
         "hovertemplate": "modalidade=Lance Fixo<br>Data da assembleia=%{x}<br>Numero de Cotas=%{y}<extra></extra>",
         "legendgroup": "Lance Fixo",
         "marker": {
          "color": "#00cc96",
          "pattern": {
           "shape": ""
          }
         },
         "name": "Lance Fixo",
         "offsetgroup": "Lance Fixo",
         "orientation": "v",
         "showlegend": true,
         "textposition": "auto",
         "type": "bar",
         "x": [
          "2021-07-15T00:00:00",
          "2021-09-14T00:00:00",
          "2021-12-14T00:00:00",
          "2021-11-12T00:00:00",
          "2022-02-15T00:00:00",
          "2021-10-15T00:00:00",
          "2021-08-12T00:00:00",
          "2022-01-13T00:00:00",
          "2021-05-13T00:00:00",
          "2021-04-14T00:00:00",
          "2021-06-14T00:00:00",
          "2021-03-12T00:00:00",
          "2022-06-15T00:00:00",
          "2022-08-12T00:00:00",
          "2023-01-12T00:00:00",
          "2022-12-15T00:00:00",
          "2024-01-12T00:00:00",
          "2022-09-15T00:00:00",
          "2022-07-14T00:00:00",
          "2023-05-12T00:00:00",
          "2023-04-13T00:00:00",
          "2023-07-13T00:00:00",
          "2022-03-15T00:00:00",
          "2024-03-14T00:00:00",
          "2022-05-12T00:00:00",
          "2022-11-14T00:00:00",
          "2021-01-14T00:00:00",
          "2022-04-14T00:00:00",
          "2023-02-14T00:00:00",
          "2021-02-12T00:00:00",
          "2023-06-15T00:00:00",
          "2023-08-15T00:00:00",
          "2024-02-15T00:00:00",
          "2023-12-14T00:00:00",
          "2023-03-14T00:00:00",
          "2023-10-17T00:00:00",
          "2022-10-13T00:00:00",
          "2023-09-14T00:00:00",
          "2020-12-14T00:00:00",
          "2024-04-12T00:00:00",
          "2023-11-14T00:00:00",
          "2024-05-14T00:00:00",
          "2024-06-12T00:00:00",
          "2024-08-14T00:00:00",
          "2024-07-12T00:00:00",
          "2020-11-12T00:00:00",
          "2020-10-15T00:00:00"
         ],
         "xaxis": "x",
         "y": [
          249,
          244,
          242,
          240,
          239,
          237,
          232,
          224,
          220,
          208,
          205,
          196,
          195,
          195,
          190,
          190,
          187,
          186,
          186,
          186,
          185,
          184,
          184,
          183,
          181,
          177,
          175,
          174,
          173,
          173,
          170,
          169,
          168,
          168,
          167,
          165,
          159,
          158,
          156,
          155,
          151,
          150,
          145,
          143,
          142,
          126,
          92
         ],
         "yaxis": "y"
        },
        {
         "alignmentgroup": "True",
         "hovertemplate": "modalidade=Lance Livre<br>Data da assembleia=%{x}<br>Numero de Cotas=%{y}<extra></extra>",
         "legendgroup": "Lance Livre",
         "marker": {
          "color": "#ab63fa",
          "pattern": {
           "shape": ""
          }
         },
         "name": "Lance Livre",
         "offsetgroup": "Lance Livre",
         "orientation": "v",
         "showlegend": true,
         "textposition": "auto",
         "type": "bar",
         "x": [
          "2021-04-14T00:00:00",
          "2021-08-12T00:00:00",
          "2023-02-14T00:00:00",
          "2021-03-12T00:00:00",
          "2021-09-14T00:00:00",
          "2021-07-15T00:00:00",
          "2022-11-14T00:00:00",
          "2021-02-12T00:00:00",
          "2022-02-15T00:00:00",
          "2022-04-14T00:00:00",
          "2023-03-14T00:00:00",
          "2021-01-14T00:00:00",
          "2023-06-15T00:00:00",
          "2022-06-15T00:00:00",
          "2021-06-14T00:00:00",
          "2022-12-15T00:00:00",
          "2023-04-13T00:00:00",
          "2023-05-12T00:00:00",
          "2023-07-13T00:00:00",
          "2021-11-12T00:00:00",
          "2021-05-13T00:00:00",
          "2021-10-15T00:00:00",
          "2022-08-12T00:00:00",
          "2023-01-12T00:00:00",
          "2022-01-13T00:00:00",
          "2022-05-12T00:00:00",
          "2022-09-15T00:00:00",
          "2022-10-13T00:00:00",
          "2022-07-14T00:00:00",
          "2023-08-15T00:00:00",
          "2022-03-15T00:00:00",
          "2024-06-12T00:00:00",
          "2020-12-14T00:00:00",
          "2023-09-14T00:00:00",
          "2023-12-14T00:00:00",
          "2021-12-14T00:00:00",
          "2024-05-14T00:00:00",
          "2024-08-14T00:00:00",
          "2023-10-17T00:00:00",
          "2024-04-12T00:00:00",
          "2024-03-14T00:00:00",
          "2024-02-15T00:00:00",
          "2024-01-12T00:00:00",
          "2024-07-12T00:00:00",
          "2020-10-15T00:00:00",
          "2020-11-12T00:00:00",
          "2023-11-14T00:00:00"
         ],
         "xaxis": "x",
         "y": [
          70,
          67,
          62,
          62,
          60,
          58,
          55,
          55,
          54,
          53,
          52,
          51,
          51,
          51,
          51,
          50,
          50,
          50,
          49,
          49,
          47,
          46,
          45,
          45,
          43,
          43,
          43,
          43,
          42,
          42,
          41,
          41,
          40,
          39,
          39,
          38,
          37,
          37,
          37,
          36,
          36,
          31,
          30,
          29,
          25,
          22,
          22
         ],
         "yaxis": "y"
        }
       ],
       "layout": {
        "barmode": "relative",
        "legend": {
         "title": {
          "text": "modalidade"
         },
         "tracegroupgap": 0
        },
        "template": {
         "data": {
          "bar": [
           {
            "error_x": {
             "color": "#2a3f5f"
            },
            "error_y": {
             "color": "#2a3f5f"
            },
            "marker": {
             "line": {
              "color": "#E5ECF6",
              "width": 0.5
             },
             "pattern": {
              "fillmode": "overlay",
              "size": 10,
              "solidity": 0.2
             }
            },
            "type": "bar"
           }
          ],
          "barpolar": [
           {
            "marker": {
             "line": {
              "color": "#E5ECF6",
              "width": 0.5
             },
             "pattern": {
              "fillmode": "overlay",
              "size": 10,
              "solidity": 0.2
             }
            },
            "type": "barpolar"
           }
          ],
          "carpet": [
           {
            "aaxis": {
             "endlinecolor": "#2a3f5f",
             "gridcolor": "white",
             "linecolor": "white",
             "minorgridcolor": "white",
             "startlinecolor": "#2a3f5f"
            },
            "baxis": {
             "endlinecolor": "#2a3f5f",
             "gridcolor": "white",
             "linecolor": "white",
             "minorgridcolor": "white",
             "startlinecolor": "#2a3f5f"
            },
            "type": "carpet"
           }
          ],
          "choropleth": [
           {
            "colorbar": {
             "outlinewidth": 0,
             "ticks": ""
            },
            "type": "choropleth"
           }
          ],
          "contour": [
           {
            "colorbar": {
             "outlinewidth": 0,
             "ticks": ""
            },
            "colorscale": [
             [
              0,
              "#0d0887"
             ],
             [
              0.1111111111111111,
              "#46039f"
             ],
             [
              0.2222222222222222,
              "#7201a8"
             ],
             [
              0.3333333333333333,
              "#9c179e"
             ],
             [
              0.4444444444444444,
              "#bd3786"
             ],
             [
              0.5555555555555556,
              "#d8576b"
             ],
             [
              0.6666666666666666,
              "#ed7953"
             ],
             [
              0.7777777777777778,
              "#fb9f3a"
             ],
             [
              0.8888888888888888,
              "#fdca26"
             ],
             [
              1,
              "#f0f921"
             ]
            ],
            "type": "contour"
           }
          ],
          "contourcarpet": [
           {
            "colorbar": {
             "outlinewidth": 0,
             "ticks": ""
            },
            "type": "contourcarpet"
           }
          ],
          "heatmap": [
           {
            "colorbar": {
             "outlinewidth": 0,
             "ticks": ""
            },
            "colorscale": [
             [
              0,
              "#0d0887"
             ],
             [
              0.1111111111111111,
              "#46039f"
             ],
             [
              0.2222222222222222,
              "#7201a8"
             ],
             [
              0.3333333333333333,
              "#9c179e"
             ],
             [
              0.4444444444444444,
              "#bd3786"
             ],
             [
              0.5555555555555556,
              "#d8576b"
             ],
             [
              0.6666666666666666,
              "#ed7953"
             ],
             [
              0.7777777777777778,
              "#fb9f3a"
             ],
             [
              0.8888888888888888,
              "#fdca26"
             ],
             [
              1,
              "#f0f921"
             ]
            ],
            "type": "heatmap"
           }
          ],
          "heatmapgl": [
           {
            "colorbar": {
             "outlinewidth": 0,
             "ticks": ""
            },
            "colorscale": [
             [
              0,
              "#0d0887"
             ],
             [
              0.1111111111111111,
              "#46039f"
             ],
             [
              0.2222222222222222,
              "#7201a8"
             ],
             [
              0.3333333333333333,
              "#9c179e"
             ],
             [
              0.4444444444444444,
              "#bd3786"
             ],
             [
              0.5555555555555556,
              "#d8576b"
             ],
             [
              0.6666666666666666,
              "#ed7953"
             ],
             [
              0.7777777777777778,
              "#fb9f3a"
             ],
             [
              0.8888888888888888,
              "#fdca26"
             ],
             [
              1,
              "#f0f921"
             ]
            ],
            "type": "heatmapgl"
           }
          ],
          "histogram": [
           {
            "marker": {
             "pattern": {
              "fillmode": "overlay",
              "size": 10,
              "solidity": 0.2
             }
            },
            "type": "histogram"
           }
          ],
          "histogram2d": [
           {
            "colorbar": {
             "outlinewidth": 0,
             "ticks": ""
            },
            "colorscale": [
             [
              0,
              "#0d0887"
             ],
             [
              0.1111111111111111,
              "#46039f"
             ],
             [
              0.2222222222222222,
              "#7201a8"
             ],
             [
              0.3333333333333333,
              "#9c179e"
             ],
             [
              0.4444444444444444,
              "#bd3786"
             ],
             [
              0.5555555555555556,
              "#d8576b"
             ],
             [
              0.6666666666666666,
              "#ed7953"
             ],
             [
              0.7777777777777778,
              "#fb9f3a"
             ],
             [
              0.8888888888888888,
              "#fdca26"
             ],
             [
              1,
              "#f0f921"
             ]
            ],
            "type": "histogram2d"
           }
          ],
          "histogram2dcontour": [
           {
            "colorbar": {
             "outlinewidth": 0,
             "ticks": ""
            },
            "colorscale": [
             [
              0,
              "#0d0887"
             ],
             [
              0.1111111111111111,
              "#46039f"
             ],
             [
              0.2222222222222222,
              "#7201a8"
             ],
             [
              0.3333333333333333,
              "#9c179e"
             ],
             [
              0.4444444444444444,
              "#bd3786"
             ],
             [
              0.5555555555555556,
              "#d8576b"
             ],
             [
              0.6666666666666666,
              "#ed7953"
             ],
             [
              0.7777777777777778,
              "#fb9f3a"
             ],
             [
              0.8888888888888888,
              "#fdca26"
             ],
             [
              1,
              "#f0f921"
             ]
            ],
            "type": "histogram2dcontour"
           }
          ],
          "mesh3d": [
           {
            "colorbar": {
             "outlinewidth": 0,
             "ticks": ""
            },
            "type": "mesh3d"
           }
          ],
          "parcoords": [
           {
            "line": {
             "colorbar": {
              "outlinewidth": 0,
              "ticks": ""
             }
            },
            "type": "parcoords"
           }
          ],
          "pie": [
           {
            "automargin": true,
            "type": "pie"
           }
          ],
          "scatter": [
           {
            "fillpattern": {
             "fillmode": "overlay",
             "size": 10,
             "solidity": 0.2
            },
            "type": "scatter"
           }
          ],
          "scatter3d": [
           {
            "line": {
             "colorbar": {
              "outlinewidth": 0,
              "ticks": ""
             }
            },
            "marker": {
             "colorbar": {
              "outlinewidth": 0,
              "ticks": ""
             }
            },
            "type": "scatter3d"
           }
          ],
          "scattercarpet": [
           {
            "marker": {
             "colorbar": {
              "outlinewidth": 0,
              "ticks": ""
             }
            },
            "type": "scattercarpet"
           }
          ],
          "scattergeo": [
           {
            "marker": {
             "colorbar": {
              "outlinewidth": 0,
              "ticks": ""
             }
            },
            "type": "scattergeo"
           }
          ],
          "scattergl": [
           {
            "marker": {
             "colorbar": {
              "outlinewidth": 0,
              "ticks": ""
             }
            },
            "type": "scattergl"
           }
          ],
          "scattermapbox": [
           {
            "marker": {
             "colorbar": {
              "outlinewidth": 0,
              "ticks": ""
             }
            },
            "type": "scattermapbox"
           }
          ],
          "scatterpolar": [
           {
            "marker": {
             "colorbar": {
              "outlinewidth": 0,
              "ticks": ""
             }
            },
            "type": "scatterpolar"
           }
          ],
          "scatterpolargl": [
           {
            "marker": {
             "colorbar": {
              "outlinewidth": 0,
              "ticks": ""
             }
            },
            "type": "scatterpolargl"
           }
          ],
          "scatterternary": [
           {
            "marker": {
             "colorbar": {
              "outlinewidth": 0,
              "ticks": ""
             }
            },
            "type": "scatterternary"
           }
          ],
          "surface": [
           {
            "colorbar": {
             "outlinewidth": 0,
             "ticks": ""
            },
            "colorscale": [
             [
              0,
              "#0d0887"
             ],
             [
              0.1111111111111111,
              "#46039f"
             ],
             [
              0.2222222222222222,
              "#7201a8"
             ],
             [
              0.3333333333333333,
              "#9c179e"
             ],
             [
              0.4444444444444444,
              "#bd3786"
             ],
             [
              0.5555555555555556,
              "#d8576b"
             ],
             [
              0.6666666666666666,
              "#ed7953"
             ],
             [
              0.7777777777777778,
              "#fb9f3a"
             ],
             [
              0.8888888888888888,
              "#fdca26"
             ],
             [
              1,
              "#f0f921"
             ]
            ],
            "type": "surface"
           }
          ],
          "table": [
           {
            "cells": {
             "fill": {
              "color": "#EBF0F8"
             },
             "line": {
              "color": "white"
             }
            },
            "header": {
             "fill": {
              "color": "#C8D4E3"
             },
             "line": {
              "color": "white"
             }
            },
            "type": "table"
           }
          ]
         },
         "layout": {
          "annotationdefaults": {
           "arrowcolor": "#2a3f5f",
           "arrowhead": 0,
           "arrowwidth": 1
          },
          "autotypenumbers": "strict",
          "coloraxis": {
           "colorbar": {
            "outlinewidth": 0,
            "ticks": ""
           }
          },
          "colorscale": {
           "diverging": [
            [
             0,
             "#8e0152"
            ],
            [
             0.1,
             "#c51b7d"
            ],
            [
             0.2,
             "#de77ae"
            ],
            [
             0.3,
             "#f1b6da"
            ],
            [
             0.4,
             "#fde0ef"
            ],
            [
             0.5,
             "#f7f7f7"
            ],
            [
             0.6,
             "#e6f5d0"
            ],
            [
             0.7,
             "#b8e186"
            ],
            [
             0.8,
             "#7fbc41"
            ],
            [
             0.9,
             "#4d9221"
            ],
            [
             1,
             "#276419"
            ]
           ],
           "sequential": [
            [
             0,
             "#0d0887"
            ],
            [
             0.1111111111111111,
             "#46039f"
            ],
            [
             0.2222222222222222,
             "#7201a8"
            ],
            [
             0.3333333333333333,
             "#9c179e"
            ],
            [
             0.4444444444444444,
             "#bd3786"
            ],
            [
             0.5555555555555556,
             "#d8576b"
            ],
            [
             0.6666666666666666,
             "#ed7953"
            ],
            [
             0.7777777777777778,
             "#fb9f3a"
            ],
            [
             0.8888888888888888,
             "#fdca26"
            ],
            [
             1,
             "#f0f921"
            ]
           ],
           "sequentialminus": [
            [
             0,
             "#0d0887"
            ],
            [
             0.1111111111111111,
             "#46039f"
            ],
            [
             0.2222222222222222,
             "#7201a8"
            ],
            [
             0.3333333333333333,
             "#9c179e"
            ],
            [
             0.4444444444444444,
             "#bd3786"
            ],
            [
             0.5555555555555556,
             "#d8576b"
            ],
            [
             0.6666666666666666,
             "#ed7953"
            ],
            [
             0.7777777777777778,
             "#fb9f3a"
            ],
            [
             0.8888888888888888,
             "#fdca26"
            ],
            [
             1,
             "#f0f921"
            ]
           ]
          },
          "colorway": [
           "#636efa",
           "#EF553B",
           "#00cc96",
           "#ab63fa",
           "#FFA15A",
           "#19d3f3",
           "#FF6692",
           "#B6E880",
           "#FF97FF",
           "#FECB52"
          ],
          "font": {
           "color": "#2a3f5f"
          },
          "geo": {
           "bgcolor": "white",
           "lakecolor": "white",
           "landcolor": "#E5ECF6",
           "showlakes": true,
           "showland": true,
           "subunitcolor": "white"
          },
          "hoverlabel": {
           "align": "left"
          },
          "hovermode": "closest",
          "mapbox": {
           "style": "light"
          },
          "paper_bgcolor": "white",
          "plot_bgcolor": "#E5ECF6",
          "polar": {
           "angularaxis": {
            "gridcolor": "white",
            "linecolor": "white",
            "ticks": ""
           },
           "bgcolor": "#E5ECF6",
           "radialaxis": {
            "gridcolor": "white",
            "linecolor": "white",
            "ticks": ""
           }
          },
          "scene": {
           "xaxis": {
            "backgroundcolor": "#E5ECF6",
            "gridcolor": "white",
            "gridwidth": 2,
            "linecolor": "white",
            "showbackground": true,
            "ticks": "",
            "zerolinecolor": "white"
           },
           "yaxis": {
            "backgroundcolor": "#E5ECF6",
            "gridcolor": "white",
            "gridwidth": 2,
            "linecolor": "white",
            "showbackground": true,
            "ticks": "",
            "zerolinecolor": "white"
           },
           "zaxis": {
            "backgroundcolor": "#E5ECF6",
            "gridcolor": "white",
            "gridwidth": 2,
            "linecolor": "white",
            "showbackground": true,
            "ticks": "",
            "zerolinecolor": "white"
           }
          },
          "shapedefaults": {
           "line": {
            "color": "#2a3f5f"
           }
          },
          "ternary": {
           "aaxis": {
            "gridcolor": "white",
            "linecolor": "white",
            "ticks": ""
           },
           "baxis": {
            "gridcolor": "white",
            "linecolor": "white",
            "ticks": ""
           },
           "bgcolor": "#E5ECF6",
           "caxis": {
            "gridcolor": "white",
            "linecolor": "white",
            "ticks": ""
           }
          },
          "title": {
           "x": 0.05
          },
          "xaxis": {
           "automargin": true,
           "gridcolor": "white",
           "linecolor": "white",
           "ticks": "",
           "title": {
            "standoff": 15
           },
           "zerolinecolor": "white",
           "zerolinewidth": 2
          },
          "yaxis": {
           "automargin": true,
           "gridcolor": "white",
           "linecolor": "white",
           "ticks": "",
           "title": {
            "standoff": 15
           },
           "zerolinecolor": "white",
           "zerolinewidth": 2
          }
         }
        },
        "title": {
         "text": "Opções de Contemplação por data de assembleia"
        },
        "xaxis": {
         "anchor": "y",
         "domain": [
          0,
          1
         ],
         "title": {
          "text": "Data da assembleia"
         }
        },
        "yaxis": {
         "anchor": "x",
         "domain": [
          0,
          1
         ],
         "title": {
          "text": "Numero de Cotas"
         }
        }
       }
      },
      "text/html": [
       "<div>                            <div id=\"262a170d-6f52-43a5-8403-8fa0d8f16d43\" class=\"plotly-graph-div\" style=\"height:525px; width:100%;\"></div>            <script type=\"text/javascript\">                require([\"plotly\"], function(Plotly) {                    window.PLOTLYENV=window.PLOTLYENV || {};                                    if (document.getElementById(\"262a170d-6f52-43a5-8403-8fa0d8f16d43\")) {                    Plotly.newPlot(                        \"262a170d-6f52-43a5-8403-8fa0d8f16d43\",                        [{\"alignmentgroup\":\"True\",\"hovertemplate\":\"modalidade=Sort. Canceladas\\u003cbr\\u003eData da assembleia=%{x}\\u003cbr\\u003eNumero de Cotas=%{y}\\u003cextra\\u003e\\u003c\\u002fextra\\u003e\",\"legendgroup\":\"Sort. Canceladas\",\"marker\":{\"color\":\"#636efa\",\"pattern\":{\"shape\":\"\"}},\"name\":\"Sort. Canceladas\",\"offsetgroup\":\"Sort. Canceladas\",\"orientation\":\"v\",\"showlegend\":true,\"textposition\":\"auto\",\"x\":[\"2023-12-14T00:00:00\",\"2024-01-12T00:00:00\",\"2023-10-17T00:00:00\",\"2023-11-14T00:00:00\",\"2024-02-15T00:00:00\",\"2023-09-14T00:00:00\",\"2024-03-14T00:00:00\",\"2022-02-15T00:00:00\",\"2023-07-13T00:00:00\",\"2023-06-15T00:00:00\",\"2023-05-12T00:00:00\",\"2024-06-12T00:00:00\",\"2023-04-13T00:00:00\",\"2023-08-15T00:00:00\",\"2024-07-12T00:00:00\",\"2024-08-14T00:00:00\",\"2024-04-12T00:00:00\",\"2024-05-14T00:00:00\",\"2022-01-13T00:00:00\",\"2022-11-14T00:00:00\",\"2023-01-12T00:00:00\",\"2022-12-15T00:00:00\",\"2023-02-14T00:00:00\",\"2023-03-14T00:00:00\",\"2021-12-14T00:00:00\",\"2022-10-13T00:00:00\",\"2021-11-12T00:00:00\",\"2022-09-15T00:00:00\",\"2022-08-12T00:00:00\",\"2021-10-15T00:00:00\",\"2022-06-15T00:00:00\",\"2022-07-14T00:00:00\",\"2021-09-14T00:00:00\",\"2021-08-12T00:00:00\",\"2022-05-12T00:00:00\",\"2021-07-15T00:00:00\",\"2022-04-14T00:00:00\",\"2022-03-15T00:00:00\",\"2021-06-14T00:00:00\",\"2021-05-13T00:00:00\",\"2021-04-14T00:00:00\",\"2021-03-12T00:00:00\",\"2021-02-12T00:00:00\",\"2021-01-14T00:00:00\",\"2020-12-14T00:00:00\",\"2020-11-12T00:00:00\",\"2020-10-15T00:00:00\"],\"xaxis\":\"x\",\"y\":[712,712,710,705,703,701,700,695,695,685,681,678,675,675,674,671,666,665,661,655,654,653,650,650,636,630,607,604,600,595,574,573,570,538,510,508,493,468,452,414,370,333,287,235,183,128,90],\"yaxis\":\"y\",\"type\":\"bar\"},{\"alignmentgroup\":\"True\",\"hovertemplate\":\"modalidade=Sorteio Ativas\\u003cbr\\u003eData da assembleia=%{x}\\u003cbr\\u003eNumero de Cotas=%{y}\\u003cextra\\u003e\\u003c\\u002fextra\\u003e\",\"legendgroup\":\"Sorteio Ativas\",\"marker\":{\"color\":\"#EF553B\",\"pattern\":{\"shape\":\"\"}},\"name\":\"Sorteio Ativas\",\"offsetgroup\":\"Sorteio Ativas\",\"orientation\":\"v\",\"showlegend\":true,\"textposition\":\"auto\",\"x\":[\"2024-04-12T00:00:00\",\"2024-03-14T00:00:00\",\"2024-08-14T00:00:00\",\"2024-05-14T00:00:00\",\"2024-01-12T00:00:00\",\"2023-12-14T00:00:00\",\"2024-06-12T00:00:00\",\"2024-07-12T00:00:00\",\"2023-07-13T00:00:00\",\"2023-08-15T00:00:00\",\"2023-10-17T00:00:00\",\"2024-02-15T00:00:00\",\"2023-06-15T00:00:00\",\"2023-09-14T00:00:00\",\"2023-11-14T00:00:00\",\"2023-05-12T00:00:00\",\"2023-03-14T00:00:00\",\"2022-12-15T00:00:00\",\"2023-01-12T00:00:00\",\"2022-11-14T00:00:00\",\"2022-09-15T00:00:00\",\"2023-02-14T00:00:00\",\"2023-04-13T00:00:00\",\"2022-02-15T00:00:00\",\"2021-12-14T00:00:00\",\"2022-01-13T00:00:00\",\"2022-08-12T00:00:00\",\"2022-10-13T00:00:00\",\"2021-11-12T00:00:00\",\"2022-06-15T00:00:00\",\"2022-07-14T00:00:00\",\"2021-10-15T00:00:00\",\"2022-04-14T00:00:00\",\"2022-05-12T00:00:00\",\"2021-09-14T00:00:00\",\"2021-08-12T00:00:00\",\"2022-03-15T00:00:00\",\"2021-07-15T00:00:00\",\"2021-06-14T00:00:00\",\"2021-05-13T00:00:00\",\"2021-04-14T00:00:00\",\"2021-03-12T00:00:00\",\"2021-02-12T00:00:00\",\"2021-01-14T00:00:00\",\"2020-12-14T00:00:00\",\"2020-11-12T00:00:00\",\"2020-10-15T00:00:00\"],\"xaxis\":\"x\",\"y\":[285,284,273,272,269,268,267,262,253,252,250,250,248,248,245,237,232,230,229,227,226,225,221,220,216,216,215,214,211,207,204,202,201,197,195,187,183,179,168,163,157,150,138,133,111,86,68],\"yaxis\":\"y\",\"type\":\"bar\"},{\"alignmentgroup\":\"True\",\"hovertemplate\":\"modalidade=Lance Fixo\\u003cbr\\u003eData da assembleia=%{x}\\u003cbr\\u003eNumero de Cotas=%{y}\\u003cextra\\u003e\\u003c\\u002fextra\\u003e\",\"legendgroup\":\"Lance Fixo\",\"marker\":{\"color\":\"#00cc96\",\"pattern\":{\"shape\":\"\"}},\"name\":\"Lance Fixo\",\"offsetgroup\":\"Lance Fixo\",\"orientation\":\"v\",\"showlegend\":true,\"textposition\":\"auto\",\"x\":[\"2021-07-15T00:00:00\",\"2021-09-14T00:00:00\",\"2021-12-14T00:00:00\",\"2021-11-12T00:00:00\",\"2022-02-15T00:00:00\",\"2021-10-15T00:00:00\",\"2021-08-12T00:00:00\",\"2022-01-13T00:00:00\",\"2021-05-13T00:00:00\",\"2021-04-14T00:00:00\",\"2021-06-14T00:00:00\",\"2021-03-12T00:00:00\",\"2022-06-15T00:00:00\",\"2022-08-12T00:00:00\",\"2023-01-12T00:00:00\",\"2022-12-15T00:00:00\",\"2024-01-12T00:00:00\",\"2022-09-15T00:00:00\",\"2022-07-14T00:00:00\",\"2023-05-12T00:00:00\",\"2023-04-13T00:00:00\",\"2023-07-13T00:00:00\",\"2022-03-15T00:00:00\",\"2024-03-14T00:00:00\",\"2022-05-12T00:00:00\",\"2022-11-14T00:00:00\",\"2021-01-14T00:00:00\",\"2022-04-14T00:00:00\",\"2023-02-14T00:00:00\",\"2021-02-12T00:00:00\",\"2023-06-15T00:00:00\",\"2023-08-15T00:00:00\",\"2024-02-15T00:00:00\",\"2023-12-14T00:00:00\",\"2023-03-14T00:00:00\",\"2023-10-17T00:00:00\",\"2022-10-13T00:00:00\",\"2023-09-14T00:00:00\",\"2020-12-14T00:00:00\",\"2024-04-12T00:00:00\",\"2023-11-14T00:00:00\",\"2024-05-14T00:00:00\",\"2024-06-12T00:00:00\",\"2024-08-14T00:00:00\",\"2024-07-12T00:00:00\",\"2020-11-12T00:00:00\",\"2020-10-15T00:00:00\"],\"xaxis\":\"x\",\"y\":[249,244,242,240,239,237,232,224,220,208,205,196,195,195,190,190,187,186,186,186,185,184,184,183,181,177,175,174,173,173,170,169,168,168,167,165,159,158,156,155,151,150,145,143,142,126,92],\"yaxis\":\"y\",\"type\":\"bar\"},{\"alignmentgroup\":\"True\",\"hovertemplate\":\"modalidade=Lance Livre\\u003cbr\\u003eData da assembleia=%{x}\\u003cbr\\u003eNumero de Cotas=%{y}\\u003cextra\\u003e\\u003c\\u002fextra\\u003e\",\"legendgroup\":\"Lance Livre\",\"marker\":{\"color\":\"#ab63fa\",\"pattern\":{\"shape\":\"\"}},\"name\":\"Lance Livre\",\"offsetgroup\":\"Lance Livre\",\"orientation\":\"v\",\"showlegend\":true,\"textposition\":\"auto\",\"x\":[\"2021-04-14T00:00:00\",\"2021-08-12T00:00:00\",\"2023-02-14T00:00:00\",\"2021-03-12T00:00:00\",\"2021-09-14T00:00:00\",\"2021-07-15T00:00:00\",\"2022-11-14T00:00:00\",\"2021-02-12T00:00:00\",\"2022-02-15T00:00:00\",\"2022-04-14T00:00:00\",\"2023-03-14T00:00:00\",\"2021-01-14T00:00:00\",\"2023-06-15T00:00:00\",\"2022-06-15T00:00:00\",\"2021-06-14T00:00:00\",\"2022-12-15T00:00:00\",\"2023-04-13T00:00:00\",\"2023-05-12T00:00:00\",\"2023-07-13T00:00:00\",\"2021-11-12T00:00:00\",\"2021-05-13T00:00:00\",\"2021-10-15T00:00:00\",\"2022-08-12T00:00:00\",\"2023-01-12T00:00:00\",\"2022-01-13T00:00:00\",\"2022-05-12T00:00:00\",\"2022-09-15T00:00:00\",\"2022-10-13T00:00:00\",\"2022-07-14T00:00:00\",\"2023-08-15T00:00:00\",\"2022-03-15T00:00:00\",\"2024-06-12T00:00:00\",\"2020-12-14T00:00:00\",\"2023-09-14T00:00:00\",\"2023-12-14T00:00:00\",\"2021-12-14T00:00:00\",\"2024-05-14T00:00:00\",\"2024-08-14T00:00:00\",\"2023-10-17T00:00:00\",\"2024-04-12T00:00:00\",\"2024-03-14T00:00:00\",\"2024-02-15T00:00:00\",\"2024-01-12T00:00:00\",\"2024-07-12T00:00:00\",\"2020-10-15T00:00:00\",\"2020-11-12T00:00:00\",\"2023-11-14T00:00:00\"],\"xaxis\":\"x\",\"y\":[70,67,62,62,60,58,55,55,54,53,52,51,51,51,51,50,50,50,49,49,47,46,45,45,43,43,43,43,42,42,41,41,40,39,39,38,37,37,37,36,36,31,30,29,25,22,22],\"yaxis\":\"y\",\"type\":\"bar\"}],                        {\"template\":{\"data\":{\"histogram2dcontour\":[{\"type\":\"histogram2dcontour\",\"colorbar\":{\"outlinewidth\":0,\"ticks\":\"\"},\"colorscale\":[[0.0,\"#0d0887\"],[0.1111111111111111,\"#46039f\"],[0.2222222222222222,\"#7201a8\"],[0.3333333333333333,\"#9c179e\"],[0.4444444444444444,\"#bd3786\"],[0.5555555555555556,\"#d8576b\"],[0.6666666666666666,\"#ed7953\"],[0.7777777777777778,\"#fb9f3a\"],[0.8888888888888888,\"#fdca26\"],[1.0,\"#f0f921\"]]}],\"choropleth\":[{\"type\":\"choropleth\",\"colorbar\":{\"outlinewidth\":0,\"ticks\":\"\"}}],\"histogram2d\":[{\"type\":\"histogram2d\",\"colorbar\":{\"outlinewidth\":0,\"ticks\":\"\"},\"colorscale\":[[0.0,\"#0d0887\"],[0.1111111111111111,\"#46039f\"],[0.2222222222222222,\"#7201a8\"],[0.3333333333333333,\"#9c179e\"],[0.4444444444444444,\"#bd3786\"],[0.5555555555555556,\"#d8576b\"],[0.6666666666666666,\"#ed7953\"],[0.7777777777777778,\"#fb9f3a\"],[0.8888888888888888,\"#fdca26\"],[1.0,\"#f0f921\"]]}],\"heatmap\":[{\"type\":\"heatmap\",\"colorbar\":{\"outlinewidth\":0,\"ticks\":\"\"},\"colorscale\":[[0.0,\"#0d0887\"],[0.1111111111111111,\"#46039f\"],[0.2222222222222222,\"#7201a8\"],[0.3333333333333333,\"#9c179e\"],[0.4444444444444444,\"#bd3786\"],[0.5555555555555556,\"#d8576b\"],[0.6666666666666666,\"#ed7953\"],[0.7777777777777778,\"#fb9f3a\"],[0.8888888888888888,\"#fdca26\"],[1.0,\"#f0f921\"]]}],\"heatmapgl\":[{\"type\":\"heatmapgl\",\"colorbar\":{\"outlinewidth\":0,\"ticks\":\"\"},\"colorscale\":[[0.0,\"#0d0887\"],[0.1111111111111111,\"#46039f\"],[0.2222222222222222,\"#7201a8\"],[0.3333333333333333,\"#9c179e\"],[0.4444444444444444,\"#bd3786\"],[0.5555555555555556,\"#d8576b\"],[0.6666666666666666,\"#ed7953\"],[0.7777777777777778,\"#fb9f3a\"],[0.8888888888888888,\"#fdca26\"],[1.0,\"#f0f921\"]]}],\"contourcarpet\":[{\"type\":\"contourcarpet\",\"colorbar\":{\"outlinewidth\":0,\"ticks\":\"\"}}],\"contour\":[{\"type\":\"contour\",\"colorbar\":{\"outlinewidth\":0,\"ticks\":\"\"},\"colorscale\":[[0.0,\"#0d0887\"],[0.1111111111111111,\"#46039f\"],[0.2222222222222222,\"#7201a8\"],[0.3333333333333333,\"#9c179e\"],[0.4444444444444444,\"#bd3786\"],[0.5555555555555556,\"#d8576b\"],[0.6666666666666666,\"#ed7953\"],[0.7777777777777778,\"#fb9f3a\"],[0.8888888888888888,\"#fdca26\"],[1.0,\"#f0f921\"]]}],\"surface\":[{\"type\":\"surface\",\"colorbar\":{\"outlinewidth\":0,\"ticks\":\"\"},\"colorscale\":[[0.0,\"#0d0887\"],[0.1111111111111111,\"#46039f\"],[0.2222222222222222,\"#7201a8\"],[0.3333333333333333,\"#9c179e\"],[0.4444444444444444,\"#bd3786\"],[0.5555555555555556,\"#d8576b\"],[0.6666666666666666,\"#ed7953\"],[0.7777777777777778,\"#fb9f3a\"],[0.8888888888888888,\"#fdca26\"],[1.0,\"#f0f921\"]]}],\"mesh3d\":[{\"type\":\"mesh3d\",\"colorbar\":{\"outlinewidth\":0,\"ticks\":\"\"}}],\"scatter\":[{\"fillpattern\":{\"fillmode\":\"overlay\",\"size\":10,\"solidity\":0.2},\"type\":\"scatter\"}],\"parcoords\":[{\"type\":\"parcoords\",\"line\":{\"colorbar\":{\"outlinewidth\":0,\"ticks\":\"\"}}}],\"scatterpolargl\":[{\"type\":\"scatterpolargl\",\"marker\":{\"colorbar\":{\"outlinewidth\":0,\"ticks\":\"\"}}}],\"bar\":[{\"error_x\":{\"color\":\"#2a3f5f\"},\"error_y\":{\"color\":\"#2a3f5f\"},\"marker\":{\"line\":{\"color\":\"#E5ECF6\",\"width\":0.5},\"pattern\":{\"fillmode\":\"overlay\",\"size\":10,\"solidity\":0.2}},\"type\":\"bar\"}],\"scattergeo\":[{\"type\":\"scattergeo\",\"marker\":{\"colorbar\":{\"outlinewidth\":0,\"ticks\":\"\"}}}],\"scatterpolar\":[{\"type\":\"scatterpolar\",\"marker\":{\"colorbar\":{\"outlinewidth\":0,\"ticks\":\"\"}}}],\"histogram\":[{\"marker\":{\"pattern\":{\"fillmode\":\"overlay\",\"size\":10,\"solidity\":0.2}},\"type\":\"histogram\"}],\"scattergl\":[{\"type\":\"scattergl\",\"marker\":{\"colorbar\":{\"outlinewidth\":0,\"ticks\":\"\"}}}],\"scatter3d\":[{\"type\":\"scatter3d\",\"line\":{\"colorbar\":{\"outlinewidth\":0,\"ticks\":\"\"}},\"marker\":{\"colorbar\":{\"outlinewidth\":0,\"ticks\":\"\"}}}],\"scattermapbox\":[{\"type\":\"scattermapbox\",\"marker\":{\"colorbar\":{\"outlinewidth\":0,\"ticks\":\"\"}}}],\"scatterternary\":[{\"type\":\"scatterternary\",\"marker\":{\"colorbar\":{\"outlinewidth\":0,\"ticks\":\"\"}}}],\"scattercarpet\":[{\"type\":\"scattercarpet\",\"marker\":{\"colorbar\":{\"outlinewidth\":0,\"ticks\":\"\"}}}],\"carpet\":[{\"aaxis\":{\"endlinecolor\":\"#2a3f5f\",\"gridcolor\":\"white\",\"linecolor\":\"white\",\"minorgridcolor\":\"white\",\"startlinecolor\":\"#2a3f5f\"},\"baxis\":{\"endlinecolor\":\"#2a3f5f\",\"gridcolor\":\"white\",\"linecolor\":\"white\",\"minorgridcolor\":\"white\",\"startlinecolor\":\"#2a3f5f\"},\"type\":\"carpet\"}],\"table\":[{\"cells\":{\"fill\":{\"color\":\"#EBF0F8\"},\"line\":{\"color\":\"white\"}},\"header\":{\"fill\":{\"color\":\"#C8D4E3\"},\"line\":{\"color\":\"white\"}},\"type\":\"table\"}],\"barpolar\":[{\"marker\":{\"line\":{\"color\":\"#E5ECF6\",\"width\":0.5},\"pattern\":{\"fillmode\":\"overlay\",\"size\":10,\"solidity\":0.2}},\"type\":\"barpolar\"}],\"pie\":[{\"automargin\":true,\"type\":\"pie\"}]},\"layout\":{\"autotypenumbers\":\"strict\",\"colorway\":[\"#636efa\",\"#EF553B\",\"#00cc96\",\"#ab63fa\",\"#FFA15A\",\"#19d3f3\",\"#FF6692\",\"#B6E880\",\"#FF97FF\",\"#FECB52\"],\"font\":{\"color\":\"#2a3f5f\"},\"hovermode\":\"closest\",\"hoverlabel\":{\"align\":\"left\"},\"paper_bgcolor\":\"white\",\"plot_bgcolor\":\"#E5ECF6\",\"polar\":{\"bgcolor\":\"#E5ECF6\",\"angularaxis\":{\"gridcolor\":\"white\",\"linecolor\":\"white\",\"ticks\":\"\"},\"radialaxis\":{\"gridcolor\":\"white\",\"linecolor\":\"white\",\"ticks\":\"\"}},\"ternary\":{\"bgcolor\":\"#E5ECF6\",\"aaxis\":{\"gridcolor\":\"white\",\"linecolor\":\"white\",\"ticks\":\"\"},\"baxis\":{\"gridcolor\":\"white\",\"linecolor\":\"white\",\"ticks\":\"\"},\"caxis\":{\"gridcolor\":\"white\",\"linecolor\":\"white\",\"ticks\":\"\"}},\"coloraxis\":{\"colorbar\":{\"outlinewidth\":0,\"ticks\":\"\"}},\"colorscale\":{\"sequential\":[[0.0,\"#0d0887\"],[0.1111111111111111,\"#46039f\"],[0.2222222222222222,\"#7201a8\"],[0.3333333333333333,\"#9c179e\"],[0.4444444444444444,\"#bd3786\"],[0.5555555555555556,\"#d8576b\"],[0.6666666666666666,\"#ed7953\"],[0.7777777777777778,\"#fb9f3a\"],[0.8888888888888888,\"#fdca26\"],[1.0,\"#f0f921\"]],\"sequentialminus\":[[0.0,\"#0d0887\"],[0.1111111111111111,\"#46039f\"],[0.2222222222222222,\"#7201a8\"],[0.3333333333333333,\"#9c179e\"],[0.4444444444444444,\"#bd3786\"],[0.5555555555555556,\"#d8576b\"],[0.6666666666666666,\"#ed7953\"],[0.7777777777777778,\"#fb9f3a\"],[0.8888888888888888,\"#fdca26\"],[1.0,\"#f0f921\"]],\"diverging\":[[0,\"#8e0152\"],[0.1,\"#c51b7d\"],[0.2,\"#de77ae\"],[0.3,\"#f1b6da\"],[0.4,\"#fde0ef\"],[0.5,\"#f7f7f7\"],[0.6,\"#e6f5d0\"],[0.7,\"#b8e186\"],[0.8,\"#7fbc41\"],[0.9,\"#4d9221\"],[1,\"#276419\"]]},\"xaxis\":{\"gridcolor\":\"white\",\"linecolor\":\"white\",\"ticks\":\"\",\"title\":{\"standoff\":15},\"zerolinecolor\":\"white\",\"automargin\":true,\"zerolinewidth\":2},\"yaxis\":{\"gridcolor\":\"white\",\"linecolor\":\"white\",\"ticks\":\"\",\"title\":{\"standoff\":15},\"zerolinecolor\":\"white\",\"automargin\":true,\"zerolinewidth\":2},\"scene\":{\"xaxis\":{\"backgroundcolor\":\"#E5ECF6\",\"gridcolor\":\"white\",\"linecolor\":\"white\",\"showbackground\":true,\"ticks\":\"\",\"zerolinecolor\":\"white\",\"gridwidth\":2},\"yaxis\":{\"backgroundcolor\":\"#E5ECF6\",\"gridcolor\":\"white\",\"linecolor\":\"white\",\"showbackground\":true,\"ticks\":\"\",\"zerolinecolor\":\"white\",\"gridwidth\":2},\"zaxis\":{\"backgroundcolor\":\"#E5ECF6\",\"gridcolor\":\"white\",\"linecolor\":\"white\",\"showbackground\":true,\"ticks\":\"\",\"zerolinecolor\":\"white\",\"gridwidth\":2}},\"shapedefaults\":{\"line\":{\"color\":\"#2a3f5f\"}},\"annotationdefaults\":{\"arrowcolor\":\"#2a3f5f\",\"arrowhead\":0,\"arrowwidth\":1},\"geo\":{\"bgcolor\":\"white\",\"landcolor\":\"#E5ECF6\",\"subunitcolor\":\"white\",\"showland\":true,\"showlakes\":true,\"lakecolor\":\"white\"},\"title\":{\"x\":0.05},\"mapbox\":{\"style\":\"light\"}}},\"xaxis\":{\"anchor\":\"y\",\"domain\":[0.0,1.0],\"title\":{\"text\":\"Data da assembleia\"}},\"yaxis\":{\"anchor\":\"x\",\"domain\":[0.0,1.0],\"title\":{\"text\":\"Numero de Cotas\"}},\"legend\":{\"title\":{\"text\":\"modalidade\"},\"tracegroupgap\":0},\"title\":{\"text\":\"Op\\u00e7\\u00f5es de Contempla\\u00e7\\u00e3o por data de assembleia\"},\"barmode\":\"relative\"},                        {\"responsive\": true}                    ).then(function(){\n",
       "                            \n",
       "var gd = document.getElementById('262a170d-6f52-43a5-8403-8fa0d8f16d43');\n",
       "var x = new MutationObserver(function (mutations, observer) {{\n",
       "        var display = window.getComputedStyle(gd).display;\n",
       "        if (!display || display === 'none') {{\n",
       "            console.log([gd, 'removed!']);\n",
       "            Plotly.purge(gd);\n",
       "            observer.disconnect();\n",
       "        }}\n",
       "}});\n",
       "\n",
       "// Listen for the removal of the full notebook cells\n",
       "var notebookContainer = gd.closest('#notebook-container');\n",
       "if (notebookContainer) {{\n",
       "    x.observe(notebookContainer, {childList: true});\n",
       "}}\n",
       "\n",
       "// Listen for the clearing of the current output cell\n",
       "var outputEl = gd.closest('.output');\n",
       "if (outputEl) {{\n",
       "    x.observe(outputEl, {childList: true});\n",
       "}}\n",
       "\n",
       "                        })                };                });            </script>        </div>"
      ]
     },
     "metadata": {},
     "output_type": "display_data"
    }
   ],
   "source": [
    "# uma seq. contemplacao por cota\n",
    "df_chart = (\n",
    "    df.groupby([\"data_assembleia\", \"modalidade\"])\n",
    "    .count()\n",
    "    .reset_index()\n",
    "    .sort_values(\"str_cota\", ascending=False)\n",
    ")\n",
    "fig = px.bar(\n",
    "    df_chart,\n",
    "    x=\"data_assembleia\",\n",
    "    y=\"str_cota\",\n",
    "    color=\"modalidade\",\n",
    "    labels={\"data_assembleia\": \"Data da assembleia\", \"str_cota\": \"Numero de Cotas\"},\n",
    "    title=f\"Opções de Contemplação por data de assembleia\",\n",
    ")\n",
    "fig.show()"
   ]
  },
  {
   "cell_type": "markdown",
   "metadata": {},
   "source": [
    "> **Entender**: São 650 cotas no grupo. Como o número de opções de contemplação em 1200 é táo maior?"
   ]
  },
  {
   "cell_type": "markdown",
   "metadata": {},
   "source": [
    "### Cotas Ativas"
   ]
  },
  {
   "cell_type": "code",
   "execution_count": 89,
   "metadata": {},
   "outputs": [
    {
     "data": {
      "application/vnd.plotly.v1+json": {
       "config": {
        "plotlyServerURL": "https://plot.ly"
       },
       "data": [
        {
         "alignmentgroup": "True",
         "hovertemplate": "modalidade=Sorteio Ativas<br>Data da assembleia=%{x}<br>Numero de Cotas=%{y}<extra></extra>",
         "legendgroup": "Sorteio Ativas",
         "marker": {
          "color": "#636efa",
          "pattern": {
           "shape": ""
          }
         },
         "name": "Sorteio Ativas",
         "offsetgroup": "Sorteio Ativas",
         "orientation": "v",
         "showlegend": true,
         "textposition": "auto",
         "type": "bar",
         "x": [
          "2024-04-12T00:00:00",
          "2024-03-14T00:00:00",
          "2024-08-14T00:00:00",
          "2024-05-14T00:00:00",
          "2024-01-12T00:00:00",
          "2023-12-14T00:00:00",
          "2024-06-12T00:00:00",
          "2024-07-12T00:00:00",
          "2023-07-13T00:00:00",
          "2023-08-15T00:00:00",
          "2024-02-15T00:00:00",
          "2023-10-17T00:00:00",
          "2023-06-15T00:00:00",
          "2023-09-14T00:00:00",
          "2023-11-14T00:00:00",
          "2023-05-12T00:00:00",
          "2023-03-14T00:00:00",
          "2022-12-15T00:00:00",
          "2023-01-12T00:00:00",
          "2022-11-14T00:00:00",
          "2022-09-15T00:00:00",
          "2023-02-14T00:00:00",
          "2023-04-13T00:00:00",
          "2022-02-15T00:00:00",
          "2021-12-14T00:00:00",
          "2022-01-13T00:00:00",
          "2022-08-12T00:00:00",
          "2022-10-13T00:00:00",
          "2021-11-12T00:00:00",
          "2022-06-15T00:00:00",
          "2022-07-14T00:00:00",
          "2021-10-15T00:00:00",
          "2022-04-14T00:00:00",
          "2022-05-12T00:00:00",
          "2021-09-14T00:00:00",
          "2021-08-12T00:00:00",
          "2022-03-15T00:00:00",
          "2021-07-15T00:00:00",
          "2021-06-14T00:00:00",
          "2021-05-13T00:00:00",
          "2021-04-14T00:00:00",
          "2021-03-12T00:00:00",
          "2021-02-12T00:00:00",
          "2021-01-14T00:00:00",
          "2020-12-14T00:00:00",
          "2020-11-12T00:00:00",
          "2020-10-15T00:00:00"
         ],
         "xaxis": "x",
         "y": [
          285,
          284,
          273,
          272,
          269,
          268,
          267,
          262,
          253,
          252,
          250,
          250,
          248,
          248,
          245,
          237,
          232,
          230,
          229,
          227,
          226,
          225,
          221,
          220,
          216,
          216,
          215,
          214,
          211,
          207,
          204,
          202,
          201,
          197,
          195,
          187,
          183,
          179,
          168,
          163,
          157,
          150,
          138,
          133,
          111,
          86,
          68
         ],
         "yaxis": "y"
        },
        {
         "alignmentgroup": "True",
         "hovertemplate": "modalidade=Lance Fixo<br>Data da assembleia=%{x}<br>Numero de Cotas=%{y}<extra></extra>",
         "legendgroup": "Lance Fixo",
         "marker": {
          "color": "#EF553B",
          "pattern": {
           "shape": ""
          }
         },
         "name": "Lance Fixo",
         "offsetgroup": "Lance Fixo",
         "orientation": "v",
         "showlegend": true,
         "textposition": "auto",
         "type": "bar",
         "x": [
          "2021-07-15T00:00:00",
          "2021-09-14T00:00:00",
          "2021-12-14T00:00:00",
          "2021-11-12T00:00:00",
          "2022-02-15T00:00:00",
          "2021-10-15T00:00:00",
          "2021-08-12T00:00:00",
          "2022-01-13T00:00:00",
          "2021-05-13T00:00:00",
          "2021-04-14T00:00:00",
          "2021-06-14T00:00:00",
          "2021-03-12T00:00:00",
          "2022-06-15T00:00:00",
          "2022-08-12T00:00:00",
          "2023-01-12T00:00:00",
          "2022-12-15T00:00:00",
          "2024-01-12T00:00:00",
          "2023-05-12T00:00:00",
          "2022-07-14T00:00:00",
          "2022-09-15T00:00:00",
          "2023-04-13T00:00:00",
          "2022-03-15T00:00:00",
          "2023-07-13T00:00:00",
          "2024-03-14T00:00:00",
          "2022-05-12T00:00:00",
          "2022-11-14T00:00:00",
          "2021-01-14T00:00:00",
          "2022-04-14T00:00:00",
          "2023-02-14T00:00:00",
          "2021-02-12T00:00:00",
          "2023-06-15T00:00:00",
          "2023-08-15T00:00:00",
          "2024-02-15T00:00:00",
          "2023-12-14T00:00:00",
          "2023-03-14T00:00:00",
          "2023-10-17T00:00:00",
          "2022-10-13T00:00:00",
          "2023-09-14T00:00:00",
          "2020-12-14T00:00:00",
          "2024-04-12T00:00:00",
          "2023-11-14T00:00:00",
          "2024-05-14T00:00:00",
          "2024-06-12T00:00:00",
          "2024-08-14T00:00:00",
          "2024-07-12T00:00:00",
          "2020-11-12T00:00:00",
          "2020-10-15T00:00:00"
         ],
         "xaxis": "x",
         "y": [
          249,
          244,
          242,
          240,
          239,
          237,
          232,
          224,
          220,
          208,
          205,
          196,
          195,
          195,
          190,
          190,
          187,
          186,
          186,
          186,
          185,
          184,
          184,
          183,
          181,
          177,
          175,
          174,
          173,
          173,
          170,
          169,
          168,
          168,
          167,
          165,
          159,
          158,
          156,
          155,
          151,
          150,
          145,
          143,
          142,
          126,
          92
         ],
         "yaxis": "y"
        },
        {
         "alignmentgroup": "True",
         "hovertemplate": "modalidade=Lance Livre<br>Data da assembleia=%{x}<br>Numero de Cotas=%{y}<extra></extra>",
         "legendgroup": "Lance Livre",
         "marker": {
          "color": "#00cc96",
          "pattern": {
           "shape": ""
          }
         },
         "name": "Lance Livre",
         "offsetgroup": "Lance Livre",
         "orientation": "v",
         "showlegend": true,
         "textposition": "auto",
         "type": "bar",
         "x": [
          "2021-04-14T00:00:00",
          "2021-08-12T00:00:00",
          "2021-03-12T00:00:00",
          "2023-02-14T00:00:00",
          "2021-09-14T00:00:00",
          "2021-07-15T00:00:00",
          "2021-02-12T00:00:00",
          "2022-11-14T00:00:00",
          "2022-02-15T00:00:00",
          "2022-04-14T00:00:00",
          "2023-03-14T00:00:00",
          "2022-06-15T00:00:00",
          "2023-06-15T00:00:00",
          "2021-06-14T00:00:00",
          "2021-01-14T00:00:00",
          "2023-04-13T00:00:00",
          "2022-12-15T00:00:00",
          "2023-05-12T00:00:00",
          "2021-11-12T00:00:00",
          "2023-07-13T00:00:00",
          "2021-05-13T00:00:00",
          "2021-10-15T00:00:00",
          "2023-01-12T00:00:00",
          "2022-08-12T00:00:00",
          "2022-05-12T00:00:00",
          "2022-10-13T00:00:00",
          "2022-01-13T00:00:00",
          "2022-09-15T00:00:00",
          "2022-07-14T00:00:00",
          "2023-08-15T00:00:00",
          "2024-06-12T00:00:00",
          "2022-03-15T00:00:00",
          "2020-12-14T00:00:00",
          "2023-12-14T00:00:00",
          "2023-09-14T00:00:00",
          "2021-12-14T00:00:00",
          "2024-05-14T00:00:00",
          "2024-08-14T00:00:00",
          "2023-10-17T00:00:00",
          "2024-04-12T00:00:00",
          "2024-03-14T00:00:00",
          "2024-02-15T00:00:00",
          "2024-01-12T00:00:00",
          "2024-07-12T00:00:00",
          "2020-10-15T00:00:00",
          "2020-11-12T00:00:00",
          "2023-11-14T00:00:00"
         ],
         "xaxis": "x",
         "y": [
          70,
          67,
          62,
          62,
          60,
          58,
          55,
          55,
          54,
          53,
          52,
          51,
          51,
          51,
          51,
          50,
          50,
          50,
          49,
          49,
          47,
          46,
          45,
          45,
          43,
          43,
          43,
          43,
          42,
          42,
          41,
          41,
          40,
          39,
          39,
          38,
          37,
          37,
          37,
          36,
          36,
          31,
          30,
          29,
          25,
          22,
          22
         ],
         "yaxis": "y"
        }
       ],
       "layout": {
        "barmode": "relative",
        "legend": {
         "title": {
          "text": "modalidade"
         },
         "tracegroupgap": 0
        },
        "template": {
         "data": {
          "bar": [
           {
            "error_x": {
             "color": "#2a3f5f"
            },
            "error_y": {
             "color": "#2a3f5f"
            },
            "marker": {
             "line": {
              "color": "#E5ECF6",
              "width": 0.5
             },
             "pattern": {
              "fillmode": "overlay",
              "size": 10,
              "solidity": 0.2
             }
            },
            "type": "bar"
           }
          ],
          "barpolar": [
           {
            "marker": {
             "line": {
              "color": "#E5ECF6",
              "width": 0.5
             },
             "pattern": {
              "fillmode": "overlay",
              "size": 10,
              "solidity": 0.2
             }
            },
            "type": "barpolar"
           }
          ],
          "carpet": [
           {
            "aaxis": {
             "endlinecolor": "#2a3f5f",
             "gridcolor": "white",
             "linecolor": "white",
             "minorgridcolor": "white",
             "startlinecolor": "#2a3f5f"
            },
            "baxis": {
             "endlinecolor": "#2a3f5f",
             "gridcolor": "white",
             "linecolor": "white",
             "minorgridcolor": "white",
             "startlinecolor": "#2a3f5f"
            },
            "type": "carpet"
           }
          ],
          "choropleth": [
           {
            "colorbar": {
             "outlinewidth": 0,
             "ticks": ""
            },
            "type": "choropleth"
           }
          ],
          "contour": [
           {
            "colorbar": {
             "outlinewidth": 0,
             "ticks": ""
            },
            "colorscale": [
             [
              0,
              "#0d0887"
             ],
             [
              0.1111111111111111,
              "#46039f"
             ],
             [
              0.2222222222222222,
              "#7201a8"
             ],
             [
              0.3333333333333333,
              "#9c179e"
             ],
             [
              0.4444444444444444,
              "#bd3786"
             ],
             [
              0.5555555555555556,
              "#d8576b"
             ],
             [
              0.6666666666666666,
              "#ed7953"
             ],
             [
              0.7777777777777778,
              "#fb9f3a"
             ],
             [
              0.8888888888888888,
              "#fdca26"
             ],
             [
              1,
              "#f0f921"
             ]
            ],
            "type": "contour"
           }
          ],
          "contourcarpet": [
           {
            "colorbar": {
             "outlinewidth": 0,
             "ticks": ""
            },
            "type": "contourcarpet"
           }
          ],
          "heatmap": [
           {
            "colorbar": {
             "outlinewidth": 0,
             "ticks": ""
            },
            "colorscale": [
             [
              0,
              "#0d0887"
             ],
             [
              0.1111111111111111,
              "#46039f"
             ],
             [
              0.2222222222222222,
              "#7201a8"
             ],
             [
              0.3333333333333333,
              "#9c179e"
             ],
             [
              0.4444444444444444,
              "#bd3786"
             ],
             [
              0.5555555555555556,
              "#d8576b"
             ],
             [
              0.6666666666666666,
              "#ed7953"
             ],
             [
              0.7777777777777778,
              "#fb9f3a"
             ],
             [
              0.8888888888888888,
              "#fdca26"
             ],
             [
              1,
              "#f0f921"
             ]
            ],
            "type": "heatmap"
           }
          ],
          "heatmapgl": [
           {
            "colorbar": {
             "outlinewidth": 0,
             "ticks": ""
            },
            "colorscale": [
             [
              0,
              "#0d0887"
             ],
             [
              0.1111111111111111,
              "#46039f"
             ],
             [
              0.2222222222222222,
              "#7201a8"
             ],
             [
              0.3333333333333333,
              "#9c179e"
             ],
             [
              0.4444444444444444,
              "#bd3786"
             ],
             [
              0.5555555555555556,
              "#d8576b"
             ],
             [
              0.6666666666666666,
              "#ed7953"
             ],
             [
              0.7777777777777778,
              "#fb9f3a"
             ],
             [
              0.8888888888888888,
              "#fdca26"
             ],
             [
              1,
              "#f0f921"
             ]
            ],
            "type": "heatmapgl"
           }
          ],
          "histogram": [
           {
            "marker": {
             "pattern": {
              "fillmode": "overlay",
              "size": 10,
              "solidity": 0.2
             }
            },
            "type": "histogram"
           }
          ],
          "histogram2d": [
           {
            "colorbar": {
             "outlinewidth": 0,
             "ticks": ""
            },
            "colorscale": [
             [
              0,
              "#0d0887"
             ],
             [
              0.1111111111111111,
              "#46039f"
             ],
             [
              0.2222222222222222,
              "#7201a8"
             ],
             [
              0.3333333333333333,
              "#9c179e"
             ],
             [
              0.4444444444444444,
              "#bd3786"
             ],
             [
              0.5555555555555556,
              "#d8576b"
             ],
             [
              0.6666666666666666,
              "#ed7953"
             ],
             [
              0.7777777777777778,
              "#fb9f3a"
             ],
             [
              0.8888888888888888,
              "#fdca26"
             ],
             [
              1,
              "#f0f921"
             ]
            ],
            "type": "histogram2d"
           }
          ],
          "histogram2dcontour": [
           {
            "colorbar": {
             "outlinewidth": 0,
             "ticks": ""
            },
            "colorscale": [
             [
              0,
              "#0d0887"
             ],
             [
              0.1111111111111111,
              "#46039f"
             ],
             [
              0.2222222222222222,
              "#7201a8"
             ],
             [
              0.3333333333333333,
              "#9c179e"
             ],
             [
              0.4444444444444444,
              "#bd3786"
             ],
             [
              0.5555555555555556,
              "#d8576b"
             ],
             [
              0.6666666666666666,
              "#ed7953"
             ],
             [
              0.7777777777777778,
              "#fb9f3a"
             ],
             [
              0.8888888888888888,
              "#fdca26"
             ],
             [
              1,
              "#f0f921"
             ]
            ],
            "type": "histogram2dcontour"
           }
          ],
          "mesh3d": [
           {
            "colorbar": {
             "outlinewidth": 0,
             "ticks": ""
            },
            "type": "mesh3d"
           }
          ],
          "parcoords": [
           {
            "line": {
             "colorbar": {
              "outlinewidth": 0,
              "ticks": ""
             }
            },
            "type": "parcoords"
           }
          ],
          "pie": [
           {
            "automargin": true,
            "type": "pie"
           }
          ],
          "scatter": [
           {
            "fillpattern": {
             "fillmode": "overlay",
             "size": 10,
             "solidity": 0.2
            },
            "type": "scatter"
           }
          ],
          "scatter3d": [
           {
            "line": {
             "colorbar": {
              "outlinewidth": 0,
              "ticks": ""
             }
            },
            "marker": {
             "colorbar": {
              "outlinewidth": 0,
              "ticks": ""
             }
            },
            "type": "scatter3d"
           }
          ],
          "scattercarpet": [
           {
            "marker": {
             "colorbar": {
              "outlinewidth": 0,
              "ticks": ""
             }
            },
            "type": "scattercarpet"
           }
          ],
          "scattergeo": [
           {
            "marker": {
             "colorbar": {
              "outlinewidth": 0,
              "ticks": ""
             }
            },
            "type": "scattergeo"
           }
          ],
          "scattergl": [
           {
            "marker": {
             "colorbar": {
              "outlinewidth": 0,
              "ticks": ""
             }
            },
            "type": "scattergl"
           }
          ],
          "scattermapbox": [
           {
            "marker": {
             "colorbar": {
              "outlinewidth": 0,
              "ticks": ""
             }
            },
            "type": "scattermapbox"
           }
          ],
          "scatterpolar": [
           {
            "marker": {
             "colorbar": {
              "outlinewidth": 0,
              "ticks": ""
             }
            },
            "type": "scatterpolar"
           }
          ],
          "scatterpolargl": [
           {
            "marker": {
             "colorbar": {
              "outlinewidth": 0,
              "ticks": ""
             }
            },
            "type": "scatterpolargl"
           }
          ],
          "scatterternary": [
           {
            "marker": {
             "colorbar": {
              "outlinewidth": 0,
              "ticks": ""
             }
            },
            "type": "scatterternary"
           }
          ],
          "surface": [
           {
            "colorbar": {
             "outlinewidth": 0,
             "ticks": ""
            },
            "colorscale": [
             [
              0,
              "#0d0887"
             ],
             [
              0.1111111111111111,
              "#46039f"
             ],
             [
              0.2222222222222222,
              "#7201a8"
             ],
             [
              0.3333333333333333,
              "#9c179e"
             ],
             [
              0.4444444444444444,
              "#bd3786"
             ],
             [
              0.5555555555555556,
              "#d8576b"
             ],
             [
              0.6666666666666666,
              "#ed7953"
             ],
             [
              0.7777777777777778,
              "#fb9f3a"
             ],
             [
              0.8888888888888888,
              "#fdca26"
             ],
             [
              1,
              "#f0f921"
             ]
            ],
            "type": "surface"
           }
          ],
          "table": [
           {
            "cells": {
             "fill": {
              "color": "#EBF0F8"
             },
             "line": {
              "color": "white"
             }
            },
            "header": {
             "fill": {
              "color": "#C8D4E3"
             },
             "line": {
              "color": "white"
             }
            },
            "type": "table"
           }
          ]
         },
         "layout": {
          "annotationdefaults": {
           "arrowcolor": "#2a3f5f",
           "arrowhead": 0,
           "arrowwidth": 1
          },
          "autotypenumbers": "strict",
          "coloraxis": {
           "colorbar": {
            "outlinewidth": 0,
            "ticks": ""
           }
          },
          "colorscale": {
           "diverging": [
            [
             0,
             "#8e0152"
            ],
            [
             0.1,
             "#c51b7d"
            ],
            [
             0.2,
             "#de77ae"
            ],
            [
             0.3,
             "#f1b6da"
            ],
            [
             0.4,
             "#fde0ef"
            ],
            [
             0.5,
             "#f7f7f7"
            ],
            [
             0.6,
             "#e6f5d0"
            ],
            [
             0.7,
             "#b8e186"
            ],
            [
             0.8,
             "#7fbc41"
            ],
            [
             0.9,
             "#4d9221"
            ],
            [
             1,
             "#276419"
            ]
           ],
           "sequential": [
            [
             0,
             "#0d0887"
            ],
            [
             0.1111111111111111,
             "#46039f"
            ],
            [
             0.2222222222222222,
             "#7201a8"
            ],
            [
             0.3333333333333333,
             "#9c179e"
            ],
            [
             0.4444444444444444,
             "#bd3786"
            ],
            [
             0.5555555555555556,
             "#d8576b"
            ],
            [
             0.6666666666666666,
             "#ed7953"
            ],
            [
             0.7777777777777778,
             "#fb9f3a"
            ],
            [
             0.8888888888888888,
             "#fdca26"
            ],
            [
             1,
             "#f0f921"
            ]
           ],
           "sequentialminus": [
            [
             0,
             "#0d0887"
            ],
            [
             0.1111111111111111,
             "#46039f"
            ],
            [
             0.2222222222222222,
             "#7201a8"
            ],
            [
             0.3333333333333333,
             "#9c179e"
            ],
            [
             0.4444444444444444,
             "#bd3786"
            ],
            [
             0.5555555555555556,
             "#d8576b"
            ],
            [
             0.6666666666666666,
             "#ed7953"
            ],
            [
             0.7777777777777778,
             "#fb9f3a"
            ],
            [
             0.8888888888888888,
             "#fdca26"
            ],
            [
             1,
             "#f0f921"
            ]
           ]
          },
          "colorway": [
           "#636efa",
           "#EF553B",
           "#00cc96",
           "#ab63fa",
           "#FFA15A",
           "#19d3f3",
           "#FF6692",
           "#B6E880",
           "#FF97FF",
           "#FECB52"
          ],
          "font": {
           "color": "#2a3f5f"
          },
          "geo": {
           "bgcolor": "white",
           "lakecolor": "white",
           "landcolor": "#E5ECF6",
           "showlakes": true,
           "showland": true,
           "subunitcolor": "white"
          },
          "hoverlabel": {
           "align": "left"
          },
          "hovermode": "closest",
          "mapbox": {
           "style": "light"
          },
          "paper_bgcolor": "white",
          "plot_bgcolor": "#E5ECF6",
          "polar": {
           "angularaxis": {
            "gridcolor": "white",
            "linecolor": "white",
            "ticks": ""
           },
           "bgcolor": "#E5ECF6",
           "radialaxis": {
            "gridcolor": "white",
            "linecolor": "white",
            "ticks": ""
           }
          },
          "scene": {
           "xaxis": {
            "backgroundcolor": "#E5ECF6",
            "gridcolor": "white",
            "gridwidth": 2,
            "linecolor": "white",
            "showbackground": true,
            "ticks": "",
            "zerolinecolor": "white"
           },
           "yaxis": {
            "backgroundcolor": "#E5ECF6",
            "gridcolor": "white",
            "gridwidth": 2,
            "linecolor": "white",
            "showbackground": true,
            "ticks": "",
            "zerolinecolor": "white"
           },
           "zaxis": {
            "backgroundcolor": "#E5ECF6",
            "gridcolor": "white",
            "gridwidth": 2,
            "linecolor": "white",
            "showbackground": true,
            "ticks": "",
            "zerolinecolor": "white"
           }
          },
          "shapedefaults": {
           "line": {
            "color": "#2a3f5f"
           }
          },
          "ternary": {
           "aaxis": {
            "gridcolor": "white",
            "linecolor": "white",
            "ticks": ""
           },
           "baxis": {
            "gridcolor": "white",
            "linecolor": "white",
            "ticks": ""
           },
           "bgcolor": "#E5ECF6",
           "caxis": {
            "gridcolor": "white",
            "linecolor": "white",
            "ticks": ""
           }
          },
          "title": {
           "x": 0.05
          },
          "xaxis": {
           "automargin": true,
           "gridcolor": "white",
           "linecolor": "white",
           "ticks": "",
           "title": {
            "standoff": 15
           },
           "zerolinecolor": "white",
           "zerolinewidth": 2
          },
          "yaxis": {
           "automargin": true,
           "gridcolor": "white",
           "linecolor": "white",
           "ticks": "",
           "title": {
            "standoff": 15
           },
           "zerolinecolor": "white",
           "zerolinewidth": 2
          }
         }
        },
        "title": {
         "text": "Opções de Contemplação (Sem Canceladas) por data de assembleia"
        },
        "xaxis": {
         "anchor": "y",
         "domain": [
          0,
          1
         ],
         "title": {
          "text": "Data da assembleia"
         }
        },
        "yaxis": {
         "anchor": "x",
         "domain": [
          0,
          1
         ],
         "title": {
          "text": "Numero de Cotas"
         }
        }
       }
      },
      "text/html": [
       "<div>                            <div id=\"f777c933-1c9c-4d80-8651-ce153937177b\" class=\"plotly-graph-div\" style=\"height:525px; width:100%;\"></div>            <script type=\"text/javascript\">                require([\"plotly\"], function(Plotly) {                    window.PLOTLYENV=window.PLOTLYENV || {};                                    if (document.getElementById(\"f777c933-1c9c-4d80-8651-ce153937177b\")) {                    Plotly.newPlot(                        \"f777c933-1c9c-4d80-8651-ce153937177b\",                        [{\"alignmentgroup\":\"True\",\"hovertemplate\":\"modalidade=Sorteio Ativas\\u003cbr\\u003eData da assembleia=%{x}\\u003cbr\\u003eNumero de Cotas=%{y}\\u003cextra\\u003e\\u003c\\u002fextra\\u003e\",\"legendgroup\":\"Sorteio Ativas\",\"marker\":{\"color\":\"#636efa\",\"pattern\":{\"shape\":\"\"}},\"name\":\"Sorteio Ativas\",\"offsetgroup\":\"Sorteio Ativas\",\"orientation\":\"v\",\"showlegend\":true,\"textposition\":\"auto\",\"x\":[\"2024-04-12T00:00:00\",\"2024-03-14T00:00:00\",\"2024-08-14T00:00:00\",\"2024-05-14T00:00:00\",\"2024-01-12T00:00:00\",\"2023-12-14T00:00:00\",\"2024-06-12T00:00:00\",\"2024-07-12T00:00:00\",\"2023-07-13T00:00:00\",\"2023-08-15T00:00:00\",\"2024-02-15T00:00:00\",\"2023-10-17T00:00:00\",\"2023-06-15T00:00:00\",\"2023-09-14T00:00:00\",\"2023-11-14T00:00:00\",\"2023-05-12T00:00:00\",\"2023-03-14T00:00:00\",\"2022-12-15T00:00:00\",\"2023-01-12T00:00:00\",\"2022-11-14T00:00:00\",\"2022-09-15T00:00:00\",\"2023-02-14T00:00:00\",\"2023-04-13T00:00:00\",\"2022-02-15T00:00:00\",\"2021-12-14T00:00:00\",\"2022-01-13T00:00:00\",\"2022-08-12T00:00:00\",\"2022-10-13T00:00:00\",\"2021-11-12T00:00:00\",\"2022-06-15T00:00:00\",\"2022-07-14T00:00:00\",\"2021-10-15T00:00:00\",\"2022-04-14T00:00:00\",\"2022-05-12T00:00:00\",\"2021-09-14T00:00:00\",\"2021-08-12T00:00:00\",\"2022-03-15T00:00:00\",\"2021-07-15T00:00:00\",\"2021-06-14T00:00:00\",\"2021-05-13T00:00:00\",\"2021-04-14T00:00:00\",\"2021-03-12T00:00:00\",\"2021-02-12T00:00:00\",\"2021-01-14T00:00:00\",\"2020-12-14T00:00:00\",\"2020-11-12T00:00:00\",\"2020-10-15T00:00:00\"],\"xaxis\":\"x\",\"y\":[285,284,273,272,269,268,267,262,253,252,250,250,248,248,245,237,232,230,229,227,226,225,221,220,216,216,215,214,211,207,204,202,201,197,195,187,183,179,168,163,157,150,138,133,111,86,68],\"yaxis\":\"y\",\"type\":\"bar\"},{\"alignmentgroup\":\"True\",\"hovertemplate\":\"modalidade=Lance Fixo\\u003cbr\\u003eData da assembleia=%{x}\\u003cbr\\u003eNumero de Cotas=%{y}\\u003cextra\\u003e\\u003c\\u002fextra\\u003e\",\"legendgroup\":\"Lance Fixo\",\"marker\":{\"color\":\"#EF553B\",\"pattern\":{\"shape\":\"\"}},\"name\":\"Lance Fixo\",\"offsetgroup\":\"Lance Fixo\",\"orientation\":\"v\",\"showlegend\":true,\"textposition\":\"auto\",\"x\":[\"2021-07-15T00:00:00\",\"2021-09-14T00:00:00\",\"2021-12-14T00:00:00\",\"2021-11-12T00:00:00\",\"2022-02-15T00:00:00\",\"2021-10-15T00:00:00\",\"2021-08-12T00:00:00\",\"2022-01-13T00:00:00\",\"2021-05-13T00:00:00\",\"2021-04-14T00:00:00\",\"2021-06-14T00:00:00\",\"2021-03-12T00:00:00\",\"2022-06-15T00:00:00\",\"2022-08-12T00:00:00\",\"2023-01-12T00:00:00\",\"2022-12-15T00:00:00\",\"2024-01-12T00:00:00\",\"2023-05-12T00:00:00\",\"2022-07-14T00:00:00\",\"2022-09-15T00:00:00\",\"2023-04-13T00:00:00\",\"2022-03-15T00:00:00\",\"2023-07-13T00:00:00\",\"2024-03-14T00:00:00\",\"2022-05-12T00:00:00\",\"2022-11-14T00:00:00\",\"2021-01-14T00:00:00\",\"2022-04-14T00:00:00\",\"2023-02-14T00:00:00\",\"2021-02-12T00:00:00\",\"2023-06-15T00:00:00\",\"2023-08-15T00:00:00\",\"2024-02-15T00:00:00\",\"2023-12-14T00:00:00\",\"2023-03-14T00:00:00\",\"2023-10-17T00:00:00\",\"2022-10-13T00:00:00\",\"2023-09-14T00:00:00\",\"2020-12-14T00:00:00\",\"2024-04-12T00:00:00\",\"2023-11-14T00:00:00\",\"2024-05-14T00:00:00\",\"2024-06-12T00:00:00\",\"2024-08-14T00:00:00\",\"2024-07-12T00:00:00\",\"2020-11-12T00:00:00\",\"2020-10-15T00:00:00\"],\"xaxis\":\"x\",\"y\":[249,244,242,240,239,237,232,224,220,208,205,196,195,195,190,190,187,186,186,186,185,184,184,183,181,177,175,174,173,173,170,169,168,168,167,165,159,158,156,155,151,150,145,143,142,126,92],\"yaxis\":\"y\",\"type\":\"bar\"},{\"alignmentgroup\":\"True\",\"hovertemplate\":\"modalidade=Lance Livre\\u003cbr\\u003eData da assembleia=%{x}\\u003cbr\\u003eNumero de Cotas=%{y}\\u003cextra\\u003e\\u003c\\u002fextra\\u003e\",\"legendgroup\":\"Lance Livre\",\"marker\":{\"color\":\"#00cc96\",\"pattern\":{\"shape\":\"\"}},\"name\":\"Lance Livre\",\"offsetgroup\":\"Lance Livre\",\"orientation\":\"v\",\"showlegend\":true,\"textposition\":\"auto\",\"x\":[\"2021-04-14T00:00:00\",\"2021-08-12T00:00:00\",\"2021-03-12T00:00:00\",\"2023-02-14T00:00:00\",\"2021-09-14T00:00:00\",\"2021-07-15T00:00:00\",\"2021-02-12T00:00:00\",\"2022-11-14T00:00:00\",\"2022-02-15T00:00:00\",\"2022-04-14T00:00:00\",\"2023-03-14T00:00:00\",\"2022-06-15T00:00:00\",\"2023-06-15T00:00:00\",\"2021-06-14T00:00:00\",\"2021-01-14T00:00:00\",\"2023-04-13T00:00:00\",\"2022-12-15T00:00:00\",\"2023-05-12T00:00:00\",\"2021-11-12T00:00:00\",\"2023-07-13T00:00:00\",\"2021-05-13T00:00:00\",\"2021-10-15T00:00:00\",\"2023-01-12T00:00:00\",\"2022-08-12T00:00:00\",\"2022-05-12T00:00:00\",\"2022-10-13T00:00:00\",\"2022-01-13T00:00:00\",\"2022-09-15T00:00:00\",\"2022-07-14T00:00:00\",\"2023-08-15T00:00:00\",\"2024-06-12T00:00:00\",\"2022-03-15T00:00:00\",\"2020-12-14T00:00:00\",\"2023-12-14T00:00:00\",\"2023-09-14T00:00:00\",\"2021-12-14T00:00:00\",\"2024-05-14T00:00:00\",\"2024-08-14T00:00:00\",\"2023-10-17T00:00:00\",\"2024-04-12T00:00:00\",\"2024-03-14T00:00:00\",\"2024-02-15T00:00:00\",\"2024-01-12T00:00:00\",\"2024-07-12T00:00:00\",\"2020-10-15T00:00:00\",\"2020-11-12T00:00:00\",\"2023-11-14T00:00:00\"],\"xaxis\":\"x\",\"y\":[70,67,62,62,60,58,55,55,54,53,52,51,51,51,51,50,50,50,49,49,47,46,45,45,43,43,43,43,42,42,41,41,40,39,39,38,37,37,37,36,36,31,30,29,25,22,22],\"yaxis\":\"y\",\"type\":\"bar\"}],                        {\"template\":{\"data\":{\"histogram2dcontour\":[{\"type\":\"histogram2dcontour\",\"colorbar\":{\"outlinewidth\":0,\"ticks\":\"\"},\"colorscale\":[[0.0,\"#0d0887\"],[0.1111111111111111,\"#46039f\"],[0.2222222222222222,\"#7201a8\"],[0.3333333333333333,\"#9c179e\"],[0.4444444444444444,\"#bd3786\"],[0.5555555555555556,\"#d8576b\"],[0.6666666666666666,\"#ed7953\"],[0.7777777777777778,\"#fb9f3a\"],[0.8888888888888888,\"#fdca26\"],[1.0,\"#f0f921\"]]}],\"choropleth\":[{\"type\":\"choropleth\",\"colorbar\":{\"outlinewidth\":0,\"ticks\":\"\"}}],\"histogram2d\":[{\"type\":\"histogram2d\",\"colorbar\":{\"outlinewidth\":0,\"ticks\":\"\"},\"colorscale\":[[0.0,\"#0d0887\"],[0.1111111111111111,\"#46039f\"],[0.2222222222222222,\"#7201a8\"],[0.3333333333333333,\"#9c179e\"],[0.4444444444444444,\"#bd3786\"],[0.5555555555555556,\"#d8576b\"],[0.6666666666666666,\"#ed7953\"],[0.7777777777777778,\"#fb9f3a\"],[0.8888888888888888,\"#fdca26\"],[1.0,\"#f0f921\"]]}],\"heatmap\":[{\"type\":\"heatmap\",\"colorbar\":{\"outlinewidth\":0,\"ticks\":\"\"},\"colorscale\":[[0.0,\"#0d0887\"],[0.1111111111111111,\"#46039f\"],[0.2222222222222222,\"#7201a8\"],[0.3333333333333333,\"#9c179e\"],[0.4444444444444444,\"#bd3786\"],[0.5555555555555556,\"#d8576b\"],[0.6666666666666666,\"#ed7953\"],[0.7777777777777778,\"#fb9f3a\"],[0.8888888888888888,\"#fdca26\"],[1.0,\"#f0f921\"]]}],\"heatmapgl\":[{\"type\":\"heatmapgl\",\"colorbar\":{\"outlinewidth\":0,\"ticks\":\"\"},\"colorscale\":[[0.0,\"#0d0887\"],[0.1111111111111111,\"#46039f\"],[0.2222222222222222,\"#7201a8\"],[0.3333333333333333,\"#9c179e\"],[0.4444444444444444,\"#bd3786\"],[0.5555555555555556,\"#d8576b\"],[0.6666666666666666,\"#ed7953\"],[0.7777777777777778,\"#fb9f3a\"],[0.8888888888888888,\"#fdca26\"],[1.0,\"#f0f921\"]]}],\"contourcarpet\":[{\"type\":\"contourcarpet\",\"colorbar\":{\"outlinewidth\":0,\"ticks\":\"\"}}],\"contour\":[{\"type\":\"contour\",\"colorbar\":{\"outlinewidth\":0,\"ticks\":\"\"},\"colorscale\":[[0.0,\"#0d0887\"],[0.1111111111111111,\"#46039f\"],[0.2222222222222222,\"#7201a8\"],[0.3333333333333333,\"#9c179e\"],[0.4444444444444444,\"#bd3786\"],[0.5555555555555556,\"#d8576b\"],[0.6666666666666666,\"#ed7953\"],[0.7777777777777778,\"#fb9f3a\"],[0.8888888888888888,\"#fdca26\"],[1.0,\"#f0f921\"]]}],\"surface\":[{\"type\":\"surface\",\"colorbar\":{\"outlinewidth\":0,\"ticks\":\"\"},\"colorscale\":[[0.0,\"#0d0887\"],[0.1111111111111111,\"#46039f\"],[0.2222222222222222,\"#7201a8\"],[0.3333333333333333,\"#9c179e\"],[0.4444444444444444,\"#bd3786\"],[0.5555555555555556,\"#d8576b\"],[0.6666666666666666,\"#ed7953\"],[0.7777777777777778,\"#fb9f3a\"],[0.8888888888888888,\"#fdca26\"],[1.0,\"#f0f921\"]]}],\"mesh3d\":[{\"type\":\"mesh3d\",\"colorbar\":{\"outlinewidth\":0,\"ticks\":\"\"}}],\"scatter\":[{\"fillpattern\":{\"fillmode\":\"overlay\",\"size\":10,\"solidity\":0.2},\"type\":\"scatter\"}],\"parcoords\":[{\"type\":\"parcoords\",\"line\":{\"colorbar\":{\"outlinewidth\":0,\"ticks\":\"\"}}}],\"scatterpolargl\":[{\"type\":\"scatterpolargl\",\"marker\":{\"colorbar\":{\"outlinewidth\":0,\"ticks\":\"\"}}}],\"bar\":[{\"error_x\":{\"color\":\"#2a3f5f\"},\"error_y\":{\"color\":\"#2a3f5f\"},\"marker\":{\"line\":{\"color\":\"#E5ECF6\",\"width\":0.5},\"pattern\":{\"fillmode\":\"overlay\",\"size\":10,\"solidity\":0.2}},\"type\":\"bar\"}],\"scattergeo\":[{\"type\":\"scattergeo\",\"marker\":{\"colorbar\":{\"outlinewidth\":0,\"ticks\":\"\"}}}],\"scatterpolar\":[{\"type\":\"scatterpolar\",\"marker\":{\"colorbar\":{\"outlinewidth\":0,\"ticks\":\"\"}}}],\"histogram\":[{\"marker\":{\"pattern\":{\"fillmode\":\"overlay\",\"size\":10,\"solidity\":0.2}},\"type\":\"histogram\"}],\"scattergl\":[{\"type\":\"scattergl\",\"marker\":{\"colorbar\":{\"outlinewidth\":0,\"ticks\":\"\"}}}],\"scatter3d\":[{\"type\":\"scatter3d\",\"line\":{\"colorbar\":{\"outlinewidth\":0,\"ticks\":\"\"}},\"marker\":{\"colorbar\":{\"outlinewidth\":0,\"ticks\":\"\"}}}],\"scattermapbox\":[{\"type\":\"scattermapbox\",\"marker\":{\"colorbar\":{\"outlinewidth\":0,\"ticks\":\"\"}}}],\"scatterternary\":[{\"type\":\"scatterternary\",\"marker\":{\"colorbar\":{\"outlinewidth\":0,\"ticks\":\"\"}}}],\"scattercarpet\":[{\"type\":\"scattercarpet\",\"marker\":{\"colorbar\":{\"outlinewidth\":0,\"ticks\":\"\"}}}],\"carpet\":[{\"aaxis\":{\"endlinecolor\":\"#2a3f5f\",\"gridcolor\":\"white\",\"linecolor\":\"white\",\"minorgridcolor\":\"white\",\"startlinecolor\":\"#2a3f5f\"},\"baxis\":{\"endlinecolor\":\"#2a3f5f\",\"gridcolor\":\"white\",\"linecolor\":\"white\",\"minorgridcolor\":\"white\",\"startlinecolor\":\"#2a3f5f\"},\"type\":\"carpet\"}],\"table\":[{\"cells\":{\"fill\":{\"color\":\"#EBF0F8\"},\"line\":{\"color\":\"white\"}},\"header\":{\"fill\":{\"color\":\"#C8D4E3\"},\"line\":{\"color\":\"white\"}},\"type\":\"table\"}],\"barpolar\":[{\"marker\":{\"line\":{\"color\":\"#E5ECF6\",\"width\":0.5},\"pattern\":{\"fillmode\":\"overlay\",\"size\":10,\"solidity\":0.2}},\"type\":\"barpolar\"}],\"pie\":[{\"automargin\":true,\"type\":\"pie\"}]},\"layout\":{\"autotypenumbers\":\"strict\",\"colorway\":[\"#636efa\",\"#EF553B\",\"#00cc96\",\"#ab63fa\",\"#FFA15A\",\"#19d3f3\",\"#FF6692\",\"#B6E880\",\"#FF97FF\",\"#FECB52\"],\"font\":{\"color\":\"#2a3f5f\"},\"hovermode\":\"closest\",\"hoverlabel\":{\"align\":\"left\"},\"paper_bgcolor\":\"white\",\"plot_bgcolor\":\"#E5ECF6\",\"polar\":{\"bgcolor\":\"#E5ECF6\",\"angularaxis\":{\"gridcolor\":\"white\",\"linecolor\":\"white\",\"ticks\":\"\"},\"radialaxis\":{\"gridcolor\":\"white\",\"linecolor\":\"white\",\"ticks\":\"\"}},\"ternary\":{\"bgcolor\":\"#E5ECF6\",\"aaxis\":{\"gridcolor\":\"white\",\"linecolor\":\"white\",\"ticks\":\"\"},\"baxis\":{\"gridcolor\":\"white\",\"linecolor\":\"white\",\"ticks\":\"\"},\"caxis\":{\"gridcolor\":\"white\",\"linecolor\":\"white\",\"ticks\":\"\"}},\"coloraxis\":{\"colorbar\":{\"outlinewidth\":0,\"ticks\":\"\"}},\"colorscale\":{\"sequential\":[[0.0,\"#0d0887\"],[0.1111111111111111,\"#46039f\"],[0.2222222222222222,\"#7201a8\"],[0.3333333333333333,\"#9c179e\"],[0.4444444444444444,\"#bd3786\"],[0.5555555555555556,\"#d8576b\"],[0.6666666666666666,\"#ed7953\"],[0.7777777777777778,\"#fb9f3a\"],[0.8888888888888888,\"#fdca26\"],[1.0,\"#f0f921\"]],\"sequentialminus\":[[0.0,\"#0d0887\"],[0.1111111111111111,\"#46039f\"],[0.2222222222222222,\"#7201a8\"],[0.3333333333333333,\"#9c179e\"],[0.4444444444444444,\"#bd3786\"],[0.5555555555555556,\"#d8576b\"],[0.6666666666666666,\"#ed7953\"],[0.7777777777777778,\"#fb9f3a\"],[0.8888888888888888,\"#fdca26\"],[1.0,\"#f0f921\"]],\"diverging\":[[0,\"#8e0152\"],[0.1,\"#c51b7d\"],[0.2,\"#de77ae\"],[0.3,\"#f1b6da\"],[0.4,\"#fde0ef\"],[0.5,\"#f7f7f7\"],[0.6,\"#e6f5d0\"],[0.7,\"#b8e186\"],[0.8,\"#7fbc41\"],[0.9,\"#4d9221\"],[1,\"#276419\"]]},\"xaxis\":{\"gridcolor\":\"white\",\"linecolor\":\"white\",\"ticks\":\"\",\"title\":{\"standoff\":15},\"zerolinecolor\":\"white\",\"automargin\":true,\"zerolinewidth\":2},\"yaxis\":{\"gridcolor\":\"white\",\"linecolor\":\"white\",\"ticks\":\"\",\"title\":{\"standoff\":15},\"zerolinecolor\":\"white\",\"automargin\":true,\"zerolinewidth\":2},\"scene\":{\"xaxis\":{\"backgroundcolor\":\"#E5ECF6\",\"gridcolor\":\"white\",\"linecolor\":\"white\",\"showbackground\":true,\"ticks\":\"\",\"zerolinecolor\":\"white\",\"gridwidth\":2},\"yaxis\":{\"backgroundcolor\":\"#E5ECF6\",\"gridcolor\":\"white\",\"linecolor\":\"white\",\"showbackground\":true,\"ticks\":\"\",\"zerolinecolor\":\"white\",\"gridwidth\":2},\"zaxis\":{\"backgroundcolor\":\"#E5ECF6\",\"gridcolor\":\"white\",\"linecolor\":\"white\",\"showbackground\":true,\"ticks\":\"\",\"zerolinecolor\":\"white\",\"gridwidth\":2}},\"shapedefaults\":{\"line\":{\"color\":\"#2a3f5f\"}},\"annotationdefaults\":{\"arrowcolor\":\"#2a3f5f\",\"arrowhead\":0,\"arrowwidth\":1},\"geo\":{\"bgcolor\":\"white\",\"landcolor\":\"#E5ECF6\",\"subunitcolor\":\"white\",\"showland\":true,\"showlakes\":true,\"lakecolor\":\"white\"},\"title\":{\"x\":0.05},\"mapbox\":{\"style\":\"light\"}}},\"xaxis\":{\"anchor\":\"y\",\"domain\":[0.0,1.0],\"title\":{\"text\":\"Data da assembleia\"}},\"yaxis\":{\"anchor\":\"x\",\"domain\":[0.0,1.0],\"title\":{\"text\":\"Numero de Cotas\"}},\"legend\":{\"title\":{\"text\":\"modalidade\"},\"tracegroupgap\":0},\"title\":{\"text\":\"Op\\u00e7\\u00f5es de Contempla\\u00e7\\u00e3o (Sem Canceladas) por data de assembleia\"},\"barmode\":\"relative\"},                        {\"responsive\": true}                    ).then(function(){\n",
       "                            \n",
       "var gd = document.getElementById('f777c933-1c9c-4d80-8651-ce153937177b');\n",
       "var x = new MutationObserver(function (mutations, observer) {{\n",
       "        var display = window.getComputedStyle(gd).display;\n",
       "        if (!display || display === 'none') {{\n",
       "            console.log([gd, 'removed!']);\n",
       "            Plotly.purge(gd);\n",
       "            observer.disconnect();\n",
       "        }}\n",
       "}});\n",
       "\n",
       "// Listen for the removal of the full notebook cells\n",
       "var notebookContainer = gd.closest('#notebook-container');\n",
       "if (notebookContainer) {{\n",
       "    x.observe(notebookContainer, {childList: true});\n",
       "}}\n",
       "\n",
       "// Listen for the clearing of the current output cell\n",
       "var outputEl = gd.closest('.output');\n",
       "if (outputEl) {{\n",
       "    x.observe(outputEl, {childList: true});\n",
       "}}\n",
       "\n",
       "                        })                };                });            </script>        </div>"
      ]
     },
     "metadata": {},
     "output_type": "display_data"
    }
   ],
   "source": [
    "# uma seq. contemplacao por cota\n",
    "df_chart = (\n",
    "    df.where(df[\"modalidade\"] != \"Sort. Canceladas\")\n",
    "    .groupby([\"data_assembleia\", \"modalidade\"])\n",
    "    .count()\n",
    "    .reset_index()\n",
    "    .sort_values(\"str_cota\", ascending=False)\n",
    ")\n",
    "fig = px.bar(\n",
    "    df_chart,\n",
    "    x=\"data_assembleia\",\n",
    "    y=\"str_cota\",\n",
    "    color=\"modalidade\",\n",
    "    labels={\"data_assembleia\": \"Data da assembleia\", \"str_cota\": \"Numero de Cotas\"},\n",
    "    title=f\"Opções de Contemplação (Sem Canceladas) por data de assembleia\",\n",
    ")\n",
    "fig.show()"
   ]
  },
  {
   "cell_type": "code",
   "execution_count": 90,
   "metadata": {},
   "outputs": [
    {
     "name": "stderr",
     "output_type": "stream",
     "text": [
      "/tmp/ipykernel_1146/2297073132.py:3: SettingWithCopyWarning:\n",
      "\n",
      "\n",
      "A value is trying to be set on a copy of a slice from a DataFrame.\n",
      "Try using .loc[row_indexer,col_indexer] = value instead\n",
      "\n",
      "See the caveats in the documentation: https://pandas.pydata.org/pandas-docs/stable/user_guide/indexing.html#returning-a-view-versus-a-copy\n",
      "\n"
     ]
    },
    {
     "data": {
      "application/vnd.plotly.v1+json": {
       "config": {
        "plotlyServerURL": "https://plot.ly"
       },
       "data": [
        {
         "alignmentgroup": "True",
         "hovertemplate": "bin_modalidade=Cancelada<br>Data da assembleia=%{x}<br>Numero de Cotas=%{y}<extra></extra>",
         "legendgroup": "Cancelada",
         "marker": {
          "color": "#636efa",
          "pattern": {
           "shape": ""
          }
         },
         "name": "Cancelada",
         "offsetgroup": "Cancelada",
         "orientation": "v",
         "showlegend": true,
         "textposition": "auto",
         "type": "bar",
         "x": [
          "2023-12-14T00:00:00",
          "2024-01-12T00:00:00",
          "2023-10-17T00:00:00",
          "2023-11-14T00:00:00",
          "2024-02-15T00:00:00",
          "2023-09-14T00:00:00",
          "2024-03-14T00:00:00",
          "2022-02-15T00:00:00",
          "2023-07-13T00:00:00",
          "2023-06-15T00:00:00",
          "2023-05-12T00:00:00",
          "2024-06-12T00:00:00",
          "2023-04-13T00:00:00",
          "2023-08-15T00:00:00",
          "2024-07-12T00:00:00",
          "2024-08-14T00:00:00",
          "2024-04-12T00:00:00",
          "2024-05-14T00:00:00",
          "2022-01-13T00:00:00",
          "2022-11-14T00:00:00",
          "2023-01-12T00:00:00",
          "2022-12-15T00:00:00",
          "2023-02-14T00:00:00",
          "2023-03-14T00:00:00",
          "2021-12-14T00:00:00",
          "2022-10-13T00:00:00",
          "2021-11-12T00:00:00",
          "2022-09-15T00:00:00",
          "2022-08-12T00:00:00",
          "2021-10-15T00:00:00",
          "2022-06-15T00:00:00",
          "2022-07-14T00:00:00",
          "2021-09-14T00:00:00",
          "2021-08-12T00:00:00",
          "2022-05-12T00:00:00",
          "2021-07-15T00:00:00",
          "2022-04-14T00:00:00",
          "2022-03-15T00:00:00",
          "2021-06-14T00:00:00",
          "2021-05-13T00:00:00",
          "2021-04-14T00:00:00",
          "2021-03-12T00:00:00",
          "2021-02-12T00:00:00",
          "2021-01-14T00:00:00",
          "2020-12-14T00:00:00",
          "2020-11-12T00:00:00",
          "2020-10-15T00:00:00"
         ],
         "xaxis": "x",
         "y": [
          712,
          712,
          710,
          705,
          703,
          701,
          700,
          695,
          695,
          685,
          681,
          678,
          675,
          675,
          674,
          671,
          666,
          665,
          661,
          655,
          654,
          653,
          650,
          650,
          636,
          630,
          607,
          604,
          600,
          595,
          574,
          573,
          570,
          538,
          510,
          508,
          493,
          468,
          452,
          414,
          370,
          333,
          287,
          235,
          183,
          128,
          90
         ],
         "yaxis": "y"
        },
        {
         "alignmentgroup": "True",
         "hovertemplate": "bin_modalidade=Valida<br>Data da assembleia=%{x}<br>Numero de Cotas=%{y}<extra></extra>",
         "legendgroup": "Valida",
         "marker": {
          "color": "#EF553B",
          "pattern": {
           "shape": ""
          }
         },
         "name": "Valida",
         "offsetgroup": "Valida",
         "orientation": "v",
         "showlegend": true,
         "textposition": "auto",
         "type": "bar",
         "x": [
          "2022-02-15T00:00:00",
          "2024-03-14T00:00:00",
          "2021-11-12T00:00:00",
          "2021-09-14T00:00:00",
          "2021-12-14T00:00:00",
          "2021-08-12T00:00:00",
          "2024-01-12T00:00:00",
          "2023-07-13T00:00:00",
          "2021-07-15T00:00:00",
          "2021-10-15T00:00:00",
          "2022-01-13T00:00:00",
          "2024-04-12T00:00:00",
          "2023-12-14T00:00:00",
          "2023-05-12T00:00:00",
          "2022-12-15T00:00:00",
          "2023-06-15T00:00:00",
          "2023-01-12T00:00:00",
          "2023-08-15T00:00:00",
          "2023-02-14T00:00:00",
          "2024-05-14T00:00:00",
          "2022-11-14T00:00:00",
          "2023-04-13T00:00:00",
          "2022-08-12T00:00:00",
          "2022-09-15T00:00:00",
          "2022-06-15T00:00:00",
          "2024-08-14T00:00:00",
          "2024-06-12T00:00:00",
          "2023-10-17T00:00:00",
          "2023-03-14T00:00:00",
          "2024-02-15T00:00:00",
          "2023-09-14T00:00:00",
          "2021-04-14T00:00:00",
          "2024-07-12T00:00:00",
          "2022-07-14T00:00:00",
          "2021-05-13T00:00:00",
          "2022-04-14T00:00:00",
          "2021-06-14T00:00:00",
          "2022-05-12T00:00:00",
          "2023-11-14T00:00:00",
          "2022-10-13T00:00:00",
          "2021-03-12T00:00:00",
          "2022-03-15T00:00:00",
          "2021-02-12T00:00:00",
          "2021-01-14T00:00:00",
          "2020-12-14T00:00:00",
          "2020-11-12T00:00:00",
          "2020-10-15T00:00:00"
         ],
         "xaxis": "x",
         "y": [
          513,
          503,
          500,
          499,
          496,
          486,
          486,
          486,
          486,
          485,
          483,
          476,
          475,
          473,
          470,
          469,
          464,
          463,
          460,
          459,
          459,
          456,
          455,
          455,
          453,
          453,
          453,
          452,
          451,
          449,
          445,
          435,
          433,
          432,
          430,
          428,
          424,
          421,
          418,
          416,
          408,
          408,
          366,
          359,
          307,
          234,
          185
         ],
         "yaxis": "y"
        }
       ],
       "layout": {
        "barmode": "relative",
        "legend": {
         "title": {
          "text": "bin_modalidade"
         },
         "tracegroupgap": 0
        },
        "template": {
         "data": {
          "bar": [
           {
            "error_x": {
             "color": "#2a3f5f"
            },
            "error_y": {
             "color": "#2a3f5f"
            },
            "marker": {
             "line": {
              "color": "#E5ECF6",
              "width": 0.5
             },
             "pattern": {
              "fillmode": "overlay",
              "size": 10,
              "solidity": 0.2
             }
            },
            "type": "bar"
           }
          ],
          "barpolar": [
           {
            "marker": {
             "line": {
              "color": "#E5ECF6",
              "width": 0.5
             },
             "pattern": {
              "fillmode": "overlay",
              "size": 10,
              "solidity": 0.2
             }
            },
            "type": "barpolar"
           }
          ],
          "carpet": [
           {
            "aaxis": {
             "endlinecolor": "#2a3f5f",
             "gridcolor": "white",
             "linecolor": "white",
             "minorgridcolor": "white",
             "startlinecolor": "#2a3f5f"
            },
            "baxis": {
             "endlinecolor": "#2a3f5f",
             "gridcolor": "white",
             "linecolor": "white",
             "minorgridcolor": "white",
             "startlinecolor": "#2a3f5f"
            },
            "type": "carpet"
           }
          ],
          "choropleth": [
           {
            "colorbar": {
             "outlinewidth": 0,
             "ticks": ""
            },
            "type": "choropleth"
           }
          ],
          "contour": [
           {
            "colorbar": {
             "outlinewidth": 0,
             "ticks": ""
            },
            "colorscale": [
             [
              0,
              "#0d0887"
             ],
             [
              0.1111111111111111,
              "#46039f"
             ],
             [
              0.2222222222222222,
              "#7201a8"
             ],
             [
              0.3333333333333333,
              "#9c179e"
             ],
             [
              0.4444444444444444,
              "#bd3786"
             ],
             [
              0.5555555555555556,
              "#d8576b"
             ],
             [
              0.6666666666666666,
              "#ed7953"
             ],
             [
              0.7777777777777778,
              "#fb9f3a"
             ],
             [
              0.8888888888888888,
              "#fdca26"
             ],
             [
              1,
              "#f0f921"
             ]
            ],
            "type": "contour"
           }
          ],
          "contourcarpet": [
           {
            "colorbar": {
             "outlinewidth": 0,
             "ticks": ""
            },
            "type": "contourcarpet"
           }
          ],
          "heatmap": [
           {
            "colorbar": {
             "outlinewidth": 0,
             "ticks": ""
            },
            "colorscale": [
             [
              0,
              "#0d0887"
             ],
             [
              0.1111111111111111,
              "#46039f"
             ],
             [
              0.2222222222222222,
              "#7201a8"
             ],
             [
              0.3333333333333333,
              "#9c179e"
             ],
             [
              0.4444444444444444,
              "#bd3786"
             ],
             [
              0.5555555555555556,
              "#d8576b"
             ],
             [
              0.6666666666666666,
              "#ed7953"
             ],
             [
              0.7777777777777778,
              "#fb9f3a"
             ],
             [
              0.8888888888888888,
              "#fdca26"
             ],
             [
              1,
              "#f0f921"
             ]
            ],
            "type": "heatmap"
           }
          ],
          "heatmapgl": [
           {
            "colorbar": {
             "outlinewidth": 0,
             "ticks": ""
            },
            "colorscale": [
             [
              0,
              "#0d0887"
             ],
             [
              0.1111111111111111,
              "#46039f"
             ],
             [
              0.2222222222222222,
              "#7201a8"
             ],
             [
              0.3333333333333333,
              "#9c179e"
             ],
             [
              0.4444444444444444,
              "#bd3786"
             ],
             [
              0.5555555555555556,
              "#d8576b"
             ],
             [
              0.6666666666666666,
              "#ed7953"
             ],
             [
              0.7777777777777778,
              "#fb9f3a"
             ],
             [
              0.8888888888888888,
              "#fdca26"
             ],
             [
              1,
              "#f0f921"
             ]
            ],
            "type": "heatmapgl"
           }
          ],
          "histogram": [
           {
            "marker": {
             "pattern": {
              "fillmode": "overlay",
              "size": 10,
              "solidity": 0.2
             }
            },
            "type": "histogram"
           }
          ],
          "histogram2d": [
           {
            "colorbar": {
             "outlinewidth": 0,
             "ticks": ""
            },
            "colorscale": [
             [
              0,
              "#0d0887"
             ],
             [
              0.1111111111111111,
              "#46039f"
             ],
             [
              0.2222222222222222,
              "#7201a8"
             ],
             [
              0.3333333333333333,
              "#9c179e"
             ],
             [
              0.4444444444444444,
              "#bd3786"
             ],
             [
              0.5555555555555556,
              "#d8576b"
             ],
             [
              0.6666666666666666,
              "#ed7953"
             ],
             [
              0.7777777777777778,
              "#fb9f3a"
             ],
             [
              0.8888888888888888,
              "#fdca26"
             ],
             [
              1,
              "#f0f921"
             ]
            ],
            "type": "histogram2d"
           }
          ],
          "histogram2dcontour": [
           {
            "colorbar": {
             "outlinewidth": 0,
             "ticks": ""
            },
            "colorscale": [
             [
              0,
              "#0d0887"
             ],
             [
              0.1111111111111111,
              "#46039f"
             ],
             [
              0.2222222222222222,
              "#7201a8"
             ],
             [
              0.3333333333333333,
              "#9c179e"
             ],
             [
              0.4444444444444444,
              "#bd3786"
             ],
             [
              0.5555555555555556,
              "#d8576b"
             ],
             [
              0.6666666666666666,
              "#ed7953"
             ],
             [
              0.7777777777777778,
              "#fb9f3a"
             ],
             [
              0.8888888888888888,
              "#fdca26"
             ],
             [
              1,
              "#f0f921"
             ]
            ],
            "type": "histogram2dcontour"
           }
          ],
          "mesh3d": [
           {
            "colorbar": {
             "outlinewidth": 0,
             "ticks": ""
            },
            "type": "mesh3d"
           }
          ],
          "parcoords": [
           {
            "line": {
             "colorbar": {
              "outlinewidth": 0,
              "ticks": ""
             }
            },
            "type": "parcoords"
           }
          ],
          "pie": [
           {
            "automargin": true,
            "type": "pie"
           }
          ],
          "scatter": [
           {
            "fillpattern": {
             "fillmode": "overlay",
             "size": 10,
             "solidity": 0.2
            },
            "type": "scatter"
           }
          ],
          "scatter3d": [
           {
            "line": {
             "colorbar": {
              "outlinewidth": 0,
              "ticks": ""
             }
            },
            "marker": {
             "colorbar": {
              "outlinewidth": 0,
              "ticks": ""
             }
            },
            "type": "scatter3d"
           }
          ],
          "scattercarpet": [
           {
            "marker": {
             "colorbar": {
              "outlinewidth": 0,
              "ticks": ""
             }
            },
            "type": "scattercarpet"
           }
          ],
          "scattergeo": [
           {
            "marker": {
             "colorbar": {
              "outlinewidth": 0,
              "ticks": ""
             }
            },
            "type": "scattergeo"
           }
          ],
          "scattergl": [
           {
            "marker": {
             "colorbar": {
              "outlinewidth": 0,
              "ticks": ""
             }
            },
            "type": "scattergl"
           }
          ],
          "scattermapbox": [
           {
            "marker": {
             "colorbar": {
              "outlinewidth": 0,
              "ticks": ""
             }
            },
            "type": "scattermapbox"
           }
          ],
          "scatterpolar": [
           {
            "marker": {
             "colorbar": {
              "outlinewidth": 0,
              "ticks": ""
             }
            },
            "type": "scatterpolar"
           }
          ],
          "scatterpolargl": [
           {
            "marker": {
             "colorbar": {
              "outlinewidth": 0,
              "ticks": ""
             }
            },
            "type": "scatterpolargl"
           }
          ],
          "scatterternary": [
           {
            "marker": {
             "colorbar": {
              "outlinewidth": 0,
              "ticks": ""
             }
            },
            "type": "scatterternary"
           }
          ],
          "surface": [
           {
            "colorbar": {
             "outlinewidth": 0,
             "ticks": ""
            },
            "colorscale": [
             [
              0,
              "#0d0887"
             ],
             [
              0.1111111111111111,
              "#46039f"
             ],
             [
              0.2222222222222222,
              "#7201a8"
             ],
             [
              0.3333333333333333,
              "#9c179e"
             ],
             [
              0.4444444444444444,
              "#bd3786"
             ],
             [
              0.5555555555555556,
              "#d8576b"
             ],
             [
              0.6666666666666666,
              "#ed7953"
             ],
             [
              0.7777777777777778,
              "#fb9f3a"
             ],
             [
              0.8888888888888888,
              "#fdca26"
             ],
             [
              1,
              "#f0f921"
             ]
            ],
            "type": "surface"
           }
          ],
          "table": [
           {
            "cells": {
             "fill": {
              "color": "#EBF0F8"
             },
             "line": {
              "color": "white"
             }
            },
            "header": {
             "fill": {
              "color": "#C8D4E3"
             },
             "line": {
              "color": "white"
             }
            },
            "type": "table"
           }
          ]
         },
         "layout": {
          "annotationdefaults": {
           "arrowcolor": "#2a3f5f",
           "arrowhead": 0,
           "arrowwidth": 1
          },
          "autotypenumbers": "strict",
          "coloraxis": {
           "colorbar": {
            "outlinewidth": 0,
            "ticks": ""
           }
          },
          "colorscale": {
           "diverging": [
            [
             0,
             "#8e0152"
            ],
            [
             0.1,
             "#c51b7d"
            ],
            [
             0.2,
             "#de77ae"
            ],
            [
             0.3,
             "#f1b6da"
            ],
            [
             0.4,
             "#fde0ef"
            ],
            [
             0.5,
             "#f7f7f7"
            ],
            [
             0.6,
             "#e6f5d0"
            ],
            [
             0.7,
             "#b8e186"
            ],
            [
             0.8,
             "#7fbc41"
            ],
            [
             0.9,
             "#4d9221"
            ],
            [
             1,
             "#276419"
            ]
           ],
           "sequential": [
            [
             0,
             "#0d0887"
            ],
            [
             0.1111111111111111,
             "#46039f"
            ],
            [
             0.2222222222222222,
             "#7201a8"
            ],
            [
             0.3333333333333333,
             "#9c179e"
            ],
            [
             0.4444444444444444,
             "#bd3786"
            ],
            [
             0.5555555555555556,
             "#d8576b"
            ],
            [
             0.6666666666666666,
             "#ed7953"
            ],
            [
             0.7777777777777778,
             "#fb9f3a"
            ],
            [
             0.8888888888888888,
             "#fdca26"
            ],
            [
             1,
             "#f0f921"
            ]
           ],
           "sequentialminus": [
            [
             0,
             "#0d0887"
            ],
            [
             0.1111111111111111,
             "#46039f"
            ],
            [
             0.2222222222222222,
             "#7201a8"
            ],
            [
             0.3333333333333333,
             "#9c179e"
            ],
            [
             0.4444444444444444,
             "#bd3786"
            ],
            [
             0.5555555555555556,
             "#d8576b"
            ],
            [
             0.6666666666666666,
             "#ed7953"
            ],
            [
             0.7777777777777778,
             "#fb9f3a"
            ],
            [
             0.8888888888888888,
             "#fdca26"
            ],
            [
             1,
             "#f0f921"
            ]
           ]
          },
          "colorway": [
           "#636efa",
           "#EF553B",
           "#00cc96",
           "#ab63fa",
           "#FFA15A",
           "#19d3f3",
           "#FF6692",
           "#B6E880",
           "#FF97FF",
           "#FECB52"
          ],
          "font": {
           "color": "#2a3f5f"
          },
          "geo": {
           "bgcolor": "white",
           "lakecolor": "white",
           "landcolor": "#E5ECF6",
           "showlakes": true,
           "showland": true,
           "subunitcolor": "white"
          },
          "hoverlabel": {
           "align": "left"
          },
          "hovermode": "closest",
          "mapbox": {
           "style": "light"
          },
          "paper_bgcolor": "white",
          "plot_bgcolor": "#E5ECF6",
          "polar": {
           "angularaxis": {
            "gridcolor": "white",
            "linecolor": "white",
            "ticks": ""
           },
           "bgcolor": "#E5ECF6",
           "radialaxis": {
            "gridcolor": "white",
            "linecolor": "white",
            "ticks": ""
           }
          },
          "scene": {
           "xaxis": {
            "backgroundcolor": "#E5ECF6",
            "gridcolor": "white",
            "gridwidth": 2,
            "linecolor": "white",
            "showbackground": true,
            "ticks": "",
            "zerolinecolor": "white"
           },
           "yaxis": {
            "backgroundcolor": "#E5ECF6",
            "gridcolor": "white",
            "gridwidth": 2,
            "linecolor": "white",
            "showbackground": true,
            "ticks": "",
            "zerolinecolor": "white"
           },
           "zaxis": {
            "backgroundcolor": "#E5ECF6",
            "gridcolor": "white",
            "gridwidth": 2,
            "linecolor": "white",
            "showbackground": true,
            "ticks": "",
            "zerolinecolor": "white"
           }
          },
          "shapedefaults": {
           "line": {
            "color": "#2a3f5f"
           }
          },
          "ternary": {
           "aaxis": {
            "gridcolor": "white",
            "linecolor": "white",
            "ticks": ""
           },
           "baxis": {
            "gridcolor": "white",
            "linecolor": "white",
            "ticks": ""
           },
           "bgcolor": "#E5ECF6",
           "caxis": {
            "gridcolor": "white",
            "linecolor": "white",
            "ticks": ""
           }
          },
          "title": {
           "x": 0.05
          },
          "xaxis": {
           "automargin": true,
           "gridcolor": "white",
           "linecolor": "white",
           "ticks": "",
           "title": {
            "standoff": 15
           },
           "zerolinecolor": "white",
           "zerolinewidth": 2
          },
          "yaxis": {
           "automargin": true,
           "gridcolor": "white",
           "linecolor": "white",
           "ticks": "",
           "title": {
            "standoff": 15
           },
           "zerolinecolor": "white",
           "zerolinewidth": 2
          }
         }
        },
        "title": {
         "text": "Válidas e Canceladas por data de assembleia"
        },
        "xaxis": {
         "anchor": "y",
         "domain": [
          0,
          1
         ],
         "title": {
          "text": "Data da assembleia"
         }
        },
        "yaxis": {
         "anchor": "x",
         "domain": [
          0,
          1
         ],
         "title": {
          "text": "Numero de Cotas"
         }
        }
       }
      },
      "text/html": [
       "<div>                            <div id=\"7408b4b2-6e06-4fa0-a782-080e2075bbe7\" class=\"plotly-graph-div\" style=\"height:525px; width:100%;\"></div>            <script type=\"text/javascript\">                require([\"plotly\"], function(Plotly) {                    window.PLOTLYENV=window.PLOTLYENV || {};                                    if (document.getElementById(\"7408b4b2-6e06-4fa0-a782-080e2075bbe7\")) {                    Plotly.newPlot(                        \"7408b4b2-6e06-4fa0-a782-080e2075bbe7\",                        [{\"alignmentgroup\":\"True\",\"hovertemplate\":\"bin_modalidade=Cancelada\\u003cbr\\u003eData da assembleia=%{x}\\u003cbr\\u003eNumero de Cotas=%{y}\\u003cextra\\u003e\\u003c\\u002fextra\\u003e\",\"legendgroup\":\"Cancelada\",\"marker\":{\"color\":\"#636efa\",\"pattern\":{\"shape\":\"\"}},\"name\":\"Cancelada\",\"offsetgroup\":\"Cancelada\",\"orientation\":\"v\",\"showlegend\":true,\"textposition\":\"auto\",\"x\":[\"2023-12-14T00:00:00\",\"2024-01-12T00:00:00\",\"2023-10-17T00:00:00\",\"2023-11-14T00:00:00\",\"2024-02-15T00:00:00\",\"2023-09-14T00:00:00\",\"2024-03-14T00:00:00\",\"2022-02-15T00:00:00\",\"2023-07-13T00:00:00\",\"2023-06-15T00:00:00\",\"2023-05-12T00:00:00\",\"2024-06-12T00:00:00\",\"2023-04-13T00:00:00\",\"2023-08-15T00:00:00\",\"2024-07-12T00:00:00\",\"2024-08-14T00:00:00\",\"2024-04-12T00:00:00\",\"2024-05-14T00:00:00\",\"2022-01-13T00:00:00\",\"2022-11-14T00:00:00\",\"2023-01-12T00:00:00\",\"2022-12-15T00:00:00\",\"2023-02-14T00:00:00\",\"2023-03-14T00:00:00\",\"2021-12-14T00:00:00\",\"2022-10-13T00:00:00\",\"2021-11-12T00:00:00\",\"2022-09-15T00:00:00\",\"2022-08-12T00:00:00\",\"2021-10-15T00:00:00\",\"2022-06-15T00:00:00\",\"2022-07-14T00:00:00\",\"2021-09-14T00:00:00\",\"2021-08-12T00:00:00\",\"2022-05-12T00:00:00\",\"2021-07-15T00:00:00\",\"2022-04-14T00:00:00\",\"2022-03-15T00:00:00\",\"2021-06-14T00:00:00\",\"2021-05-13T00:00:00\",\"2021-04-14T00:00:00\",\"2021-03-12T00:00:00\",\"2021-02-12T00:00:00\",\"2021-01-14T00:00:00\",\"2020-12-14T00:00:00\",\"2020-11-12T00:00:00\",\"2020-10-15T00:00:00\"],\"xaxis\":\"x\",\"y\":[712,712,710,705,703,701,700,695,695,685,681,678,675,675,674,671,666,665,661,655,654,653,650,650,636,630,607,604,600,595,574,573,570,538,510,508,493,468,452,414,370,333,287,235,183,128,90],\"yaxis\":\"y\",\"type\":\"bar\"},{\"alignmentgroup\":\"True\",\"hovertemplate\":\"bin_modalidade=Valida\\u003cbr\\u003eData da assembleia=%{x}\\u003cbr\\u003eNumero de Cotas=%{y}\\u003cextra\\u003e\\u003c\\u002fextra\\u003e\",\"legendgroup\":\"Valida\",\"marker\":{\"color\":\"#EF553B\",\"pattern\":{\"shape\":\"\"}},\"name\":\"Valida\",\"offsetgroup\":\"Valida\",\"orientation\":\"v\",\"showlegend\":true,\"textposition\":\"auto\",\"x\":[\"2022-02-15T00:00:00\",\"2024-03-14T00:00:00\",\"2021-11-12T00:00:00\",\"2021-09-14T00:00:00\",\"2021-12-14T00:00:00\",\"2021-08-12T00:00:00\",\"2024-01-12T00:00:00\",\"2023-07-13T00:00:00\",\"2021-07-15T00:00:00\",\"2021-10-15T00:00:00\",\"2022-01-13T00:00:00\",\"2024-04-12T00:00:00\",\"2023-12-14T00:00:00\",\"2023-05-12T00:00:00\",\"2022-12-15T00:00:00\",\"2023-06-15T00:00:00\",\"2023-01-12T00:00:00\",\"2023-08-15T00:00:00\",\"2023-02-14T00:00:00\",\"2024-05-14T00:00:00\",\"2022-11-14T00:00:00\",\"2023-04-13T00:00:00\",\"2022-08-12T00:00:00\",\"2022-09-15T00:00:00\",\"2022-06-15T00:00:00\",\"2024-08-14T00:00:00\",\"2024-06-12T00:00:00\",\"2023-10-17T00:00:00\",\"2023-03-14T00:00:00\",\"2024-02-15T00:00:00\",\"2023-09-14T00:00:00\",\"2021-04-14T00:00:00\",\"2024-07-12T00:00:00\",\"2022-07-14T00:00:00\",\"2021-05-13T00:00:00\",\"2022-04-14T00:00:00\",\"2021-06-14T00:00:00\",\"2022-05-12T00:00:00\",\"2023-11-14T00:00:00\",\"2022-10-13T00:00:00\",\"2021-03-12T00:00:00\",\"2022-03-15T00:00:00\",\"2021-02-12T00:00:00\",\"2021-01-14T00:00:00\",\"2020-12-14T00:00:00\",\"2020-11-12T00:00:00\",\"2020-10-15T00:00:00\"],\"xaxis\":\"x\",\"y\":[513,503,500,499,496,486,486,486,486,485,483,476,475,473,470,469,464,463,460,459,459,456,455,455,453,453,453,452,451,449,445,435,433,432,430,428,424,421,418,416,408,408,366,359,307,234,185],\"yaxis\":\"y\",\"type\":\"bar\"}],                        {\"template\":{\"data\":{\"histogram2dcontour\":[{\"type\":\"histogram2dcontour\",\"colorbar\":{\"outlinewidth\":0,\"ticks\":\"\"},\"colorscale\":[[0.0,\"#0d0887\"],[0.1111111111111111,\"#46039f\"],[0.2222222222222222,\"#7201a8\"],[0.3333333333333333,\"#9c179e\"],[0.4444444444444444,\"#bd3786\"],[0.5555555555555556,\"#d8576b\"],[0.6666666666666666,\"#ed7953\"],[0.7777777777777778,\"#fb9f3a\"],[0.8888888888888888,\"#fdca26\"],[1.0,\"#f0f921\"]]}],\"choropleth\":[{\"type\":\"choropleth\",\"colorbar\":{\"outlinewidth\":0,\"ticks\":\"\"}}],\"histogram2d\":[{\"type\":\"histogram2d\",\"colorbar\":{\"outlinewidth\":0,\"ticks\":\"\"},\"colorscale\":[[0.0,\"#0d0887\"],[0.1111111111111111,\"#46039f\"],[0.2222222222222222,\"#7201a8\"],[0.3333333333333333,\"#9c179e\"],[0.4444444444444444,\"#bd3786\"],[0.5555555555555556,\"#d8576b\"],[0.6666666666666666,\"#ed7953\"],[0.7777777777777778,\"#fb9f3a\"],[0.8888888888888888,\"#fdca26\"],[1.0,\"#f0f921\"]]}],\"heatmap\":[{\"type\":\"heatmap\",\"colorbar\":{\"outlinewidth\":0,\"ticks\":\"\"},\"colorscale\":[[0.0,\"#0d0887\"],[0.1111111111111111,\"#46039f\"],[0.2222222222222222,\"#7201a8\"],[0.3333333333333333,\"#9c179e\"],[0.4444444444444444,\"#bd3786\"],[0.5555555555555556,\"#d8576b\"],[0.6666666666666666,\"#ed7953\"],[0.7777777777777778,\"#fb9f3a\"],[0.8888888888888888,\"#fdca26\"],[1.0,\"#f0f921\"]]}],\"heatmapgl\":[{\"type\":\"heatmapgl\",\"colorbar\":{\"outlinewidth\":0,\"ticks\":\"\"},\"colorscale\":[[0.0,\"#0d0887\"],[0.1111111111111111,\"#46039f\"],[0.2222222222222222,\"#7201a8\"],[0.3333333333333333,\"#9c179e\"],[0.4444444444444444,\"#bd3786\"],[0.5555555555555556,\"#d8576b\"],[0.6666666666666666,\"#ed7953\"],[0.7777777777777778,\"#fb9f3a\"],[0.8888888888888888,\"#fdca26\"],[1.0,\"#f0f921\"]]}],\"contourcarpet\":[{\"type\":\"contourcarpet\",\"colorbar\":{\"outlinewidth\":0,\"ticks\":\"\"}}],\"contour\":[{\"type\":\"contour\",\"colorbar\":{\"outlinewidth\":0,\"ticks\":\"\"},\"colorscale\":[[0.0,\"#0d0887\"],[0.1111111111111111,\"#46039f\"],[0.2222222222222222,\"#7201a8\"],[0.3333333333333333,\"#9c179e\"],[0.4444444444444444,\"#bd3786\"],[0.5555555555555556,\"#d8576b\"],[0.6666666666666666,\"#ed7953\"],[0.7777777777777778,\"#fb9f3a\"],[0.8888888888888888,\"#fdca26\"],[1.0,\"#f0f921\"]]}],\"surface\":[{\"type\":\"surface\",\"colorbar\":{\"outlinewidth\":0,\"ticks\":\"\"},\"colorscale\":[[0.0,\"#0d0887\"],[0.1111111111111111,\"#46039f\"],[0.2222222222222222,\"#7201a8\"],[0.3333333333333333,\"#9c179e\"],[0.4444444444444444,\"#bd3786\"],[0.5555555555555556,\"#d8576b\"],[0.6666666666666666,\"#ed7953\"],[0.7777777777777778,\"#fb9f3a\"],[0.8888888888888888,\"#fdca26\"],[1.0,\"#f0f921\"]]}],\"mesh3d\":[{\"type\":\"mesh3d\",\"colorbar\":{\"outlinewidth\":0,\"ticks\":\"\"}}],\"scatter\":[{\"fillpattern\":{\"fillmode\":\"overlay\",\"size\":10,\"solidity\":0.2},\"type\":\"scatter\"}],\"parcoords\":[{\"type\":\"parcoords\",\"line\":{\"colorbar\":{\"outlinewidth\":0,\"ticks\":\"\"}}}],\"scatterpolargl\":[{\"type\":\"scatterpolargl\",\"marker\":{\"colorbar\":{\"outlinewidth\":0,\"ticks\":\"\"}}}],\"bar\":[{\"error_x\":{\"color\":\"#2a3f5f\"},\"error_y\":{\"color\":\"#2a3f5f\"},\"marker\":{\"line\":{\"color\":\"#E5ECF6\",\"width\":0.5},\"pattern\":{\"fillmode\":\"overlay\",\"size\":10,\"solidity\":0.2}},\"type\":\"bar\"}],\"scattergeo\":[{\"type\":\"scattergeo\",\"marker\":{\"colorbar\":{\"outlinewidth\":0,\"ticks\":\"\"}}}],\"scatterpolar\":[{\"type\":\"scatterpolar\",\"marker\":{\"colorbar\":{\"outlinewidth\":0,\"ticks\":\"\"}}}],\"histogram\":[{\"marker\":{\"pattern\":{\"fillmode\":\"overlay\",\"size\":10,\"solidity\":0.2}},\"type\":\"histogram\"}],\"scattergl\":[{\"type\":\"scattergl\",\"marker\":{\"colorbar\":{\"outlinewidth\":0,\"ticks\":\"\"}}}],\"scatter3d\":[{\"type\":\"scatter3d\",\"line\":{\"colorbar\":{\"outlinewidth\":0,\"ticks\":\"\"}},\"marker\":{\"colorbar\":{\"outlinewidth\":0,\"ticks\":\"\"}}}],\"scattermapbox\":[{\"type\":\"scattermapbox\",\"marker\":{\"colorbar\":{\"outlinewidth\":0,\"ticks\":\"\"}}}],\"scatterternary\":[{\"type\":\"scatterternary\",\"marker\":{\"colorbar\":{\"outlinewidth\":0,\"ticks\":\"\"}}}],\"scattercarpet\":[{\"type\":\"scattercarpet\",\"marker\":{\"colorbar\":{\"outlinewidth\":0,\"ticks\":\"\"}}}],\"carpet\":[{\"aaxis\":{\"endlinecolor\":\"#2a3f5f\",\"gridcolor\":\"white\",\"linecolor\":\"white\",\"minorgridcolor\":\"white\",\"startlinecolor\":\"#2a3f5f\"},\"baxis\":{\"endlinecolor\":\"#2a3f5f\",\"gridcolor\":\"white\",\"linecolor\":\"white\",\"minorgridcolor\":\"white\",\"startlinecolor\":\"#2a3f5f\"},\"type\":\"carpet\"}],\"table\":[{\"cells\":{\"fill\":{\"color\":\"#EBF0F8\"},\"line\":{\"color\":\"white\"}},\"header\":{\"fill\":{\"color\":\"#C8D4E3\"},\"line\":{\"color\":\"white\"}},\"type\":\"table\"}],\"barpolar\":[{\"marker\":{\"line\":{\"color\":\"#E5ECF6\",\"width\":0.5},\"pattern\":{\"fillmode\":\"overlay\",\"size\":10,\"solidity\":0.2}},\"type\":\"barpolar\"}],\"pie\":[{\"automargin\":true,\"type\":\"pie\"}]},\"layout\":{\"autotypenumbers\":\"strict\",\"colorway\":[\"#636efa\",\"#EF553B\",\"#00cc96\",\"#ab63fa\",\"#FFA15A\",\"#19d3f3\",\"#FF6692\",\"#B6E880\",\"#FF97FF\",\"#FECB52\"],\"font\":{\"color\":\"#2a3f5f\"},\"hovermode\":\"closest\",\"hoverlabel\":{\"align\":\"left\"},\"paper_bgcolor\":\"white\",\"plot_bgcolor\":\"#E5ECF6\",\"polar\":{\"bgcolor\":\"#E5ECF6\",\"angularaxis\":{\"gridcolor\":\"white\",\"linecolor\":\"white\",\"ticks\":\"\"},\"radialaxis\":{\"gridcolor\":\"white\",\"linecolor\":\"white\",\"ticks\":\"\"}},\"ternary\":{\"bgcolor\":\"#E5ECF6\",\"aaxis\":{\"gridcolor\":\"white\",\"linecolor\":\"white\",\"ticks\":\"\"},\"baxis\":{\"gridcolor\":\"white\",\"linecolor\":\"white\",\"ticks\":\"\"},\"caxis\":{\"gridcolor\":\"white\",\"linecolor\":\"white\",\"ticks\":\"\"}},\"coloraxis\":{\"colorbar\":{\"outlinewidth\":0,\"ticks\":\"\"}},\"colorscale\":{\"sequential\":[[0.0,\"#0d0887\"],[0.1111111111111111,\"#46039f\"],[0.2222222222222222,\"#7201a8\"],[0.3333333333333333,\"#9c179e\"],[0.4444444444444444,\"#bd3786\"],[0.5555555555555556,\"#d8576b\"],[0.6666666666666666,\"#ed7953\"],[0.7777777777777778,\"#fb9f3a\"],[0.8888888888888888,\"#fdca26\"],[1.0,\"#f0f921\"]],\"sequentialminus\":[[0.0,\"#0d0887\"],[0.1111111111111111,\"#46039f\"],[0.2222222222222222,\"#7201a8\"],[0.3333333333333333,\"#9c179e\"],[0.4444444444444444,\"#bd3786\"],[0.5555555555555556,\"#d8576b\"],[0.6666666666666666,\"#ed7953\"],[0.7777777777777778,\"#fb9f3a\"],[0.8888888888888888,\"#fdca26\"],[1.0,\"#f0f921\"]],\"diverging\":[[0,\"#8e0152\"],[0.1,\"#c51b7d\"],[0.2,\"#de77ae\"],[0.3,\"#f1b6da\"],[0.4,\"#fde0ef\"],[0.5,\"#f7f7f7\"],[0.6,\"#e6f5d0\"],[0.7,\"#b8e186\"],[0.8,\"#7fbc41\"],[0.9,\"#4d9221\"],[1,\"#276419\"]]},\"xaxis\":{\"gridcolor\":\"white\",\"linecolor\":\"white\",\"ticks\":\"\",\"title\":{\"standoff\":15},\"zerolinecolor\":\"white\",\"automargin\":true,\"zerolinewidth\":2},\"yaxis\":{\"gridcolor\":\"white\",\"linecolor\":\"white\",\"ticks\":\"\",\"title\":{\"standoff\":15},\"zerolinecolor\":\"white\",\"automargin\":true,\"zerolinewidth\":2},\"scene\":{\"xaxis\":{\"backgroundcolor\":\"#E5ECF6\",\"gridcolor\":\"white\",\"linecolor\":\"white\",\"showbackground\":true,\"ticks\":\"\",\"zerolinecolor\":\"white\",\"gridwidth\":2},\"yaxis\":{\"backgroundcolor\":\"#E5ECF6\",\"gridcolor\":\"white\",\"linecolor\":\"white\",\"showbackground\":true,\"ticks\":\"\",\"zerolinecolor\":\"white\",\"gridwidth\":2},\"zaxis\":{\"backgroundcolor\":\"#E5ECF6\",\"gridcolor\":\"white\",\"linecolor\":\"white\",\"showbackground\":true,\"ticks\":\"\",\"zerolinecolor\":\"white\",\"gridwidth\":2}},\"shapedefaults\":{\"line\":{\"color\":\"#2a3f5f\"}},\"annotationdefaults\":{\"arrowcolor\":\"#2a3f5f\",\"arrowhead\":0,\"arrowwidth\":1},\"geo\":{\"bgcolor\":\"white\",\"landcolor\":\"#E5ECF6\",\"subunitcolor\":\"white\",\"showland\":true,\"showlakes\":true,\"lakecolor\":\"white\"},\"title\":{\"x\":0.05},\"mapbox\":{\"style\":\"light\"}}},\"xaxis\":{\"anchor\":\"y\",\"domain\":[0.0,1.0],\"title\":{\"text\":\"Data da assembleia\"}},\"yaxis\":{\"anchor\":\"x\",\"domain\":[0.0,1.0],\"title\":{\"text\":\"Numero de Cotas\"}},\"legend\":{\"title\":{\"text\":\"bin_modalidade\"},\"tracegroupgap\":0},\"title\":{\"text\":\"V\\u00e1lidas e Canceladas por data de assembleia\"},\"barmode\":\"relative\"},                        {\"responsive\": true}                    ).then(function(){\n",
       "                            \n",
       "var gd = document.getElementById('7408b4b2-6e06-4fa0-a782-080e2075bbe7');\n",
       "var x = new MutationObserver(function (mutations, observer) {{\n",
       "        var display = window.getComputedStyle(gd).display;\n",
       "        if (!display || display === 'none') {{\n",
       "            console.log([gd, 'removed!']);\n",
       "            Plotly.purge(gd);\n",
       "            observer.disconnect();\n",
       "        }}\n",
       "}});\n",
       "\n",
       "// Listen for the removal of the full notebook cells\n",
       "var notebookContainer = gd.closest('#notebook-container');\n",
       "if (notebookContainer) {{\n",
       "    x.observe(notebookContainer, {childList: true});\n",
       "}}\n",
       "\n",
       "// Listen for the clearing of the current output cell\n",
       "var outputEl = gd.closest('.output');\n",
       "if (outputEl) {{\n",
       "    x.observe(outputEl, {childList: true});\n",
       "}}\n",
       "\n",
       "                        })                };                });            </script>        </div>"
      ]
     },
     "metadata": {},
     "output_type": "display_data"
    }
   ],
   "source": [
    "# uma seq. contemplacao por cota\n",
    "df_chart = df[['data_assembleia', 'modalidade', 'str_cota']]\n",
    "df_chart[\"bin_modalidade\"] = df_chart[\"modalidade\"].apply(lambda x: \"Cancelada\" if x == \"Sort. Canceladas\" else \"Valida\")\n",
    "df_chart = (\n",
    "    df_chart\n",
    "    .groupby([\"data_assembleia\", \"bin_modalidade\"])\n",
    "    .count()\n",
    "    .reset_index()\n",
    "    .sort_values(\"str_cota\", ascending=False)\n",
    ")\n",
    "fig = px.bar(\n",
    "    df_chart,\n",
    "    x=\"data_assembleia\",\n",
    "    y=\"str_cota\",\n",
    "    color=\"bin_modalidade\",\n",
    "    labels={\"data_assembleia\": \"Data da assembleia\", \"str_cota\": \"Numero de Cotas\"},\n",
    "    title=f\"Válidas e Canceladas por data de assembleia\",\n",
    ")\n",
    "fig.show()"
   ]
  },
  {
   "cell_type": "markdown",
   "metadata": {},
   "source": [
    "> **Entender**: Não existe uma linha decrescente nas opções de contemplação como seria esperado de um consórcio"
   ]
  },
  {
   "cell_type": "markdown",
   "metadata": {},
   "source": [
    "## Contemplações"
   ]
  },
  {
   "cell_type": "code",
   "execution_count": 91,
   "metadata": {},
   "outputs": [
    {
     "data": {
      "application/vnd.plotly.v1+json": {
       "config": {
        "plotlyServerURL": "https://plot.ly"
       },
       "data": [
        {
         "alignmentgroup": "True",
         "hovertemplate": "modalidade=Lance Livre<br>Data da assembleia=%{x}<br>Quantidade de cotas=%{y}<extra></extra>",
         "legendgroup": "Lance Livre",
         "marker": {
          "color": "#636efa",
          "pattern": {
           "shape": ""
          }
         },
         "name": "Lance Livre",
         "offsetgroup": "Lance Livre",
         "orientation": "v",
         "showlegend": true,
         "textposition": "auto",
         "type": "bar",
         "x": [
          "2020-10-15T00:00:00",
          "2020-12-14T00:00:00",
          "2021-01-14T00:00:00",
          "2021-02-12T00:00:00",
          "2021-03-12T00:00:00",
          "2021-04-14T00:00:00",
          "2021-09-14T00:00:00",
          "2021-11-12T00:00:00",
          "2022-01-13T00:00:00",
          "2022-02-15T00:00:00",
          "2022-03-15T00:00:00",
          "2022-05-12T00:00:00",
          "2022-06-15T00:00:00",
          "2022-07-14T00:00:00",
          "2022-08-12T00:00:00",
          "2022-09-15T00:00:00",
          "2022-10-13T00:00:00",
          "2022-11-14T00:00:00",
          "2023-01-12T00:00:00",
          "2023-07-13T00:00:00",
          "2023-09-14T00:00:00",
          "2023-11-14T00:00:00",
          "2023-12-14T00:00:00",
          "2024-02-15T00:00:00",
          "2024-03-14T00:00:00",
          "2024-04-12T00:00:00",
          "2024-05-14T00:00:00",
          "2024-06-12T00:00:00",
          "2024-07-12T00:00:00",
          "2024-08-14T00:00:00"
         ],
         "xaxis": "x",
         "y": [
          1,
          2,
          2,
          1,
          1,
          1,
          1,
          1,
          1,
          1,
          1,
          1,
          1,
          2,
          1,
          5,
          1,
          2,
          2,
          1,
          1,
          1,
          1,
          1,
          1,
          1,
          1,
          1,
          1,
          1
         ],
         "yaxis": "y"
        },
        {
         "alignmentgroup": "True",
         "hovertemplate": "modalidade=Sorteio Ativas<br>Data da assembleia=%{x}<br>Quantidade de cotas=%{y}<extra></extra>",
         "legendgroup": "Sorteio Ativas",
         "marker": {
          "color": "#EF553B",
          "pattern": {
           "shape": ""
          }
         },
         "name": "Sorteio Ativas",
         "offsetgroup": "Sorteio Ativas",
         "orientation": "v",
         "showlegend": true,
         "textposition": "auto",
         "type": "bar",
         "x": [
          "2020-10-15T00:00:00",
          "2020-11-12T00:00:00",
          "2020-12-14T00:00:00",
          "2021-01-14T00:00:00",
          "2021-02-12T00:00:00",
          "2021-03-12T00:00:00",
          "2021-04-14T00:00:00",
          "2021-05-13T00:00:00",
          "2021-06-14T00:00:00",
          "2021-07-15T00:00:00",
          "2021-08-12T00:00:00",
          "2021-09-14T00:00:00",
          "2021-10-15T00:00:00",
          "2021-11-12T00:00:00",
          "2021-12-14T00:00:00",
          "2022-01-13T00:00:00",
          "2022-02-15T00:00:00",
          "2022-03-15T00:00:00",
          "2022-04-14T00:00:00",
          "2022-05-12T00:00:00",
          "2022-06-15T00:00:00",
          "2022-08-12T00:00:00",
          "2022-09-15T00:00:00",
          "2022-10-13T00:00:00",
          "2022-11-14T00:00:00",
          "2022-12-15T00:00:00",
          "2023-01-12T00:00:00",
          "2023-02-14T00:00:00",
          "2023-03-14T00:00:00",
          "2023-04-13T00:00:00",
          "2023-05-12T00:00:00",
          "2023-06-15T00:00:00",
          "2023-08-15T00:00:00",
          "2023-09-14T00:00:00",
          "2023-10-17T00:00:00",
          "2023-11-14T00:00:00",
          "2023-12-14T00:00:00",
          "2024-01-12T00:00:00",
          "2024-02-15T00:00:00",
          "2024-03-14T00:00:00",
          "2024-04-12T00:00:00",
          "2024-05-14T00:00:00",
          "2024-06-12T00:00:00",
          "2024-07-12T00:00:00",
          "2024-08-14T00:00:00"
         ],
         "xaxis": "x",
         "y": [
          1,
          1,
          1,
          1,
          1,
          1,
          1,
          1,
          1,
          1,
          1,
          1,
          1,
          1,
          1,
          1,
          1,
          1,
          1,
          1,
          2,
          1,
          1,
          1,
          1,
          1,
          1,
          1,
          1,
          1,
          1,
          1,
          1,
          1,
          1,
          1,
          1,
          1,
          1,
          1,
          1,
          1,
          1,
          1,
          1
         ],
         "yaxis": "y"
        },
        {
         "alignmentgroup": "True",
         "hovertemplate": "modalidade=Lance Fixo<br>Data da assembleia=%{x}<br>Quantidade de cotas=%{y}<extra></extra>",
         "legendgroup": "Lance Fixo",
         "marker": {
          "color": "#00cc96",
          "pattern": {
           "shape": ""
          }
         },
         "name": "Lance Fixo",
         "offsetgroup": "Lance Fixo",
         "orientation": "v",
         "showlegend": true,
         "textposition": "auto",
         "type": "bar",
         "x": [
          "2020-12-14T00:00:00",
          "2021-01-14T00:00:00",
          "2021-04-14T00:00:00",
          "2021-11-12T00:00:00",
          "2022-01-13T00:00:00",
          "2022-02-15T00:00:00",
          "2022-03-15T00:00:00",
          "2022-05-12T00:00:00",
          "2022-06-15T00:00:00",
          "2022-07-14T00:00:00",
          "2022-08-12T00:00:00",
          "2022-09-15T00:00:00",
          "2022-11-14T00:00:00",
          "2022-12-15T00:00:00",
          "2023-01-12T00:00:00",
          "2023-08-15T00:00:00",
          "2023-09-14T00:00:00",
          "2023-12-14T00:00:00",
          "2024-02-15T00:00:00",
          "2024-05-14T00:00:00",
          "2024-07-12T00:00:00",
          "2024-08-14T00:00:00"
         ],
         "xaxis": "x",
         "y": [
          1,
          1,
          1,
          1,
          1,
          1,
          2,
          1,
          1,
          1,
          1,
          1,
          1,
          1,
          1,
          1,
          1,
          1,
          1,
          1,
          1,
          1
         ],
         "yaxis": "y"
        },
        {
         "alignmentgroup": "True",
         "hovertemplate": "modalidade=Sort. Canceladas<br>Data da assembleia=%{x}<br>Quantidade de cotas=%{y}<extra></extra>",
         "legendgroup": "Sort. Canceladas",
         "marker": {
          "color": "#ab63fa",
          "pattern": {
           "shape": ""
          }
         },
         "name": "Sort. Canceladas",
         "offsetgroup": "Sort. Canceladas",
         "orientation": "v",
         "showlegend": true,
         "textposition": "auto",
         "type": "bar",
         "x": [
          "2021-01-14T00:00:00",
          "2021-02-12T00:00:00",
          "2021-04-14T00:00:00",
          "2021-07-15T00:00:00",
          "2021-10-15T00:00:00",
          "2022-02-15T00:00:00",
          "2022-03-15T00:00:00",
          "2022-05-12T00:00:00",
          "2022-06-15T00:00:00",
          "2022-07-14T00:00:00",
          "2022-08-12T00:00:00",
          "2022-09-15T00:00:00",
          "2022-11-14T00:00:00",
          "2022-12-15T00:00:00",
          "2023-03-14T00:00:00",
          "2023-08-15T00:00:00",
          "2023-10-17T00:00:00",
          "2023-11-14T00:00:00",
          "2023-12-14T00:00:00",
          "2024-01-12T00:00:00",
          "2024-02-15T00:00:00",
          "2024-03-14T00:00:00",
          "2024-04-12T00:00:00",
          "2024-06-12T00:00:00",
          "2024-07-12T00:00:00",
          "2024-08-14T00:00:00"
         ],
         "xaxis": "x",
         "y": [
          1,
          1,
          1,
          1,
          1,
          1,
          1,
          1,
          1,
          4,
          2,
          19,
          2,
          1,
          2,
          1,
          3,
          8,
          2,
          3,
          4,
          10,
          1,
          1,
          1,
          2
         ],
         "yaxis": "y"
        }
       ],
       "layout": {
        "barmode": "relative",
        "legend": {
         "title": {
          "text": "modalidade"
         },
         "tracegroupgap": 0
        },
        "template": {
         "data": {
          "bar": [
           {
            "error_x": {
             "color": "#2a3f5f"
            },
            "error_y": {
             "color": "#2a3f5f"
            },
            "marker": {
             "line": {
              "color": "#E5ECF6",
              "width": 0.5
             },
             "pattern": {
              "fillmode": "overlay",
              "size": 10,
              "solidity": 0.2
             }
            },
            "type": "bar"
           }
          ],
          "barpolar": [
           {
            "marker": {
             "line": {
              "color": "#E5ECF6",
              "width": 0.5
             },
             "pattern": {
              "fillmode": "overlay",
              "size": 10,
              "solidity": 0.2
             }
            },
            "type": "barpolar"
           }
          ],
          "carpet": [
           {
            "aaxis": {
             "endlinecolor": "#2a3f5f",
             "gridcolor": "white",
             "linecolor": "white",
             "minorgridcolor": "white",
             "startlinecolor": "#2a3f5f"
            },
            "baxis": {
             "endlinecolor": "#2a3f5f",
             "gridcolor": "white",
             "linecolor": "white",
             "minorgridcolor": "white",
             "startlinecolor": "#2a3f5f"
            },
            "type": "carpet"
           }
          ],
          "choropleth": [
           {
            "colorbar": {
             "outlinewidth": 0,
             "ticks": ""
            },
            "type": "choropleth"
           }
          ],
          "contour": [
           {
            "colorbar": {
             "outlinewidth": 0,
             "ticks": ""
            },
            "colorscale": [
             [
              0,
              "#0d0887"
             ],
             [
              0.1111111111111111,
              "#46039f"
             ],
             [
              0.2222222222222222,
              "#7201a8"
             ],
             [
              0.3333333333333333,
              "#9c179e"
             ],
             [
              0.4444444444444444,
              "#bd3786"
             ],
             [
              0.5555555555555556,
              "#d8576b"
             ],
             [
              0.6666666666666666,
              "#ed7953"
             ],
             [
              0.7777777777777778,
              "#fb9f3a"
             ],
             [
              0.8888888888888888,
              "#fdca26"
             ],
             [
              1,
              "#f0f921"
             ]
            ],
            "type": "contour"
           }
          ],
          "contourcarpet": [
           {
            "colorbar": {
             "outlinewidth": 0,
             "ticks": ""
            },
            "type": "contourcarpet"
           }
          ],
          "heatmap": [
           {
            "colorbar": {
             "outlinewidth": 0,
             "ticks": ""
            },
            "colorscale": [
             [
              0,
              "#0d0887"
             ],
             [
              0.1111111111111111,
              "#46039f"
             ],
             [
              0.2222222222222222,
              "#7201a8"
             ],
             [
              0.3333333333333333,
              "#9c179e"
             ],
             [
              0.4444444444444444,
              "#bd3786"
             ],
             [
              0.5555555555555556,
              "#d8576b"
             ],
             [
              0.6666666666666666,
              "#ed7953"
             ],
             [
              0.7777777777777778,
              "#fb9f3a"
             ],
             [
              0.8888888888888888,
              "#fdca26"
             ],
             [
              1,
              "#f0f921"
             ]
            ],
            "type": "heatmap"
           }
          ],
          "heatmapgl": [
           {
            "colorbar": {
             "outlinewidth": 0,
             "ticks": ""
            },
            "colorscale": [
             [
              0,
              "#0d0887"
             ],
             [
              0.1111111111111111,
              "#46039f"
             ],
             [
              0.2222222222222222,
              "#7201a8"
             ],
             [
              0.3333333333333333,
              "#9c179e"
             ],
             [
              0.4444444444444444,
              "#bd3786"
             ],
             [
              0.5555555555555556,
              "#d8576b"
             ],
             [
              0.6666666666666666,
              "#ed7953"
             ],
             [
              0.7777777777777778,
              "#fb9f3a"
             ],
             [
              0.8888888888888888,
              "#fdca26"
             ],
             [
              1,
              "#f0f921"
             ]
            ],
            "type": "heatmapgl"
           }
          ],
          "histogram": [
           {
            "marker": {
             "pattern": {
              "fillmode": "overlay",
              "size": 10,
              "solidity": 0.2
             }
            },
            "type": "histogram"
           }
          ],
          "histogram2d": [
           {
            "colorbar": {
             "outlinewidth": 0,
             "ticks": ""
            },
            "colorscale": [
             [
              0,
              "#0d0887"
             ],
             [
              0.1111111111111111,
              "#46039f"
             ],
             [
              0.2222222222222222,
              "#7201a8"
             ],
             [
              0.3333333333333333,
              "#9c179e"
             ],
             [
              0.4444444444444444,
              "#bd3786"
             ],
             [
              0.5555555555555556,
              "#d8576b"
             ],
             [
              0.6666666666666666,
              "#ed7953"
             ],
             [
              0.7777777777777778,
              "#fb9f3a"
             ],
             [
              0.8888888888888888,
              "#fdca26"
             ],
             [
              1,
              "#f0f921"
             ]
            ],
            "type": "histogram2d"
           }
          ],
          "histogram2dcontour": [
           {
            "colorbar": {
             "outlinewidth": 0,
             "ticks": ""
            },
            "colorscale": [
             [
              0,
              "#0d0887"
             ],
             [
              0.1111111111111111,
              "#46039f"
             ],
             [
              0.2222222222222222,
              "#7201a8"
             ],
             [
              0.3333333333333333,
              "#9c179e"
             ],
             [
              0.4444444444444444,
              "#bd3786"
             ],
             [
              0.5555555555555556,
              "#d8576b"
             ],
             [
              0.6666666666666666,
              "#ed7953"
             ],
             [
              0.7777777777777778,
              "#fb9f3a"
             ],
             [
              0.8888888888888888,
              "#fdca26"
             ],
             [
              1,
              "#f0f921"
             ]
            ],
            "type": "histogram2dcontour"
           }
          ],
          "mesh3d": [
           {
            "colorbar": {
             "outlinewidth": 0,
             "ticks": ""
            },
            "type": "mesh3d"
           }
          ],
          "parcoords": [
           {
            "line": {
             "colorbar": {
              "outlinewidth": 0,
              "ticks": ""
             }
            },
            "type": "parcoords"
           }
          ],
          "pie": [
           {
            "automargin": true,
            "type": "pie"
           }
          ],
          "scatter": [
           {
            "fillpattern": {
             "fillmode": "overlay",
             "size": 10,
             "solidity": 0.2
            },
            "type": "scatter"
           }
          ],
          "scatter3d": [
           {
            "line": {
             "colorbar": {
              "outlinewidth": 0,
              "ticks": ""
             }
            },
            "marker": {
             "colorbar": {
              "outlinewidth": 0,
              "ticks": ""
             }
            },
            "type": "scatter3d"
           }
          ],
          "scattercarpet": [
           {
            "marker": {
             "colorbar": {
              "outlinewidth": 0,
              "ticks": ""
             }
            },
            "type": "scattercarpet"
           }
          ],
          "scattergeo": [
           {
            "marker": {
             "colorbar": {
              "outlinewidth": 0,
              "ticks": ""
             }
            },
            "type": "scattergeo"
           }
          ],
          "scattergl": [
           {
            "marker": {
             "colorbar": {
              "outlinewidth": 0,
              "ticks": ""
             }
            },
            "type": "scattergl"
           }
          ],
          "scattermapbox": [
           {
            "marker": {
             "colorbar": {
              "outlinewidth": 0,
              "ticks": ""
             }
            },
            "type": "scattermapbox"
           }
          ],
          "scatterpolar": [
           {
            "marker": {
             "colorbar": {
              "outlinewidth": 0,
              "ticks": ""
             }
            },
            "type": "scatterpolar"
           }
          ],
          "scatterpolargl": [
           {
            "marker": {
             "colorbar": {
              "outlinewidth": 0,
              "ticks": ""
             }
            },
            "type": "scatterpolargl"
           }
          ],
          "scatterternary": [
           {
            "marker": {
             "colorbar": {
              "outlinewidth": 0,
              "ticks": ""
             }
            },
            "type": "scatterternary"
           }
          ],
          "surface": [
           {
            "colorbar": {
             "outlinewidth": 0,
             "ticks": ""
            },
            "colorscale": [
             [
              0,
              "#0d0887"
             ],
             [
              0.1111111111111111,
              "#46039f"
             ],
             [
              0.2222222222222222,
              "#7201a8"
             ],
             [
              0.3333333333333333,
              "#9c179e"
             ],
             [
              0.4444444444444444,
              "#bd3786"
             ],
             [
              0.5555555555555556,
              "#d8576b"
             ],
             [
              0.6666666666666666,
              "#ed7953"
             ],
             [
              0.7777777777777778,
              "#fb9f3a"
             ],
             [
              0.8888888888888888,
              "#fdca26"
             ],
             [
              1,
              "#f0f921"
             ]
            ],
            "type": "surface"
           }
          ],
          "table": [
           {
            "cells": {
             "fill": {
              "color": "#EBF0F8"
             },
             "line": {
              "color": "white"
             }
            },
            "header": {
             "fill": {
              "color": "#C8D4E3"
             },
             "line": {
              "color": "white"
             }
            },
            "type": "table"
           }
          ]
         },
         "layout": {
          "annotationdefaults": {
           "arrowcolor": "#2a3f5f",
           "arrowhead": 0,
           "arrowwidth": 1
          },
          "autotypenumbers": "strict",
          "coloraxis": {
           "colorbar": {
            "outlinewidth": 0,
            "ticks": ""
           }
          },
          "colorscale": {
           "diverging": [
            [
             0,
             "#8e0152"
            ],
            [
             0.1,
             "#c51b7d"
            ],
            [
             0.2,
             "#de77ae"
            ],
            [
             0.3,
             "#f1b6da"
            ],
            [
             0.4,
             "#fde0ef"
            ],
            [
             0.5,
             "#f7f7f7"
            ],
            [
             0.6,
             "#e6f5d0"
            ],
            [
             0.7,
             "#b8e186"
            ],
            [
             0.8,
             "#7fbc41"
            ],
            [
             0.9,
             "#4d9221"
            ],
            [
             1,
             "#276419"
            ]
           ],
           "sequential": [
            [
             0,
             "#0d0887"
            ],
            [
             0.1111111111111111,
             "#46039f"
            ],
            [
             0.2222222222222222,
             "#7201a8"
            ],
            [
             0.3333333333333333,
             "#9c179e"
            ],
            [
             0.4444444444444444,
             "#bd3786"
            ],
            [
             0.5555555555555556,
             "#d8576b"
            ],
            [
             0.6666666666666666,
             "#ed7953"
            ],
            [
             0.7777777777777778,
             "#fb9f3a"
            ],
            [
             0.8888888888888888,
             "#fdca26"
            ],
            [
             1,
             "#f0f921"
            ]
           ],
           "sequentialminus": [
            [
             0,
             "#0d0887"
            ],
            [
             0.1111111111111111,
             "#46039f"
            ],
            [
             0.2222222222222222,
             "#7201a8"
            ],
            [
             0.3333333333333333,
             "#9c179e"
            ],
            [
             0.4444444444444444,
             "#bd3786"
            ],
            [
             0.5555555555555556,
             "#d8576b"
            ],
            [
             0.6666666666666666,
             "#ed7953"
            ],
            [
             0.7777777777777778,
             "#fb9f3a"
            ],
            [
             0.8888888888888888,
             "#fdca26"
            ],
            [
             1,
             "#f0f921"
            ]
           ]
          },
          "colorway": [
           "#636efa",
           "#EF553B",
           "#00cc96",
           "#ab63fa",
           "#FFA15A",
           "#19d3f3",
           "#FF6692",
           "#B6E880",
           "#FF97FF",
           "#FECB52"
          ],
          "font": {
           "color": "#2a3f5f"
          },
          "geo": {
           "bgcolor": "white",
           "lakecolor": "white",
           "landcolor": "#E5ECF6",
           "showlakes": true,
           "showland": true,
           "subunitcolor": "white"
          },
          "hoverlabel": {
           "align": "left"
          },
          "hovermode": "closest",
          "mapbox": {
           "style": "light"
          },
          "paper_bgcolor": "white",
          "plot_bgcolor": "#E5ECF6",
          "polar": {
           "angularaxis": {
            "gridcolor": "white",
            "linecolor": "white",
            "ticks": ""
           },
           "bgcolor": "#E5ECF6",
           "radialaxis": {
            "gridcolor": "white",
            "linecolor": "white",
            "ticks": ""
           }
          },
          "scene": {
           "xaxis": {
            "backgroundcolor": "#E5ECF6",
            "gridcolor": "white",
            "gridwidth": 2,
            "linecolor": "white",
            "showbackground": true,
            "ticks": "",
            "zerolinecolor": "white"
           },
           "yaxis": {
            "backgroundcolor": "#E5ECF6",
            "gridcolor": "white",
            "gridwidth": 2,
            "linecolor": "white",
            "showbackground": true,
            "ticks": "",
            "zerolinecolor": "white"
           },
           "zaxis": {
            "backgroundcolor": "#E5ECF6",
            "gridcolor": "white",
            "gridwidth": 2,
            "linecolor": "white",
            "showbackground": true,
            "ticks": "",
            "zerolinecolor": "white"
           }
          },
          "shapedefaults": {
           "line": {
            "color": "#2a3f5f"
           }
          },
          "ternary": {
           "aaxis": {
            "gridcolor": "white",
            "linecolor": "white",
            "ticks": ""
           },
           "baxis": {
            "gridcolor": "white",
            "linecolor": "white",
            "ticks": ""
           },
           "bgcolor": "#E5ECF6",
           "caxis": {
            "gridcolor": "white",
            "linecolor": "white",
            "ticks": ""
           }
          },
          "title": {
           "x": 0.05
          },
          "xaxis": {
           "automargin": true,
           "gridcolor": "white",
           "linecolor": "white",
           "ticks": "",
           "title": {
            "standoff": 15
           },
           "zerolinecolor": "white",
           "zerolinewidth": 2
          },
          "yaxis": {
           "automargin": true,
           "gridcolor": "white",
           "linecolor": "white",
           "ticks": "",
           "title": {
            "standoff": 15
           },
           "zerolinecolor": "white",
           "zerolinewidth": 2
          }
         }
        },
        "title": {
         "text": "Contemplados por data de assembleia"
        },
        "xaxis": {
         "anchor": "y",
         "domain": [
          0,
          1
         ],
         "title": {
          "text": "Data da assembleia"
         }
        },
        "yaxis": {
         "anchor": "x",
         "domain": [
          0,
          1
         ],
         "title": {
          "text": "Quantidade de cotas"
         }
        }
       }
      },
      "text/html": [
       "<div>                            <div id=\"5705d30c-7808-47ce-8210-1398495c4989\" class=\"plotly-graph-div\" style=\"height:525px; width:100%;\"></div>            <script type=\"text/javascript\">                require([\"plotly\"], function(Plotly) {                    window.PLOTLYENV=window.PLOTLYENV || {};                                    if (document.getElementById(\"5705d30c-7808-47ce-8210-1398495c4989\")) {                    Plotly.newPlot(                        \"5705d30c-7808-47ce-8210-1398495c4989\",                        [{\"alignmentgroup\":\"True\",\"hovertemplate\":\"modalidade=Lance Livre\\u003cbr\\u003eData da assembleia=%{x}\\u003cbr\\u003eQuantidade de cotas=%{y}\\u003cextra\\u003e\\u003c\\u002fextra\\u003e\",\"legendgroup\":\"Lance Livre\",\"marker\":{\"color\":\"#636efa\",\"pattern\":{\"shape\":\"\"}},\"name\":\"Lance Livre\",\"offsetgroup\":\"Lance Livre\",\"orientation\":\"v\",\"showlegend\":true,\"textposition\":\"auto\",\"x\":[\"2020-10-15T00:00:00\",\"2020-12-14T00:00:00\",\"2021-01-14T00:00:00\",\"2021-02-12T00:00:00\",\"2021-03-12T00:00:00\",\"2021-04-14T00:00:00\",\"2021-09-14T00:00:00\",\"2021-11-12T00:00:00\",\"2022-01-13T00:00:00\",\"2022-02-15T00:00:00\",\"2022-03-15T00:00:00\",\"2022-05-12T00:00:00\",\"2022-06-15T00:00:00\",\"2022-07-14T00:00:00\",\"2022-08-12T00:00:00\",\"2022-09-15T00:00:00\",\"2022-10-13T00:00:00\",\"2022-11-14T00:00:00\",\"2023-01-12T00:00:00\",\"2023-07-13T00:00:00\",\"2023-09-14T00:00:00\",\"2023-11-14T00:00:00\",\"2023-12-14T00:00:00\",\"2024-02-15T00:00:00\",\"2024-03-14T00:00:00\",\"2024-04-12T00:00:00\",\"2024-05-14T00:00:00\",\"2024-06-12T00:00:00\",\"2024-07-12T00:00:00\",\"2024-08-14T00:00:00\"],\"xaxis\":\"x\",\"y\":[1,2,2,1,1,1,1,1,1,1,1,1,1,2,1,5,1,2,2,1,1,1,1,1,1,1,1,1,1,1],\"yaxis\":\"y\",\"type\":\"bar\"},{\"alignmentgroup\":\"True\",\"hovertemplate\":\"modalidade=Sorteio Ativas\\u003cbr\\u003eData da assembleia=%{x}\\u003cbr\\u003eQuantidade de cotas=%{y}\\u003cextra\\u003e\\u003c\\u002fextra\\u003e\",\"legendgroup\":\"Sorteio Ativas\",\"marker\":{\"color\":\"#EF553B\",\"pattern\":{\"shape\":\"\"}},\"name\":\"Sorteio Ativas\",\"offsetgroup\":\"Sorteio Ativas\",\"orientation\":\"v\",\"showlegend\":true,\"textposition\":\"auto\",\"x\":[\"2020-10-15T00:00:00\",\"2020-11-12T00:00:00\",\"2020-12-14T00:00:00\",\"2021-01-14T00:00:00\",\"2021-02-12T00:00:00\",\"2021-03-12T00:00:00\",\"2021-04-14T00:00:00\",\"2021-05-13T00:00:00\",\"2021-06-14T00:00:00\",\"2021-07-15T00:00:00\",\"2021-08-12T00:00:00\",\"2021-09-14T00:00:00\",\"2021-10-15T00:00:00\",\"2021-11-12T00:00:00\",\"2021-12-14T00:00:00\",\"2022-01-13T00:00:00\",\"2022-02-15T00:00:00\",\"2022-03-15T00:00:00\",\"2022-04-14T00:00:00\",\"2022-05-12T00:00:00\",\"2022-06-15T00:00:00\",\"2022-08-12T00:00:00\",\"2022-09-15T00:00:00\",\"2022-10-13T00:00:00\",\"2022-11-14T00:00:00\",\"2022-12-15T00:00:00\",\"2023-01-12T00:00:00\",\"2023-02-14T00:00:00\",\"2023-03-14T00:00:00\",\"2023-04-13T00:00:00\",\"2023-05-12T00:00:00\",\"2023-06-15T00:00:00\",\"2023-08-15T00:00:00\",\"2023-09-14T00:00:00\",\"2023-10-17T00:00:00\",\"2023-11-14T00:00:00\",\"2023-12-14T00:00:00\",\"2024-01-12T00:00:00\",\"2024-02-15T00:00:00\",\"2024-03-14T00:00:00\",\"2024-04-12T00:00:00\",\"2024-05-14T00:00:00\",\"2024-06-12T00:00:00\",\"2024-07-12T00:00:00\",\"2024-08-14T00:00:00\"],\"xaxis\":\"x\",\"y\":[1,1,1,1,1,1,1,1,1,1,1,1,1,1,1,1,1,1,1,1,2,1,1,1,1,1,1,1,1,1,1,1,1,1,1,1,1,1,1,1,1,1,1,1,1],\"yaxis\":\"y\",\"type\":\"bar\"},{\"alignmentgroup\":\"True\",\"hovertemplate\":\"modalidade=Lance Fixo\\u003cbr\\u003eData da assembleia=%{x}\\u003cbr\\u003eQuantidade de cotas=%{y}\\u003cextra\\u003e\\u003c\\u002fextra\\u003e\",\"legendgroup\":\"Lance Fixo\",\"marker\":{\"color\":\"#00cc96\",\"pattern\":{\"shape\":\"\"}},\"name\":\"Lance Fixo\",\"offsetgroup\":\"Lance Fixo\",\"orientation\":\"v\",\"showlegend\":true,\"textposition\":\"auto\",\"x\":[\"2020-12-14T00:00:00\",\"2021-01-14T00:00:00\",\"2021-04-14T00:00:00\",\"2021-11-12T00:00:00\",\"2022-01-13T00:00:00\",\"2022-02-15T00:00:00\",\"2022-03-15T00:00:00\",\"2022-05-12T00:00:00\",\"2022-06-15T00:00:00\",\"2022-07-14T00:00:00\",\"2022-08-12T00:00:00\",\"2022-09-15T00:00:00\",\"2022-11-14T00:00:00\",\"2022-12-15T00:00:00\",\"2023-01-12T00:00:00\",\"2023-08-15T00:00:00\",\"2023-09-14T00:00:00\",\"2023-12-14T00:00:00\",\"2024-02-15T00:00:00\",\"2024-05-14T00:00:00\",\"2024-07-12T00:00:00\",\"2024-08-14T00:00:00\"],\"xaxis\":\"x\",\"y\":[1,1,1,1,1,1,2,1,1,1,1,1,1,1,1,1,1,1,1,1,1,1],\"yaxis\":\"y\",\"type\":\"bar\"},{\"alignmentgroup\":\"True\",\"hovertemplate\":\"modalidade=Sort. Canceladas\\u003cbr\\u003eData da assembleia=%{x}\\u003cbr\\u003eQuantidade de cotas=%{y}\\u003cextra\\u003e\\u003c\\u002fextra\\u003e\",\"legendgroup\":\"Sort. Canceladas\",\"marker\":{\"color\":\"#ab63fa\",\"pattern\":{\"shape\":\"\"}},\"name\":\"Sort. Canceladas\",\"offsetgroup\":\"Sort. Canceladas\",\"orientation\":\"v\",\"showlegend\":true,\"textposition\":\"auto\",\"x\":[\"2021-01-14T00:00:00\",\"2021-02-12T00:00:00\",\"2021-04-14T00:00:00\",\"2021-07-15T00:00:00\",\"2021-10-15T00:00:00\",\"2022-02-15T00:00:00\",\"2022-03-15T00:00:00\",\"2022-05-12T00:00:00\",\"2022-06-15T00:00:00\",\"2022-07-14T00:00:00\",\"2022-08-12T00:00:00\",\"2022-09-15T00:00:00\",\"2022-11-14T00:00:00\",\"2022-12-15T00:00:00\",\"2023-03-14T00:00:00\",\"2023-08-15T00:00:00\",\"2023-10-17T00:00:00\",\"2023-11-14T00:00:00\",\"2023-12-14T00:00:00\",\"2024-01-12T00:00:00\",\"2024-02-15T00:00:00\",\"2024-03-14T00:00:00\",\"2024-04-12T00:00:00\",\"2024-06-12T00:00:00\",\"2024-07-12T00:00:00\",\"2024-08-14T00:00:00\"],\"xaxis\":\"x\",\"y\":[1,1,1,1,1,1,1,1,1,4,2,19,2,1,2,1,3,8,2,3,4,10,1,1,1,2],\"yaxis\":\"y\",\"type\":\"bar\"}],                        {\"template\":{\"data\":{\"histogram2dcontour\":[{\"type\":\"histogram2dcontour\",\"colorbar\":{\"outlinewidth\":0,\"ticks\":\"\"},\"colorscale\":[[0.0,\"#0d0887\"],[0.1111111111111111,\"#46039f\"],[0.2222222222222222,\"#7201a8\"],[0.3333333333333333,\"#9c179e\"],[0.4444444444444444,\"#bd3786\"],[0.5555555555555556,\"#d8576b\"],[0.6666666666666666,\"#ed7953\"],[0.7777777777777778,\"#fb9f3a\"],[0.8888888888888888,\"#fdca26\"],[1.0,\"#f0f921\"]]}],\"choropleth\":[{\"type\":\"choropleth\",\"colorbar\":{\"outlinewidth\":0,\"ticks\":\"\"}}],\"histogram2d\":[{\"type\":\"histogram2d\",\"colorbar\":{\"outlinewidth\":0,\"ticks\":\"\"},\"colorscale\":[[0.0,\"#0d0887\"],[0.1111111111111111,\"#46039f\"],[0.2222222222222222,\"#7201a8\"],[0.3333333333333333,\"#9c179e\"],[0.4444444444444444,\"#bd3786\"],[0.5555555555555556,\"#d8576b\"],[0.6666666666666666,\"#ed7953\"],[0.7777777777777778,\"#fb9f3a\"],[0.8888888888888888,\"#fdca26\"],[1.0,\"#f0f921\"]]}],\"heatmap\":[{\"type\":\"heatmap\",\"colorbar\":{\"outlinewidth\":0,\"ticks\":\"\"},\"colorscale\":[[0.0,\"#0d0887\"],[0.1111111111111111,\"#46039f\"],[0.2222222222222222,\"#7201a8\"],[0.3333333333333333,\"#9c179e\"],[0.4444444444444444,\"#bd3786\"],[0.5555555555555556,\"#d8576b\"],[0.6666666666666666,\"#ed7953\"],[0.7777777777777778,\"#fb9f3a\"],[0.8888888888888888,\"#fdca26\"],[1.0,\"#f0f921\"]]}],\"heatmapgl\":[{\"type\":\"heatmapgl\",\"colorbar\":{\"outlinewidth\":0,\"ticks\":\"\"},\"colorscale\":[[0.0,\"#0d0887\"],[0.1111111111111111,\"#46039f\"],[0.2222222222222222,\"#7201a8\"],[0.3333333333333333,\"#9c179e\"],[0.4444444444444444,\"#bd3786\"],[0.5555555555555556,\"#d8576b\"],[0.6666666666666666,\"#ed7953\"],[0.7777777777777778,\"#fb9f3a\"],[0.8888888888888888,\"#fdca26\"],[1.0,\"#f0f921\"]]}],\"contourcarpet\":[{\"type\":\"contourcarpet\",\"colorbar\":{\"outlinewidth\":0,\"ticks\":\"\"}}],\"contour\":[{\"type\":\"contour\",\"colorbar\":{\"outlinewidth\":0,\"ticks\":\"\"},\"colorscale\":[[0.0,\"#0d0887\"],[0.1111111111111111,\"#46039f\"],[0.2222222222222222,\"#7201a8\"],[0.3333333333333333,\"#9c179e\"],[0.4444444444444444,\"#bd3786\"],[0.5555555555555556,\"#d8576b\"],[0.6666666666666666,\"#ed7953\"],[0.7777777777777778,\"#fb9f3a\"],[0.8888888888888888,\"#fdca26\"],[1.0,\"#f0f921\"]]}],\"surface\":[{\"type\":\"surface\",\"colorbar\":{\"outlinewidth\":0,\"ticks\":\"\"},\"colorscale\":[[0.0,\"#0d0887\"],[0.1111111111111111,\"#46039f\"],[0.2222222222222222,\"#7201a8\"],[0.3333333333333333,\"#9c179e\"],[0.4444444444444444,\"#bd3786\"],[0.5555555555555556,\"#d8576b\"],[0.6666666666666666,\"#ed7953\"],[0.7777777777777778,\"#fb9f3a\"],[0.8888888888888888,\"#fdca26\"],[1.0,\"#f0f921\"]]}],\"mesh3d\":[{\"type\":\"mesh3d\",\"colorbar\":{\"outlinewidth\":0,\"ticks\":\"\"}}],\"scatter\":[{\"fillpattern\":{\"fillmode\":\"overlay\",\"size\":10,\"solidity\":0.2},\"type\":\"scatter\"}],\"parcoords\":[{\"type\":\"parcoords\",\"line\":{\"colorbar\":{\"outlinewidth\":0,\"ticks\":\"\"}}}],\"scatterpolargl\":[{\"type\":\"scatterpolargl\",\"marker\":{\"colorbar\":{\"outlinewidth\":0,\"ticks\":\"\"}}}],\"bar\":[{\"error_x\":{\"color\":\"#2a3f5f\"},\"error_y\":{\"color\":\"#2a3f5f\"},\"marker\":{\"line\":{\"color\":\"#E5ECF6\",\"width\":0.5},\"pattern\":{\"fillmode\":\"overlay\",\"size\":10,\"solidity\":0.2}},\"type\":\"bar\"}],\"scattergeo\":[{\"type\":\"scattergeo\",\"marker\":{\"colorbar\":{\"outlinewidth\":0,\"ticks\":\"\"}}}],\"scatterpolar\":[{\"type\":\"scatterpolar\",\"marker\":{\"colorbar\":{\"outlinewidth\":0,\"ticks\":\"\"}}}],\"histogram\":[{\"marker\":{\"pattern\":{\"fillmode\":\"overlay\",\"size\":10,\"solidity\":0.2}},\"type\":\"histogram\"}],\"scattergl\":[{\"type\":\"scattergl\",\"marker\":{\"colorbar\":{\"outlinewidth\":0,\"ticks\":\"\"}}}],\"scatter3d\":[{\"type\":\"scatter3d\",\"line\":{\"colorbar\":{\"outlinewidth\":0,\"ticks\":\"\"}},\"marker\":{\"colorbar\":{\"outlinewidth\":0,\"ticks\":\"\"}}}],\"scattermapbox\":[{\"type\":\"scattermapbox\",\"marker\":{\"colorbar\":{\"outlinewidth\":0,\"ticks\":\"\"}}}],\"scatterternary\":[{\"type\":\"scatterternary\",\"marker\":{\"colorbar\":{\"outlinewidth\":0,\"ticks\":\"\"}}}],\"scattercarpet\":[{\"type\":\"scattercarpet\",\"marker\":{\"colorbar\":{\"outlinewidth\":0,\"ticks\":\"\"}}}],\"carpet\":[{\"aaxis\":{\"endlinecolor\":\"#2a3f5f\",\"gridcolor\":\"white\",\"linecolor\":\"white\",\"minorgridcolor\":\"white\",\"startlinecolor\":\"#2a3f5f\"},\"baxis\":{\"endlinecolor\":\"#2a3f5f\",\"gridcolor\":\"white\",\"linecolor\":\"white\",\"minorgridcolor\":\"white\",\"startlinecolor\":\"#2a3f5f\"},\"type\":\"carpet\"}],\"table\":[{\"cells\":{\"fill\":{\"color\":\"#EBF0F8\"},\"line\":{\"color\":\"white\"}},\"header\":{\"fill\":{\"color\":\"#C8D4E3\"},\"line\":{\"color\":\"white\"}},\"type\":\"table\"}],\"barpolar\":[{\"marker\":{\"line\":{\"color\":\"#E5ECF6\",\"width\":0.5},\"pattern\":{\"fillmode\":\"overlay\",\"size\":10,\"solidity\":0.2}},\"type\":\"barpolar\"}],\"pie\":[{\"automargin\":true,\"type\":\"pie\"}]},\"layout\":{\"autotypenumbers\":\"strict\",\"colorway\":[\"#636efa\",\"#EF553B\",\"#00cc96\",\"#ab63fa\",\"#FFA15A\",\"#19d3f3\",\"#FF6692\",\"#B6E880\",\"#FF97FF\",\"#FECB52\"],\"font\":{\"color\":\"#2a3f5f\"},\"hovermode\":\"closest\",\"hoverlabel\":{\"align\":\"left\"},\"paper_bgcolor\":\"white\",\"plot_bgcolor\":\"#E5ECF6\",\"polar\":{\"bgcolor\":\"#E5ECF6\",\"angularaxis\":{\"gridcolor\":\"white\",\"linecolor\":\"white\",\"ticks\":\"\"},\"radialaxis\":{\"gridcolor\":\"white\",\"linecolor\":\"white\",\"ticks\":\"\"}},\"ternary\":{\"bgcolor\":\"#E5ECF6\",\"aaxis\":{\"gridcolor\":\"white\",\"linecolor\":\"white\",\"ticks\":\"\"},\"baxis\":{\"gridcolor\":\"white\",\"linecolor\":\"white\",\"ticks\":\"\"},\"caxis\":{\"gridcolor\":\"white\",\"linecolor\":\"white\",\"ticks\":\"\"}},\"coloraxis\":{\"colorbar\":{\"outlinewidth\":0,\"ticks\":\"\"}},\"colorscale\":{\"sequential\":[[0.0,\"#0d0887\"],[0.1111111111111111,\"#46039f\"],[0.2222222222222222,\"#7201a8\"],[0.3333333333333333,\"#9c179e\"],[0.4444444444444444,\"#bd3786\"],[0.5555555555555556,\"#d8576b\"],[0.6666666666666666,\"#ed7953\"],[0.7777777777777778,\"#fb9f3a\"],[0.8888888888888888,\"#fdca26\"],[1.0,\"#f0f921\"]],\"sequentialminus\":[[0.0,\"#0d0887\"],[0.1111111111111111,\"#46039f\"],[0.2222222222222222,\"#7201a8\"],[0.3333333333333333,\"#9c179e\"],[0.4444444444444444,\"#bd3786\"],[0.5555555555555556,\"#d8576b\"],[0.6666666666666666,\"#ed7953\"],[0.7777777777777778,\"#fb9f3a\"],[0.8888888888888888,\"#fdca26\"],[1.0,\"#f0f921\"]],\"diverging\":[[0,\"#8e0152\"],[0.1,\"#c51b7d\"],[0.2,\"#de77ae\"],[0.3,\"#f1b6da\"],[0.4,\"#fde0ef\"],[0.5,\"#f7f7f7\"],[0.6,\"#e6f5d0\"],[0.7,\"#b8e186\"],[0.8,\"#7fbc41\"],[0.9,\"#4d9221\"],[1,\"#276419\"]]},\"xaxis\":{\"gridcolor\":\"white\",\"linecolor\":\"white\",\"ticks\":\"\",\"title\":{\"standoff\":15},\"zerolinecolor\":\"white\",\"automargin\":true,\"zerolinewidth\":2},\"yaxis\":{\"gridcolor\":\"white\",\"linecolor\":\"white\",\"ticks\":\"\",\"title\":{\"standoff\":15},\"zerolinecolor\":\"white\",\"automargin\":true,\"zerolinewidth\":2},\"scene\":{\"xaxis\":{\"backgroundcolor\":\"#E5ECF6\",\"gridcolor\":\"white\",\"linecolor\":\"white\",\"showbackground\":true,\"ticks\":\"\",\"zerolinecolor\":\"white\",\"gridwidth\":2},\"yaxis\":{\"backgroundcolor\":\"#E5ECF6\",\"gridcolor\":\"white\",\"linecolor\":\"white\",\"showbackground\":true,\"ticks\":\"\",\"zerolinecolor\":\"white\",\"gridwidth\":2},\"zaxis\":{\"backgroundcolor\":\"#E5ECF6\",\"gridcolor\":\"white\",\"linecolor\":\"white\",\"showbackground\":true,\"ticks\":\"\",\"zerolinecolor\":\"white\",\"gridwidth\":2}},\"shapedefaults\":{\"line\":{\"color\":\"#2a3f5f\"}},\"annotationdefaults\":{\"arrowcolor\":\"#2a3f5f\",\"arrowhead\":0,\"arrowwidth\":1},\"geo\":{\"bgcolor\":\"white\",\"landcolor\":\"#E5ECF6\",\"subunitcolor\":\"white\",\"showland\":true,\"showlakes\":true,\"lakecolor\":\"white\"},\"title\":{\"x\":0.05},\"mapbox\":{\"style\":\"light\"}}},\"xaxis\":{\"anchor\":\"y\",\"domain\":[0.0,1.0],\"title\":{\"text\":\"Data da assembleia\"}},\"yaxis\":{\"anchor\":\"x\",\"domain\":[0.0,1.0],\"title\":{\"text\":\"Quantidade de cotas\"}},\"legend\":{\"title\":{\"text\":\"modalidade\"},\"tracegroupgap\":0},\"title\":{\"text\":\"Contemplados por data de assembleia\"},\"barmode\":\"relative\"},                        {\"responsive\": true}                    ).then(function(){\n",
       "                            \n",
       "var gd = document.getElementById('5705d30c-7808-47ce-8210-1398495c4989');\n",
       "var x = new MutationObserver(function (mutations, observer) {{\n",
       "        var display = window.getComputedStyle(gd).display;\n",
       "        if (!display || display === 'none') {{\n",
       "            console.log([gd, 'removed!']);\n",
       "            Plotly.purge(gd);\n",
       "            observer.disconnect();\n",
       "        }}\n",
       "}});\n",
       "\n",
       "// Listen for the removal of the full notebook cells\n",
       "var notebookContainer = gd.closest('#notebook-container');\n",
       "if (notebookContainer) {{\n",
       "    x.observe(notebookContainer, {childList: true});\n",
       "}}\n",
       "\n",
       "// Listen for the clearing of the current output cell\n",
       "var outputEl = gd.closest('.output');\n",
       "if (outputEl) {{\n",
       "    x.observe(outputEl, {childList: true});\n",
       "}}\n",
       "\n",
       "                        })                };                });            </script>        </div>"
      ]
     },
     "metadata": {},
     "output_type": "display_data"
    }
   ],
   "source": [
    "fig = px.bar(\n",
    "    df[[\"data_assembleia\", \"modalidade\", \"str_cota\"]]\n",
    "    .where(df[\"contemplado\"] == 1)\n",
    "    .groupby([\"data_assembleia\", \"modalidade\"])\n",
    "    .count()\n",
    "    .reset_index(),\n",
    "    x=\"data_assembleia\",\n",
    "    y=\"str_cota\",\n",
    "    color=\"modalidade\",\n",
    "    title=f\"Contemplados por data de assembleia\",\n",
    "    labels={\"str_cota\": \"Quantidade de cotas\", \"data_assembleia\": \"Data da assembleia\"},\n",
    ")\n",
    "fig.show()"
   ]
  },
  {
   "cell_type": "markdown",
   "metadata": {},
   "source": [
    "### Total de Contemplados"
   ]
  },
  {
   "cell_type": "code",
   "execution_count": 92,
   "metadata": {},
   "outputs": [
    {
     "data": {
      "text/html": [
       "<div>\n",
       "<style scoped>\n",
       "    .dataframe tbody tr th:only-of-type {\n",
       "        vertical-align: middle;\n",
       "    }\n",
       "\n",
       "    .dataframe tbody tr th {\n",
       "        vertical-align: top;\n",
       "    }\n",
       "\n",
       "    .dataframe thead th {\n",
       "        text-align: right;\n",
       "    }\n",
       "</style>\n",
       "<table border=\"1\" class=\"dataframe\">\n",
       "  <thead>\n",
       "    <tr style=\"text-align: right;\">\n",
       "      <th></th>\n",
       "      <th>2020-10-15T00:00:00</th>\n",
       "      <th>2020-11-12T00:00:00</th>\n",
       "      <th>2020-12-14T00:00:00</th>\n",
       "      <th>2021-01-14T00:00:00</th>\n",
       "      <th>2021-02-12T00:00:00</th>\n",
       "      <th>2021-03-12T00:00:00</th>\n",
       "      <th>2021-04-14T00:00:00</th>\n",
       "      <th>2021-05-13T00:00:00</th>\n",
       "      <th>2021-06-14T00:00:00</th>\n",
       "      <th>2021-07-15T00:00:00</th>\n",
       "      <th>...</th>\n",
       "      <th>2023-11-14T00:00:00</th>\n",
       "      <th>2023-12-14T00:00:00</th>\n",
       "      <th>2024-01-12T00:00:00</th>\n",
       "      <th>2024-02-15T00:00:00</th>\n",
       "      <th>2024-03-14T00:00:00</th>\n",
       "      <th>2024-04-12T00:00:00</th>\n",
       "      <th>2024-05-14T00:00:00</th>\n",
       "      <th>2024-06-12T00:00:00</th>\n",
       "      <th>2024-07-12T00:00:00</th>\n",
       "      <th>2024-08-14T00:00:00</th>\n",
       "    </tr>\n",
       "  </thead>\n",
       "  <tbody>\n",
       "    <tr>\n",
       "      <th>Sorteio Ativas</th>\n",
       "      <td>1</td>\n",
       "      <td>1</td>\n",
       "      <td>1</td>\n",
       "      <td>1</td>\n",
       "      <td>1</td>\n",
       "      <td>1</td>\n",
       "      <td>1</td>\n",
       "      <td>1</td>\n",
       "      <td>1</td>\n",
       "      <td>1</td>\n",
       "      <td>...</td>\n",
       "      <td>1</td>\n",
       "      <td>1</td>\n",
       "      <td>1</td>\n",
       "      <td>1</td>\n",
       "      <td>1</td>\n",
       "      <td>1</td>\n",
       "      <td>1</td>\n",
       "      <td>1</td>\n",
       "      <td>1</td>\n",
       "      <td>1</td>\n",
       "    </tr>\n",
       "    <tr>\n",
       "      <th>Lance Fixo</th>\n",
       "      <td>0</td>\n",
       "      <td>0</td>\n",
       "      <td>1</td>\n",
       "      <td>1</td>\n",
       "      <td>0</td>\n",
       "      <td>0</td>\n",
       "      <td>1</td>\n",
       "      <td>0</td>\n",
       "      <td>0</td>\n",
       "      <td>0</td>\n",
       "      <td>...</td>\n",
       "      <td>0</td>\n",
       "      <td>1</td>\n",
       "      <td>0</td>\n",
       "      <td>1</td>\n",
       "      <td>0</td>\n",
       "      <td>0</td>\n",
       "      <td>1</td>\n",
       "      <td>0</td>\n",
       "      <td>1</td>\n",
       "      <td>1</td>\n",
       "    </tr>\n",
       "    <tr>\n",
       "      <th>Sort. Canceladas</th>\n",
       "      <td>0</td>\n",
       "      <td>0</td>\n",
       "      <td>0</td>\n",
       "      <td>1</td>\n",
       "      <td>1</td>\n",
       "      <td>0</td>\n",
       "      <td>1</td>\n",
       "      <td>0</td>\n",
       "      <td>0</td>\n",
       "      <td>1</td>\n",
       "      <td>...</td>\n",
       "      <td>8</td>\n",
       "      <td>2</td>\n",
       "      <td>3</td>\n",
       "      <td>4</td>\n",
       "      <td>10</td>\n",
       "      <td>1</td>\n",
       "      <td>0</td>\n",
       "      <td>1</td>\n",
       "      <td>1</td>\n",
       "      <td>2</td>\n",
       "    </tr>\n",
       "    <tr>\n",
       "      <th>Lance Livre</th>\n",
       "      <td>1</td>\n",
       "      <td>0</td>\n",
       "      <td>2</td>\n",
       "      <td>2</td>\n",
       "      <td>1</td>\n",
       "      <td>1</td>\n",
       "      <td>1</td>\n",
       "      <td>0</td>\n",
       "      <td>0</td>\n",
       "      <td>0</td>\n",
       "      <td>...</td>\n",
       "      <td>1</td>\n",
       "      <td>1</td>\n",
       "      <td>0</td>\n",
       "      <td>1</td>\n",
       "      <td>1</td>\n",
       "      <td>1</td>\n",
       "      <td>1</td>\n",
       "      <td>1</td>\n",
       "      <td>1</td>\n",
       "      <td>1</td>\n",
       "    </tr>\n",
       "  </tbody>\n",
       "</table>\n",
       "<p>4 rows × 47 columns</p>\n",
       "</div>"
      ],
      "text/plain": [
       "                  2020-10-15T00:00:00  2020-11-12T00:00:00  \\\n",
       "Sorteio Ativas                      1                    1   \n",
       "Lance Fixo                          0                    0   \n",
       "Sort. Canceladas                    0                    0   \n",
       "Lance Livre                         1                    0   \n",
       "\n",
       "                  2020-12-14T00:00:00  2021-01-14T00:00:00  \\\n",
       "Sorteio Ativas                      1                    1   \n",
       "Lance Fixo                          1                    1   \n",
       "Sort. Canceladas                    0                    1   \n",
       "Lance Livre                         2                    2   \n",
       "\n",
       "                  2021-02-12T00:00:00  2021-03-12T00:00:00  \\\n",
       "Sorteio Ativas                      1                    1   \n",
       "Lance Fixo                          0                    0   \n",
       "Sort. Canceladas                    1                    0   \n",
       "Lance Livre                         1                    1   \n",
       "\n",
       "                  2021-04-14T00:00:00  2021-05-13T00:00:00  \\\n",
       "Sorteio Ativas                      1                    1   \n",
       "Lance Fixo                          1                    0   \n",
       "Sort. Canceladas                    1                    0   \n",
       "Lance Livre                         1                    0   \n",
       "\n",
       "                  2021-06-14T00:00:00  2021-07-15T00:00:00  ...  \\\n",
       "Sorteio Ativas                      1                    1  ...   \n",
       "Lance Fixo                          0                    0  ...   \n",
       "Sort. Canceladas                    0                    1  ...   \n",
       "Lance Livre                         0                    0  ...   \n",
       "\n",
       "                  2023-11-14T00:00:00  2023-12-14T00:00:00  \\\n",
       "Sorteio Ativas                      1                    1   \n",
       "Lance Fixo                          0                    1   \n",
       "Sort. Canceladas                    8                    2   \n",
       "Lance Livre                         1                    1   \n",
       "\n",
       "                  2024-01-12T00:00:00  2024-02-15T00:00:00  \\\n",
       "Sorteio Ativas                      1                    1   \n",
       "Lance Fixo                          0                    1   \n",
       "Sort. Canceladas                    3                    4   \n",
       "Lance Livre                         0                    1   \n",
       "\n",
       "                  2024-03-14T00:00:00  2024-04-12T00:00:00  \\\n",
       "Sorteio Ativas                      1                    1   \n",
       "Lance Fixo                          0                    0   \n",
       "Sort. Canceladas                   10                    1   \n",
       "Lance Livre                         1                    1   \n",
       "\n",
       "                  2024-05-14T00:00:00  2024-06-12T00:00:00  \\\n",
       "Sorteio Ativas                      1                    1   \n",
       "Lance Fixo                          1                    0   \n",
       "Sort. Canceladas                    0                    1   \n",
       "Lance Livre                         1                    1   \n",
       "\n",
       "                  2024-07-12T00:00:00  2024-08-14T00:00:00  \n",
       "Sorteio Ativas                      1                    1  \n",
       "Lance Fixo                          1                    1  \n",
       "Sort. Canceladas                    1                    2  \n",
       "Lance Livre                         1                    1  \n",
       "\n",
       "[4 rows x 47 columns]"
      ]
     },
     "execution_count": 92,
     "metadata": {},
     "output_type": "execute_result"
    }
   ],
   "source": [
    "total_contemplados = {}\n",
    "\n",
    "\n",
    "def cumsum_modalidade(x):\n",
    "    data_assembleia = x[\"data_assembleia\"]\n",
    "    modalidade = x[\"modalidade\"]\n",
    "    contemplados = x[\"contemplado\"]\n",
    "    total_data_assembleia = total_contemplados.get(data_assembleia) or {}\n",
    "    total_modalidade = total_data_assembleia.get(modalidade) or 0\n",
    "    total_modalidade += contemplados\n",
    "    total_data_assembleia[modalidade] = total_modalidade\n",
    "    total_contemplados[data_assembleia] = total_data_assembleia\n",
    "\n",
    "\n",
    "df.apply(cumsum_modalidade, axis=1)\n",
    "df_total_comtemplados= pd.DataFrame(total_contemplados)\n",
    "df_total_comtemplados"
   ]
  },
  {
   "cell_type": "code",
   "execution_count": 93,
   "metadata": {},
   "outputs": [
    {
     "data": {
      "application/vnd.plotly.v1+json": {
       "config": {
        "plotlyServerURL": "https://plot.ly"
       },
       "data": [
        {
         "alignmentgroup": "True",
         "hovertemplate": "modalidade=Lance Livre<br>Data da assembleia=%{x}<br>Quantidade de cotas=%{y}<extra></extra>",
         "legendgroup": "Lance Livre",
         "marker": {
          "color": "#636efa",
          "pattern": {
           "shape": ""
          }
         },
         "name": "Lance Livre",
         "offsetgroup": "Lance Livre",
         "orientation": "v",
         "showlegend": true,
         "textposition": "auto",
         "type": "bar",
         "x": [
          "2020-10-15T00:00:00",
          "2020-12-14T00:00:00",
          "2021-01-14T00:00:00",
          "2021-02-12T00:00:00",
          "2021-03-12T00:00:00",
          "2021-04-14T00:00:00",
          "2021-09-14T00:00:00",
          "2021-11-12T00:00:00",
          "2022-01-13T00:00:00",
          "2022-02-15T00:00:00",
          "2022-03-15T00:00:00",
          "2022-05-12T00:00:00",
          "2022-06-15T00:00:00",
          "2022-07-14T00:00:00",
          "2022-08-12T00:00:00",
          "2022-09-15T00:00:00",
          "2022-10-13T00:00:00",
          "2022-11-14T00:00:00",
          "2023-01-12T00:00:00",
          "2023-07-13T00:00:00",
          "2023-09-14T00:00:00",
          "2023-11-14T00:00:00",
          "2023-12-14T00:00:00",
          "2024-02-15T00:00:00",
          "2024-03-14T00:00:00",
          "2024-04-12T00:00:00",
          "2024-05-14T00:00:00",
          "2024-06-12T00:00:00",
          "2024-07-12T00:00:00",
          "2024-08-14T00:00:00"
         ],
         "xaxis": "x",
         "y": [
          1,
          2,
          2,
          1,
          1,
          1,
          1,
          1,
          1,
          1,
          1,
          1,
          1,
          2,
          1,
          5,
          1,
          2,
          2,
          1,
          1,
          1,
          1,
          1,
          1,
          1,
          1,
          1,
          1,
          1
         ],
         "yaxis": "y"
        },
        {
         "alignmentgroup": "True",
         "hovertemplate": "modalidade=Sorteio Ativas<br>Data da assembleia=%{x}<br>Quantidade de cotas=%{y}<extra></extra>",
         "legendgroup": "Sorteio Ativas",
         "marker": {
          "color": "#EF553B",
          "pattern": {
           "shape": ""
          }
         },
         "name": "Sorteio Ativas",
         "offsetgroup": "Sorteio Ativas",
         "orientation": "v",
         "showlegend": true,
         "textposition": "auto",
         "type": "bar",
         "x": [
          "2020-10-15T00:00:00",
          "2020-11-12T00:00:00",
          "2020-12-14T00:00:00",
          "2021-01-14T00:00:00",
          "2021-02-12T00:00:00",
          "2021-03-12T00:00:00",
          "2021-04-14T00:00:00",
          "2021-05-13T00:00:00",
          "2021-06-14T00:00:00",
          "2021-07-15T00:00:00",
          "2021-08-12T00:00:00",
          "2021-09-14T00:00:00",
          "2021-10-15T00:00:00",
          "2021-11-12T00:00:00",
          "2021-12-14T00:00:00",
          "2022-01-13T00:00:00",
          "2022-02-15T00:00:00",
          "2022-03-15T00:00:00",
          "2022-04-14T00:00:00",
          "2022-05-12T00:00:00",
          "2022-06-15T00:00:00",
          "2022-08-12T00:00:00",
          "2022-09-15T00:00:00",
          "2022-10-13T00:00:00",
          "2022-11-14T00:00:00",
          "2022-12-15T00:00:00",
          "2023-01-12T00:00:00",
          "2023-02-14T00:00:00",
          "2023-03-14T00:00:00",
          "2023-04-13T00:00:00",
          "2023-05-12T00:00:00",
          "2023-06-15T00:00:00",
          "2023-08-15T00:00:00",
          "2023-09-14T00:00:00",
          "2023-10-17T00:00:00",
          "2023-11-14T00:00:00",
          "2023-12-14T00:00:00",
          "2024-01-12T00:00:00",
          "2024-02-15T00:00:00",
          "2024-03-14T00:00:00",
          "2024-04-12T00:00:00",
          "2024-05-14T00:00:00",
          "2024-06-12T00:00:00",
          "2024-07-12T00:00:00",
          "2024-08-14T00:00:00"
         ],
         "xaxis": "x",
         "y": [
          1,
          1,
          1,
          1,
          1,
          1,
          1,
          1,
          1,
          1,
          1,
          1,
          1,
          1,
          1,
          1,
          1,
          1,
          1,
          1,
          2,
          1,
          1,
          1,
          1,
          1,
          1,
          1,
          1,
          1,
          1,
          1,
          1,
          1,
          1,
          1,
          1,
          1,
          1,
          1,
          1,
          1,
          1,
          1,
          1
         ],
         "yaxis": "y"
        },
        {
         "alignmentgroup": "True",
         "hovertemplate": "modalidade=Lance Fixo<br>Data da assembleia=%{x}<br>Quantidade de cotas=%{y}<extra></extra>",
         "legendgroup": "Lance Fixo",
         "marker": {
          "color": "#00cc96",
          "pattern": {
           "shape": ""
          }
         },
         "name": "Lance Fixo",
         "offsetgroup": "Lance Fixo",
         "orientation": "v",
         "showlegend": true,
         "textposition": "auto",
         "type": "bar",
         "x": [
          "2020-12-14T00:00:00",
          "2021-01-14T00:00:00",
          "2021-04-14T00:00:00",
          "2021-11-12T00:00:00",
          "2022-01-13T00:00:00",
          "2022-02-15T00:00:00",
          "2022-03-15T00:00:00",
          "2022-05-12T00:00:00",
          "2022-06-15T00:00:00",
          "2022-07-14T00:00:00",
          "2022-08-12T00:00:00",
          "2022-09-15T00:00:00",
          "2022-11-14T00:00:00",
          "2022-12-15T00:00:00",
          "2023-01-12T00:00:00",
          "2023-08-15T00:00:00",
          "2023-09-14T00:00:00",
          "2023-12-14T00:00:00",
          "2024-02-15T00:00:00",
          "2024-05-14T00:00:00",
          "2024-07-12T00:00:00",
          "2024-08-14T00:00:00"
         ],
         "xaxis": "x",
         "y": [
          1,
          1,
          1,
          1,
          1,
          1,
          2,
          1,
          1,
          1,
          1,
          1,
          1,
          1,
          1,
          1,
          1,
          1,
          1,
          1,
          1,
          1
         ],
         "yaxis": "y"
        },
        {
         "alignmentgroup": "True",
         "hovertemplate": "modalidade=Sort. Canceladas<br>Data da assembleia=%{x}<br>Quantidade de cotas=%{y}<extra></extra>",
         "legendgroup": "Sort. Canceladas",
         "marker": {
          "color": "#ab63fa",
          "pattern": {
           "shape": ""
          }
         },
         "name": "Sort. Canceladas",
         "offsetgroup": "Sort. Canceladas",
         "orientation": "v",
         "showlegend": true,
         "textposition": "auto",
         "type": "bar",
         "x": [
          "2021-01-14T00:00:00",
          "2021-02-12T00:00:00",
          "2021-04-14T00:00:00",
          "2021-07-15T00:00:00",
          "2021-10-15T00:00:00",
          "2022-02-15T00:00:00",
          "2022-03-15T00:00:00",
          "2022-05-12T00:00:00",
          "2022-06-15T00:00:00",
          "2022-07-14T00:00:00",
          "2022-08-12T00:00:00",
          "2022-09-15T00:00:00",
          "2022-11-14T00:00:00",
          "2022-12-15T00:00:00",
          "2023-03-14T00:00:00",
          "2023-08-15T00:00:00",
          "2023-10-17T00:00:00",
          "2023-11-14T00:00:00",
          "2023-12-14T00:00:00",
          "2024-01-12T00:00:00",
          "2024-02-15T00:00:00",
          "2024-03-14T00:00:00",
          "2024-04-12T00:00:00",
          "2024-06-12T00:00:00",
          "2024-07-12T00:00:00",
          "2024-08-14T00:00:00"
         ],
         "xaxis": "x",
         "y": [
          1,
          1,
          1,
          1,
          1,
          1,
          1,
          1,
          1,
          4,
          2,
          19,
          2,
          1,
          2,
          1,
          3,
          8,
          2,
          3,
          4,
          10,
          1,
          1,
          1,
          2
         ],
         "yaxis": "y"
        }
       ],
       "layout": {
        "barmode": "relative",
        "legend": {
         "title": {
          "text": "modalidade"
         },
         "tracegroupgap": 0
        },
        "template": {
         "data": {
          "bar": [
           {
            "error_x": {
             "color": "#2a3f5f"
            },
            "error_y": {
             "color": "#2a3f5f"
            },
            "marker": {
             "line": {
              "color": "#E5ECF6",
              "width": 0.5
             },
             "pattern": {
              "fillmode": "overlay",
              "size": 10,
              "solidity": 0.2
             }
            },
            "type": "bar"
           }
          ],
          "barpolar": [
           {
            "marker": {
             "line": {
              "color": "#E5ECF6",
              "width": 0.5
             },
             "pattern": {
              "fillmode": "overlay",
              "size": 10,
              "solidity": 0.2
             }
            },
            "type": "barpolar"
           }
          ],
          "carpet": [
           {
            "aaxis": {
             "endlinecolor": "#2a3f5f",
             "gridcolor": "white",
             "linecolor": "white",
             "minorgridcolor": "white",
             "startlinecolor": "#2a3f5f"
            },
            "baxis": {
             "endlinecolor": "#2a3f5f",
             "gridcolor": "white",
             "linecolor": "white",
             "minorgridcolor": "white",
             "startlinecolor": "#2a3f5f"
            },
            "type": "carpet"
           }
          ],
          "choropleth": [
           {
            "colorbar": {
             "outlinewidth": 0,
             "ticks": ""
            },
            "type": "choropleth"
           }
          ],
          "contour": [
           {
            "colorbar": {
             "outlinewidth": 0,
             "ticks": ""
            },
            "colorscale": [
             [
              0,
              "#0d0887"
             ],
             [
              0.1111111111111111,
              "#46039f"
             ],
             [
              0.2222222222222222,
              "#7201a8"
             ],
             [
              0.3333333333333333,
              "#9c179e"
             ],
             [
              0.4444444444444444,
              "#bd3786"
             ],
             [
              0.5555555555555556,
              "#d8576b"
             ],
             [
              0.6666666666666666,
              "#ed7953"
             ],
             [
              0.7777777777777778,
              "#fb9f3a"
             ],
             [
              0.8888888888888888,
              "#fdca26"
             ],
             [
              1,
              "#f0f921"
             ]
            ],
            "type": "contour"
           }
          ],
          "contourcarpet": [
           {
            "colorbar": {
             "outlinewidth": 0,
             "ticks": ""
            },
            "type": "contourcarpet"
           }
          ],
          "heatmap": [
           {
            "colorbar": {
             "outlinewidth": 0,
             "ticks": ""
            },
            "colorscale": [
             [
              0,
              "#0d0887"
             ],
             [
              0.1111111111111111,
              "#46039f"
             ],
             [
              0.2222222222222222,
              "#7201a8"
             ],
             [
              0.3333333333333333,
              "#9c179e"
             ],
             [
              0.4444444444444444,
              "#bd3786"
             ],
             [
              0.5555555555555556,
              "#d8576b"
             ],
             [
              0.6666666666666666,
              "#ed7953"
             ],
             [
              0.7777777777777778,
              "#fb9f3a"
             ],
             [
              0.8888888888888888,
              "#fdca26"
             ],
             [
              1,
              "#f0f921"
             ]
            ],
            "type": "heatmap"
           }
          ],
          "heatmapgl": [
           {
            "colorbar": {
             "outlinewidth": 0,
             "ticks": ""
            },
            "colorscale": [
             [
              0,
              "#0d0887"
             ],
             [
              0.1111111111111111,
              "#46039f"
             ],
             [
              0.2222222222222222,
              "#7201a8"
             ],
             [
              0.3333333333333333,
              "#9c179e"
             ],
             [
              0.4444444444444444,
              "#bd3786"
             ],
             [
              0.5555555555555556,
              "#d8576b"
             ],
             [
              0.6666666666666666,
              "#ed7953"
             ],
             [
              0.7777777777777778,
              "#fb9f3a"
             ],
             [
              0.8888888888888888,
              "#fdca26"
             ],
             [
              1,
              "#f0f921"
             ]
            ],
            "type": "heatmapgl"
           }
          ],
          "histogram": [
           {
            "marker": {
             "pattern": {
              "fillmode": "overlay",
              "size": 10,
              "solidity": 0.2
             }
            },
            "type": "histogram"
           }
          ],
          "histogram2d": [
           {
            "colorbar": {
             "outlinewidth": 0,
             "ticks": ""
            },
            "colorscale": [
             [
              0,
              "#0d0887"
             ],
             [
              0.1111111111111111,
              "#46039f"
             ],
             [
              0.2222222222222222,
              "#7201a8"
             ],
             [
              0.3333333333333333,
              "#9c179e"
             ],
             [
              0.4444444444444444,
              "#bd3786"
             ],
             [
              0.5555555555555556,
              "#d8576b"
             ],
             [
              0.6666666666666666,
              "#ed7953"
             ],
             [
              0.7777777777777778,
              "#fb9f3a"
             ],
             [
              0.8888888888888888,
              "#fdca26"
             ],
             [
              1,
              "#f0f921"
             ]
            ],
            "type": "histogram2d"
           }
          ],
          "histogram2dcontour": [
           {
            "colorbar": {
             "outlinewidth": 0,
             "ticks": ""
            },
            "colorscale": [
             [
              0,
              "#0d0887"
             ],
             [
              0.1111111111111111,
              "#46039f"
             ],
             [
              0.2222222222222222,
              "#7201a8"
             ],
             [
              0.3333333333333333,
              "#9c179e"
             ],
             [
              0.4444444444444444,
              "#bd3786"
             ],
             [
              0.5555555555555556,
              "#d8576b"
             ],
             [
              0.6666666666666666,
              "#ed7953"
             ],
             [
              0.7777777777777778,
              "#fb9f3a"
             ],
             [
              0.8888888888888888,
              "#fdca26"
             ],
             [
              1,
              "#f0f921"
             ]
            ],
            "type": "histogram2dcontour"
           }
          ],
          "mesh3d": [
           {
            "colorbar": {
             "outlinewidth": 0,
             "ticks": ""
            },
            "type": "mesh3d"
           }
          ],
          "parcoords": [
           {
            "line": {
             "colorbar": {
              "outlinewidth": 0,
              "ticks": ""
             }
            },
            "type": "parcoords"
           }
          ],
          "pie": [
           {
            "automargin": true,
            "type": "pie"
           }
          ],
          "scatter": [
           {
            "fillpattern": {
             "fillmode": "overlay",
             "size": 10,
             "solidity": 0.2
            },
            "type": "scatter"
           }
          ],
          "scatter3d": [
           {
            "line": {
             "colorbar": {
              "outlinewidth": 0,
              "ticks": ""
             }
            },
            "marker": {
             "colorbar": {
              "outlinewidth": 0,
              "ticks": ""
             }
            },
            "type": "scatter3d"
           }
          ],
          "scattercarpet": [
           {
            "marker": {
             "colorbar": {
              "outlinewidth": 0,
              "ticks": ""
             }
            },
            "type": "scattercarpet"
           }
          ],
          "scattergeo": [
           {
            "marker": {
             "colorbar": {
              "outlinewidth": 0,
              "ticks": ""
             }
            },
            "type": "scattergeo"
           }
          ],
          "scattergl": [
           {
            "marker": {
             "colorbar": {
              "outlinewidth": 0,
              "ticks": ""
             }
            },
            "type": "scattergl"
           }
          ],
          "scattermapbox": [
           {
            "marker": {
             "colorbar": {
              "outlinewidth": 0,
              "ticks": ""
             }
            },
            "type": "scattermapbox"
           }
          ],
          "scatterpolar": [
           {
            "marker": {
             "colorbar": {
              "outlinewidth": 0,
              "ticks": ""
             }
            },
            "type": "scatterpolar"
           }
          ],
          "scatterpolargl": [
           {
            "marker": {
             "colorbar": {
              "outlinewidth": 0,
              "ticks": ""
             }
            },
            "type": "scatterpolargl"
           }
          ],
          "scatterternary": [
           {
            "marker": {
             "colorbar": {
              "outlinewidth": 0,
              "ticks": ""
             }
            },
            "type": "scatterternary"
           }
          ],
          "surface": [
           {
            "colorbar": {
             "outlinewidth": 0,
             "ticks": ""
            },
            "colorscale": [
             [
              0,
              "#0d0887"
             ],
             [
              0.1111111111111111,
              "#46039f"
             ],
             [
              0.2222222222222222,
              "#7201a8"
             ],
             [
              0.3333333333333333,
              "#9c179e"
             ],
             [
              0.4444444444444444,
              "#bd3786"
             ],
             [
              0.5555555555555556,
              "#d8576b"
             ],
             [
              0.6666666666666666,
              "#ed7953"
             ],
             [
              0.7777777777777778,
              "#fb9f3a"
             ],
             [
              0.8888888888888888,
              "#fdca26"
             ],
             [
              1,
              "#f0f921"
             ]
            ],
            "type": "surface"
           }
          ],
          "table": [
           {
            "cells": {
             "fill": {
              "color": "#EBF0F8"
             },
             "line": {
              "color": "white"
             }
            },
            "header": {
             "fill": {
              "color": "#C8D4E3"
             },
             "line": {
              "color": "white"
             }
            },
            "type": "table"
           }
          ]
         },
         "layout": {
          "annotationdefaults": {
           "arrowcolor": "#2a3f5f",
           "arrowhead": 0,
           "arrowwidth": 1
          },
          "autotypenumbers": "strict",
          "coloraxis": {
           "colorbar": {
            "outlinewidth": 0,
            "ticks": ""
           }
          },
          "colorscale": {
           "diverging": [
            [
             0,
             "#8e0152"
            ],
            [
             0.1,
             "#c51b7d"
            ],
            [
             0.2,
             "#de77ae"
            ],
            [
             0.3,
             "#f1b6da"
            ],
            [
             0.4,
             "#fde0ef"
            ],
            [
             0.5,
             "#f7f7f7"
            ],
            [
             0.6,
             "#e6f5d0"
            ],
            [
             0.7,
             "#b8e186"
            ],
            [
             0.8,
             "#7fbc41"
            ],
            [
             0.9,
             "#4d9221"
            ],
            [
             1,
             "#276419"
            ]
           ],
           "sequential": [
            [
             0,
             "#0d0887"
            ],
            [
             0.1111111111111111,
             "#46039f"
            ],
            [
             0.2222222222222222,
             "#7201a8"
            ],
            [
             0.3333333333333333,
             "#9c179e"
            ],
            [
             0.4444444444444444,
             "#bd3786"
            ],
            [
             0.5555555555555556,
             "#d8576b"
            ],
            [
             0.6666666666666666,
             "#ed7953"
            ],
            [
             0.7777777777777778,
             "#fb9f3a"
            ],
            [
             0.8888888888888888,
             "#fdca26"
            ],
            [
             1,
             "#f0f921"
            ]
           ],
           "sequentialminus": [
            [
             0,
             "#0d0887"
            ],
            [
             0.1111111111111111,
             "#46039f"
            ],
            [
             0.2222222222222222,
             "#7201a8"
            ],
            [
             0.3333333333333333,
             "#9c179e"
            ],
            [
             0.4444444444444444,
             "#bd3786"
            ],
            [
             0.5555555555555556,
             "#d8576b"
            ],
            [
             0.6666666666666666,
             "#ed7953"
            ],
            [
             0.7777777777777778,
             "#fb9f3a"
            ],
            [
             0.8888888888888888,
             "#fdca26"
            ],
            [
             1,
             "#f0f921"
            ]
           ]
          },
          "colorway": [
           "#636efa",
           "#EF553B",
           "#00cc96",
           "#ab63fa",
           "#FFA15A",
           "#19d3f3",
           "#FF6692",
           "#B6E880",
           "#FF97FF",
           "#FECB52"
          ],
          "font": {
           "color": "#2a3f5f"
          },
          "geo": {
           "bgcolor": "white",
           "lakecolor": "white",
           "landcolor": "#E5ECF6",
           "showlakes": true,
           "showland": true,
           "subunitcolor": "white"
          },
          "hoverlabel": {
           "align": "left"
          },
          "hovermode": "closest",
          "mapbox": {
           "style": "light"
          },
          "paper_bgcolor": "white",
          "plot_bgcolor": "#E5ECF6",
          "polar": {
           "angularaxis": {
            "gridcolor": "white",
            "linecolor": "white",
            "ticks": ""
           },
           "bgcolor": "#E5ECF6",
           "radialaxis": {
            "gridcolor": "white",
            "linecolor": "white",
            "ticks": ""
           }
          },
          "scene": {
           "xaxis": {
            "backgroundcolor": "#E5ECF6",
            "gridcolor": "white",
            "gridwidth": 2,
            "linecolor": "white",
            "showbackground": true,
            "ticks": "",
            "zerolinecolor": "white"
           },
           "yaxis": {
            "backgroundcolor": "#E5ECF6",
            "gridcolor": "white",
            "gridwidth": 2,
            "linecolor": "white",
            "showbackground": true,
            "ticks": "",
            "zerolinecolor": "white"
           },
           "zaxis": {
            "backgroundcolor": "#E5ECF6",
            "gridcolor": "white",
            "gridwidth": 2,
            "linecolor": "white",
            "showbackground": true,
            "ticks": "",
            "zerolinecolor": "white"
           }
          },
          "shapedefaults": {
           "line": {
            "color": "#2a3f5f"
           }
          },
          "ternary": {
           "aaxis": {
            "gridcolor": "white",
            "linecolor": "white",
            "ticks": ""
           },
           "baxis": {
            "gridcolor": "white",
            "linecolor": "white",
            "ticks": ""
           },
           "bgcolor": "#E5ECF6",
           "caxis": {
            "gridcolor": "white",
            "linecolor": "white",
            "ticks": ""
           }
          },
          "title": {
           "x": 0.05
          },
          "xaxis": {
           "automargin": true,
           "gridcolor": "white",
           "linecolor": "white",
           "ticks": "",
           "title": {
            "standoff": 15
           },
           "zerolinecolor": "white",
           "zerolinewidth": 2
          },
          "yaxis": {
           "automargin": true,
           "gridcolor": "white",
           "linecolor": "white",
           "ticks": "",
           "title": {
            "standoff": 15
           },
           "zerolinecolor": "white",
           "zerolinewidth": 2
          }
         }
        },
        "title": {
         "text": "Contemplados por data de assembleia"
        },
        "xaxis": {
         "anchor": "y",
         "domain": [
          0,
          1
         ],
         "title": {
          "text": "Data da assembleia"
         }
        },
        "yaxis": {
         "anchor": "x",
         "domain": [
          0,
          1
         ],
         "title": {
          "text": "Quantidade de cotas"
         }
        }
       }
      },
      "text/html": [
       "<div>                            <div id=\"09778650-67a0-4abe-98b7-28e1f1e86327\" class=\"plotly-graph-div\" style=\"height:525px; width:100%;\"></div>            <script type=\"text/javascript\">                require([\"plotly\"], function(Plotly) {                    window.PLOTLYENV=window.PLOTLYENV || {};                                    if (document.getElementById(\"09778650-67a0-4abe-98b7-28e1f1e86327\")) {                    Plotly.newPlot(                        \"09778650-67a0-4abe-98b7-28e1f1e86327\",                        [{\"alignmentgroup\":\"True\",\"hovertemplate\":\"modalidade=Lance Livre\\u003cbr\\u003eData da assembleia=%{x}\\u003cbr\\u003eQuantidade de cotas=%{y}\\u003cextra\\u003e\\u003c\\u002fextra\\u003e\",\"legendgroup\":\"Lance Livre\",\"marker\":{\"color\":\"#636efa\",\"pattern\":{\"shape\":\"\"}},\"name\":\"Lance Livre\",\"offsetgroup\":\"Lance Livre\",\"orientation\":\"v\",\"showlegend\":true,\"textposition\":\"auto\",\"x\":[\"2020-10-15T00:00:00\",\"2020-12-14T00:00:00\",\"2021-01-14T00:00:00\",\"2021-02-12T00:00:00\",\"2021-03-12T00:00:00\",\"2021-04-14T00:00:00\",\"2021-09-14T00:00:00\",\"2021-11-12T00:00:00\",\"2022-01-13T00:00:00\",\"2022-02-15T00:00:00\",\"2022-03-15T00:00:00\",\"2022-05-12T00:00:00\",\"2022-06-15T00:00:00\",\"2022-07-14T00:00:00\",\"2022-08-12T00:00:00\",\"2022-09-15T00:00:00\",\"2022-10-13T00:00:00\",\"2022-11-14T00:00:00\",\"2023-01-12T00:00:00\",\"2023-07-13T00:00:00\",\"2023-09-14T00:00:00\",\"2023-11-14T00:00:00\",\"2023-12-14T00:00:00\",\"2024-02-15T00:00:00\",\"2024-03-14T00:00:00\",\"2024-04-12T00:00:00\",\"2024-05-14T00:00:00\",\"2024-06-12T00:00:00\",\"2024-07-12T00:00:00\",\"2024-08-14T00:00:00\"],\"xaxis\":\"x\",\"y\":[1,2,2,1,1,1,1,1,1,1,1,1,1,2,1,5,1,2,2,1,1,1,1,1,1,1,1,1,1,1],\"yaxis\":\"y\",\"type\":\"bar\"},{\"alignmentgroup\":\"True\",\"hovertemplate\":\"modalidade=Sorteio Ativas\\u003cbr\\u003eData da assembleia=%{x}\\u003cbr\\u003eQuantidade de cotas=%{y}\\u003cextra\\u003e\\u003c\\u002fextra\\u003e\",\"legendgroup\":\"Sorteio Ativas\",\"marker\":{\"color\":\"#EF553B\",\"pattern\":{\"shape\":\"\"}},\"name\":\"Sorteio Ativas\",\"offsetgroup\":\"Sorteio Ativas\",\"orientation\":\"v\",\"showlegend\":true,\"textposition\":\"auto\",\"x\":[\"2020-10-15T00:00:00\",\"2020-11-12T00:00:00\",\"2020-12-14T00:00:00\",\"2021-01-14T00:00:00\",\"2021-02-12T00:00:00\",\"2021-03-12T00:00:00\",\"2021-04-14T00:00:00\",\"2021-05-13T00:00:00\",\"2021-06-14T00:00:00\",\"2021-07-15T00:00:00\",\"2021-08-12T00:00:00\",\"2021-09-14T00:00:00\",\"2021-10-15T00:00:00\",\"2021-11-12T00:00:00\",\"2021-12-14T00:00:00\",\"2022-01-13T00:00:00\",\"2022-02-15T00:00:00\",\"2022-03-15T00:00:00\",\"2022-04-14T00:00:00\",\"2022-05-12T00:00:00\",\"2022-06-15T00:00:00\",\"2022-08-12T00:00:00\",\"2022-09-15T00:00:00\",\"2022-10-13T00:00:00\",\"2022-11-14T00:00:00\",\"2022-12-15T00:00:00\",\"2023-01-12T00:00:00\",\"2023-02-14T00:00:00\",\"2023-03-14T00:00:00\",\"2023-04-13T00:00:00\",\"2023-05-12T00:00:00\",\"2023-06-15T00:00:00\",\"2023-08-15T00:00:00\",\"2023-09-14T00:00:00\",\"2023-10-17T00:00:00\",\"2023-11-14T00:00:00\",\"2023-12-14T00:00:00\",\"2024-01-12T00:00:00\",\"2024-02-15T00:00:00\",\"2024-03-14T00:00:00\",\"2024-04-12T00:00:00\",\"2024-05-14T00:00:00\",\"2024-06-12T00:00:00\",\"2024-07-12T00:00:00\",\"2024-08-14T00:00:00\"],\"xaxis\":\"x\",\"y\":[1,1,1,1,1,1,1,1,1,1,1,1,1,1,1,1,1,1,1,1,2,1,1,1,1,1,1,1,1,1,1,1,1,1,1,1,1,1,1,1,1,1,1,1,1],\"yaxis\":\"y\",\"type\":\"bar\"},{\"alignmentgroup\":\"True\",\"hovertemplate\":\"modalidade=Lance Fixo\\u003cbr\\u003eData da assembleia=%{x}\\u003cbr\\u003eQuantidade de cotas=%{y}\\u003cextra\\u003e\\u003c\\u002fextra\\u003e\",\"legendgroup\":\"Lance Fixo\",\"marker\":{\"color\":\"#00cc96\",\"pattern\":{\"shape\":\"\"}},\"name\":\"Lance Fixo\",\"offsetgroup\":\"Lance Fixo\",\"orientation\":\"v\",\"showlegend\":true,\"textposition\":\"auto\",\"x\":[\"2020-12-14T00:00:00\",\"2021-01-14T00:00:00\",\"2021-04-14T00:00:00\",\"2021-11-12T00:00:00\",\"2022-01-13T00:00:00\",\"2022-02-15T00:00:00\",\"2022-03-15T00:00:00\",\"2022-05-12T00:00:00\",\"2022-06-15T00:00:00\",\"2022-07-14T00:00:00\",\"2022-08-12T00:00:00\",\"2022-09-15T00:00:00\",\"2022-11-14T00:00:00\",\"2022-12-15T00:00:00\",\"2023-01-12T00:00:00\",\"2023-08-15T00:00:00\",\"2023-09-14T00:00:00\",\"2023-12-14T00:00:00\",\"2024-02-15T00:00:00\",\"2024-05-14T00:00:00\",\"2024-07-12T00:00:00\",\"2024-08-14T00:00:00\"],\"xaxis\":\"x\",\"y\":[1,1,1,1,1,1,2,1,1,1,1,1,1,1,1,1,1,1,1,1,1,1],\"yaxis\":\"y\",\"type\":\"bar\"},{\"alignmentgroup\":\"True\",\"hovertemplate\":\"modalidade=Sort. Canceladas\\u003cbr\\u003eData da assembleia=%{x}\\u003cbr\\u003eQuantidade de cotas=%{y}\\u003cextra\\u003e\\u003c\\u002fextra\\u003e\",\"legendgroup\":\"Sort. Canceladas\",\"marker\":{\"color\":\"#ab63fa\",\"pattern\":{\"shape\":\"\"}},\"name\":\"Sort. Canceladas\",\"offsetgroup\":\"Sort. Canceladas\",\"orientation\":\"v\",\"showlegend\":true,\"textposition\":\"auto\",\"x\":[\"2021-01-14T00:00:00\",\"2021-02-12T00:00:00\",\"2021-04-14T00:00:00\",\"2021-07-15T00:00:00\",\"2021-10-15T00:00:00\",\"2022-02-15T00:00:00\",\"2022-03-15T00:00:00\",\"2022-05-12T00:00:00\",\"2022-06-15T00:00:00\",\"2022-07-14T00:00:00\",\"2022-08-12T00:00:00\",\"2022-09-15T00:00:00\",\"2022-11-14T00:00:00\",\"2022-12-15T00:00:00\",\"2023-03-14T00:00:00\",\"2023-08-15T00:00:00\",\"2023-10-17T00:00:00\",\"2023-11-14T00:00:00\",\"2023-12-14T00:00:00\",\"2024-01-12T00:00:00\",\"2024-02-15T00:00:00\",\"2024-03-14T00:00:00\",\"2024-04-12T00:00:00\",\"2024-06-12T00:00:00\",\"2024-07-12T00:00:00\",\"2024-08-14T00:00:00\"],\"xaxis\":\"x\",\"y\":[1,1,1,1,1,1,1,1,1,4,2,19,2,1,2,1,3,8,2,3,4,10,1,1,1,2],\"yaxis\":\"y\",\"type\":\"bar\"}],                        {\"template\":{\"data\":{\"histogram2dcontour\":[{\"type\":\"histogram2dcontour\",\"colorbar\":{\"outlinewidth\":0,\"ticks\":\"\"},\"colorscale\":[[0.0,\"#0d0887\"],[0.1111111111111111,\"#46039f\"],[0.2222222222222222,\"#7201a8\"],[0.3333333333333333,\"#9c179e\"],[0.4444444444444444,\"#bd3786\"],[0.5555555555555556,\"#d8576b\"],[0.6666666666666666,\"#ed7953\"],[0.7777777777777778,\"#fb9f3a\"],[0.8888888888888888,\"#fdca26\"],[1.0,\"#f0f921\"]]}],\"choropleth\":[{\"type\":\"choropleth\",\"colorbar\":{\"outlinewidth\":0,\"ticks\":\"\"}}],\"histogram2d\":[{\"type\":\"histogram2d\",\"colorbar\":{\"outlinewidth\":0,\"ticks\":\"\"},\"colorscale\":[[0.0,\"#0d0887\"],[0.1111111111111111,\"#46039f\"],[0.2222222222222222,\"#7201a8\"],[0.3333333333333333,\"#9c179e\"],[0.4444444444444444,\"#bd3786\"],[0.5555555555555556,\"#d8576b\"],[0.6666666666666666,\"#ed7953\"],[0.7777777777777778,\"#fb9f3a\"],[0.8888888888888888,\"#fdca26\"],[1.0,\"#f0f921\"]]}],\"heatmap\":[{\"type\":\"heatmap\",\"colorbar\":{\"outlinewidth\":0,\"ticks\":\"\"},\"colorscale\":[[0.0,\"#0d0887\"],[0.1111111111111111,\"#46039f\"],[0.2222222222222222,\"#7201a8\"],[0.3333333333333333,\"#9c179e\"],[0.4444444444444444,\"#bd3786\"],[0.5555555555555556,\"#d8576b\"],[0.6666666666666666,\"#ed7953\"],[0.7777777777777778,\"#fb9f3a\"],[0.8888888888888888,\"#fdca26\"],[1.0,\"#f0f921\"]]}],\"heatmapgl\":[{\"type\":\"heatmapgl\",\"colorbar\":{\"outlinewidth\":0,\"ticks\":\"\"},\"colorscale\":[[0.0,\"#0d0887\"],[0.1111111111111111,\"#46039f\"],[0.2222222222222222,\"#7201a8\"],[0.3333333333333333,\"#9c179e\"],[0.4444444444444444,\"#bd3786\"],[0.5555555555555556,\"#d8576b\"],[0.6666666666666666,\"#ed7953\"],[0.7777777777777778,\"#fb9f3a\"],[0.8888888888888888,\"#fdca26\"],[1.0,\"#f0f921\"]]}],\"contourcarpet\":[{\"type\":\"contourcarpet\",\"colorbar\":{\"outlinewidth\":0,\"ticks\":\"\"}}],\"contour\":[{\"type\":\"contour\",\"colorbar\":{\"outlinewidth\":0,\"ticks\":\"\"},\"colorscale\":[[0.0,\"#0d0887\"],[0.1111111111111111,\"#46039f\"],[0.2222222222222222,\"#7201a8\"],[0.3333333333333333,\"#9c179e\"],[0.4444444444444444,\"#bd3786\"],[0.5555555555555556,\"#d8576b\"],[0.6666666666666666,\"#ed7953\"],[0.7777777777777778,\"#fb9f3a\"],[0.8888888888888888,\"#fdca26\"],[1.0,\"#f0f921\"]]}],\"surface\":[{\"type\":\"surface\",\"colorbar\":{\"outlinewidth\":0,\"ticks\":\"\"},\"colorscale\":[[0.0,\"#0d0887\"],[0.1111111111111111,\"#46039f\"],[0.2222222222222222,\"#7201a8\"],[0.3333333333333333,\"#9c179e\"],[0.4444444444444444,\"#bd3786\"],[0.5555555555555556,\"#d8576b\"],[0.6666666666666666,\"#ed7953\"],[0.7777777777777778,\"#fb9f3a\"],[0.8888888888888888,\"#fdca26\"],[1.0,\"#f0f921\"]]}],\"mesh3d\":[{\"type\":\"mesh3d\",\"colorbar\":{\"outlinewidth\":0,\"ticks\":\"\"}}],\"scatter\":[{\"fillpattern\":{\"fillmode\":\"overlay\",\"size\":10,\"solidity\":0.2},\"type\":\"scatter\"}],\"parcoords\":[{\"type\":\"parcoords\",\"line\":{\"colorbar\":{\"outlinewidth\":0,\"ticks\":\"\"}}}],\"scatterpolargl\":[{\"type\":\"scatterpolargl\",\"marker\":{\"colorbar\":{\"outlinewidth\":0,\"ticks\":\"\"}}}],\"bar\":[{\"error_x\":{\"color\":\"#2a3f5f\"},\"error_y\":{\"color\":\"#2a3f5f\"},\"marker\":{\"line\":{\"color\":\"#E5ECF6\",\"width\":0.5},\"pattern\":{\"fillmode\":\"overlay\",\"size\":10,\"solidity\":0.2}},\"type\":\"bar\"}],\"scattergeo\":[{\"type\":\"scattergeo\",\"marker\":{\"colorbar\":{\"outlinewidth\":0,\"ticks\":\"\"}}}],\"scatterpolar\":[{\"type\":\"scatterpolar\",\"marker\":{\"colorbar\":{\"outlinewidth\":0,\"ticks\":\"\"}}}],\"histogram\":[{\"marker\":{\"pattern\":{\"fillmode\":\"overlay\",\"size\":10,\"solidity\":0.2}},\"type\":\"histogram\"}],\"scattergl\":[{\"type\":\"scattergl\",\"marker\":{\"colorbar\":{\"outlinewidth\":0,\"ticks\":\"\"}}}],\"scatter3d\":[{\"type\":\"scatter3d\",\"line\":{\"colorbar\":{\"outlinewidth\":0,\"ticks\":\"\"}},\"marker\":{\"colorbar\":{\"outlinewidth\":0,\"ticks\":\"\"}}}],\"scattermapbox\":[{\"type\":\"scattermapbox\",\"marker\":{\"colorbar\":{\"outlinewidth\":0,\"ticks\":\"\"}}}],\"scatterternary\":[{\"type\":\"scatterternary\",\"marker\":{\"colorbar\":{\"outlinewidth\":0,\"ticks\":\"\"}}}],\"scattercarpet\":[{\"type\":\"scattercarpet\",\"marker\":{\"colorbar\":{\"outlinewidth\":0,\"ticks\":\"\"}}}],\"carpet\":[{\"aaxis\":{\"endlinecolor\":\"#2a3f5f\",\"gridcolor\":\"white\",\"linecolor\":\"white\",\"minorgridcolor\":\"white\",\"startlinecolor\":\"#2a3f5f\"},\"baxis\":{\"endlinecolor\":\"#2a3f5f\",\"gridcolor\":\"white\",\"linecolor\":\"white\",\"minorgridcolor\":\"white\",\"startlinecolor\":\"#2a3f5f\"},\"type\":\"carpet\"}],\"table\":[{\"cells\":{\"fill\":{\"color\":\"#EBF0F8\"},\"line\":{\"color\":\"white\"}},\"header\":{\"fill\":{\"color\":\"#C8D4E3\"},\"line\":{\"color\":\"white\"}},\"type\":\"table\"}],\"barpolar\":[{\"marker\":{\"line\":{\"color\":\"#E5ECF6\",\"width\":0.5},\"pattern\":{\"fillmode\":\"overlay\",\"size\":10,\"solidity\":0.2}},\"type\":\"barpolar\"}],\"pie\":[{\"automargin\":true,\"type\":\"pie\"}]},\"layout\":{\"autotypenumbers\":\"strict\",\"colorway\":[\"#636efa\",\"#EF553B\",\"#00cc96\",\"#ab63fa\",\"#FFA15A\",\"#19d3f3\",\"#FF6692\",\"#B6E880\",\"#FF97FF\",\"#FECB52\"],\"font\":{\"color\":\"#2a3f5f\"},\"hovermode\":\"closest\",\"hoverlabel\":{\"align\":\"left\"},\"paper_bgcolor\":\"white\",\"plot_bgcolor\":\"#E5ECF6\",\"polar\":{\"bgcolor\":\"#E5ECF6\",\"angularaxis\":{\"gridcolor\":\"white\",\"linecolor\":\"white\",\"ticks\":\"\"},\"radialaxis\":{\"gridcolor\":\"white\",\"linecolor\":\"white\",\"ticks\":\"\"}},\"ternary\":{\"bgcolor\":\"#E5ECF6\",\"aaxis\":{\"gridcolor\":\"white\",\"linecolor\":\"white\",\"ticks\":\"\"},\"baxis\":{\"gridcolor\":\"white\",\"linecolor\":\"white\",\"ticks\":\"\"},\"caxis\":{\"gridcolor\":\"white\",\"linecolor\":\"white\",\"ticks\":\"\"}},\"coloraxis\":{\"colorbar\":{\"outlinewidth\":0,\"ticks\":\"\"}},\"colorscale\":{\"sequential\":[[0.0,\"#0d0887\"],[0.1111111111111111,\"#46039f\"],[0.2222222222222222,\"#7201a8\"],[0.3333333333333333,\"#9c179e\"],[0.4444444444444444,\"#bd3786\"],[0.5555555555555556,\"#d8576b\"],[0.6666666666666666,\"#ed7953\"],[0.7777777777777778,\"#fb9f3a\"],[0.8888888888888888,\"#fdca26\"],[1.0,\"#f0f921\"]],\"sequentialminus\":[[0.0,\"#0d0887\"],[0.1111111111111111,\"#46039f\"],[0.2222222222222222,\"#7201a8\"],[0.3333333333333333,\"#9c179e\"],[0.4444444444444444,\"#bd3786\"],[0.5555555555555556,\"#d8576b\"],[0.6666666666666666,\"#ed7953\"],[0.7777777777777778,\"#fb9f3a\"],[0.8888888888888888,\"#fdca26\"],[1.0,\"#f0f921\"]],\"diverging\":[[0,\"#8e0152\"],[0.1,\"#c51b7d\"],[0.2,\"#de77ae\"],[0.3,\"#f1b6da\"],[0.4,\"#fde0ef\"],[0.5,\"#f7f7f7\"],[0.6,\"#e6f5d0\"],[0.7,\"#b8e186\"],[0.8,\"#7fbc41\"],[0.9,\"#4d9221\"],[1,\"#276419\"]]},\"xaxis\":{\"gridcolor\":\"white\",\"linecolor\":\"white\",\"ticks\":\"\",\"title\":{\"standoff\":15},\"zerolinecolor\":\"white\",\"automargin\":true,\"zerolinewidth\":2},\"yaxis\":{\"gridcolor\":\"white\",\"linecolor\":\"white\",\"ticks\":\"\",\"title\":{\"standoff\":15},\"zerolinecolor\":\"white\",\"automargin\":true,\"zerolinewidth\":2},\"scene\":{\"xaxis\":{\"backgroundcolor\":\"#E5ECF6\",\"gridcolor\":\"white\",\"linecolor\":\"white\",\"showbackground\":true,\"ticks\":\"\",\"zerolinecolor\":\"white\",\"gridwidth\":2},\"yaxis\":{\"backgroundcolor\":\"#E5ECF6\",\"gridcolor\":\"white\",\"linecolor\":\"white\",\"showbackground\":true,\"ticks\":\"\",\"zerolinecolor\":\"white\",\"gridwidth\":2},\"zaxis\":{\"backgroundcolor\":\"#E5ECF6\",\"gridcolor\":\"white\",\"linecolor\":\"white\",\"showbackground\":true,\"ticks\":\"\",\"zerolinecolor\":\"white\",\"gridwidth\":2}},\"shapedefaults\":{\"line\":{\"color\":\"#2a3f5f\"}},\"annotationdefaults\":{\"arrowcolor\":\"#2a3f5f\",\"arrowhead\":0,\"arrowwidth\":1},\"geo\":{\"bgcolor\":\"white\",\"landcolor\":\"#E5ECF6\",\"subunitcolor\":\"white\",\"showland\":true,\"showlakes\":true,\"lakecolor\":\"white\"},\"title\":{\"x\":0.05},\"mapbox\":{\"style\":\"light\"}}},\"xaxis\":{\"anchor\":\"y\",\"domain\":[0.0,1.0],\"title\":{\"text\":\"Data da assembleia\"}},\"yaxis\":{\"anchor\":\"x\",\"domain\":[0.0,1.0],\"title\":{\"text\":\"Quantidade de cotas\"}},\"legend\":{\"title\":{\"text\":\"modalidade\"},\"tracegroupgap\":0},\"title\":{\"text\":\"Contemplados por data de assembleia\"},\"barmode\":\"relative\"},                        {\"responsive\": true}                    ).then(function(){\n",
       "                            \n",
       "var gd = document.getElementById('09778650-67a0-4abe-98b7-28e1f1e86327');\n",
       "var x = new MutationObserver(function (mutations, observer) {{\n",
       "        var display = window.getComputedStyle(gd).display;\n",
       "        if (!display || display === 'none') {{\n",
       "            console.log([gd, 'removed!']);\n",
       "            Plotly.purge(gd);\n",
       "            observer.disconnect();\n",
       "        }}\n",
       "}});\n",
       "\n",
       "// Listen for the removal of the full notebook cells\n",
       "var notebookContainer = gd.closest('#notebook-container');\n",
       "if (notebookContainer) {{\n",
       "    x.observe(notebookContainer, {childList: true});\n",
       "}}\n",
       "\n",
       "// Listen for the clearing of the current output cell\n",
       "var outputEl = gd.closest('.output');\n",
       "if (outputEl) {{\n",
       "    x.observe(outputEl, {childList: true});\n",
       "}}\n",
       "\n",
       "                        })                };                });            </script>        </div>"
      ]
     },
     "metadata": {},
     "output_type": "display_data"
    }
   ],
   "source": [
    "fig = px.bar(\n",
    "    df[[\"data_assembleia\", \"modalidade\", \"str_cota\"]]\n",
    "    .where(df[\"contemplado\"] == 1)\n",
    "    .groupby([\"data_assembleia\", \"modalidade\"])\n",
    "    .count()\n",
    "    .reset_index(),\n",
    "    x=\"data_assembleia\",\n",
    "    y=\"str_cota\",\n",
    "    color=\"modalidade\",\n",
    "    title=f\"Contemplados por data de assembleia\",\n",
    "    labels={\"str_cota\": \"Quantidade de cotas\", \"data_assembleia\": \"Data da assembleia\"},\n",
    ")\n",
    "fig.show()"
   ]
  },
  {
   "cell_type": "markdown",
   "metadata": {},
   "source": [
    "## Lances Livres"
   ]
  },
  {
   "cell_type": "markdown",
   "metadata": {},
   "source": [
    "df[\"max_parcelas\"] = df[\"assembleia\"].apply(lambda x: 216 - x)\n",
    "df[\"max_selic\"] = df[\"assembleia\"].apply(lambda x: 152 - x)\n",
    "df[\"max_fin_imob\"] = df[\"assembleia\"].apply(lambda x: 157 - x)\n",
    "df[\"max_sem_perda\"] = df[\"assembleia\"].apply(lambda x: 175 - x)"
   ]
  },
  {
   "cell_type": "code",
   "execution_count": 124,
   "metadata": {},
   "outputs": [
    {
     "data": {
      "application/vnd.plotly.v1+json": {
       "config": {
        "plotlyServerURL": "https://plot.ly"
       },
       "data": [
        {
         "alignmentgroup": "True",
         "hovertemplate": "x=%{x}<br>y=%{y}<extra></extra>",
         "legendgroup": "",
         "marker": {
          "color": "#636efa",
          "pattern": {
           "shape": ""
          }
         },
         "name": "",
         "offsetgroup": "",
         "orientation": "v",
         "showlegend": false,
         "textposition": "auto",
         "type": "bar",
         "x": [
          "2020-10-15T00:00:00",
          "2020-11-12T00:00:00",
          "2020-12-14T00:00:00",
          "2021-01-14T00:00:00",
          "2021-02-12T00:00:00",
          "2021-03-12T00:00:00",
          "2021-04-14T00:00:00",
          "2021-05-13T00:00:00",
          "2021-06-14T00:00:00",
          "2021-07-15T00:00:00",
          "2021-08-12T00:00:00",
          "2021-09-14T00:00:00",
          "2021-10-15T00:00:00",
          "2021-11-12T00:00:00",
          "2021-12-14T00:00:00",
          "2022-01-13T00:00:00",
          "2022-02-15T00:00:00",
          "2022-03-15T00:00:00",
          "2022-04-14T00:00:00",
          "2022-05-12T00:00:00",
          "2022-06-15T00:00:00",
          "2022-07-14T00:00:00",
          "2022-08-12T00:00:00",
          "2022-09-15T00:00:00",
          "2022-10-13T00:00:00",
          "2022-11-14T00:00:00",
          "2022-12-15T00:00:00",
          "2023-01-12T00:00:00",
          "2023-02-14T00:00:00",
          "2023-03-14T00:00:00",
          "2023-04-13T00:00:00",
          "2023-05-12T00:00:00",
          "2023-06-15T00:00:00",
          "2023-07-13T00:00:00",
          "2023-08-15T00:00:00",
          "2023-09-14T00:00:00",
          "2023-10-17T00:00:00",
          "2023-11-14T00:00:00",
          "2023-12-14T00:00:00",
          "2024-01-12T00:00:00",
          "2024-02-15T00:00:00",
          "2024-03-14T00:00:00",
          "2024-04-12T00:00:00",
          "2024-05-14T00:00:00",
          "2024-06-12T00:00:00",
          "2024-07-12T00:00:00",
          "2024-08-14T00:00:00"
         ],
         "xaxis": "x",
         "y": [
          121,
          132,
          137,
          212,
          140,
          210,
          195,
          166,
          157,
          206,
          149,
          146,
          203,
          202,
          201,
          200,
          199,
          158,
          197,
          145,
          144,
          145,
          145,
          142,
          126,
          190,
          130,
          154,
          187,
          186,
          180,
          150,
          183,
          182,
          181,
          180,
          179,
          178,
          177,
          161,
          175,
          174,
          173,
          172,
          171,
          170,
          169
         ],
         "yaxis": "y"
        },
        {
         "mode": "lines",
         "name": "Parcelas Remanescentes",
         "type": "scatter",
         "x": [
          "2020-10-15T00:00:00",
          "2020-11-12T00:00:00",
          "2020-12-14T00:00:00",
          "2021-01-14T00:00:00",
          "2021-02-12T00:00:00",
          "2021-03-12T00:00:00",
          "2021-04-14T00:00:00",
          "2021-05-13T00:00:00",
          "2021-06-14T00:00:00",
          "2021-07-15T00:00:00",
          "2021-08-12T00:00:00",
          "2021-09-14T00:00:00",
          "2021-10-15T00:00:00",
          "2021-11-12T00:00:00",
          "2021-12-14T00:00:00",
          "2022-01-13T00:00:00",
          "2022-02-15T00:00:00",
          "2022-03-15T00:00:00",
          "2022-04-14T00:00:00",
          "2022-05-12T00:00:00",
          "2022-06-15T00:00:00",
          "2022-07-14T00:00:00",
          "2022-08-12T00:00:00",
          "2022-09-15T00:00:00",
          "2022-10-13T00:00:00",
          "2022-11-14T00:00:00",
          "2022-12-15T00:00:00",
          "2023-01-12T00:00:00",
          "2023-02-14T00:00:00",
          "2023-03-14T00:00:00",
          "2023-04-13T00:00:00",
          "2023-05-12T00:00:00",
          "2023-06-15T00:00:00",
          "2023-07-13T00:00:00",
          "2023-08-15T00:00:00",
          "2023-09-14T00:00:00",
          "2023-10-17T00:00:00",
          "2023-11-14T00:00:00",
          "2023-12-14T00:00:00",
          "2024-01-12T00:00:00",
          "2024-02-15T00:00:00",
          "2024-03-14T00:00:00",
          "2024-04-12T00:00:00",
          "2024-05-14T00:00:00",
          "2024-06-12T00:00:00",
          "2024-07-12T00:00:00",
          "2024-08-14T00:00:00"
         ],
         "y": [
          215,
          214,
          213,
          212,
          211,
          210,
          209,
          208,
          207,
          206,
          205,
          204,
          203,
          202,
          201,
          200,
          199,
          198,
          197,
          196,
          195,
          194,
          193,
          192,
          191,
          190,
          189,
          188,
          187,
          186,
          185,
          184,
          183,
          182,
          181,
          180,
          179,
          178,
          177,
          176,
          175,
          174,
          173,
          172,
          171,
          170,
          169
         ]
        },
        {
         "mode": "lines",
         "name": "Max sem Retorno Negativo",
         "type": "scatter",
         "x": [
          "2020-10-15T00:00:00",
          "2020-11-12T00:00:00",
          "2020-12-14T00:00:00",
          "2021-01-14T00:00:00",
          "2021-02-12T00:00:00",
          "2021-03-12T00:00:00",
          "2021-04-14T00:00:00",
          "2021-05-13T00:00:00",
          "2021-06-14T00:00:00",
          "2021-07-15T00:00:00",
          "2021-08-12T00:00:00",
          "2021-09-14T00:00:00",
          "2021-10-15T00:00:00",
          "2021-11-12T00:00:00",
          "2021-12-14T00:00:00",
          "2022-01-13T00:00:00",
          "2022-02-15T00:00:00",
          "2022-03-15T00:00:00",
          "2022-04-14T00:00:00",
          "2022-05-12T00:00:00",
          "2022-06-15T00:00:00",
          "2022-07-14T00:00:00",
          "2022-08-12T00:00:00",
          "2022-09-15T00:00:00",
          "2022-10-13T00:00:00",
          "2022-11-14T00:00:00",
          "2022-12-15T00:00:00",
          "2023-01-12T00:00:00",
          "2023-02-14T00:00:00",
          "2023-03-14T00:00:00",
          "2023-04-13T00:00:00",
          "2023-05-12T00:00:00",
          "2023-06-15T00:00:00",
          "2023-07-13T00:00:00",
          "2023-08-15T00:00:00",
          "2023-09-14T00:00:00",
          "2023-10-17T00:00:00",
          "2023-11-14T00:00:00",
          "2023-12-14T00:00:00",
          "2024-01-12T00:00:00",
          "2024-02-15T00:00:00",
          "2024-03-14T00:00:00",
          "2024-04-12T00:00:00",
          "2024-05-14T00:00:00",
          "2024-06-12T00:00:00",
          "2024-07-12T00:00:00",
          "2024-08-14T00:00:00"
         ],
         "y": [
          174,
          173,
          172,
          171,
          170,
          169,
          168,
          167,
          166,
          165,
          164,
          163,
          162,
          161,
          160,
          159,
          158,
          157,
          156,
          155,
          154,
          153,
          152,
          151,
          150,
          149,
          148,
          147,
          146,
          145,
          144,
          143,
          142,
          141,
          140,
          139,
          138,
          137,
          136,
          135,
          134,
          133,
          132,
          131,
          130,
          129,
          128
         ]
        },
        {
         "mode": "lines",
         "name": "Taxa eq. Financiamento (13%)",
         "type": "scatter",
         "x": [
          "2020-10-15T00:00:00",
          "2020-11-12T00:00:00",
          "2020-12-14T00:00:00",
          "2021-01-14T00:00:00",
          "2021-02-12T00:00:00",
          "2021-03-12T00:00:00",
          "2021-04-14T00:00:00",
          "2021-05-13T00:00:00",
          "2021-06-14T00:00:00",
          "2021-07-15T00:00:00",
          "2021-08-12T00:00:00",
          "2021-09-14T00:00:00",
          "2021-10-15T00:00:00",
          "2021-11-12T00:00:00",
          "2021-12-14T00:00:00",
          "2022-01-13T00:00:00",
          "2022-02-15T00:00:00",
          "2022-03-15T00:00:00",
          "2022-04-14T00:00:00",
          "2022-05-12T00:00:00",
          "2022-06-15T00:00:00",
          "2022-07-14T00:00:00",
          "2022-08-12T00:00:00",
          "2022-09-15T00:00:00",
          "2022-10-13T00:00:00",
          "2022-11-14T00:00:00",
          "2022-12-15T00:00:00",
          "2023-01-12T00:00:00",
          "2023-02-14T00:00:00",
          "2023-03-14T00:00:00",
          "2023-04-13T00:00:00",
          "2023-05-12T00:00:00",
          "2023-06-15T00:00:00",
          "2023-07-13T00:00:00",
          "2023-08-15T00:00:00",
          "2023-09-14T00:00:00",
          "2023-10-17T00:00:00",
          "2023-11-14T00:00:00",
          "2023-12-14T00:00:00",
          "2024-01-12T00:00:00",
          "2024-02-15T00:00:00",
          "2024-03-14T00:00:00",
          "2024-04-12T00:00:00",
          "2024-05-14T00:00:00",
          "2024-06-12T00:00:00",
          "2024-07-12T00:00:00",
          "2024-08-14T00:00:00"
         ],
         "y": [
          156,
          155,
          154,
          153,
          152,
          151,
          150,
          149,
          148,
          147,
          146,
          145,
          144,
          143,
          142,
          141,
          140,
          139,
          138,
          137,
          136,
          135,
          134,
          133,
          132,
          131,
          130,
          129,
          128,
          127,
          126,
          125,
          124,
          123,
          122,
          121,
          120,
          119,
          118,
          117,
          116,
          115,
          114,
          113,
          112,
          111,
          110
         ]
        },
        {
         "mode": "lines",
         "name": "Taxa eq. SELIC (10,5%)",
         "type": "scatter",
         "x": [
          "2020-10-15T00:00:00",
          "2020-11-12T00:00:00",
          "2020-12-14T00:00:00",
          "2021-01-14T00:00:00",
          "2021-02-12T00:00:00",
          "2021-03-12T00:00:00",
          "2021-04-14T00:00:00",
          "2021-05-13T00:00:00",
          "2021-06-14T00:00:00",
          "2021-07-15T00:00:00",
          "2021-08-12T00:00:00",
          "2021-09-14T00:00:00",
          "2021-10-15T00:00:00",
          "2021-11-12T00:00:00",
          "2021-12-14T00:00:00",
          "2022-01-13T00:00:00",
          "2022-02-15T00:00:00",
          "2022-03-15T00:00:00",
          "2022-04-14T00:00:00",
          "2022-05-12T00:00:00",
          "2022-06-15T00:00:00",
          "2022-07-14T00:00:00",
          "2022-08-12T00:00:00",
          "2022-09-15T00:00:00",
          "2022-10-13T00:00:00",
          "2022-11-14T00:00:00",
          "2022-12-15T00:00:00",
          "2023-01-12T00:00:00",
          "2023-02-14T00:00:00",
          "2023-03-14T00:00:00",
          "2023-04-13T00:00:00",
          "2023-05-12T00:00:00",
          "2023-06-15T00:00:00",
          "2023-07-13T00:00:00",
          "2023-08-15T00:00:00",
          "2023-09-14T00:00:00",
          "2023-10-17T00:00:00",
          "2023-11-14T00:00:00",
          "2023-12-14T00:00:00",
          "2024-01-12T00:00:00",
          "2024-02-15T00:00:00",
          "2024-03-14T00:00:00",
          "2024-04-12T00:00:00",
          "2024-05-14T00:00:00",
          "2024-06-12T00:00:00",
          "2024-07-12T00:00:00",
          "2024-08-14T00:00:00"
         ],
         "y": [
          151,
          150,
          149,
          148,
          147,
          146,
          145,
          144,
          143,
          142,
          141,
          140,
          139,
          138,
          137,
          136,
          135,
          134,
          133,
          132,
          131,
          130,
          129,
          128,
          127,
          126,
          125,
          124,
          123,
          122,
          121,
          120,
          119,
          118,
          117,
          116,
          115,
          114,
          113,
          112,
          111,
          110,
          109,
          108,
          107,
          106,
          105
         ]
        }
       ],
       "layout": {
        "barmode": "relative",
        "legend": {
         "tracegroupgap": 0
        },
        "template": {
         "data": {
          "bar": [
           {
            "error_x": {
             "color": "#2a3f5f"
            },
            "error_y": {
             "color": "#2a3f5f"
            },
            "marker": {
             "line": {
              "color": "#E5ECF6",
              "width": 0.5
             },
             "pattern": {
              "fillmode": "overlay",
              "size": 10,
              "solidity": 0.2
             }
            },
            "type": "bar"
           }
          ],
          "barpolar": [
           {
            "marker": {
             "line": {
              "color": "#E5ECF6",
              "width": 0.5
             },
             "pattern": {
              "fillmode": "overlay",
              "size": 10,
              "solidity": 0.2
             }
            },
            "type": "barpolar"
           }
          ],
          "carpet": [
           {
            "aaxis": {
             "endlinecolor": "#2a3f5f",
             "gridcolor": "white",
             "linecolor": "white",
             "minorgridcolor": "white",
             "startlinecolor": "#2a3f5f"
            },
            "baxis": {
             "endlinecolor": "#2a3f5f",
             "gridcolor": "white",
             "linecolor": "white",
             "minorgridcolor": "white",
             "startlinecolor": "#2a3f5f"
            },
            "type": "carpet"
           }
          ],
          "choropleth": [
           {
            "colorbar": {
             "outlinewidth": 0,
             "ticks": ""
            },
            "type": "choropleth"
           }
          ],
          "contour": [
           {
            "colorbar": {
             "outlinewidth": 0,
             "ticks": ""
            },
            "colorscale": [
             [
              0,
              "#0d0887"
             ],
             [
              0.1111111111111111,
              "#46039f"
             ],
             [
              0.2222222222222222,
              "#7201a8"
             ],
             [
              0.3333333333333333,
              "#9c179e"
             ],
             [
              0.4444444444444444,
              "#bd3786"
             ],
             [
              0.5555555555555556,
              "#d8576b"
             ],
             [
              0.6666666666666666,
              "#ed7953"
             ],
             [
              0.7777777777777778,
              "#fb9f3a"
             ],
             [
              0.8888888888888888,
              "#fdca26"
             ],
             [
              1,
              "#f0f921"
             ]
            ],
            "type": "contour"
           }
          ],
          "contourcarpet": [
           {
            "colorbar": {
             "outlinewidth": 0,
             "ticks": ""
            },
            "type": "contourcarpet"
           }
          ],
          "heatmap": [
           {
            "colorbar": {
             "outlinewidth": 0,
             "ticks": ""
            },
            "colorscale": [
             [
              0,
              "#0d0887"
             ],
             [
              0.1111111111111111,
              "#46039f"
             ],
             [
              0.2222222222222222,
              "#7201a8"
             ],
             [
              0.3333333333333333,
              "#9c179e"
             ],
             [
              0.4444444444444444,
              "#bd3786"
             ],
             [
              0.5555555555555556,
              "#d8576b"
             ],
             [
              0.6666666666666666,
              "#ed7953"
             ],
             [
              0.7777777777777778,
              "#fb9f3a"
             ],
             [
              0.8888888888888888,
              "#fdca26"
             ],
             [
              1,
              "#f0f921"
             ]
            ],
            "type": "heatmap"
           }
          ],
          "heatmapgl": [
           {
            "colorbar": {
             "outlinewidth": 0,
             "ticks": ""
            },
            "colorscale": [
             [
              0,
              "#0d0887"
             ],
             [
              0.1111111111111111,
              "#46039f"
             ],
             [
              0.2222222222222222,
              "#7201a8"
             ],
             [
              0.3333333333333333,
              "#9c179e"
             ],
             [
              0.4444444444444444,
              "#bd3786"
             ],
             [
              0.5555555555555556,
              "#d8576b"
             ],
             [
              0.6666666666666666,
              "#ed7953"
             ],
             [
              0.7777777777777778,
              "#fb9f3a"
             ],
             [
              0.8888888888888888,
              "#fdca26"
             ],
             [
              1,
              "#f0f921"
             ]
            ],
            "type": "heatmapgl"
           }
          ],
          "histogram": [
           {
            "marker": {
             "pattern": {
              "fillmode": "overlay",
              "size": 10,
              "solidity": 0.2
             }
            },
            "type": "histogram"
           }
          ],
          "histogram2d": [
           {
            "colorbar": {
             "outlinewidth": 0,
             "ticks": ""
            },
            "colorscale": [
             [
              0,
              "#0d0887"
             ],
             [
              0.1111111111111111,
              "#46039f"
             ],
             [
              0.2222222222222222,
              "#7201a8"
             ],
             [
              0.3333333333333333,
              "#9c179e"
             ],
             [
              0.4444444444444444,
              "#bd3786"
             ],
             [
              0.5555555555555556,
              "#d8576b"
             ],
             [
              0.6666666666666666,
              "#ed7953"
             ],
             [
              0.7777777777777778,
              "#fb9f3a"
             ],
             [
              0.8888888888888888,
              "#fdca26"
             ],
             [
              1,
              "#f0f921"
             ]
            ],
            "type": "histogram2d"
           }
          ],
          "histogram2dcontour": [
           {
            "colorbar": {
             "outlinewidth": 0,
             "ticks": ""
            },
            "colorscale": [
             [
              0,
              "#0d0887"
             ],
             [
              0.1111111111111111,
              "#46039f"
             ],
             [
              0.2222222222222222,
              "#7201a8"
             ],
             [
              0.3333333333333333,
              "#9c179e"
             ],
             [
              0.4444444444444444,
              "#bd3786"
             ],
             [
              0.5555555555555556,
              "#d8576b"
             ],
             [
              0.6666666666666666,
              "#ed7953"
             ],
             [
              0.7777777777777778,
              "#fb9f3a"
             ],
             [
              0.8888888888888888,
              "#fdca26"
             ],
             [
              1,
              "#f0f921"
             ]
            ],
            "type": "histogram2dcontour"
           }
          ],
          "mesh3d": [
           {
            "colorbar": {
             "outlinewidth": 0,
             "ticks": ""
            },
            "type": "mesh3d"
           }
          ],
          "parcoords": [
           {
            "line": {
             "colorbar": {
              "outlinewidth": 0,
              "ticks": ""
             }
            },
            "type": "parcoords"
           }
          ],
          "pie": [
           {
            "automargin": true,
            "type": "pie"
           }
          ],
          "scatter": [
           {
            "fillpattern": {
             "fillmode": "overlay",
             "size": 10,
             "solidity": 0.2
            },
            "type": "scatter"
           }
          ],
          "scatter3d": [
           {
            "line": {
             "colorbar": {
              "outlinewidth": 0,
              "ticks": ""
             }
            },
            "marker": {
             "colorbar": {
              "outlinewidth": 0,
              "ticks": ""
             }
            },
            "type": "scatter3d"
           }
          ],
          "scattercarpet": [
           {
            "marker": {
             "colorbar": {
              "outlinewidth": 0,
              "ticks": ""
             }
            },
            "type": "scattercarpet"
           }
          ],
          "scattergeo": [
           {
            "marker": {
             "colorbar": {
              "outlinewidth": 0,
              "ticks": ""
             }
            },
            "type": "scattergeo"
           }
          ],
          "scattergl": [
           {
            "marker": {
             "colorbar": {
              "outlinewidth": 0,
              "ticks": ""
             }
            },
            "type": "scattergl"
           }
          ],
          "scattermapbox": [
           {
            "marker": {
             "colorbar": {
              "outlinewidth": 0,
              "ticks": ""
             }
            },
            "type": "scattermapbox"
           }
          ],
          "scatterpolar": [
           {
            "marker": {
             "colorbar": {
              "outlinewidth": 0,
              "ticks": ""
             }
            },
            "type": "scatterpolar"
           }
          ],
          "scatterpolargl": [
           {
            "marker": {
             "colorbar": {
              "outlinewidth": 0,
              "ticks": ""
             }
            },
            "type": "scatterpolargl"
           }
          ],
          "scatterternary": [
           {
            "marker": {
             "colorbar": {
              "outlinewidth": 0,
              "ticks": ""
             }
            },
            "type": "scatterternary"
           }
          ],
          "surface": [
           {
            "colorbar": {
             "outlinewidth": 0,
             "ticks": ""
            },
            "colorscale": [
             [
              0,
              "#0d0887"
             ],
             [
              0.1111111111111111,
              "#46039f"
             ],
             [
              0.2222222222222222,
              "#7201a8"
             ],
             [
              0.3333333333333333,
              "#9c179e"
             ],
             [
              0.4444444444444444,
              "#bd3786"
             ],
             [
              0.5555555555555556,
              "#d8576b"
             ],
             [
              0.6666666666666666,
              "#ed7953"
             ],
             [
              0.7777777777777778,
              "#fb9f3a"
             ],
             [
              0.8888888888888888,
              "#fdca26"
             ],
             [
              1,
              "#f0f921"
             ]
            ],
            "type": "surface"
           }
          ],
          "table": [
           {
            "cells": {
             "fill": {
              "color": "#EBF0F8"
             },
             "line": {
              "color": "white"
             }
            },
            "header": {
             "fill": {
              "color": "#C8D4E3"
             },
             "line": {
              "color": "white"
             }
            },
            "type": "table"
           }
          ]
         },
         "layout": {
          "annotationdefaults": {
           "arrowcolor": "#2a3f5f",
           "arrowhead": 0,
           "arrowwidth": 1
          },
          "autotypenumbers": "strict",
          "coloraxis": {
           "colorbar": {
            "outlinewidth": 0,
            "ticks": ""
           }
          },
          "colorscale": {
           "diverging": [
            [
             0,
             "#8e0152"
            ],
            [
             0.1,
             "#c51b7d"
            ],
            [
             0.2,
             "#de77ae"
            ],
            [
             0.3,
             "#f1b6da"
            ],
            [
             0.4,
             "#fde0ef"
            ],
            [
             0.5,
             "#f7f7f7"
            ],
            [
             0.6,
             "#e6f5d0"
            ],
            [
             0.7,
             "#b8e186"
            ],
            [
             0.8,
             "#7fbc41"
            ],
            [
             0.9,
             "#4d9221"
            ],
            [
             1,
             "#276419"
            ]
           ],
           "sequential": [
            [
             0,
             "#0d0887"
            ],
            [
             0.1111111111111111,
             "#46039f"
            ],
            [
             0.2222222222222222,
             "#7201a8"
            ],
            [
             0.3333333333333333,
             "#9c179e"
            ],
            [
             0.4444444444444444,
             "#bd3786"
            ],
            [
             0.5555555555555556,
             "#d8576b"
            ],
            [
             0.6666666666666666,
             "#ed7953"
            ],
            [
             0.7777777777777778,
             "#fb9f3a"
            ],
            [
             0.8888888888888888,
             "#fdca26"
            ],
            [
             1,
             "#f0f921"
            ]
           ],
           "sequentialminus": [
            [
             0,
             "#0d0887"
            ],
            [
             0.1111111111111111,
             "#46039f"
            ],
            [
             0.2222222222222222,
             "#7201a8"
            ],
            [
             0.3333333333333333,
             "#9c179e"
            ],
            [
             0.4444444444444444,
             "#bd3786"
            ],
            [
             0.5555555555555556,
             "#d8576b"
            ],
            [
             0.6666666666666666,
             "#ed7953"
            ],
            [
             0.7777777777777778,
             "#fb9f3a"
            ],
            [
             0.8888888888888888,
             "#fdca26"
            ],
            [
             1,
             "#f0f921"
            ]
           ]
          },
          "colorway": [
           "#636efa",
           "#EF553B",
           "#00cc96",
           "#ab63fa",
           "#FFA15A",
           "#19d3f3",
           "#FF6692",
           "#B6E880",
           "#FF97FF",
           "#FECB52"
          ],
          "font": {
           "color": "#2a3f5f"
          },
          "geo": {
           "bgcolor": "white",
           "lakecolor": "white",
           "landcolor": "#E5ECF6",
           "showlakes": true,
           "showland": true,
           "subunitcolor": "white"
          },
          "hoverlabel": {
           "align": "left"
          },
          "hovermode": "closest",
          "mapbox": {
           "style": "light"
          },
          "paper_bgcolor": "white",
          "plot_bgcolor": "#E5ECF6",
          "polar": {
           "angularaxis": {
            "gridcolor": "white",
            "linecolor": "white",
            "ticks": ""
           },
           "bgcolor": "#E5ECF6",
           "radialaxis": {
            "gridcolor": "white",
            "linecolor": "white",
            "ticks": ""
           }
          },
          "scene": {
           "xaxis": {
            "backgroundcolor": "#E5ECF6",
            "gridcolor": "white",
            "gridwidth": 2,
            "linecolor": "white",
            "showbackground": true,
            "ticks": "",
            "zerolinecolor": "white"
           },
           "yaxis": {
            "backgroundcolor": "#E5ECF6",
            "gridcolor": "white",
            "gridwidth": 2,
            "linecolor": "white",
            "showbackground": true,
            "ticks": "",
            "zerolinecolor": "white"
           },
           "zaxis": {
            "backgroundcolor": "#E5ECF6",
            "gridcolor": "white",
            "gridwidth": 2,
            "linecolor": "white",
            "showbackground": true,
            "ticks": "",
            "zerolinecolor": "white"
           }
          },
          "shapedefaults": {
           "line": {
            "color": "#2a3f5f"
           }
          },
          "ternary": {
           "aaxis": {
            "gridcolor": "white",
            "linecolor": "white",
            "ticks": ""
           },
           "baxis": {
            "gridcolor": "white",
            "linecolor": "white",
            "ticks": ""
           },
           "bgcolor": "#E5ECF6",
           "caxis": {
            "gridcolor": "white",
            "linecolor": "white",
            "ticks": ""
           }
          },
          "title": {
           "x": 0.05
          },
          "xaxis": {
           "automargin": true,
           "gridcolor": "white",
           "linecolor": "white",
           "ticks": "",
           "title": {
            "standoff": 15
           },
           "zerolinecolor": "white",
           "zerolinewidth": 2
          },
          "yaxis": {
           "automargin": true,
           "gridcolor": "white",
           "linecolor": "white",
           "ticks": "",
           "title": {
            "standoff": 15
           },
           "zerolinecolor": "white",
           "zerolinewidth": 2
          }
         }
        },
        "title": {
         "text": "Máximo Lance Livre Ofertado por Data de Assembléia"
        },
        "xaxis": {
         "anchor": "y",
         "domain": [
          0,
          1
         ],
         "title": {
          "text": "x"
         }
        },
        "yaxis": {
         "anchor": "x",
         "domain": [
          0,
          1
         ],
         "title": {
          "text": "y"
         }
        }
       }
      },
      "text/html": [
       "<div>                            <div id=\"dd2ddb92-2aa5-48e2-8700-5e448732d6c2\" class=\"plotly-graph-div\" style=\"height:525px; width:100%;\"></div>            <script type=\"text/javascript\">                require([\"plotly\"], function(Plotly) {                    window.PLOTLYENV=window.PLOTLYENV || {};                                    if (document.getElementById(\"dd2ddb92-2aa5-48e2-8700-5e448732d6c2\")) {                    Plotly.newPlot(                        \"dd2ddb92-2aa5-48e2-8700-5e448732d6c2\",                        [{\"alignmentgroup\":\"True\",\"hovertemplate\":\"x=%{x}\\u003cbr\\u003ey=%{y}\\u003cextra\\u003e\\u003c\\u002fextra\\u003e\",\"legendgroup\":\"\",\"marker\":{\"color\":\"#636efa\",\"pattern\":{\"shape\":\"\"}},\"name\":\"\",\"offsetgroup\":\"\",\"orientation\":\"v\",\"showlegend\":false,\"textposition\":\"auto\",\"x\":[\"2020-10-15T00:00:00\",\"2020-11-12T00:00:00\",\"2020-12-14T00:00:00\",\"2021-01-14T00:00:00\",\"2021-02-12T00:00:00\",\"2021-03-12T00:00:00\",\"2021-04-14T00:00:00\",\"2021-05-13T00:00:00\",\"2021-06-14T00:00:00\",\"2021-07-15T00:00:00\",\"2021-08-12T00:00:00\",\"2021-09-14T00:00:00\",\"2021-10-15T00:00:00\",\"2021-11-12T00:00:00\",\"2021-12-14T00:00:00\",\"2022-01-13T00:00:00\",\"2022-02-15T00:00:00\",\"2022-03-15T00:00:00\",\"2022-04-14T00:00:00\",\"2022-05-12T00:00:00\",\"2022-06-15T00:00:00\",\"2022-07-14T00:00:00\",\"2022-08-12T00:00:00\",\"2022-09-15T00:00:00\",\"2022-10-13T00:00:00\",\"2022-11-14T00:00:00\",\"2022-12-15T00:00:00\",\"2023-01-12T00:00:00\",\"2023-02-14T00:00:00\",\"2023-03-14T00:00:00\",\"2023-04-13T00:00:00\",\"2023-05-12T00:00:00\",\"2023-06-15T00:00:00\",\"2023-07-13T00:00:00\",\"2023-08-15T00:00:00\",\"2023-09-14T00:00:00\",\"2023-10-17T00:00:00\",\"2023-11-14T00:00:00\",\"2023-12-14T00:00:00\",\"2024-01-12T00:00:00\",\"2024-02-15T00:00:00\",\"2024-03-14T00:00:00\",\"2024-04-12T00:00:00\",\"2024-05-14T00:00:00\",\"2024-06-12T00:00:00\",\"2024-07-12T00:00:00\",\"2024-08-14T00:00:00\"],\"xaxis\":\"x\",\"y\":[121.0,132.0,137.0,212.0,140.0,210.0,195.0,166.0,157.0,206.0,149.0,146.0,203.0,202.0,201.0,200.0,199.0,158.0,197.0,145.0,144.0,145.0,145.0,142.0,126.0,190.0,130.0,154.0,187.0,186.0,180.0,150.0,183.0,182.0,181.0,180.0,179.0,178.0,177.0,161.0,175.0,174.0,173.0,172.0,171.0,170.0,169.0],\"yaxis\":\"y\",\"type\":\"bar\"},{\"mode\":\"lines\",\"name\":\"Parcelas Remanescentes\",\"x\":[\"2020-10-15T00:00:00\",\"2020-11-12T00:00:00\",\"2020-12-14T00:00:00\",\"2021-01-14T00:00:00\",\"2021-02-12T00:00:00\",\"2021-03-12T00:00:00\",\"2021-04-14T00:00:00\",\"2021-05-13T00:00:00\",\"2021-06-14T00:00:00\",\"2021-07-15T00:00:00\",\"2021-08-12T00:00:00\",\"2021-09-14T00:00:00\",\"2021-10-15T00:00:00\",\"2021-11-12T00:00:00\",\"2021-12-14T00:00:00\",\"2022-01-13T00:00:00\",\"2022-02-15T00:00:00\",\"2022-03-15T00:00:00\",\"2022-04-14T00:00:00\",\"2022-05-12T00:00:00\",\"2022-06-15T00:00:00\",\"2022-07-14T00:00:00\",\"2022-08-12T00:00:00\",\"2022-09-15T00:00:00\",\"2022-10-13T00:00:00\",\"2022-11-14T00:00:00\",\"2022-12-15T00:00:00\",\"2023-01-12T00:00:00\",\"2023-02-14T00:00:00\",\"2023-03-14T00:00:00\",\"2023-04-13T00:00:00\",\"2023-05-12T00:00:00\",\"2023-06-15T00:00:00\",\"2023-07-13T00:00:00\",\"2023-08-15T00:00:00\",\"2023-09-14T00:00:00\",\"2023-10-17T00:00:00\",\"2023-11-14T00:00:00\",\"2023-12-14T00:00:00\",\"2024-01-12T00:00:00\",\"2024-02-15T00:00:00\",\"2024-03-14T00:00:00\",\"2024-04-12T00:00:00\",\"2024-05-14T00:00:00\",\"2024-06-12T00:00:00\",\"2024-07-12T00:00:00\",\"2024-08-14T00:00:00\"],\"y\":[215.0,214.0,213.0,212.0,211.0,210.0,209.0,208.0,207.0,206.0,205.0,204.0,203.0,202.0,201.0,200.0,199.0,198.0,197.0,196.0,195.0,194.0,193.0,192.0,191.0,190.0,189.0,188.0,187.0,186.0,185.0,184.0,183.0,182.0,181.0,180.0,179.0,178.0,177.0,176.0,175.0,174.0,173.0,172.0,171.0,170.0,169.0],\"type\":\"scatter\"},{\"mode\":\"lines\",\"name\":\"Max sem Retorno Negativo\",\"x\":[\"2020-10-15T00:00:00\",\"2020-11-12T00:00:00\",\"2020-12-14T00:00:00\",\"2021-01-14T00:00:00\",\"2021-02-12T00:00:00\",\"2021-03-12T00:00:00\",\"2021-04-14T00:00:00\",\"2021-05-13T00:00:00\",\"2021-06-14T00:00:00\",\"2021-07-15T00:00:00\",\"2021-08-12T00:00:00\",\"2021-09-14T00:00:00\",\"2021-10-15T00:00:00\",\"2021-11-12T00:00:00\",\"2021-12-14T00:00:00\",\"2022-01-13T00:00:00\",\"2022-02-15T00:00:00\",\"2022-03-15T00:00:00\",\"2022-04-14T00:00:00\",\"2022-05-12T00:00:00\",\"2022-06-15T00:00:00\",\"2022-07-14T00:00:00\",\"2022-08-12T00:00:00\",\"2022-09-15T00:00:00\",\"2022-10-13T00:00:00\",\"2022-11-14T00:00:00\",\"2022-12-15T00:00:00\",\"2023-01-12T00:00:00\",\"2023-02-14T00:00:00\",\"2023-03-14T00:00:00\",\"2023-04-13T00:00:00\",\"2023-05-12T00:00:00\",\"2023-06-15T00:00:00\",\"2023-07-13T00:00:00\",\"2023-08-15T00:00:00\",\"2023-09-14T00:00:00\",\"2023-10-17T00:00:00\",\"2023-11-14T00:00:00\",\"2023-12-14T00:00:00\",\"2024-01-12T00:00:00\",\"2024-02-15T00:00:00\",\"2024-03-14T00:00:00\",\"2024-04-12T00:00:00\",\"2024-05-14T00:00:00\",\"2024-06-12T00:00:00\",\"2024-07-12T00:00:00\",\"2024-08-14T00:00:00\"],\"y\":[174.0,173.0,172.0,171.0,170.0,169.0,168.0,167.0,166.0,165.0,164.0,163.0,162.0,161.0,160.0,159.0,158.0,157.0,156.0,155.0,154.0,153.0,152.0,151.0,150.0,149.0,148.0,147.0,146.0,145.0,144.0,143.0,142.0,141.0,140.0,139.0,138.0,137.0,136.0,135.0,134.0,133.0,132.0,131.0,130.0,129.0,128.0],\"type\":\"scatter\"},{\"mode\":\"lines\",\"name\":\"Taxa eq. Financiamento (13%)\",\"x\":[\"2020-10-15T00:00:00\",\"2020-11-12T00:00:00\",\"2020-12-14T00:00:00\",\"2021-01-14T00:00:00\",\"2021-02-12T00:00:00\",\"2021-03-12T00:00:00\",\"2021-04-14T00:00:00\",\"2021-05-13T00:00:00\",\"2021-06-14T00:00:00\",\"2021-07-15T00:00:00\",\"2021-08-12T00:00:00\",\"2021-09-14T00:00:00\",\"2021-10-15T00:00:00\",\"2021-11-12T00:00:00\",\"2021-12-14T00:00:00\",\"2022-01-13T00:00:00\",\"2022-02-15T00:00:00\",\"2022-03-15T00:00:00\",\"2022-04-14T00:00:00\",\"2022-05-12T00:00:00\",\"2022-06-15T00:00:00\",\"2022-07-14T00:00:00\",\"2022-08-12T00:00:00\",\"2022-09-15T00:00:00\",\"2022-10-13T00:00:00\",\"2022-11-14T00:00:00\",\"2022-12-15T00:00:00\",\"2023-01-12T00:00:00\",\"2023-02-14T00:00:00\",\"2023-03-14T00:00:00\",\"2023-04-13T00:00:00\",\"2023-05-12T00:00:00\",\"2023-06-15T00:00:00\",\"2023-07-13T00:00:00\",\"2023-08-15T00:00:00\",\"2023-09-14T00:00:00\",\"2023-10-17T00:00:00\",\"2023-11-14T00:00:00\",\"2023-12-14T00:00:00\",\"2024-01-12T00:00:00\",\"2024-02-15T00:00:00\",\"2024-03-14T00:00:00\",\"2024-04-12T00:00:00\",\"2024-05-14T00:00:00\",\"2024-06-12T00:00:00\",\"2024-07-12T00:00:00\",\"2024-08-14T00:00:00\"],\"y\":[156.0,155.0,154.0,153.0,152.0,151.0,150.0,149.0,148.0,147.0,146.0,145.0,144.0,143.0,142.0,141.0,140.0,139.0,138.0,137.0,136.0,135.0,134.0,133.0,132.0,131.0,130.0,129.0,128.0,127.0,126.0,125.0,124.0,123.0,122.0,121.0,120.0,119.0,118.0,117.0,116.0,115.0,114.0,113.0,112.0,111.0,110.0],\"type\":\"scatter\"},{\"mode\":\"lines\",\"name\":\"Taxa eq. SELIC (10,5%)\",\"x\":[\"2020-10-15T00:00:00\",\"2020-11-12T00:00:00\",\"2020-12-14T00:00:00\",\"2021-01-14T00:00:00\",\"2021-02-12T00:00:00\",\"2021-03-12T00:00:00\",\"2021-04-14T00:00:00\",\"2021-05-13T00:00:00\",\"2021-06-14T00:00:00\",\"2021-07-15T00:00:00\",\"2021-08-12T00:00:00\",\"2021-09-14T00:00:00\",\"2021-10-15T00:00:00\",\"2021-11-12T00:00:00\",\"2021-12-14T00:00:00\",\"2022-01-13T00:00:00\",\"2022-02-15T00:00:00\",\"2022-03-15T00:00:00\",\"2022-04-14T00:00:00\",\"2022-05-12T00:00:00\",\"2022-06-15T00:00:00\",\"2022-07-14T00:00:00\",\"2022-08-12T00:00:00\",\"2022-09-15T00:00:00\",\"2022-10-13T00:00:00\",\"2022-11-14T00:00:00\",\"2022-12-15T00:00:00\",\"2023-01-12T00:00:00\",\"2023-02-14T00:00:00\",\"2023-03-14T00:00:00\",\"2023-04-13T00:00:00\",\"2023-05-12T00:00:00\",\"2023-06-15T00:00:00\",\"2023-07-13T00:00:00\",\"2023-08-15T00:00:00\",\"2023-09-14T00:00:00\",\"2023-10-17T00:00:00\",\"2023-11-14T00:00:00\",\"2023-12-14T00:00:00\",\"2024-01-12T00:00:00\",\"2024-02-15T00:00:00\",\"2024-03-14T00:00:00\",\"2024-04-12T00:00:00\",\"2024-05-14T00:00:00\",\"2024-06-12T00:00:00\",\"2024-07-12T00:00:00\",\"2024-08-14T00:00:00\"],\"y\":[151.0,150.0,149.0,148.0,147.0,146.0,145.0,144.0,143.0,142.0,141.0,140.0,139.0,138.0,137.0,136.0,135.0,134.0,133.0,132.0,131.0,130.0,129.0,128.0,127.0,126.0,125.0,124.0,123.0,122.0,121.0,120.0,119.0,118.0,117.0,116.0,115.0,114.0,113.0,112.0,111.0,110.0,109.0,108.0,107.0,106.0,105.0],\"type\":\"scatter\"}],                        {\"template\":{\"data\":{\"histogram2dcontour\":[{\"type\":\"histogram2dcontour\",\"colorbar\":{\"outlinewidth\":0,\"ticks\":\"\"},\"colorscale\":[[0.0,\"#0d0887\"],[0.1111111111111111,\"#46039f\"],[0.2222222222222222,\"#7201a8\"],[0.3333333333333333,\"#9c179e\"],[0.4444444444444444,\"#bd3786\"],[0.5555555555555556,\"#d8576b\"],[0.6666666666666666,\"#ed7953\"],[0.7777777777777778,\"#fb9f3a\"],[0.8888888888888888,\"#fdca26\"],[1.0,\"#f0f921\"]]}],\"choropleth\":[{\"type\":\"choropleth\",\"colorbar\":{\"outlinewidth\":0,\"ticks\":\"\"}}],\"histogram2d\":[{\"type\":\"histogram2d\",\"colorbar\":{\"outlinewidth\":0,\"ticks\":\"\"},\"colorscale\":[[0.0,\"#0d0887\"],[0.1111111111111111,\"#46039f\"],[0.2222222222222222,\"#7201a8\"],[0.3333333333333333,\"#9c179e\"],[0.4444444444444444,\"#bd3786\"],[0.5555555555555556,\"#d8576b\"],[0.6666666666666666,\"#ed7953\"],[0.7777777777777778,\"#fb9f3a\"],[0.8888888888888888,\"#fdca26\"],[1.0,\"#f0f921\"]]}],\"heatmap\":[{\"type\":\"heatmap\",\"colorbar\":{\"outlinewidth\":0,\"ticks\":\"\"},\"colorscale\":[[0.0,\"#0d0887\"],[0.1111111111111111,\"#46039f\"],[0.2222222222222222,\"#7201a8\"],[0.3333333333333333,\"#9c179e\"],[0.4444444444444444,\"#bd3786\"],[0.5555555555555556,\"#d8576b\"],[0.6666666666666666,\"#ed7953\"],[0.7777777777777778,\"#fb9f3a\"],[0.8888888888888888,\"#fdca26\"],[1.0,\"#f0f921\"]]}],\"heatmapgl\":[{\"type\":\"heatmapgl\",\"colorbar\":{\"outlinewidth\":0,\"ticks\":\"\"},\"colorscale\":[[0.0,\"#0d0887\"],[0.1111111111111111,\"#46039f\"],[0.2222222222222222,\"#7201a8\"],[0.3333333333333333,\"#9c179e\"],[0.4444444444444444,\"#bd3786\"],[0.5555555555555556,\"#d8576b\"],[0.6666666666666666,\"#ed7953\"],[0.7777777777777778,\"#fb9f3a\"],[0.8888888888888888,\"#fdca26\"],[1.0,\"#f0f921\"]]}],\"contourcarpet\":[{\"type\":\"contourcarpet\",\"colorbar\":{\"outlinewidth\":0,\"ticks\":\"\"}}],\"contour\":[{\"type\":\"contour\",\"colorbar\":{\"outlinewidth\":0,\"ticks\":\"\"},\"colorscale\":[[0.0,\"#0d0887\"],[0.1111111111111111,\"#46039f\"],[0.2222222222222222,\"#7201a8\"],[0.3333333333333333,\"#9c179e\"],[0.4444444444444444,\"#bd3786\"],[0.5555555555555556,\"#d8576b\"],[0.6666666666666666,\"#ed7953\"],[0.7777777777777778,\"#fb9f3a\"],[0.8888888888888888,\"#fdca26\"],[1.0,\"#f0f921\"]]}],\"surface\":[{\"type\":\"surface\",\"colorbar\":{\"outlinewidth\":0,\"ticks\":\"\"},\"colorscale\":[[0.0,\"#0d0887\"],[0.1111111111111111,\"#46039f\"],[0.2222222222222222,\"#7201a8\"],[0.3333333333333333,\"#9c179e\"],[0.4444444444444444,\"#bd3786\"],[0.5555555555555556,\"#d8576b\"],[0.6666666666666666,\"#ed7953\"],[0.7777777777777778,\"#fb9f3a\"],[0.8888888888888888,\"#fdca26\"],[1.0,\"#f0f921\"]]}],\"mesh3d\":[{\"type\":\"mesh3d\",\"colorbar\":{\"outlinewidth\":0,\"ticks\":\"\"}}],\"scatter\":[{\"fillpattern\":{\"fillmode\":\"overlay\",\"size\":10,\"solidity\":0.2},\"type\":\"scatter\"}],\"parcoords\":[{\"type\":\"parcoords\",\"line\":{\"colorbar\":{\"outlinewidth\":0,\"ticks\":\"\"}}}],\"scatterpolargl\":[{\"type\":\"scatterpolargl\",\"marker\":{\"colorbar\":{\"outlinewidth\":0,\"ticks\":\"\"}}}],\"bar\":[{\"error_x\":{\"color\":\"#2a3f5f\"},\"error_y\":{\"color\":\"#2a3f5f\"},\"marker\":{\"line\":{\"color\":\"#E5ECF6\",\"width\":0.5},\"pattern\":{\"fillmode\":\"overlay\",\"size\":10,\"solidity\":0.2}},\"type\":\"bar\"}],\"scattergeo\":[{\"type\":\"scattergeo\",\"marker\":{\"colorbar\":{\"outlinewidth\":0,\"ticks\":\"\"}}}],\"scatterpolar\":[{\"type\":\"scatterpolar\",\"marker\":{\"colorbar\":{\"outlinewidth\":0,\"ticks\":\"\"}}}],\"histogram\":[{\"marker\":{\"pattern\":{\"fillmode\":\"overlay\",\"size\":10,\"solidity\":0.2}},\"type\":\"histogram\"}],\"scattergl\":[{\"type\":\"scattergl\",\"marker\":{\"colorbar\":{\"outlinewidth\":0,\"ticks\":\"\"}}}],\"scatter3d\":[{\"type\":\"scatter3d\",\"line\":{\"colorbar\":{\"outlinewidth\":0,\"ticks\":\"\"}},\"marker\":{\"colorbar\":{\"outlinewidth\":0,\"ticks\":\"\"}}}],\"scattermapbox\":[{\"type\":\"scattermapbox\",\"marker\":{\"colorbar\":{\"outlinewidth\":0,\"ticks\":\"\"}}}],\"scatterternary\":[{\"type\":\"scatterternary\",\"marker\":{\"colorbar\":{\"outlinewidth\":0,\"ticks\":\"\"}}}],\"scattercarpet\":[{\"type\":\"scattercarpet\",\"marker\":{\"colorbar\":{\"outlinewidth\":0,\"ticks\":\"\"}}}],\"carpet\":[{\"aaxis\":{\"endlinecolor\":\"#2a3f5f\",\"gridcolor\":\"white\",\"linecolor\":\"white\",\"minorgridcolor\":\"white\",\"startlinecolor\":\"#2a3f5f\"},\"baxis\":{\"endlinecolor\":\"#2a3f5f\",\"gridcolor\":\"white\",\"linecolor\":\"white\",\"minorgridcolor\":\"white\",\"startlinecolor\":\"#2a3f5f\"},\"type\":\"carpet\"}],\"table\":[{\"cells\":{\"fill\":{\"color\":\"#EBF0F8\"},\"line\":{\"color\":\"white\"}},\"header\":{\"fill\":{\"color\":\"#C8D4E3\"},\"line\":{\"color\":\"white\"}},\"type\":\"table\"}],\"barpolar\":[{\"marker\":{\"line\":{\"color\":\"#E5ECF6\",\"width\":0.5},\"pattern\":{\"fillmode\":\"overlay\",\"size\":10,\"solidity\":0.2}},\"type\":\"barpolar\"}],\"pie\":[{\"automargin\":true,\"type\":\"pie\"}]},\"layout\":{\"autotypenumbers\":\"strict\",\"colorway\":[\"#636efa\",\"#EF553B\",\"#00cc96\",\"#ab63fa\",\"#FFA15A\",\"#19d3f3\",\"#FF6692\",\"#B6E880\",\"#FF97FF\",\"#FECB52\"],\"font\":{\"color\":\"#2a3f5f\"},\"hovermode\":\"closest\",\"hoverlabel\":{\"align\":\"left\"},\"paper_bgcolor\":\"white\",\"plot_bgcolor\":\"#E5ECF6\",\"polar\":{\"bgcolor\":\"#E5ECF6\",\"angularaxis\":{\"gridcolor\":\"white\",\"linecolor\":\"white\",\"ticks\":\"\"},\"radialaxis\":{\"gridcolor\":\"white\",\"linecolor\":\"white\",\"ticks\":\"\"}},\"ternary\":{\"bgcolor\":\"#E5ECF6\",\"aaxis\":{\"gridcolor\":\"white\",\"linecolor\":\"white\",\"ticks\":\"\"},\"baxis\":{\"gridcolor\":\"white\",\"linecolor\":\"white\",\"ticks\":\"\"},\"caxis\":{\"gridcolor\":\"white\",\"linecolor\":\"white\",\"ticks\":\"\"}},\"coloraxis\":{\"colorbar\":{\"outlinewidth\":0,\"ticks\":\"\"}},\"colorscale\":{\"sequential\":[[0.0,\"#0d0887\"],[0.1111111111111111,\"#46039f\"],[0.2222222222222222,\"#7201a8\"],[0.3333333333333333,\"#9c179e\"],[0.4444444444444444,\"#bd3786\"],[0.5555555555555556,\"#d8576b\"],[0.6666666666666666,\"#ed7953\"],[0.7777777777777778,\"#fb9f3a\"],[0.8888888888888888,\"#fdca26\"],[1.0,\"#f0f921\"]],\"sequentialminus\":[[0.0,\"#0d0887\"],[0.1111111111111111,\"#46039f\"],[0.2222222222222222,\"#7201a8\"],[0.3333333333333333,\"#9c179e\"],[0.4444444444444444,\"#bd3786\"],[0.5555555555555556,\"#d8576b\"],[0.6666666666666666,\"#ed7953\"],[0.7777777777777778,\"#fb9f3a\"],[0.8888888888888888,\"#fdca26\"],[1.0,\"#f0f921\"]],\"diverging\":[[0,\"#8e0152\"],[0.1,\"#c51b7d\"],[0.2,\"#de77ae\"],[0.3,\"#f1b6da\"],[0.4,\"#fde0ef\"],[0.5,\"#f7f7f7\"],[0.6,\"#e6f5d0\"],[0.7,\"#b8e186\"],[0.8,\"#7fbc41\"],[0.9,\"#4d9221\"],[1,\"#276419\"]]},\"xaxis\":{\"gridcolor\":\"white\",\"linecolor\":\"white\",\"ticks\":\"\",\"title\":{\"standoff\":15},\"zerolinecolor\":\"white\",\"automargin\":true,\"zerolinewidth\":2},\"yaxis\":{\"gridcolor\":\"white\",\"linecolor\":\"white\",\"ticks\":\"\",\"title\":{\"standoff\":15},\"zerolinecolor\":\"white\",\"automargin\":true,\"zerolinewidth\":2},\"scene\":{\"xaxis\":{\"backgroundcolor\":\"#E5ECF6\",\"gridcolor\":\"white\",\"linecolor\":\"white\",\"showbackground\":true,\"ticks\":\"\",\"zerolinecolor\":\"white\",\"gridwidth\":2},\"yaxis\":{\"backgroundcolor\":\"#E5ECF6\",\"gridcolor\":\"white\",\"linecolor\":\"white\",\"showbackground\":true,\"ticks\":\"\",\"zerolinecolor\":\"white\",\"gridwidth\":2},\"zaxis\":{\"backgroundcolor\":\"#E5ECF6\",\"gridcolor\":\"white\",\"linecolor\":\"white\",\"showbackground\":true,\"ticks\":\"\",\"zerolinecolor\":\"white\",\"gridwidth\":2}},\"shapedefaults\":{\"line\":{\"color\":\"#2a3f5f\"}},\"annotationdefaults\":{\"arrowcolor\":\"#2a3f5f\",\"arrowhead\":0,\"arrowwidth\":1},\"geo\":{\"bgcolor\":\"white\",\"landcolor\":\"#E5ECF6\",\"subunitcolor\":\"white\",\"showland\":true,\"showlakes\":true,\"lakecolor\":\"white\"},\"title\":{\"x\":0.05},\"mapbox\":{\"style\":\"light\"}}},\"xaxis\":{\"anchor\":\"y\",\"domain\":[0.0,1.0],\"title\":{\"text\":\"x\"}},\"yaxis\":{\"anchor\":\"x\",\"domain\":[0.0,1.0],\"title\":{\"text\":\"y\"}},\"legend\":{\"tracegroupgap\":0},\"title\":{\"text\":\"M\\u00e1ximo Lance Livre Ofertado por Data de Assembl\\u00e9ia\"},\"barmode\":\"relative\"},                        {\"responsive\": true}                    ).then(function(){\n",
       "                            \n",
       "var gd = document.getElementById('dd2ddb92-2aa5-48e2-8700-5e448732d6c2');\n",
       "var x = new MutationObserver(function (mutations, observer) {{\n",
       "        var display = window.getComputedStyle(gd).display;\n",
       "        if (!display || display === 'none') {{\n",
       "            console.log([gd, 'removed!']);\n",
       "            Plotly.purge(gd);\n",
       "            observer.disconnect();\n",
       "        }}\n",
       "}});\n",
       "\n",
       "// Listen for the removal of the full notebook cells\n",
       "var notebookContainer = gd.closest('#notebook-container');\n",
       "if (notebookContainer) {{\n",
       "    x.observe(notebookContainer, {childList: true});\n",
       "}}\n",
       "\n",
       "// Listen for the clearing of the current output cell\n",
       "var outputEl = gd.closest('.output');\n",
       "if (outputEl) {{\n",
       "    x.observe(outputEl, {childList: true});\n",
       "}}\n",
       "\n",
       "                        })                };                });            </script>        </div>"
      ]
     },
     "metadata": {},
     "output_type": "display_data"
    }
   ],
   "source": [
    "chart_df = (\n",
    "    df[[\"data_assembleia\", \"max_parcelas\", \"max_selic\", \"max_fin_imob\", \"max_sem_perda\", \"quantidadeParcelaLance\"]]\n",
    "    .where(df[\"modalidade\"] == \"Lance Livre\")\n",
    "    .groupby([\"data_assembleia\", \"max_parcelas\", \"max_selic\", \"max_fin_imob\", \"max_sem_perda\"])\n",
    "    .max()\n",
    "    .reset_index()\n",
    ")\n",
    "# print(chart_df)\n",
    "fig = px.bar(\n",
    "    x=chart_df[\"data_assembleia\"],\n",
    "    y=chart_df[\"quantidadeParcelaLance\"],\n",
    "    labels={\n",
    "        \"data_assembleia\": \"Data da assembleia\",\n",
    "        \"quantidadeParcelaLance\": \"Lance Livre\",\n",
    "    },\n",
    "    title=f\"Máximo Lance Livre Ofertado por Data de Assembléia\",\n",
    ")\n",
    "fig.add_scatter(\n",
    "    x=chart_df[\"data_assembleia\"],\n",
    "    y=chart_df[\"max_parcelas\"],\n",
    "    mode=\"lines\",\n",
    "    name=\"Parcelas Remanescentes\",\n",
    ")\n",
    "fig.add_scatter(\n",
    "    x=chart_df[\"data_assembleia\"],\n",
    "    y=chart_df[\"max_sem_perda\"],\n",
    "    mode=\"lines\",\n",
    "    name=\"Max sem Retorno Negativo\",\n",
    ")\n",
    "fig.add_scatter(\n",
    "    x=chart_df[\"data_assembleia\"],\n",
    "    y=chart_df[\"max_fin_imob\"],\n",
    "    mode=\"lines\",\n",
    "    name=\"Taxa eq. Financiamento (13%)\",\n",
    ")\n",
    "\n",
    "fig.add_scatter(\n",
    "    x=chart_df[\"data_assembleia\"],\n",
    "    y=chart_df[\"max_selic\"],\n",
    "    mode=\"lines\",\n",
    "    name=\"Taxa eq. SELIC (10,5%)\",\n",
    ")\n",
    "fig.show()"
   ]
  },
  {
   "cell_type": "code",
   "execution_count": 125,
   "metadata": {},
   "outputs": [
    {
     "data": {
      "application/vnd.plotly.v1+json": {
       "config": {
        "plotlyServerURL": "https://plot.ly"
       },
       "data": [
        {
         "alignmentgroup": "True",
         "hovertemplate": "x=%{x}<br>y=%{y}<extra></extra>",
         "legendgroup": "",
         "marker": {
          "color": "#636efa",
          "pattern": {
           "shape": ""
          }
         },
         "name": "",
         "offsetgroup": "",
         "orientation": "v",
         "showlegend": false,
         "textposition": "auto",
         "type": "bar",
         "x": [
          "2020-10-15T00:00:00",
          "2020-12-14T00:00:00",
          "2021-01-14T00:00:00",
          "2021-02-12T00:00:00",
          "2021-03-12T00:00:00",
          "2021-04-14T00:00:00",
          "2021-09-14T00:00:00",
          "2021-11-12T00:00:00",
          "2022-01-13T00:00:00",
          "2022-02-15T00:00:00",
          "2022-03-15T00:00:00",
          "2022-05-12T00:00:00",
          "2022-06-15T00:00:00",
          "2022-07-14T00:00:00",
          "2022-08-12T00:00:00",
          "2022-09-15T00:00:00",
          "2022-10-13T00:00:00",
          "2022-11-14T00:00:00",
          "2023-01-12T00:00:00",
          "2023-07-13T00:00:00",
          "2023-09-14T00:00:00",
          "2023-11-14T00:00:00",
          "2023-12-14T00:00:00",
          "2024-02-15T00:00:00",
          "2024-03-14T00:00:00",
          "2024-04-12T00:00:00",
          "2024-05-14T00:00:00",
          "2024-06-12T00:00:00",
          "2024-07-12T00:00:00",
          "2024-08-14T00:00:00"
         ],
         "xaxis": "x",
         "y": [
          121,
          137,
          140,
          140,
          141,
          143,
          141,
          202,
          200,
          199,
          158,
          132,
          132,
          134,
          132,
          134,
          108,
          130,
          134,
          182,
          180,
          178,
          177,
          175,
          174,
          173,
          172,
          171,
          170,
          169
         ],
         "yaxis": "y"
        },
        {
         "mode": "lines",
         "name": "Parcelas Remanescentes",
         "type": "scatter",
         "x": [
          "2020-10-15T00:00:00",
          "2020-12-14T00:00:00",
          "2021-01-14T00:00:00",
          "2021-02-12T00:00:00",
          "2021-03-12T00:00:00",
          "2021-04-14T00:00:00",
          "2021-09-14T00:00:00",
          "2021-11-12T00:00:00",
          "2022-01-13T00:00:00",
          "2022-02-15T00:00:00",
          "2022-03-15T00:00:00",
          "2022-05-12T00:00:00",
          "2022-06-15T00:00:00",
          "2022-07-14T00:00:00",
          "2022-08-12T00:00:00",
          "2022-09-15T00:00:00",
          "2022-10-13T00:00:00",
          "2022-11-14T00:00:00",
          "2023-01-12T00:00:00",
          "2023-07-13T00:00:00",
          "2023-09-14T00:00:00",
          "2023-11-14T00:00:00",
          "2023-12-14T00:00:00",
          "2024-02-15T00:00:00",
          "2024-03-14T00:00:00",
          "2024-04-12T00:00:00",
          "2024-05-14T00:00:00",
          "2024-06-12T00:00:00",
          "2024-07-12T00:00:00",
          "2024-08-14T00:00:00"
         ],
         "y": [
          215,
          213,
          212,
          211,
          210,
          209,
          204,
          202,
          200,
          199,
          198,
          196,
          195,
          194,
          193,
          192,
          191,
          190,
          188,
          182,
          180,
          178,
          177,
          175,
          174,
          173,
          172,
          171,
          170,
          169
         ]
        },
        {
         "mode": "lines",
         "name": "Max sem Retorno Negativo",
         "type": "scatter",
         "x": [
          "2020-10-15T00:00:00",
          "2020-12-14T00:00:00",
          "2021-01-14T00:00:00",
          "2021-02-12T00:00:00",
          "2021-03-12T00:00:00",
          "2021-04-14T00:00:00",
          "2021-09-14T00:00:00",
          "2021-11-12T00:00:00",
          "2022-01-13T00:00:00",
          "2022-02-15T00:00:00",
          "2022-03-15T00:00:00",
          "2022-05-12T00:00:00",
          "2022-06-15T00:00:00",
          "2022-07-14T00:00:00",
          "2022-08-12T00:00:00",
          "2022-09-15T00:00:00",
          "2022-10-13T00:00:00",
          "2022-11-14T00:00:00",
          "2023-01-12T00:00:00",
          "2023-07-13T00:00:00",
          "2023-09-14T00:00:00",
          "2023-11-14T00:00:00",
          "2023-12-14T00:00:00",
          "2024-02-15T00:00:00",
          "2024-03-14T00:00:00",
          "2024-04-12T00:00:00",
          "2024-05-14T00:00:00",
          "2024-06-12T00:00:00",
          "2024-07-12T00:00:00",
          "2024-08-14T00:00:00"
         ],
         "y": [
          174,
          172,
          171,
          170,
          169,
          168,
          163,
          161,
          159,
          158,
          157,
          155,
          154,
          153,
          152,
          151,
          150,
          149,
          147,
          141,
          139,
          137,
          136,
          134,
          133,
          132,
          131,
          130,
          129,
          128
         ]
        },
        {
         "mode": "lines",
         "name": "Taxa eq. Financiamento (13%)",
         "type": "scatter",
         "x": [
          "2020-10-15T00:00:00",
          "2020-12-14T00:00:00",
          "2021-01-14T00:00:00",
          "2021-02-12T00:00:00",
          "2021-03-12T00:00:00",
          "2021-04-14T00:00:00",
          "2021-09-14T00:00:00",
          "2021-11-12T00:00:00",
          "2022-01-13T00:00:00",
          "2022-02-15T00:00:00",
          "2022-03-15T00:00:00",
          "2022-05-12T00:00:00",
          "2022-06-15T00:00:00",
          "2022-07-14T00:00:00",
          "2022-08-12T00:00:00",
          "2022-09-15T00:00:00",
          "2022-10-13T00:00:00",
          "2022-11-14T00:00:00",
          "2023-01-12T00:00:00",
          "2023-07-13T00:00:00",
          "2023-09-14T00:00:00",
          "2023-11-14T00:00:00",
          "2023-12-14T00:00:00",
          "2024-02-15T00:00:00",
          "2024-03-14T00:00:00",
          "2024-04-12T00:00:00",
          "2024-05-14T00:00:00",
          "2024-06-12T00:00:00",
          "2024-07-12T00:00:00",
          "2024-08-14T00:00:00"
         ],
         "y": [
          156,
          154,
          153,
          152,
          151,
          150,
          145,
          143,
          141,
          140,
          139,
          137,
          136,
          135,
          134,
          133,
          132,
          131,
          129,
          123,
          121,
          119,
          118,
          116,
          115,
          114,
          113,
          112,
          111,
          110
         ]
        },
        {
         "mode": "lines",
         "name": "Taxa eq. SELIC (10,5%)",
         "type": "scatter",
         "x": [
          "2020-10-15T00:00:00",
          "2020-12-14T00:00:00",
          "2021-01-14T00:00:00",
          "2021-02-12T00:00:00",
          "2021-03-12T00:00:00",
          "2021-04-14T00:00:00",
          "2021-09-14T00:00:00",
          "2021-11-12T00:00:00",
          "2022-01-13T00:00:00",
          "2022-02-15T00:00:00",
          "2022-03-15T00:00:00",
          "2022-05-12T00:00:00",
          "2022-06-15T00:00:00",
          "2022-07-14T00:00:00",
          "2022-08-12T00:00:00",
          "2022-09-15T00:00:00",
          "2022-10-13T00:00:00",
          "2022-11-14T00:00:00",
          "2023-01-12T00:00:00",
          "2023-07-13T00:00:00",
          "2023-09-14T00:00:00",
          "2023-11-14T00:00:00",
          "2023-12-14T00:00:00",
          "2024-02-15T00:00:00",
          "2024-03-14T00:00:00",
          "2024-04-12T00:00:00",
          "2024-05-14T00:00:00",
          "2024-06-12T00:00:00",
          "2024-07-12T00:00:00",
          "2024-08-14T00:00:00"
         ],
         "y": [
          151,
          149,
          148,
          147,
          146,
          145,
          140,
          138,
          136,
          135,
          134,
          132,
          131,
          130,
          129,
          128,
          127,
          126,
          124,
          118,
          116,
          114,
          113,
          111,
          110,
          109,
          108,
          107,
          106,
          105
         ]
        }
       ],
       "layout": {
        "barmode": "relative",
        "legend": {
         "tracegroupgap": 0
        },
        "template": {
         "data": {
          "bar": [
           {
            "error_x": {
             "color": "#2a3f5f"
            },
            "error_y": {
             "color": "#2a3f5f"
            },
            "marker": {
             "line": {
              "color": "#E5ECF6",
              "width": 0.5
             },
             "pattern": {
              "fillmode": "overlay",
              "size": 10,
              "solidity": 0.2
             }
            },
            "type": "bar"
           }
          ],
          "barpolar": [
           {
            "marker": {
             "line": {
              "color": "#E5ECF6",
              "width": 0.5
             },
             "pattern": {
              "fillmode": "overlay",
              "size": 10,
              "solidity": 0.2
             }
            },
            "type": "barpolar"
           }
          ],
          "carpet": [
           {
            "aaxis": {
             "endlinecolor": "#2a3f5f",
             "gridcolor": "white",
             "linecolor": "white",
             "minorgridcolor": "white",
             "startlinecolor": "#2a3f5f"
            },
            "baxis": {
             "endlinecolor": "#2a3f5f",
             "gridcolor": "white",
             "linecolor": "white",
             "minorgridcolor": "white",
             "startlinecolor": "#2a3f5f"
            },
            "type": "carpet"
           }
          ],
          "choropleth": [
           {
            "colorbar": {
             "outlinewidth": 0,
             "ticks": ""
            },
            "type": "choropleth"
           }
          ],
          "contour": [
           {
            "colorbar": {
             "outlinewidth": 0,
             "ticks": ""
            },
            "colorscale": [
             [
              0,
              "#0d0887"
             ],
             [
              0.1111111111111111,
              "#46039f"
             ],
             [
              0.2222222222222222,
              "#7201a8"
             ],
             [
              0.3333333333333333,
              "#9c179e"
             ],
             [
              0.4444444444444444,
              "#bd3786"
             ],
             [
              0.5555555555555556,
              "#d8576b"
             ],
             [
              0.6666666666666666,
              "#ed7953"
             ],
             [
              0.7777777777777778,
              "#fb9f3a"
             ],
             [
              0.8888888888888888,
              "#fdca26"
             ],
             [
              1,
              "#f0f921"
             ]
            ],
            "type": "contour"
           }
          ],
          "contourcarpet": [
           {
            "colorbar": {
             "outlinewidth": 0,
             "ticks": ""
            },
            "type": "contourcarpet"
           }
          ],
          "heatmap": [
           {
            "colorbar": {
             "outlinewidth": 0,
             "ticks": ""
            },
            "colorscale": [
             [
              0,
              "#0d0887"
             ],
             [
              0.1111111111111111,
              "#46039f"
             ],
             [
              0.2222222222222222,
              "#7201a8"
             ],
             [
              0.3333333333333333,
              "#9c179e"
             ],
             [
              0.4444444444444444,
              "#bd3786"
             ],
             [
              0.5555555555555556,
              "#d8576b"
             ],
             [
              0.6666666666666666,
              "#ed7953"
             ],
             [
              0.7777777777777778,
              "#fb9f3a"
             ],
             [
              0.8888888888888888,
              "#fdca26"
             ],
             [
              1,
              "#f0f921"
             ]
            ],
            "type": "heatmap"
           }
          ],
          "heatmapgl": [
           {
            "colorbar": {
             "outlinewidth": 0,
             "ticks": ""
            },
            "colorscale": [
             [
              0,
              "#0d0887"
             ],
             [
              0.1111111111111111,
              "#46039f"
             ],
             [
              0.2222222222222222,
              "#7201a8"
             ],
             [
              0.3333333333333333,
              "#9c179e"
             ],
             [
              0.4444444444444444,
              "#bd3786"
             ],
             [
              0.5555555555555556,
              "#d8576b"
             ],
             [
              0.6666666666666666,
              "#ed7953"
             ],
             [
              0.7777777777777778,
              "#fb9f3a"
             ],
             [
              0.8888888888888888,
              "#fdca26"
             ],
             [
              1,
              "#f0f921"
             ]
            ],
            "type": "heatmapgl"
           }
          ],
          "histogram": [
           {
            "marker": {
             "pattern": {
              "fillmode": "overlay",
              "size": 10,
              "solidity": 0.2
             }
            },
            "type": "histogram"
           }
          ],
          "histogram2d": [
           {
            "colorbar": {
             "outlinewidth": 0,
             "ticks": ""
            },
            "colorscale": [
             [
              0,
              "#0d0887"
             ],
             [
              0.1111111111111111,
              "#46039f"
             ],
             [
              0.2222222222222222,
              "#7201a8"
             ],
             [
              0.3333333333333333,
              "#9c179e"
             ],
             [
              0.4444444444444444,
              "#bd3786"
             ],
             [
              0.5555555555555556,
              "#d8576b"
             ],
             [
              0.6666666666666666,
              "#ed7953"
             ],
             [
              0.7777777777777778,
              "#fb9f3a"
             ],
             [
              0.8888888888888888,
              "#fdca26"
             ],
             [
              1,
              "#f0f921"
             ]
            ],
            "type": "histogram2d"
           }
          ],
          "histogram2dcontour": [
           {
            "colorbar": {
             "outlinewidth": 0,
             "ticks": ""
            },
            "colorscale": [
             [
              0,
              "#0d0887"
             ],
             [
              0.1111111111111111,
              "#46039f"
             ],
             [
              0.2222222222222222,
              "#7201a8"
             ],
             [
              0.3333333333333333,
              "#9c179e"
             ],
             [
              0.4444444444444444,
              "#bd3786"
             ],
             [
              0.5555555555555556,
              "#d8576b"
             ],
             [
              0.6666666666666666,
              "#ed7953"
             ],
             [
              0.7777777777777778,
              "#fb9f3a"
             ],
             [
              0.8888888888888888,
              "#fdca26"
             ],
             [
              1,
              "#f0f921"
             ]
            ],
            "type": "histogram2dcontour"
           }
          ],
          "mesh3d": [
           {
            "colorbar": {
             "outlinewidth": 0,
             "ticks": ""
            },
            "type": "mesh3d"
           }
          ],
          "parcoords": [
           {
            "line": {
             "colorbar": {
              "outlinewidth": 0,
              "ticks": ""
             }
            },
            "type": "parcoords"
           }
          ],
          "pie": [
           {
            "automargin": true,
            "type": "pie"
           }
          ],
          "scatter": [
           {
            "fillpattern": {
             "fillmode": "overlay",
             "size": 10,
             "solidity": 0.2
            },
            "type": "scatter"
           }
          ],
          "scatter3d": [
           {
            "line": {
             "colorbar": {
              "outlinewidth": 0,
              "ticks": ""
             }
            },
            "marker": {
             "colorbar": {
              "outlinewidth": 0,
              "ticks": ""
             }
            },
            "type": "scatter3d"
           }
          ],
          "scattercarpet": [
           {
            "marker": {
             "colorbar": {
              "outlinewidth": 0,
              "ticks": ""
             }
            },
            "type": "scattercarpet"
           }
          ],
          "scattergeo": [
           {
            "marker": {
             "colorbar": {
              "outlinewidth": 0,
              "ticks": ""
             }
            },
            "type": "scattergeo"
           }
          ],
          "scattergl": [
           {
            "marker": {
             "colorbar": {
              "outlinewidth": 0,
              "ticks": ""
             }
            },
            "type": "scattergl"
           }
          ],
          "scattermapbox": [
           {
            "marker": {
             "colorbar": {
              "outlinewidth": 0,
              "ticks": ""
             }
            },
            "type": "scattermapbox"
           }
          ],
          "scatterpolar": [
           {
            "marker": {
             "colorbar": {
              "outlinewidth": 0,
              "ticks": ""
             }
            },
            "type": "scatterpolar"
           }
          ],
          "scatterpolargl": [
           {
            "marker": {
             "colorbar": {
              "outlinewidth": 0,
              "ticks": ""
             }
            },
            "type": "scatterpolargl"
           }
          ],
          "scatterternary": [
           {
            "marker": {
             "colorbar": {
              "outlinewidth": 0,
              "ticks": ""
             }
            },
            "type": "scatterternary"
           }
          ],
          "surface": [
           {
            "colorbar": {
             "outlinewidth": 0,
             "ticks": ""
            },
            "colorscale": [
             [
              0,
              "#0d0887"
             ],
             [
              0.1111111111111111,
              "#46039f"
             ],
             [
              0.2222222222222222,
              "#7201a8"
             ],
             [
              0.3333333333333333,
              "#9c179e"
             ],
             [
              0.4444444444444444,
              "#bd3786"
             ],
             [
              0.5555555555555556,
              "#d8576b"
             ],
             [
              0.6666666666666666,
              "#ed7953"
             ],
             [
              0.7777777777777778,
              "#fb9f3a"
             ],
             [
              0.8888888888888888,
              "#fdca26"
             ],
             [
              1,
              "#f0f921"
             ]
            ],
            "type": "surface"
           }
          ],
          "table": [
           {
            "cells": {
             "fill": {
              "color": "#EBF0F8"
             },
             "line": {
              "color": "white"
             }
            },
            "header": {
             "fill": {
              "color": "#C8D4E3"
             },
             "line": {
              "color": "white"
             }
            },
            "type": "table"
           }
          ]
         },
         "layout": {
          "annotationdefaults": {
           "arrowcolor": "#2a3f5f",
           "arrowhead": 0,
           "arrowwidth": 1
          },
          "autotypenumbers": "strict",
          "coloraxis": {
           "colorbar": {
            "outlinewidth": 0,
            "ticks": ""
           }
          },
          "colorscale": {
           "diverging": [
            [
             0,
             "#8e0152"
            ],
            [
             0.1,
             "#c51b7d"
            ],
            [
             0.2,
             "#de77ae"
            ],
            [
             0.3,
             "#f1b6da"
            ],
            [
             0.4,
             "#fde0ef"
            ],
            [
             0.5,
             "#f7f7f7"
            ],
            [
             0.6,
             "#e6f5d0"
            ],
            [
             0.7,
             "#b8e186"
            ],
            [
             0.8,
             "#7fbc41"
            ],
            [
             0.9,
             "#4d9221"
            ],
            [
             1,
             "#276419"
            ]
           ],
           "sequential": [
            [
             0,
             "#0d0887"
            ],
            [
             0.1111111111111111,
             "#46039f"
            ],
            [
             0.2222222222222222,
             "#7201a8"
            ],
            [
             0.3333333333333333,
             "#9c179e"
            ],
            [
             0.4444444444444444,
             "#bd3786"
            ],
            [
             0.5555555555555556,
             "#d8576b"
            ],
            [
             0.6666666666666666,
             "#ed7953"
            ],
            [
             0.7777777777777778,
             "#fb9f3a"
            ],
            [
             0.8888888888888888,
             "#fdca26"
            ],
            [
             1,
             "#f0f921"
            ]
           ],
           "sequentialminus": [
            [
             0,
             "#0d0887"
            ],
            [
             0.1111111111111111,
             "#46039f"
            ],
            [
             0.2222222222222222,
             "#7201a8"
            ],
            [
             0.3333333333333333,
             "#9c179e"
            ],
            [
             0.4444444444444444,
             "#bd3786"
            ],
            [
             0.5555555555555556,
             "#d8576b"
            ],
            [
             0.6666666666666666,
             "#ed7953"
            ],
            [
             0.7777777777777778,
             "#fb9f3a"
            ],
            [
             0.8888888888888888,
             "#fdca26"
            ],
            [
             1,
             "#f0f921"
            ]
           ]
          },
          "colorway": [
           "#636efa",
           "#EF553B",
           "#00cc96",
           "#ab63fa",
           "#FFA15A",
           "#19d3f3",
           "#FF6692",
           "#B6E880",
           "#FF97FF",
           "#FECB52"
          ],
          "font": {
           "color": "#2a3f5f"
          },
          "geo": {
           "bgcolor": "white",
           "lakecolor": "white",
           "landcolor": "#E5ECF6",
           "showlakes": true,
           "showland": true,
           "subunitcolor": "white"
          },
          "hoverlabel": {
           "align": "left"
          },
          "hovermode": "closest",
          "mapbox": {
           "style": "light"
          },
          "paper_bgcolor": "white",
          "plot_bgcolor": "#E5ECF6",
          "polar": {
           "angularaxis": {
            "gridcolor": "white",
            "linecolor": "white",
            "ticks": ""
           },
           "bgcolor": "#E5ECF6",
           "radialaxis": {
            "gridcolor": "white",
            "linecolor": "white",
            "ticks": ""
           }
          },
          "scene": {
           "xaxis": {
            "backgroundcolor": "#E5ECF6",
            "gridcolor": "white",
            "gridwidth": 2,
            "linecolor": "white",
            "showbackground": true,
            "ticks": "",
            "zerolinecolor": "white"
           },
           "yaxis": {
            "backgroundcolor": "#E5ECF6",
            "gridcolor": "white",
            "gridwidth": 2,
            "linecolor": "white",
            "showbackground": true,
            "ticks": "",
            "zerolinecolor": "white"
           },
           "zaxis": {
            "backgroundcolor": "#E5ECF6",
            "gridcolor": "white",
            "gridwidth": 2,
            "linecolor": "white",
            "showbackground": true,
            "ticks": "",
            "zerolinecolor": "white"
           }
          },
          "shapedefaults": {
           "line": {
            "color": "#2a3f5f"
           }
          },
          "ternary": {
           "aaxis": {
            "gridcolor": "white",
            "linecolor": "white",
            "ticks": ""
           },
           "baxis": {
            "gridcolor": "white",
            "linecolor": "white",
            "ticks": ""
           },
           "bgcolor": "#E5ECF6",
           "caxis": {
            "gridcolor": "white",
            "linecolor": "white",
            "ticks": ""
           }
          },
          "title": {
           "x": 0.05
          },
          "xaxis": {
           "automargin": true,
           "gridcolor": "white",
           "linecolor": "white",
           "ticks": "",
           "title": {
            "standoff": 15
           },
           "zerolinecolor": "white",
           "zerolinewidth": 2
          },
          "yaxis": {
           "automargin": true,
           "gridcolor": "white",
           "linecolor": "white",
           "ticks": "",
           "title": {
            "standoff": 15
           },
           "zerolinecolor": "white",
           "zerolinewidth": 2
          }
         }
        },
        "title": {
         "text": "Lance Livre Contemplado por Data de Assembléia"
        },
        "xaxis": {
         "anchor": "y",
         "domain": [
          0,
          1
         ],
         "title": {
          "text": "x"
         }
        },
        "yaxis": {
         "anchor": "x",
         "domain": [
          0,
          1
         ],
         "title": {
          "text": "y"
         }
        }
       }
      },
      "text/html": [
       "<div>                            <div id=\"2d1e1c8b-1764-4eed-816c-33d603192446\" class=\"plotly-graph-div\" style=\"height:525px; width:100%;\"></div>            <script type=\"text/javascript\">                require([\"plotly\"], function(Plotly) {                    window.PLOTLYENV=window.PLOTLYENV || {};                                    if (document.getElementById(\"2d1e1c8b-1764-4eed-816c-33d603192446\")) {                    Plotly.newPlot(                        \"2d1e1c8b-1764-4eed-816c-33d603192446\",                        [{\"alignmentgroup\":\"True\",\"hovertemplate\":\"x=%{x}\\u003cbr\\u003ey=%{y}\\u003cextra\\u003e\\u003c\\u002fextra\\u003e\",\"legendgroup\":\"\",\"marker\":{\"color\":\"#636efa\",\"pattern\":{\"shape\":\"\"}},\"name\":\"\",\"offsetgroup\":\"\",\"orientation\":\"v\",\"showlegend\":false,\"textposition\":\"auto\",\"x\":[\"2020-10-15T00:00:00\",\"2020-12-14T00:00:00\",\"2021-01-14T00:00:00\",\"2021-02-12T00:00:00\",\"2021-03-12T00:00:00\",\"2021-04-14T00:00:00\",\"2021-09-14T00:00:00\",\"2021-11-12T00:00:00\",\"2022-01-13T00:00:00\",\"2022-02-15T00:00:00\",\"2022-03-15T00:00:00\",\"2022-05-12T00:00:00\",\"2022-06-15T00:00:00\",\"2022-07-14T00:00:00\",\"2022-08-12T00:00:00\",\"2022-09-15T00:00:00\",\"2022-10-13T00:00:00\",\"2022-11-14T00:00:00\",\"2023-01-12T00:00:00\",\"2023-07-13T00:00:00\",\"2023-09-14T00:00:00\",\"2023-11-14T00:00:00\",\"2023-12-14T00:00:00\",\"2024-02-15T00:00:00\",\"2024-03-14T00:00:00\",\"2024-04-12T00:00:00\",\"2024-05-14T00:00:00\",\"2024-06-12T00:00:00\",\"2024-07-12T00:00:00\",\"2024-08-14T00:00:00\"],\"xaxis\":\"x\",\"y\":[121.0,137.0,140.0,140.0,141.0,143.0,141.0,202.0,200.0,199.0,158.0,132.0,132.0,134.0,132.0,134.0,108.0,130.0,134.0,182.0,180.0,178.0,177.0,175.0,174.0,173.0,172.0,171.0,170.0,169.0],\"yaxis\":\"y\",\"type\":\"bar\"},{\"mode\":\"lines\",\"name\":\"Parcelas Remanescentes\",\"x\":[\"2020-10-15T00:00:00\",\"2020-12-14T00:00:00\",\"2021-01-14T00:00:00\",\"2021-02-12T00:00:00\",\"2021-03-12T00:00:00\",\"2021-04-14T00:00:00\",\"2021-09-14T00:00:00\",\"2021-11-12T00:00:00\",\"2022-01-13T00:00:00\",\"2022-02-15T00:00:00\",\"2022-03-15T00:00:00\",\"2022-05-12T00:00:00\",\"2022-06-15T00:00:00\",\"2022-07-14T00:00:00\",\"2022-08-12T00:00:00\",\"2022-09-15T00:00:00\",\"2022-10-13T00:00:00\",\"2022-11-14T00:00:00\",\"2023-01-12T00:00:00\",\"2023-07-13T00:00:00\",\"2023-09-14T00:00:00\",\"2023-11-14T00:00:00\",\"2023-12-14T00:00:00\",\"2024-02-15T00:00:00\",\"2024-03-14T00:00:00\",\"2024-04-12T00:00:00\",\"2024-05-14T00:00:00\",\"2024-06-12T00:00:00\",\"2024-07-12T00:00:00\",\"2024-08-14T00:00:00\"],\"y\":[215.0,213.0,212.0,211.0,210.0,209.0,204.0,202.0,200.0,199.0,198.0,196.0,195.0,194.0,193.0,192.0,191.0,190.0,188.0,182.0,180.0,178.0,177.0,175.0,174.0,173.0,172.0,171.0,170.0,169.0],\"type\":\"scatter\"},{\"mode\":\"lines\",\"name\":\"Max sem Retorno Negativo\",\"x\":[\"2020-10-15T00:00:00\",\"2020-12-14T00:00:00\",\"2021-01-14T00:00:00\",\"2021-02-12T00:00:00\",\"2021-03-12T00:00:00\",\"2021-04-14T00:00:00\",\"2021-09-14T00:00:00\",\"2021-11-12T00:00:00\",\"2022-01-13T00:00:00\",\"2022-02-15T00:00:00\",\"2022-03-15T00:00:00\",\"2022-05-12T00:00:00\",\"2022-06-15T00:00:00\",\"2022-07-14T00:00:00\",\"2022-08-12T00:00:00\",\"2022-09-15T00:00:00\",\"2022-10-13T00:00:00\",\"2022-11-14T00:00:00\",\"2023-01-12T00:00:00\",\"2023-07-13T00:00:00\",\"2023-09-14T00:00:00\",\"2023-11-14T00:00:00\",\"2023-12-14T00:00:00\",\"2024-02-15T00:00:00\",\"2024-03-14T00:00:00\",\"2024-04-12T00:00:00\",\"2024-05-14T00:00:00\",\"2024-06-12T00:00:00\",\"2024-07-12T00:00:00\",\"2024-08-14T00:00:00\"],\"y\":[174.0,172.0,171.0,170.0,169.0,168.0,163.0,161.0,159.0,158.0,157.0,155.0,154.0,153.0,152.0,151.0,150.0,149.0,147.0,141.0,139.0,137.0,136.0,134.0,133.0,132.0,131.0,130.0,129.0,128.0],\"type\":\"scatter\"},{\"mode\":\"lines\",\"name\":\"Taxa eq. Financiamento (13%)\",\"x\":[\"2020-10-15T00:00:00\",\"2020-12-14T00:00:00\",\"2021-01-14T00:00:00\",\"2021-02-12T00:00:00\",\"2021-03-12T00:00:00\",\"2021-04-14T00:00:00\",\"2021-09-14T00:00:00\",\"2021-11-12T00:00:00\",\"2022-01-13T00:00:00\",\"2022-02-15T00:00:00\",\"2022-03-15T00:00:00\",\"2022-05-12T00:00:00\",\"2022-06-15T00:00:00\",\"2022-07-14T00:00:00\",\"2022-08-12T00:00:00\",\"2022-09-15T00:00:00\",\"2022-10-13T00:00:00\",\"2022-11-14T00:00:00\",\"2023-01-12T00:00:00\",\"2023-07-13T00:00:00\",\"2023-09-14T00:00:00\",\"2023-11-14T00:00:00\",\"2023-12-14T00:00:00\",\"2024-02-15T00:00:00\",\"2024-03-14T00:00:00\",\"2024-04-12T00:00:00\",\"2024-05-14T00:00:00\",\"2024-06-12T00:00:00\",\"2024-07-12T00:00:00\",\"2024-08-14T00:00:00\"],\"y\":[156.0,154.0,153.0,152.0,151.0,150.0,145.0,143.0,141.0,140.0,139.0,137.0,136.0,135.0,134.0,133.0,132.0,131.0,129.0,123.0,121.0,119.0,118.0,116.0,115.0,114.0,113.0,112.0,111.0,110.0],\"type\":\"scatter\"},{\"mode\":\"lines\",\"name\":\"Taxa eq. SELIC (10,5%)\",\"x\":[\"2020-10-15T00:00:00\",\"2020-12-14T00:00:00\",\"2021-01-14T00:00:00\",\"2021-02-12T00:00:00\",\"2021-03-12T00:00:00\",\"2021-04-14T00:00:00\",\"2021-09-14T00:00:00\",\"2021-11-12T00:00:00\",\"2022-01-13T00:00:00\",\"2022-02-15T00:00:00\",\"2022-03-15T00:00:00\",\"2022-05-12T00:00:00\",\"2022-06-15T00:00:00\",\"2022-07-14T00:00:00\",\"2022-08-12T00:00:00\",\"2022-09-15T00:00:00\",\"2022-10-13T00:00:00\",\"2022-11-14T00:00:00\",\"2023-01-12T00:00:00\",\"2023-07-13T00:00:00\",\"2023-09-14T00:00:00\",\"2023-11-14T00:00:00\",\"2023-12-14T00:00:00\",\"2024-02-15T00:00:00\",\"2024-03-14T00:00:00\",\"2024-04-12T00:00:00\",\"2024-05-14T00:00:00\",\"2024-06-12T00:00:00\",\"2024-07-12T00:00:00\",\"2024-08-14T00:00:00\"],\"y\":[151.0,149.0,148.0,147.0,146.0,145.0,140.0,138.0,136.0,135.0,134.0,132.0,131.0,130.0,129.0,128.0,127.0,126.0,124.0,118.0,116.0,114.0,113.0,111.0,110.0,109.0,108.0,107.0,106.0,105.0],\"type\":\"scatter\"}],                        {\"template\":{\"data\":{\"histogram2dcontour\":[{\"type\":\"histogram2dcontour\",\"colorbar\":{\"outlinewidth\":0,\"ticks\":\"\"},\"colorscale\":[[0.0,\"#0d0887\"],[0.1111111111111111,\"#46039f\"],[0.2222222222222222,\"#7201a8\"],[0.3333333333333333,\"#9c179e\"],[0.4444444444444444,\"#bd3786\"],[0.5555555555555556,\"#d8576b\"],[0.6666666666666666,\"#ed7953\"],[0.7777777777777778,\"#fb9f3a\"],[0.8888888888888888,\"#fdca26\"],[1.0,\"#f0f921\"]]}],\"choropleth\":[{\"type\":\"choropleth\",\"colorbar\":{\"outlinewidth\":0,\"ticks\":\"\"}}],\"histogram2d\":[{\"type\":\"histogram2d\",\"colorbar\":{\"outlinewidth\":0,\"ticks\":\"\"},\"colorscale\":[[0.0,\"#0d0887\"],[0.1111111111111111,\"#46039f\"],[0.2222222222222222,\"#7201a8\"],[0.3333333333333333,\"#9c179e\"],[0.4444444444444444,\"#bd3786\"],[0.5555555555555556,\"#d8576b\"],[0.6666666666666666,\"#ed7953\"],[0.7777777777777778,\"#fb9f3a\"],[0.8888888888888888,\"#fdca26\"],[1.0,\"#f0f921\"]]}],\"heatmap\":[{\"type\":\"heatmap\",\"colorbar\":{\"outlinewidth\":0,\"ticks\":\"\"},\"colorscale\":[[0.0,\"#0d0887\"],[0.1111111111111111,\"#46039f\"],[0.2222222222222222,\"#7201a8\"],[0.3333333333333333,\"#9c179e\"],[0.4444444444444444,\"#bd3786\"],[0.5555555555555556,\"#d8576b\"],[0.6666666666666666,\"#ed7953\"],[0.7777777777777778,\"#fb9f3a\"],[0.8888888888888888,\"#fdca26\"],[1.0,\"#f0f921\"]]}],\"heatmapgl\":[{\"type\":\"heatmapgl\",\"colorbar\":{\"outlinewidth\":0,\"ticks\":\"\"},\"colorscale\":[[0.0,\"#0d0887\"],[0.1111111111111111,\"#46039f\"],[0.2222222222222222,\"#7201a8\"],[0.3333333333333333,\"#9c179e\"],[0.4444444444444444,\"#bd3786\"],[0.5555555555555556,\"#d8576b\"],[0.6666666666666666,\"#ed7953\"],[0.7777777777777778,\"#fb9f3a\"],[0.8888888888888888,\"#fdca26\"],[1.0,\"#f0f921\"]]}],\"contourcarpet\":[{\"type\":\"contourcarpet\",\"colorbar\":{\"outlinewidth\":0,\"ticks\":\"\"}}],\"contour\":[{\"type\":\"contour\",\"colorbar\":{\"outlinewidth\":0,\"ticks\":\"\"},\"colorscale\":[[0.0,\"#0d0887\"],[0.1111111111111111,\"#46039f\"],[0.2222222222222222,\"#7201a8\"],[0.3333333333333333,\"#9c179e\"],[0.4444444444444444,\"#bd3786\"],[0.5555555555555556,\"#d8576b\"],[0.6666666666666666,\"#ed7953\"],[0.7777777777777778,\"#fb9f3a\"],[0.8888888888888888,\"#fdca26\"],[1.0,\"#f0f921\"]]}],\"surface\":[{\"type\":\"surface\",\"colorbar\":{\"outlinewidth\":0,\"ticks\":\"\"},\"colorscale\":[[0.0,\"#0d0887\"],[0.1111111111111111,\"#46039f\"],[0.2222222222222222,\"#7201a8\"],[0.3333333333333333,\"#9c179e\"],[0.4444444444444444,\"#bd3786\"],[0.5555555555555556,\"#d8576b\"],[0.6666666666666666,\"#ed7953\"],[0.7777777777777778,\"#fb9f3a\"],[0.8888888888888888,\"#fdca26\"],[1.0,\"#f0f921\"]]}],\"mesh3d\":[{\"type\":\"mesh3d\",\"colorbar\":{\"outlinewidth\":0,\"ticks\":\"\"}}],\"scatter\":[{\"fillpattern\":{\"fillmode\":\"overlay\",\"size\":10,\"solidity\":0.2},\"type\":\"scatter\"}],\"parcoords\":[{\"type\":\"parcoords\",\"line\":{\"colorbar\":{\"outlinewidth\":0,\"ticks\":\"\"}}}],\"scatterpolargl\":[{\"type\":\"scatterpolargl\",\"marker\":{\"colorbar\":{\"outlinewidth\":0,\"ticks\":\"\"}}}],\"bar\":[{\"error_x\":{\"color\":\"#2a3f5f\"},\"error_y\":{\"color\":\"#2a3f5f\"},\"marker\":{\"line\":{\"color\":\"#E5ECF6\",\"width\":0.5},\"pattern\":{\"fillmode\":\"overlay\",\"size\":10,\"solidity\":0.2}},\"type\":\"bar\"}],\"scattergeo\":[{\"type\":\"scattergeo\",\"marker\":{\"colorbar\":{\"outlinewidth\":0,\"ticks\":\"\"}}}],\"scatterpolar\":[{\"type\":\"scatterpolar\",\"marker\":{\"colorbar\":{\"outlinewidth\":0,\"ticks\":\"\"}}}],\"histogram\":[{\"marker\":{\"pattern\":{\"fillmode\":\"overlay\",\"size\":10,\"solidity\":0.2}},\"type\":\"histogram\"}],\"scattergl\":[{\"type\":\"scattergl\",\"marker\":{\"colorbar\":{\"outlinewidth\":0,\"ticks\":\"\"}}}],\"scatter3d\":[{\"type\":\"scatter3d\",\"line\":{\"colorbar\":{\"outlinewidth\":0,\"ticks\":\"\"}},\"marker\":{\"colorbar\":{\"outlinewidth\":0,\"ticks\":\"\"}}}],\"scattermapbox\":[{\"type\":\"scattermapbox\",\"marker\":{\"colorbar\":{\"outlinewidth\":0,\"ticks\":\"\"}}}],\"scatterternary\":[{\"type\":\"scatterternary\",\"marker\":{\"colorbar\":{\"outlinewidth\":0,\"ticks\":\"\"}}}],\"scattercarpet\":[{\"type\":\"scattercarpet\",\"marker\":{\"colorbar\":{\"outlinewidth\":0,\"ticks\":\"\"}}}],\"carpet\":[{\"aaxis\":{\"endlinecolor\":\"#2a3f5f\",\"gridcolor\":\"white\",\"linecolor\":\"white\",\"minorgridcolor\":\"white\",\"startlinecolor\":\"#2a3f5f\"},\"baxis\":{\"endlinecolor\":\"#2a3f5f\",\"gridcolor\":\"white\",\"linecolor\":\"white\",\"minorgridcolor\":\"white\",\"startlinecolor\":\"#2a3f5f\"},\"type\":\"carpet\"}],\"table\":[{\"cells\":{\"fill\":{\"color\":\"#EBF0F8\"},\"line\":{\"color\":\"white\"}},\"header\":{\"fill\":{\"color\":\"#C8D4E3\"},\"line\":{\"color\":\"white\"}},\"type\":\"table\"}],\"barpolar\":[{\"marker\":{\"line\":{\"color\":\"#E5ECF6\",\"width\":0.5},\"pattern\":{\"fillmode\":\"overlay\",\"size\":10,\"solidity\":0.2}},\"type\":\"barpolar\"}],\"pie\":[{\"automargin\":true,\"type\":\"pie\"}]},\"layout\":{\"autotypenumbers\":\"strict\",\"colorway\":[\"#636efa\",\"#EF553B\",\"#00cc96\",\"#ab63fa\",\"#FFA15A\",\"#19d3f3\",\"#FF6692\",\"#B6E880\",\"#FF97FF\",\"#FECB52\"],\"font\":{\"color\":\"#2a3f5f\"},\"hovermode\":\"closest\",\"hoverlabel\":{\"align\":\"left\"},\"paper_bgcolor\":\"white\",\"plot_bgcolor\":\"#E5ECF6\",\"polar\":{\"bgcolor\":\"#E5ECF6\",\"angularaxis\":{\"gridcolor\":\"white\",\"linecolor\":\"white\",\"ticks\":\"\"},\"radialaxis\":{\"gridcolor\":\"white\",\"linecolor\":\"white\",\"ticks\":\"\"}},\"ternary\":{\"bgcolor\":\"#E5ECF6\",\"aaxis\":{\"gridcolor\":\"white\",\"linecolor\":\"white\",\"ticks\":\"\"},\"baxis\":{\"gridcolor\":\"white\",\"linecolor\":\"white\",\"ticks\":\"\"},\"caxis\":{\"gridcolor\":\"white\",\"linecolor\":\"white\",\"ticks\":\"\"}},\"coloraxis\":{\"colorbar\":{\"outlinewidth\":0,\"ticks\":\"\"}},\"colorscale\":{\"sequential\":[[0.0,\"#0d0887\"],[0.1111111111111111,\"#46039f\"],[0.2222222222222222,\"#7201a8\"],[0.3333333333333333,\"#9c179e\"],[0.4444444444444444,\"#bd3786\"],[0.5555555555555556,\"#d8576b\"],[0.6666666666666666,\"#ed7953\"],[0.7777777777777778,\"#fb9f3a\"],[0.8888888888888888,\"#fdca26\"],[1.0,\"#f0f921\"]],\"sequentialminus\":[[0.0,\"#0d0887\"],[0.1111111111111111,\"#46039f\"],[0.2222222222222222,\"#7201a8\"],[0.3333333333333333,\"#9c179e\"],[0.4444444444444444,\"#bd3786\"],[0.5555555555555556,\"#d8576b\"],[0.6666666666666666,\"#ed7953\"],[0.7777777777777778,\"#fb9f3a\"],[0.8888888888888888,\"#fdca26\"],[1.0,\"#f0f921\"]],\"diverging\":[[0,\"#8e0152\"],[0.1,\"#c51b7d\"],[0.2,\"#de77ae\"],[0.3,\"#f1b6da\"],[0.4,\"#fde0ef\"],[0.5,\"#f7f7f7\"],[0.6,\"#e6f5d0\"],[0.7,\"#b8e186\"],[0.8,\"#7fbc41\"],[0.9,\"#4d9221\"],[1,\"#276419\"]]},\"xaxis\":{\"gridcolor\":\"white\",\"linecolor\":\"white\",\"ticks\":\"\",\"title\":{\"standoff\":15},\"zerolinecolor\":\"white\",\"automargin\":true,\"zerolinewidth\":2},\"yaxis\":{\"gridcolor\":\"white\",\"linecolor\":\"white\",\"ticks\":\"\",\"title\":{\"standoff\":15},\"zerolinecolor\":\"white\",\"automargin\":true,\"zerolinewidth\":2},\"scene\":{\"xaxis\":{\"backgroundcolor\":\"#E5ECF6\",\"gridcolor\":\"white\",\"linecolor\":\"white\",\"showbackground\":true,\"ticks\":\"\",\"zerolinecolor\":\"white\",\"gridwidth\":2},\"yaxis\":{\"backgroundcolor\":\"#E5ECF6\",\"gridcolor\":\"white\",\"linecolor\":\"white\",\"showbackground\":true,\"ticks\":\"\",\"zerolinecolor\":\"white\",\"gridwidth\":2},\"zaxis\":{\"backgroundcolor\":\"#E5ECF6\",\"gridcolor\":\"white\",\"linecolor\":\"white\",\"showbackground\":true,\"ticks\":\"\",\"zerolinecolor\":\"white\",\"gridwidth\":2}},\"shapedefaults\":{\"line\":{\"color\":\"#2a3f5f\"}},\"annotationdefaults\":{\"arrowcolor\":\"#2a3f5f\",\"arrowhead\":0,\"arrowwidth\":1},\"geo\":{\"bgcolor\":\"white\",\"landcolor\":\"#E5ECF6\",\"subunitcolor\":\"white\",\"showland\":true,\"showlakes\":true,\"lakecolor\":\"white\"},\"title\":{\"x\":0.05},\"mapbox\":{\"style\":\"light\"}}},\"xaxis\":{\"anchor\":\"y\",\"domain\":[0.0,1.0],\"title\":{\"text\":\"x\"}},\"yaxis\":{\"anchor\":\"x\",\"domain\":[0.0,1.0],\"title\":{\"text\":\"y\"}},\"legend\":{\"tracegroupgap\":0},\"title\":{\"text\":\"Lance Livre Contemplado por Data de Assembl\\u00e9ia\"},\"barmode\":\"relative\"},                        {\"responsive\": true}                    ).then(function(){\n",
       "                            \n",
       "var gd = document.getElementById('2d1e1c8b-1764-4eed-816c-33d603192446');\n",
       "var x = new MutationObserver(function (mutations, observer) {{\n",
       "        var display = window.getComputedStyle(gd).display;\n",
       "        if (!display || display === 'none') {{\n",
       "            console.log([gd, 'removed!']);\n",
       "            Plotly.purge(gd);\n",
       "            observer.disconnect();\n",
       "        }}\n",
       "}});\n",
       "\n",
       "// Listen for the removal of the full notebook cells\n",
       "var notebookContainer = gd.closest('#notebook-container');\n",
       "if (notebookContainer) {{\n",
       "    x.observe(notebookContainer, {childList: true});\n",
       "}}\n",
       "\n",
       "// Listen for the clearing of the current output cell\n",
       "var outputEl = gd.closest('.output');\n",
       "if (outputEl) {{\n",
       "    x.observe(outputEl, {childList: true});\n",
       "}}\n",
       "\n",
       "                        })                };                });            </script>        </div>"
      ]
     },
     "metadata": {},
     "output_type": "display_data"
    }
   ],
   "source": [
    "chart_df = (\n",
    "    df[[\"data_assembleia\", \"max_parcelas\", \"max_selic\", \"max_fin_imob\", \"max_sem_perda\", \"quantidadeParcelaLance\"]]\n",
    "    .where((df[\"modalidade\"] == \"Lance Livre\") & (df[\"contemplado\"] == 1))\n",
    "    .groupby([\"data_assembleia\", \"max_parcelas\", \"max_selic\", \"max_fin_imob\", \"max_sem_perda\"])\n",
    "    .max()\n",
    "    .reset_index()\n",
    ")\n",
    "# print(chart_df)\n",
    "fig = px.bar(\n",
    "    x=chart_df[\"data_assembleia\"],\n",
    "    y=chart_df[\"quantidadeParcelaLance\"],\n",
    "    labels={\n",
    "        \"data_assembleia\": \"Data da assembleia\",\n",
    "        \"quantidadeParcelaLance\": \"Lance Livre\",\n",
    "    },\n",
    "    title=f\"Lance Livre Contemplado por Data de Assembléia\",\n",
    ")\n",
    "fig.add_scatter(\n",
    "    x=chart_df[\"data_assembleia\"],\n",
    "    y=chart_df[\"max_parcelas\"],\n",
    "    mode=\"lines\",\n",
    "    name=\"Parcelas Remanescentes\",\n",
    ")\n",
    "fig.add_scatter(\n",
    "    x=chart_df[\"data_assembleia\"],\n",
    "    y=chart_df[\"max_sem_perda\"],\n",
    "    mode=\"lines\",\n",
    "    name=\"Max sem Retorno Negativo\",\n",
    ")\n",
    "fig.add_scatter(\n",
    "    x=chart_df[\"data_assembleia\"],\n",
    "    y=chart_df[\"max_fin_imob\"],\n",
    "    mode=\"lines\",\n",
    "    name=\"Taxa eq. Financiamento (13%)\",\n",
    ")\n",
    "\n",
    "fig.add_scatter(\n",
    "    x=chart_df[\"data_assembleia\"],\n",
    "    y=chart_df[\"max_selic\"],\n",
    "    mode=\"lines\",\n",
    "    name=\"Taxa eq. SELIC (10,5%)\",\n",
    ")\n",
    "\n",
    "fig.show()"
   ]
  },
  {
   "cell_type": "code",
   "execution_count": null,
   "metadata": {},
   "outputs": [],
   "source": []
  },
  {
   "cell_type": "markdown",
   "metadata": {},
   "source": [
    "## Versão de Cotas\n",
    "\n",
    "Como visto nos gráficos anteriores, é possível que uma cota tenha mais de uma versão para que as opções \n",
    "de conteplação somem mais do que as 650 cotas originais."
   ]
  },
  {
   "cell_type": "code",
   "execution_count": 77,
   "metadata": {},
   "outputs": [
    {
     "data": {
      "application/vnd.plotly.v1+json": {
       "config": {
        "plotlyServerURL": "https://plot.ly"
       },
       "data": [
        {
         "alignmentgroup": "True",
         "hovertemplate": "Data da assembleia=%{x}<br>Numero de Cotas=%{y}<br>versao=%{marker.color}<extra></extra>",
         "legendgroup": "",
         "marker": {
          "color": [
           0,
           0,
           0,
           0,
           0,
           0,
           0,
           0,
           0,
           0,
           0,
           0,
           0,
           0,
           0,
           0,
           0,
           0,
           0,
           0,
           0,
           0,
           0,
           0,
           0,
           0,
           0,
           0,
           0,
           0,
           0,
           0,
           0,
           0,
           0,
           0,
           0,
           0,
           0,
           0,
           0,
           0,
           0,
           0,
           0,
           0,
           0
          ],
          "coloraxis": "coloraxis",
          "pattern": {
           "shape": ""
          }
         },
         "name": "",
         "offsetgroup": "",
         "orientation": "v",
         "showlegend": false,
         "textposition": "auto",
         "type": "bar",
         "x": [
          "2020-10-15T00:00:00",
          "2020-11-12T00:00:00",
          "2020-12-14T00:00:00",
          "2021-01-14T00:00:00",
          "2021-02-12T00:00:00",
          "2021-03-12T00:00:00",
          "2021-04-14T00:00:00",
          "2021-05-13T00:00:00",
          "2021-06-14T00:00:00",
          "2021-07-15T00:00:00",
          "2021-08-12T00:00:00",
          "2021-09-14T00:00:00",
          "2021-10-15T00:00:00",
          "2021-11-12T00:00:00",
          "2021-12-14T00:00:00",
          "2022-01-13T00:00:00",
          "2022-02-15T00:00:00",
          "2022-03-15T00:00:00",
          "2022-04-14T00:00:00",
          "2022-05-12T00:00:00",
          "2022-06-15T00:00:00",
          "2022-07-14T00:00:00",
          "2022-08-12T00:00:00",
          "2022-09-15T00:00:00",
          "2022-10-13T00:00:00",
          "2022-11-14T00:00:00",
          "2022-12-15T00:00:00",
          "2023-01-12T00:00:00",
          "2023-02-14T00:00:00",
          "2023-03-14T00:00:00",
          "2023-04-13T00:00:00",
          "2023-05-12T00:00:00",
          "2023-06-15T00:00:00",
          "2023-07-13T00:00:00",
          "2023-08-15T00:00:00",
          "2023-09-14T00:00:00",
          "2023-10-17T00:00:00",
          "2023-11-14T00:00:00",
          "2023-12-14T00:00:00",
          "2024-01-12T00:00:00",
          "2024-02-15T00:00:00",
          "2024-03-14T00:00:00",
          "2024-04-12T00:00:00",
          "2024-05-14T00:00:00",
          "2024-06-12T00:00:00",
          "2024-07-12T00:00:00",
          "2024-08-14T00:00:00"
         ],
         "xaxis": "x",
         "y": [
          68,
          86,
          111,
          133,
          138,
          150,
          157,
          163,
          168,
          179,
          187,
          195,
          202,
          211,
          216,
          216,
          220,
          183,
          201,
          197,
          207,
          204,
          215,
          226,
          214,
          227,
          230,
          229,
          225,
          232,
          221,
          237,
          248,
          253,
          252,
          248,
          250,
          245,
          268,
          269,
          250,
          284,
          285,
          272,
          267,
          262,
          273
         ],
         "yaxis": "y"
        }
       ],
       "layout": {
        "barmode": "relative",
        "coloraxis": {
         "colorbar": {
          "title": {
           "text": "versao"
          }
         },
         "colorscale": [
          [
           0,
           "#0d0887"
          ],
          [
           0.1111111111111111,
           "#46039f"
          ],
          [
           0.2222222222222222,
           "#7201a8"
          ],
          [
           0.3333333333333333,
           "#9c179e"
          ],
          [
           0.4444444444444444,
           "#bd3786"
          ],
          [
           0.5555555555555556,
           "#d8576b"
          ],
          [
           0.6666666666666666,
           "#ed7953"
          ],
          [
           0.7777777777777778,
           "#fb9f3a"
          ],
          [
           0.8888888888888888,
           "#fdca26"
          ],
          [
           1,
           "#f0f921"
          ]
         ]
        },
        "legend": {
         "tracegroupgap": 0
        },
        "template": {
         "data": {
          "bar": [
           {
            "error_x": {
             "color": "#2a3f5f"
            },
            "error_y": {
             "color": "#2a3f5f"
            },
            "marker": {
             "line": {
              "color": "#E5ECF6",
              "width": 0.5
             },
             "pattern": {
              "fillmode": "overlay",
              "size": 10,
              "solidity": 0.2
             }
            },
            "type": "bar"
           }
          ],
          "barpolar": [
           {
            "marker": {
             "line": {
              "color": "#E5ECF6",
              "width": 0.5
             },
             "pattern": {
              "fillmode": "overlay",
              "size": 10,
              "solidity": 0.2
             }
            },
            "type": "barpolar"
           }
          ],
          "carpet": [
           {
            "aaxis": {
             "endlinecolor": "#2a3f5f",
             "gridcolor": "white",
             "linecolor": "white",
             "minorgridcolor": "white",
             "startlinecolor": "#2a3f5f"
            },
            "baxis": {
             "endlinecolor": "#2a3f5f",
             "gridcolor": "white",
             "linecolor": "white",
             "minorgridcolor": "white",
             "startlinecolor": "#2a3f5f"
            },
            "type": "carpet"
           }
          ],
          "choropleth": [
           {
            "colorbar": {
             "outlinewidth": 0,
             "ticks": ""
            },
            "type": "choropleth"
           }
          ],
          "contour": [
           {
            "colorbar": {
             "outlinewidth": 0,
             "ticks": ""
            },
            "colorscale": [
             [
              0,
              "#0d0887"
             ],
             [
              0.1111111111111111,
              "#46039f"
             ],
             [
              0.2222222222222222,
              "#7201a8"
             ],
             [
              0.3333333333333333,
              "#9c179e"
             ],
             [
              0.4444444444444444,
              "#bd3786"
             ],
             [
              0.5555555555555556,
              "#d8576b"
             ],
             [
              0.6666666666666666,
              "#ed7953"
             ],
             [
              0.7777777777777778,
              "#fb9f3a"
             ],
             [
              0.8888888888888888,
              "#fdca26"
             ],
             [
              1,
              "#f0f921"
             ]
            ],
            "type": "contour"
           }
          ],
          "contourcarpet": [
           {
            "colorbar": {
             "outlinewidth": 0,
             "ticks": ""
            },
            "type": "contourcarpet"
           }
          ],
          "heatmap": [
           {
            "colorbar": {
             "outlinewidth": 0,
             "ticks": ""
            },
            "colorscale": [
             [
              0,
              "#0d0887"
             ],
             [
              0.1111111111111111,
              "#46039f"
             ],
             [
              0.2222222222222222,
              "#7201a8"
             ],
             [
              0.3333333333333333,
              "#9c179e"
             ],
             [
              0.4444444444444444,
              "#bd3786"
             ],
             [
              0.5555555555555556,
              "#d8576b"
             ],
             [
              0.6666666666666666,
              "#ed7953"
             ],
             [
              0.7777777777777778,
              "#fb9f3a"
             ],
             [
              0.8888888888888888,
              "#fdca26"
             ],
             [
              1,
              "#f0f921"
             ]
            ],
            "type": "heatmap"
           }
          ],
          "heatmapgl": [
           {
            "colorbar": {
             "outlinewidth": 0,
             "ticks": ""
            },
            "colorscale": [
             [
              0,
              "#0d0887"
             ],
             [
              0.1111111111111111,
              "#46039f"
             ],
             [
              0.2222222222222222,
              "#7201a8"
             ],
             [
              0.3333333333333333,
              "#9c179e"
             ],
             [
              0.4444444444444444,
              "#bd3786"
             ],
             [
              0.5555555555555556,
              "#d8576b"
             ],
             [
              0.6666666666666666,
              "#ed7953"
             ],
             [
              0.7777777777777778,
              "#fb9f3a"
             ],
             [
              0.8888888888888888,
              "#fdca26"
             ],
             [
              1,
              "#f0f921"
             ]
            ],
            "type": "heatmapgl"
           }
          ],
          "histogram": [
           {
            "marker": {
             "pattern": {
              "fillmode": "overlay",
              "size": 10,
              "solidity": 0.2
             }
            },
            "type": "histogram"
           }
          ],
          "histogram2d": [
           {
            "colorbar": {
             "outlinewidth": 0,
             "ticks": ""
            },
            "colorscale": [
             [
              0,
              "#0d0887"
             ],
             [
              0.1111111111111111,
              "#46039f"
             ],
             [
              0.2222222222222222,
              "#7201a8"
             ],
             [
              0.3333333333333333,
              "#9c179e"
             ],
             [
              0.4444444444444444,
              "#bd3786"
             ],
             [
              0.5555555555555556,
              "#d8576b"
             ],
             [
              0.6666666666666666,
              "#ed7953"
             ],
             [
              0.7777777777777778,
              "#fb9f3a"
             ],
             [
              0.8888888888888888,
              "#fdca26"
             ],
             [
              1,
              "#f0f921"
             ]
            ],
            "type": "histogram2d"
           }
          ],
          "histogram2dcontour": [
           {
            "colorbar": {
             "outlinewidth": 0,
             "ticks": ""
            },
            "colorscale": [
             [
              0,
              "#0d0887"
             ],
             [
              0.1111111111111111,
              "#46039f"
             ],
             [
              0.2222222222222222,
              "#7201a8"
             ],
             [
              0.3333333333333333,
              "#9c179e"
             ],
             [
              0.4444444444444444,
              "#bd3786"
             ],
             [
              0.5555555555555556,
              "#d8576b"
             ],
             [
              0.6666666666666666,
              "#ed7953"
             ],
             [
              0.7777777777777778,
              "#fb9f3a"
             ],
             [
              0.8888888888888888,
              "#fdca26"
             ],
             [
              1,
              "#f0f921"
             ]
            ],
            "type": "histogram2dcontour"
           }
          ],
          "mesh3d": [
           {
            "colorbar": {
             "outlinewidth": 0,
             "ticks": ""
            },
            "type": "mesh3d"
           }
          ],
          "parcoords": [
           {
            "line": {
             "colorbar": {
              "outlinewidth": 0,
              "ticks": ""
             }
            },
            "type": "parcoords"
           }
          ],
          "pie": [
           {
            "automargin": true,
            "type": "pie"
           }
          ],
          "scatter": [
           {
            "fillpattern": {
             "fillmode": "overlay",
             "size": 10,
             "solidity": 0.2
            },
            "type": "scatter"
           }
          ],
          "scatter3d": [
           {
            "line": {
             "colorbar": {
              "outlinewidth": 0,
              "ticks": ""
             }
            },
            "marker": {
             "colorbar": {
              "outlinewidth": 0,
              "ticks": ""
             }
            },
            "type": "scatter3d"
           }
          ],
          "scattercarpet": [
           {
            "marker": {
             "colorbar": {
              "outlinewidth": 0,
              "ticks": ""
             }
            },
            "type": "scattercarpet"
           }
          ],
          "scattergeo": [
           {
            "marker": {
             "colorbar": {
              "outlinewidth": 0,
              "ticks": ""
             }
            },
            "type": "scattergeo"
           }
          ],
          "scattergl": [
           {
            "marker": {
             "colorbar": {
              "outlinewidth": 0,
              "ticks": ""
             }
            },
            "type": "scattergl"
           }
          ],
          "scattermapbox": [
           {
            "marker": {
             "colorbar": {
              "outlinewidth": 0,
              "ticks": ""
             }
            },
            "type": "scattermapbox"
           }
          ],
          "scatterpolar": [
           {
            "marker": {
             "colorbar": {
              "outlinewidth": 0,
              "ticks": ""
             }
            },
            "type": "scatterpolar"
           }
          ],
          "scatterpolargl": [
           {
            "marker": {
             "colorbar": {
              "outlinewidth": 0,
              "ticks": ""
             }
            },
            "type": "scatterpolargl"
           }
          ],
          "scatterternary": [
           {
            "marker": {
             "colorbar": {
              "outlinewidth": 0,
              "ticks": ""
             }
            },
            "type": "scatterternary"
           }
          ],
          "surface": [
           {
            "colorbar": {
             "outlinewidth": 0,
             "ticks": ""
            },
            "colorscale": [
             [
              0,
              "#0d0887"
             ],
             [
              0.1111111111111111,
              "#46039f"
             ],
             [
              0.2222222222222222,
              "#7201a8"
             ],
             [
              0.3333333333333333,
              "#9c179e"
             ],
             [
              0.4444444444444444,
              "#bd3786"
             ],
             [
              0.5555555555555556,
              "#d8576b"
             ],
             [
              0.6666666666666666,
              "#ed7953"
             ],
             [
              0.7777777777777778,
              "#fb9f3a"
             ],
             [
              0.8888888888888888,
              "#fdca26"
             ],
             [
              1,
              "#f0f921"
             ]
            ],
            "type": "surface"
           }
          ],
          "table": [
           {
            "cells": {
             "fill": {
              "color": "#EBF0F8"
             },
             "line": {
              "color": "white"
             }
            },
            "header": {
             "fill": {
              "color": "#C8D4E3"
             },
             "line": {
              "color": "white"
             }
            },
            "type": "table"
           }
          ]
         },
         "layout": {
          "annotationdefaults": {
           "arrowcolor": "#2a3f5f",
           "arrowhead": 0,
           "arrowwidth": 1
          },
          "autotypenumbers": "strict",
          "coloraxis": {
           "colorbar": {
            "outlinewidth": 0,
            "ticks": ""
           }
          },
          "colorscale": {
           "diverging": [
            [
             0,
             "#8e0152"
            ],
            [
             0.1,
             "#c51b7d"
            ],
            [
             0.2,
             "#de77ae"
            ],
            [
             0.3,
             "#f1b6da"
            ],
            [
             0.4,
             "#fde0ef"
            ],
            [
             0.5,
             "#f7f7f7"
            ],
            [
             0.6,
             "#e6f5d0"
            ],
            [
             0.7,
             "#b8e186"
            ],
            [
             0.8,
             "#7fbc41"
            ],
            [
             0.9,
             "#4d9221"
            ],
            [
             1,
             "#276419"
            ]
           ],
           "sequential": [
            [
             0,
             "#0d0887"
            ],
            [
             0.1111111111111111,
             "#46039f"
            ],
            [
             0.2222222222222222,
             "#7201a8"
            ],
            [
             0.3333333333333333,
             "#9c179e"
            ],
            [
             0.4444444444444444,
             "#bd3786"
            ],
            [
             0.5555555555555556,
             "#d8576b"
            ],
            [
             0.6666666666666666,
             "#ed7953"
            ],
            [
             0.7777777777777778,
             "#fb9f3a"
            ],
            [
             0.8888888888888888,
             "#fdca26"
            ],
            [
             1,
             "#f0f921"
            ]
           ],
           "sequentialminus": [
            [
             0,
             "#0d0887"
            ],
            [
             0.1111111111111111,
             "#46039f"
            ],
            [
             0.2222222222222222,
             "#7201a8"
            ],
            [
             0.3333333333333333,
             "#9c179e"
            ],
            [
             0.4444444444444444,
             "#bd3786"
            ],
            [
             0.5555555555555556,
             "#d8576b"
            ],
            [
             0.6666666666666666,
             "#ed7953"
            ],
            [
             0.7777777777777778,
             "#fb9f3a"
            ],
            [
             0.8888888888888888,
             "#fdca26"
            ],
            [
             1,
             "#f0f921"
            ]
           ]
          },
          "colorway": [
           "#636efa",
           "#EF553B",
           "#00cc96",
           "#ab63fa",
           "#FFA15A",
           "#19d3f3",
           "#FF6692",
           "#B6E880",
           "#FF97FF",
           "#FECB52"
          ],
          "font": {
           "color": "#2a3f5f"
          },
          "geo": {
           "bgcolor": "white",
           "lakecolor": "white",
           "landcolor": "#E5ECF6",
           "showlakes": true,
           "showland": true,
           "subunitcolor": "white"
          },
          "hoverlabel": {
           "align": "left"
          },
          "hovermode": "closest",
          "mapbox": {
           "style": "light"
          },
          "paper_bgcolor": "white",
          "plot_bgcolor": "#E5ECF6",
          "polar": {
           "angularaxis": {
            "gridcolor": "white",
            "linecolor": "white",
            "ticks": ""
           },
           "bgcolor": "#E5ECF6",
           "radialaxis": {
            "gridcolor": "white",
            "linecolor": "white",
            "ticks": ""
           }
          },
          "scene": {
           "xaxis": {
            "backgroundcolor": "#E5ECF6",
            "gridcolor": "white",
            "gridwidth": 2,
            "linecolor": "white",
            "showbackground": true,
            "ticks": "",
            "zerolinecolor": "white"
           },
           "yaxis": {
            "backgroundcolor": "#E5ECF6",
            "gridcolor": "white",
            "gridwidth": 2,
            "linecolor": "white",
            "showbackground": true,
            "ticks": "",
            "zerolinecolor": "white"
           },
           "zaxis": {
            "backgroundcolor": "#E5ECF6",
            "gridcolor": "white",
            "gridwidth": 2,
            "linecolor": "white",
            "showbackground": true,
            "ticks": "",
            "zerolinecolor": "white"
           }
          },
          "shapedefaults": {
           "line": {
            "color": "#2a3f5f"
           }
          },
          "ternary": {
           "aaxis": {
            "gridcolor": "white",
            "linecolor": "white",
            "ticks": ""
           },
           "baxis": {
            "gridcolor": "white",
            "linecolor": "white",
            "ticks": ""
           },
           "bgcolor": "#E5ECF6",
           "caxis": {
            "gridcolor": "white",
            "linecolor": "white",
            "ticks": ""
           }
          },
          "title": {
           "x": 0.05
          },
          "xaxis": {
           "automargin": true,
           "gridcolor": "white",
           "linecolor": "white",
           "ticks": "",
           "title": {
            "standoff": 15
           },
           "zerolinecolor": "white",
           "zerolinewidth": 2
          },
          "yaxis": {
           "automargin": true,
           "gridcolor": "white",
           "linecolor": "white",
           "ticks": "",
           "title": {
            "standoff": 15
           },
           "zerolinecolor": "white",
           "zerolinewidth": 2
          }
         }
        },
        "title": {
         "text": "Opções de Contemplação Sorteio Ativas por data de assembleia"
        },
        "xaxis": {
         "anchor": "y",
         "domain": [
          0,
          1
         ],
         "title": {
          "text": "Data da assembleia"
         }
        },
        "yaxis": {
         "anchor": "x",
         "domain": [
          0,
          1
         ],
         "title": {
          "text": "Numero de Cotas"
         }
        }
       }
      },
      "text/html": [
       "<div>                            <div id=\"cf902994-76c4-423e-a53c-41123b47ca08\" class=\"plotly-graph-div\" style=\"height:525px; width:100%;\"></div>            <script type=\"text/javascript\">                require([\"plotly\"], function(Plotly) {                    window.PLOTLYENV=window.PLOTLYENV || {};                                    if (document.getElementById(\"cf902994-76c4-423e-a53c-41123b47ca08\")) {                    Plotly.newPlot(                        \"cf902994-76c4-423e-a53c-41123b47ca08\",                        [{\"alignmentgroup\":\"True\",\"hovertemplate\":\"Data da assembleia=%{x}\\u003cbr\\u003eNumero de Cotas=%{y}\\u003cbr\\u003eversao=%{marker.color}\\u003cextra\\u003e\\u003c\\u002fextra\\u003e\",\"legendgroup\":\"\",\"marker\":{\"color\":[0.0,0.0,0.0,0.0,0.0,0.0,0.0,0.0,0.0,0.0,0.0,0.0,0.0,0.0,0.0,0.0,0.0,0.0,0.0,0.0,0.0,0.0,0.0,0.0,0.0,0.0,0.0,0.0,0.0,0.0,0.0,0.0,0.0,0.0,0.0,0.0,0.0,0.0,0.0,0.0,0.0,0.0,0.0,0.0,0.0,0.0,0.0],\"coloraxis\":\"coloraxis\",\"pattern\":{\"shape\":\"\"}},\"name\":\"\",\"offsetgroup\":\"\",\"orientation\":\"v\",\"showlegend\":false,\"textposition\":\"auto\",\"x\":[\"2020-10-15T00:00:00\",\"2020-11-12T00:00:00\",\"2020-12-14T00:00:00\",\"2021-01-14T00:00:00\",\"2021-02-12T00:00:00\",\"2021-03-12T00:00:00\",\"2021-04-14T00:00:00\",\"2021-05-13T00:00:00\",\"2021-06-14T00:00:00\",\"2021-07-15T00:00:00\",\"2021-08-12T00:00:00\",\"2021-09-14T00:00:00\",\"2021-10-15T00:00:00\",\"2021-11-12T00:00:00\",\"2021-12-14T00:00:00\",\"2022-01-13T00:00:00\",\"2022-02-15T00:00:00\",\"2022-03-15T00:00:00\",\"2022-04-14T00:00:00\",\"2022-05-12T00:00:00\",\"2022-06-15T00:00:00\",\"2022-07-14T00:00:00\",\"2022-08-12T00:00:00\",\"2022-09-15T00:00:00\",\"2022-10-13T00:00:00\",\"2022-11-14T00:00:00\",\"2022-12-15T00:00:00\",\"2023-01-12T00:00:00\",\"2023-02-14T00:00:00\",\"2023-03-14T00:00:00\",\"2023-04-13T00:00:00\",\"2023-05-12T00:00:00\",\"2023-06-15T00:00:00\",\"2023-07-13T00:00:00\",\"2023-08-15T00:00:00\",\"2023-09-14T00:00:00\",\"2023-10-17T00:00:00\",\"2023-11-14T00:00:00\",\"2023-12-14T00:00:00\",\"2024-01-12T00:00:00\",\"2024-02-15T00:00:00\",\"2024-03-14T00:00:00\",\"2024-04-12T00:00:00\",\"2024-05-14T00:00:00\",\"2024-06-12T00:00:00\",\"2024-07-12T00:00:00\",\"2024-08-14T00:00:00\"],\"xaxis\":\"x\",\"y\":[68,86,111,133,138,150,157,163,168,179,187,195,202,211,216,216,220,183,201,197,207,204,215,226,214,227,230,229,225,232,221,237,248,253,252,248,250,245,268,269,250,284,285,272,267,262,273],\"yaxis\":\"y\",\"type\":\"bar\"}],                        {\"template\":{\"data\":{\"histogram2dcontour\":[{\"type\":\"histogram2dcontour\",\"colorbar\":{\"outlinewidth\":0,\"ticks\":\"\"},\"colorscale\":[[0.0,\"#0d0887\"],[0.1111111111111111,\"#46039f\"],[0.2222222222222222,\"#7201a8\"],[0.3333333333333333,\"#9c179e\"],[0.4444444444444444,\"#bd3786\"],[0.5555555555555556,\"#d8576b\"],[0.6666666666666666,\"#ed7953\"],[0.7777777777777778,\"#fb9f3a\"],[0.8888888888888888,\"#fdca26\"],[1.0,\"#f0f921\"]]}],\"choropleth\":[{\"type\":\"choropleth\",\"colorbar\":{\"outlinewidth\":0,\"ticks\":\"\"}}],\"histogram2d\":[{\"type\":\"histogram2d\",\"colorbar\":{\"outlinewidth\":0,\"ticks\":\"\"},\"colorscale\":[[0.0,\"#0d0887\"],[0.1111111111111111,\"#46039f\"],[0.2222222222222222,\"#7201a8\"],[0.3333333333333333,\"#9c179e\"],[0.4444444444444444,\"#bd3786\"],[0.5555555555555556,\"#d8576b\"],[0.6666666666666666,\"#ed7953\"],[0.7777777777777778,\"#fb9f3a\"],[0.8888888888888888,\"#fdca26\"],[1.0,\"#f0f921\"]]}],\"heatmap\":[{\"type\":\"heatmap\",\"colorbar\":{\"outlinewidth\":0,\"ticks\":\"\"},\"colorscale\":[[0.0,\"#0d0887\"],[0.1111111111111111,\"#46039f\"],[0.2222222222222222,\"#7201a8\"],[0.3333333333333333,\"#9c179e\"],[0.4444444444444444,\"#bd3786\"],[0.5555555555555556,\"#d8576b\"],[0.6666666666666666,\"#ed7953\"],[0.7777777777777778,\"#fb9f3a\"],[0.8888888888888888,\"#fdca26\"],[1.0,\"#f0f921\"]]}],\"heatmapgl\":[{\"type\":\"heatmapgl\",\"colorbar\":{\"outlinewidth\":0,\"ticks\":\"\"},\"colorscale\":[[0.0,\"#0d0887\"],[0.1111111111111111,\"#46039f\"],[0.2222222222222222,\"#7201a8\"],[0.3333333333333333,\"#9c179e\"],[0.4444444444444444,\"#bd3786\"],[0.5555555555555556,\"#d8576b\"],[0.6666666666666666,\"#ed7953\"],[0.7777777777777778,\"#fb9f3a\"],[0.8888888888888888,\"#fdca26\"],[1.0,\"#f0f921\"]]}],\"contourcarpet\":[{\"type\":\"contourcarpet\",\"colorbar\":{\"outlinewidth\":0,\"ticks\":\"\"}}],\"contour\":[{\"type\":\"contour\",\"colorbar\":{\"outlinewidth\":0,\"ticks\":\"\"},\"colorscale\":[[0.0,\"#0d0887\"],[0.1111111111111111,\"#46039f\"],[0.2222222222222222,\"#7201a8\"],[0.3333333333333333,\"#9c179e\"],[0.4444444444444444,\"#bd3786\"],[0.5555555555555556,\"#d8576b\"],[0.6666666666666666,\"#ed7953\"],[0.7777777777777778,\"#fb9f3a\"],[0.8888888888888888,\"#fdca26\"],[1.0,\"#f0f921\"]]}],\"surface\":[{\"type\":\"surface\",\"colorbar\":{\"outlinewidth\":0,\"ticks\":\"\"},\"colorscale\":[[0.0,\"#0d0887\"],[0.1111111111111111,\"#46039f\"],[0.2222222222222222,\"#7201a8\"],[0.3333333333333333,\"#9c179e\"],[0.4444444444444444,\"#bd3786\"],[0.5555555555555556,\"#d8576b\"],[0.6666666666666666,\"#ed7953\"],[0.7777777777777778,\"#fb9f3a\"],[0.8888888888888888,\"#fdca26\"],[1.0,\"#f0f921\"]]}],\"mesh3d\":[{\"type\":\"mesh3d\",\"colorbar\":{\"outlinewidth\":0,\"ticks\":\"\"}}],\"scatter\":[{\"fillpattern\":{\"fillmode\":\"overlay\",\"size\":10,\"solidity\":0.2},\"type\":\"scatter\"}],\"parcoords\":[{\"type\":\"parcoords\",\"line\":{\"colorbar\":{\"outlinewidth\":0,\"ticks\":\"\"}}}],\"scatterpolargl\":[{\"type\":\"scatterpolargl\",\"marker\":{\"colorbar\":{\"outlinewidth\":0,\"ticks\":\"\"}}}],\"bar\":[{\"error_x\":{\"color\":\"#2a3f5f\"},\"error_y\":{\"color\":\"#2a3f5f\"},\"marker\":{\"line\":{\"color\":\"#E5ECF6\",\"width\":0.5},\"pattern\":{\"fillmode\":\"overlay\",\"size\":10,\"solidity\":0.2}},\"type\":\"bar\"}],\"scattergeo\":[{\"type\":\"scattergeo\",\"marker\":{\"colorbar\":{\"outlinewidth\":0,\"ticks\":\"\"}}}],\"scatterpolar\":[{\"type\":\"scatterpolar\",\"marker\":{\"colorbar\":{\"outlinewidth\":0,\"ticks\":\"\"}}}],\"histogram\":[{\"marker\":{\"pattern\":{\"fillmode\":\"overlay\",\"size\":10,\"solidity\":0.2}},\"type\":\"histogram\"}],\"scattergl\":[{\"type\":\"scattergl\",\"marker\":{\"colorbar\":{\"outlinewidth\":0,\"ticks\":\"\"}}}],\"scatter3d\":[{\"type\":\"scatter3d\",\"line\":{\"colorbar\":{\"outlinewidth\":0,\"ticks\":\"\"}},\"marker\":{\"colorbar\":{\"outlinewidth\":0,\"ticks\":\"\"}}}],\"scattermapbox\":[{\"type\":\"scattermapbox\",\"marker\":{\"colorbar\":{\"outlinewidth\":0,\"ticks\":\"\"}}}],\"scatterternary\":[{\"type\":\"scatterternary\",\"marker\":{\"colorbar\":{\"outlinewidth\":0,\"ticks\":\"\"}}}],\"scattercarpet\":[{\"type\":\"scattercarpet\",\"marker\":{\"colorbar\":{\"outlinewidth\":0,\"ticks\":\"\"}}}],\"carpet\":[{\"aaxis\":{\"endlinecolor\":\"#2a3f5f\",\"gridcolor\":\"white\",\"linecolor\":\"white\",\"minorgridcolor\":\"white\",\"startlinecolor\":\"#2a3f5f\"},\"baxis\":{\"endlinecolor\":\"#2a3f5f\",\"gridcolor\":\"white\",\"linecolor\":\"white\",\"minorgridcolor\":\"white\",\"startlinecolor\":\"#2a3f5f\"},\"type\":\"carpet\"}],\"table\":[{\"cells\":{\"fill\":{\"color\":\"#EBF0F8\"},\"line\":{\"color\":\"white\"}},\"header\":{\"fill\":{\"color\":\"#C8D4E3\"},\"line\":{\"color\":\"white\"}},\"type\":\"table\"}],\"barpolar\":[{\"marker\":{\"line\":{\"color\":\"#E5ECF6\",\"width\":0.5},\"pattern\":{\"fillmode\":\"overlay\",\"size\":10,\"solidity\":0.2}},\"type\":\"barpolar\"}],\"pie\":[{\"automargin\":true,\"type\":\"pie\"}]},\"layout\":{\"autotypenumbers\":\"strict\",\"colorway\":[\"#636efa\",\"#EF553B\",\"#00cc96\",\"#ab63fa\",\"#FFA15A\",\"#19d3f3\",\"#FF6692\",\"#B6E880\",\"#FF97FF\",\"#FECB52\"],\"font\":{\"color\":\"#2a3f5f\"},\"hovermode\":\"closest\",\"hoverlabel\":{\"align\":\"left\"},\"paper_bgcolor\":\"white\",\"plot_bgcolor\":\"#E5ECF6\",\"polar\":{\"bgcolor\":\"#E5ECF6\",\"angularaxis\":{\"gridcolor\":\"white\",\"linecolor\":\"white\",\"ticks\":\"\"},\"radialaxis\":{\"gridcolor\":\"white\",\"linecolor\":\"white\",\"ticks\":\"\"}},\"ternary\":{\"bgcolor\":\"#E5ECF6\",\"aaxis\":{\"gridcolor\":\"white\",\"linecolor\":\"white\",\"ticks\":\"\"},\"baxis\":{\"gridcolor\":\"white\",\"linecolor\":\"white\",\"ticks\":\"\"},\"caxis\":{\"gridcolor\":\"white\",\"linecolor\":\"white\",\"ticks\":\"\"}},\"coloraxis\":{\"colorbar\":{\"outlinewidth\":0,\"ticks\":\"\"}},\"colorscale\":{\"sequential\":[[0.0,\"#0d0887\"],[0.1111111111111111,\"#46039f\"],[0.2222222222222222,\"#7201a8\"],[0.3333333333333333,\"#9c179e\"],[0.4444444444444444,\"#bd3786\"],[0.5555555555555556,\"#d8576b\"],[0.6666666666666666,\"#ed7953\"],[0.7777777777777778,\"#fb9f3a\"],[0.8888888888888888,\"#fdca26\"],[1.0,\"#f0f921\"]],\"sequentialminus\":[[0.0,\"#0d0887\"],[0.1111111111111111,\"#46039f\"],[0.2222222222222222,\"#7201a8\"],[0.3333333333333333,\"#9c179e\"],[0.4444444444444444,\"#bd3786\"],[0.5555555555555556,\"#d8576b\"],[0.6666666666666666,\"#ed7953\"],[0.7777777777777778,\"#fb9f3a\"],[0.8888888888888888,\"#fdca26\"],[1.0,\"#f0f921\"]],\"diverging\":[[0,\"#8e0152\"],[0.1,\"#c51b7d\"],[0.2,\"#de77ae\"],[0.3,\"#f1b6da\"],[0.4,\"#fde0ef\"],[0.5,\"#f7f7f7\"],[0.6,\"#e6f5d0\"],[0.7,\"#b8e186\"],[0.8,\"#7fbc41\"],[0.9,\"#4d9221\"],[1,\"#276419\"]]},\"xaxis\":{\"gridcolor\":\"white\",\"linecolor\":\"white\",\"ticks\":\"\",\"title\":{\"standoff\":15},\"zerolinecolor\":\"white\",\"automargin\":true,\"zerolinewidth\":2},\"yaxis\":{\"gridcolor\":\"white\",\"linecolor\":\"white\",\"ticks\":\"\",\"title\":{\"standoff\":15},\"zerolinecolor\":\"white\",\"automargin\":true,\"zerolinewidth\":2},\"scene\":{\"xaxis\":{\"backgroundcolor\":\"#E5ECF6\",\"gridcolor\":\"white\",\"linecolor\":\"white\",\"showbackground\":true,\"ticks\":\"\",\"zerolinecolor\":\"white\",\"gridwidth\":2},\"yaxis\":{\"backgroundcolor\":\"#E5ECF6\",\"gridcolor\":\"white\",\"linecolor\":\"white\",\"showbackground\":true,\"ticks\":\"\",\"zerolinecolor\":\"white\",\"gridwidth\":2},\"zaxis\":{\"backgroundcolor\":\"#E5ECF6\",\"gridcolor\":\"white\",\"linecolor\":\"white\",\"showbackground\":true,\"ticks\":\"\",\"zerolinecolor\":\"white\",\"gridwidth\":2}},\"shapedefaults\":{\"line\":{\"color\":\"#2a3f5f\"}},\"annotationdefaults\":{\"arrowcolor\":\"#2a3f5f\",\"arrowhead\":0,\"arrowwidth\":1},\"geo\":{\"bgcolor\":\"white\",\"landcolor\":\"#E5ECF6\",\"subunitcolor\":\"white\",\"showland\":true,\"showlakes\":true,\"lakecolor\":\"white\"},\"title\":{\"x\":0.05},\"mapbox\":{\"style\":\"light\"}}},\"xaxis\":{\"anchor\":\"y\",\"domain\":[0.0,1.0],\"title\":{\"text\":\"Data da assembleia\"}},\"yaxis\":{\"anchor\":\"x\",\"domain\":[0.0,1.0],\"title\":{\"text\":\"Numero de Cotas\"}},\"coloraxis\":{\"colorbar\":{\"title\":{\"text\":\"versao\"}},\"colorscale\":[[0.0,\"#0d0887\"],[0.1111111111111111,\"#46039f\"],[0.2222222222222222,\"#7201a8\"],[0.3333333333333333,\"#9c179e\"],[0.4444444444444444,\"#bd3786\"],[0.5555555555555556,\"#d8576b\"],[0.6666666666666666,\"#ed7953\"],[0.7777777777777778,\"#fb9f3a\"],[0.8888888888888888,\"#fdca26\"],[1.0,\"#f0f921\"]]},\"legend\":{\"tracegroupgap\":0},\"title\":{\"text\":\"Op\\u00e7\\u00f5es de Contempla\\u00e7\\u00e3o Sorteio Ativas por data de assembleia\"},\"barmode\":\"relative\"},                        {\"responsive\": true}                    ).then(function(){\n",
       "                            \n",
       "var gd = document.getElementById('cf902994-76c4-423e-a53c-41123b47ca08');\n",
       "var x = new MutationObserver(function (mutations, observer) {{\n",
       "        var display = window.getComputedStyle(gd).display;\n",
       "        if (!display || display === 'none') {{\n",
       "            console.log([gd, 'removed!']);\n",
       "            Plotly.purge(gd);\n",
       "            observer.disconnect();\n",
       "        }}\n",
       "}});\n",
       "\n",
       "// Listen for the removal of the full notebook cells\n",
       "var notebookContainer = gd.closest('#notebook-container');\n",
       "if (notebookContainer) {{\n",
       "    x.observe(notebookContainer, {childList: true});\n",
       "}}\n",
       "\n",
       "// Listen for the clearing of the current output cell\n",
       "var outputEl = gd.closest('.output');\n",
       "if (outputEl) {{\n",
       "    x.observe(outputEl, {childList: true});\n",
       "}}\n",
       "\n",
       "                        })                };                });            </script>        </div>"
      ]
     },
     "metadata": {},
     "output_type": "display_data"
    },
    {
     "data": {
      "application/vnd.plotly.v1+json": {
       "config": {
        "plotlyServerURL": "https://plot.ly"
       },
       "data": [
        {
         "alignmentgroup": "True",
         "hovertemplate": "Data da assembleia=%{x}<br>Numero de Cotas=%{y}<br>versao=%{marker.color}<extra></extra>",
         "legendgroup": "",
         "marker": {
          "color": [
           0,
           0,
           0,
           0,
           0,
           0,
           0,
           0,
           0,
           0,
           0,
           0,
           0,
           0,
           0,
           0,
           0,
           0,
           0,
           0,
           0,
           0,
           0,
           0,
           0,
           0,
           0,
           0,
           0,
           0,
           0,
           0,
           0,
           0,
           0,
           0,
           0,
           0,
           0,
           0,
           0,
           0,
           0,
           0,
           0,
           0,
           0,
           1,
           1,
           1,
           1,
           1,
           1,
           1,
           1,
           1,
           1,
           1,
           1,
           1,
           1,
           1,
           1,
           1,
           1,
           1,
           1,
           1,
           1,
           1,
           1,
           1,
           1,
           1,
           1,
           1,
           1,
           1,
           1,
           1,
           1,
           1,
           1,
           1,
           1,
           1,
           1,
           1,
           1,
           2,
           2,
           2,
           2,
           2,
           2,
           2,
           2,
           2,
           2,
           2,
           2,
           2,
           2,
           2,
           2,
           2,
           2,
           2,
           2,
           2,
           2,
           2,
           2,
           2,
           2,
           2,
           2,
           2,
           2,
           2,
           2,
           2,
           2,
           2,
           2,
           2,
           2,
           2,
           2,
           2,
           2,
           2,
           3,
           3,
           3,
           3,
           3,
           3,
           3,
           3,
           3,
           3,
           3,
           3,
           3,
           3,
           3,
           3,
           3,
           3,
           3,
           3,
           3,
           3,
           3,
           3,
           3,
           3,
           3,
           3,
           3,
           3,
           3,
           3,
           3,
           3,
           3,
           3,
           3,
           3,
           3,
           3,
           3,
           3,
           4,
           4,
           4,
           4,
           4,
           4,
           4,
           4,
           4,
           4,
           4,
           4,
           4,
           4,
           4,
           4,
           4,
           4,
           4,
           4,
           4,
           4,
           4,
           4,
           4,
           4,
           4,
           4,
           4,
           4,
           4,
           4,
           4,
           4,
           4,
           4,
           4,
           4,
           4,
           5,
           5,
           5,
           5,
           5,
           5,
           5,
           5,
           5,
           5,
           5,
           5,
           5,
           5,
           5,
           5,
           5,
           5,
           5,
           5,
           5,
           5,
           5,
           5,
           5,
           5,
           6,
           6,
           6,
           6,
           6,
           6,
           6,
           6,
           7,
           7,
           7,
           7,
           7,
           30,
           31
          ],
          "coloraxis": "coloraxis",
          "pattern": {
           "shape": ""
          }
         },
         "name": "",
         "offsetgroup": "",
         "orientation": "v",
         "showlegend": false,
         "textposition": "auto",
         "type": "bar",
         "x": [
          "2020-10-15T00:00:00",
          "2020-11-12T00:00:00",
          "2021-01-14T00:00:00",
          "2020-12-14T00:00:00",
          "2021-03-12T00:00:00",
          "2021-04-14T00:00:00",
          "2021-02-12T00:00:00",
          "2021-05-13T00:00:00",
          "2021-08-12T00:00:00",
          "2021-07-15T00:00:00",
          "2021-10-15T00:00:00",
          "2021-09-14T00:00:00",
          "2021-06-14T00:00:00",
          "2022-01-13T00:00:00",
          "2021-12-14T00:00:00",
          "2021-11-12T00:00:00",
          "2022-05-12T00:00:00",
          "2022-06-15T00:00:00",
          "2022-04-14T00:00:00",
          "2022-03-15T00:00:00",
          "2022-02-15T00:00:00",
          "2022-09-15T00:00:00",
          "2022-07-14T00:00:00",
          "2022-08-12T00:00:00",
          "2023-04-13T00:00:00",
          "2023-05-12T00:00:00",
          "2023-03-14T00:00:00",
          "2023-02-14T00:00:00",
          "2023-01-12T00:00:00",
          "2022-12-15T00:00:00",
          "2022-11-14T00:00:00",
          "2022-10-13T00:00:00",
          "2023-08-15T00:00:00",
          "2023-09-14T00:00:00",
          "2023-10-17T00:00:00",
          "2023-11-14T00:00:00",
          "2023-12-14T00:00:00",
          "2024-03-14T00:00:00",
          "2023-07-13T00:00:00",
          "2023-06-15T00:00:00",
          "2024-08-14T00:00:00",
          "2024-04-12T00:00:00",
          "2024-06-12T00:00:00",
          "2024-05-14T00:00:00",
          "2024-02-15T00:00:00",
          "2024-07-12T00:00:00",
          "2024-01-12T00:00:00",
          "2020-10-15T00:00:00",
          "2021-12-14T00:00:00",
          "2022-01-13T00:00:00",
          "2021-11-12T00:00:00",
          "2022-03-15T00:00:00",
          "2022-02-15T00:00:00",
          "2021-10-15T00:00:00",
          "2021-07-15T00:00:00",
          "2021-08-12T00:00:00",
          "2021-05-13T00:00:00",
          "2021-06-14T00:00:00",
          "2021-04-14T00:00:00",
          "2021-03-12T00:00:00",
          "2021-09-14T00:00:00",
          "2021-02-12T00:00:00",
          "2021-01-14T00:00:00",
          "2020-11-12T00:00:00",
          "2022-11-14T00:00:00",
          "2022-12-15T00:00:00",
          "2022-10-13T00:00:00",
          "2023-01-12T00:00:00",
          "2023-02-14T00:00:00",
          "2023-03-14T00:00:00",
          "2023-05-12T00:00:00",
          "2023-04-13T00:00:00",
          "2023-07-13T00:00:00",
          "2020-12-14T00:00:00",
          "2022-08-12T00:00:00",
          "2022-09-15T00:00:00",
          "2022-04-14T00:00:00",
          "2022-07-14T00:00:00",
          "2022-06-15T00:00:00",
          "2022-05-12T00:00:00",
          "2023-11-14T00:00:00",
          "2023-12-14T00:00:00",
          "2024-01-12T00:00:00",
          "2024-02-15T00:00:00",
          "2023-06-15T00:00:00",
          "2023-08-15T00:00:00",
          "2023-10-17T00:00:00",
          "2024-08-14T00:00:00",
          "2023-09-14T00:00:00",
          "2023-10-17T00:00:00",
          "2023-12-14T00:00:00",
          "2024-01-12T00:00:00",
          "2024-03-14T00:00:00",
          "2024-04-12T00:00:00",
          "2024-02-15T00:00:00",
          "2023-11-14T00:00:00",
          "2022-06-15T00:00:00",
          "2022-03-15T00:00:00",
          "2022-08-12T00:00:00",
          "2022-05-12T00:00:00",
          "2021-12-14T00:00:00",
          "2022-02-15T00:00:00",
          "2021-11-12T00:00:00",
          "2022-01-13T00:00:00",
          "2023-04-13T00:00:00",
          "2023-05-12T00:00:00",
          "2023-07-13T00:00:00",
          "2023-06-15T00:00:00",
          "2023-08-15T00:00:00",
          "2023-09-14T00:00:00",
          "2023-01-12T00:00:00",
          "2023-03-14T00:00:00",
          "2021-10-15T00:00:00",
          "2021-08-12T00:00:00",
          "2021-09-14T00:00:00",
          "2021-04-14T00:00:00",
          "2021-07-15T00:00:00",
          "2021-06-14T00:00:00",
          "2021-05-13T00:00:00",
          "2022-04-14T00:00:00",
          "2022-09-15T00:00:00",
          "2022-07-14T00:00:00",
          "2020-12-14T00:00:00",
          "2021-01-14T00:00:00",
          "2021-03-12T00:00:00",
          "2021-02-12T00:00:00",
          "2020-10-15T00:00:00",
          "2020-11-12T00:00:00",
          "2022-11-14T00:00:00",
          "2023-02-14T00:00:00",
          "2022-10-13T00:00:00",
          "2022-12-15T00:00:00",
          "2023-11-14T00:00:00",
          "2023-12-14T00:00:00",
          "2023-10-17T00:00:00",
          "2023-09-14T00:00:00",
          "2024-01-12T00:00:00",
          "2024-03-14T00:00:00",
          "2023-08-15T00:00:00",
          "2024-02-15T00:00:00",
          "2022-11-14T00:00:00",
          "2022-10-13T00:00:00",
          "2021-02-12T00:00:00",
          "2021-03-12T00:00:00",
          "2022-05-12T00:00:00",
          "2022-06-15T00:00:00",
          "2022-02-15T00:00:00",
          "2022-03-15T00:00:00",
          "2022-07-14T00:00:00",
          "2022-09-15T00:00:00",
          "2022-08-12T00:00:00",
          "2022-04-14T00:00:00",
          "2023-03-14T00:00:00",
          "2023-04-13T00:00:00",
          "2023-07-13T00:00:00",
          "2023-05-12T00:00:00",
          "2023-06-15T00:00:00",
          "2022-12-15T00:00:00",
          "2023-01-12T00:00:00",
          "2023-02-14T00:00:00",
          "2021-10-15T00:00:00",
          "2021-08-12T00:00:00",
          "2021-07-15T00:00:00",
          "2021-06-14T00:00:00",
          "2021-12-14T00:00:00",
          "2021-11-12T00:00:00",
          "2022-01-13T00:00:00",
          "2021-09-14T00:00:00",
          "2020-12-14T00:00:00",
          "2021-01-14T00:00:00",
          "2020-11-12T00:00:00",
          "2020-10-15T00:00:00",
          "2021-05-13T00:00:00",
          "2021-04-14T00:00:00",
          "2022-04-14T00:00:00",
          "2022-05-12T00:00:00",
          "2022-01-13T00:00:00",
          "2021-12-14T00:00:00",
          "2021-10-15T00:00:00",
          "2021-11-12T00:00:00",
          "2021-01-14T00:00:00",
          "2021-02-12T00:00:00",
          "2021-04-14T00:00:00",
          "2021-03-12T00:00:00",
          "2021-06-14T00:00:00",
          "2021-07-15T00:00:00",
          "2021-08-12T00:00:00",
          "2021-05-13T00:00:00",
          "2021-09-14T00:00:00",
          "2022-02-15T00:00:00",
          "2022-08-12T00:00:00",
          "2022-09-15T00:00:00",
          "2023-02-14T00:00:00",
          "2022-12-15T00:00:00",
          "2022-10-13T00:00:00",
          "2023-01-12T00:00:00",
          "2023-06-15T00:00:00",
          "2023-04-13T00:00:00",
          "2023-07-13T00:00:00",
          "2022-11-14T00:00:00",
          "2023-09-14T00:00:00",
          "2023-08-15T00:00:00",
          "2023-10-17T00:00:00",
          "2022-06-15T00:00:00",
          "2022-03-15T00:00:00",
          "2022-07-14T00:00:00",
          "2024-03-14T00:00:00",
          "2024-01-12T00:00:00",
          "2024-02-15T00:00:00",
          "2023-11-14T00:00:00",
          "2023-03-14T00:00:00",
          "2023-12-14T00:00:00",
          "2023-05-12T00:00:00",
          "2024-03-14T00:00:00",
          "2023-11-14T00:00:00",
          "2024-04-12T00:00:00",
          "2020-12-14T00:00:00",
          "2020-11-12T00:00:00",
          "2022-03-15T00:00:00",
          "2023-12-14T00:00:00",
          "2022-05-12T00:00:00",
          "2022-04-14T00:00:00",
          "2022-02-15T00:00:00",
          "2022-07-14T00:00:00",
          "2024-01-12T00:00:00",
          "2024-05-14T00:00:00",
          "2024-02-15T00:00:00",
          "2023-02-14T00:00:00",
          "2023-10-17T00:00:00",
          "2023-05-12T00:00:00",
          "2023-06-15T00:00:00",
          "2023-07-13T00:00:00",
          "2023-04-13T00:00:00",
          "2023-03-14T00:00:00",
          "2023-01-12T00:00:00",
          "2023-09-14T00:00:00",
          "2022-10-13T00:00:00",
          "2022-12-15T00:00:00",
          "2023-08-15T00:00:00",
          "2022-08-12T00:00:00",
          "2024-03-14T00:00:00",
          "2023-06-15T00:00:00",
          "2022-05-12T00:00:00",
          "2023-07-13T00:00:00",
          "2023-03-14T00:00:00",
          "2023-04-13T00:00:00",
          "2023-05-12T00:00:00",
          "2023-10-17T00:00:00",
          "2024-02-15T00:00:00",
          "2024-03-14T00:00:00",
          "2023-11-14T00:00:00",
          "2023-12-14T00:00:00",
          "2020-11-12T00:00:00",
          "2022-07-14T00:00:00"
         ],
         "xaxis": "x",
         "y": [
          42,
          51,
          83,
          64,
          90,
          93,
          85,
          102,
          104,
          117,
          122,
          116,
          93,
          127,
          121,
          126,
          119,
          122,
          110,
          118,
          121,
          129,
          127,
          128,
          122,
          130,
          117,
          118,
          121,
          120,
          121,
          109,
          139,
          133,
          146,
          134,
          149,
          151,
          135,
          142,
          142,
          153,
          145,
          149,
          147,
          142,
          158,
          44,
          64,
          47,
          62,
          28,
          56,
          71,
          99,
          92,
          93,
          83,
          97,
          89,
          85,
          74,
          80,
          64,
          11,
          9,
          10,
          12,
          9,
          9,
          7,
          12,
          7,
          81,
          18,
          15,
          28,
          20,
          27,
          24,
          2,
          2,
          3,
          3,
          4,
          5,
          3,
          1,
          6,
          3,
          3,
          5,
          6,
          1,
          4,
          4,
          29,
          22,
          21,
          20,
          44,
          41,
          40,
          37,
          18,
          10,
          13,
          4,
          8,
          6,
          28,
          12,
          39,
          31,
          34,
          16,
          28,
          23,
          21,
          24,
          17,
          16,
          9,
          8,
          13,
          10,
          4,
          7,
          26,
          17,
          23,
          27,
          4,
          6,
          3,
          8,
          4,
          8,
          10,
          4,
          15,
          12,
          3,
          3,
          13,
          15,
          17,
          12,
          19,
          17,
          19,
          9,
          14,
          19,
          14,
          21,
          10,
          20,
          18,
          15,
          3,
          3,
          2,
          5,
          11,
          10,
          10,
          6,
          1,
          3,
          2,
          2,
          3,
          1,
          2,
          3,
          3,
          2,
          2,
          2,
          1,
          1,
          1,
          1,
          1,
          3,
          2,
          1,
          3,
          3,
          8,
          8,
          12,
          12,
          4,
          9,
          8,
          12,
          11,
          4,
          4,
          5,
          8,
          2,
          3,
          2,
          7,
          10,
          5,
          5,
          12,
          5,
          15,
          8,
          1,
          1,
          1,
          1,
          1,
          2,
          1,
          1,
          1,
          1,
          7,
          1,
          4,
          2,
          1,
          2,
          1,
          3,
          1,
          2,
          2,
          1,
          1,
          2,
          2,
          1,
          2,
          1,
          1,
          1,
          1,
          1,
          1,
          1,
          1,
          1,
          1,
          1,
          1,
          1
         ],
         "yaxis": "y"
        }
       ],
       "layout": {
        "barmode": "relative",
        "coloraxis": {
         "colorbar": {
          "title": {
           "text": "versao"
          }
         },
         "colorscale": [
          [
           0,
           "#0d0887"
          ],
          [
           0.1111111111111111,
           "#46039f"
          ],
          [
           0.2222222222222222,
           "#7201a8"
          ],
          [
           0.3333333333333333,
           "#9c179e"
          ],
          [
           0.4444444444444444,
           "#bd3786"
          ],
          [
           0.5555555555555556,
           "#d8576b"
          ],
          [
           0.6666666666666666,
           "#ed7953"
          ],
          [
           0.7777777777777778,
           "#fb9f3a"
          ],
          [
           0.8888888888888888,
           "#fdca26"
          ],
          [
           1,
           "#f0f921"
          ]
         ]
        },
        "legend": {
         "tracegroupgap": 0
        },
        "template": {
         "data": {
          "bar": [
           {
            "error_x": {
             "color": "#2a3f5f"
            },
            "error_y": {
             "color": "#2a3f5f"
            },
            "marker": {
             "line": {
              "color": "#E5ECF6",
              "width": 0.5
             },
             "pattern": {
              "fillmode": "overlay",
              "size": 10,
              "solidity": 0.2
             }
            },
            "type": "bar"
           }
          ],
          "barpolar": [
           {
            "marker": {
             "line": {
              "color": "#E5ECF6",
              "width": 0.5
             },
             "pattern": {
              "fillmode": "overlay",
              "size": 10,
              "solidity": 0.2
             }
            },
            "type": "barpolar"
           }
          ],
          "carpet": [
           {
            "aaxis": {
             "endlinecolor": "#2a3f5f",
             "gridcolor": "white",
             "linecolor": "white",
             "minorgridcolor": "white",
             "startlinecolor": "#2a3f5f"
            },
            "baxis": {
             "endlinecolor": "#2a3f5f",
             "gridcolor": "white",
             "linecolor": "white",
             "minorgridcolor": "white",
             "startlinecolor": "#2a3f5f"
            },
            "type": "carpet"
           }
          ],
          "choropleth": [
           {
            "colorbar": {
             "outlinewidth": 0,
             "ticks": ""
            },
            "type": "choropleth"
           }
          ],
          "contour": [
           {
            "colorbar": {
             "outlinewidth": 0,
             "ticks": ""
            },
            "colorscale": [
             [
              0,
              "#0d0887"
             ],
             [
              0.1111111111111111,
              "#46039f"
             ],
             [
              0.2222222222222222,
              "#7201a8"
             ],
             [
              0.3333333333333333,
              "#9c179e"
             ],
             [
              0.4444444444444444,
              "#bd3786"
             ],
             [
              0.5555555555555556,
              "#d8576b"
             ],
             [
              0.6666666666666666,
              "#ed7953"
             ],
             [
              0.7777777777777778,
              "#fb9f3a"
             ],
             [
              0.8888888888888888,
              "#fdca26"
             ],
             [
              1,
              "#f0f921"
             ]
            ],
            "type": "contour"
           }
          ],
          "contourcarpet": [
           {
            "colorbar": {
             "outlinewidth": 0,
             "ticks": ""
            },
            "type": "contourcarpet"
           }
          ],
          "heatmap": [
           {
            "colorbar": {
             "outlinewidth": 0,
             "ticks": ""
            },
            "colorscale": [
             [
              0,
              "#0d0887"
             ],
             [
              0.1111111111111111,
              "#46039f"
             ],
             [
              0.2222222222222222,
              "#7201a8"
             ],
             [
              0.3333333333333333,
              "#9c179e"
             ],
             [
              0.4444444444444444,
              "#bd3786"
             ],
             [
              0.5555555555555556,
              "#d8576b"
             ],
             [
              0.6666666666666666,
              "#ed7953"
             ],
             [
              0.7777777777777778,
              "#fb9f3a"
             ],
             [
              0.8888888888888888,
              "#fdca26"
             ],
             [
              1,
              "#f0f921"
             ]
            ],
            "type": "heatmap"
           }
          ],
          "heatmapgl": [
           {
            "colorbar": {
             "outlinewidth": 0,
             "ticks": ""
            },
            "colorscale": [
             [
              0,
              "#0d0887"
             ],
             [
              0.1111111111111111,
              "#46039f"
             ],
             [
              0.2222222222222222,
              "#7201a8"
             ],
             [
              0.3333333333333333,
              "#9c179e"
             ],
             [
              0.4444444444444444,
              "#bd3786"
             ],
             [
              0.5555555555555556,
              "#d8576b"
             ],
             [
              0.6666666666666666,
              "#ed7953"
             ],
             [
              0.7777777777777778,
              "#fb9f3a"
             ],
             [
              0.8888888888888888,
              "#fdca26"
             ],
             [
              1,
              "#f0f921"
             ]
            ],
            "type": "heatmapgl"
           }
          ],
          "histogram": [
           {
            "marker": {
             "pattern": {
              "fillmode": "overlay",
              "size": 10,
              "solidity": 0.2
             }
            },
            "type": "histogram"
           }
          ],
          "histogram2d": [
           {
            "colorbar": {
             "outlinewidth": 0,
             "ticks": ""
            },
            "colorscale": [
             [
              0,
              "#0d0887"
             ],
             [
              0.1111111111111111,
              "#46039f"
             ],
             [
              0.2222222222222222,
              "#7201a8"
             ],
             [
              0.3333333333333333,
              "#9c179e"
             ],
             [
              0.4444444444444444,
              "#bd3786"
             ],
             [
              0.5555555555555556,
              "#d8576b"
             ],
             [
              0.6666666666666666,
              "#ed7953"
             ],
             [
              0.7777777777777778,
              "#fb9f3a"
             ],
             [
              0.8888888888888888,
              "#fdca26"
             ],
             [
              1,
              "#f0f921"
             ]
            ],
            "type": "histogram2d"
           }
          ],
          "histogram2dcontour": [
           {
            "colorbar": {
             "outlinewidth": 0,
             "ticks": ""
            },
            "colorscale": [
             [
              0,
              "#0d0887"
             ],
             [
              0.1111111111111111,
              "#46039f"
             ],
             [
              0.2222222222222222,
              "#7201a8"
             ],
             [
              0.3333333333333333,
              "#9c179e"
             ],
             [
              0.4444444444444444,
              "#bd3786"
             ],
             [
              0.5555555555555556,
              "#d8576b"
             ],
             [
              0.6666666666666666,
              "#ed7953"
             ],
             [
              0.7777777777777778,
              "#fb9f3a"
             ],
             [
              0.8888888888888888,
              "#fdca26"
             ],
             [
              1,
              "#f0f921"
             ]
            ],
            "type": "histogram2dcontour"
           }
          ],
          "mesh3d": [
           {
            "colorbar": {
             "outlinewidth": 0,
             "ticks": ""
            },
            "type": "mesh3d"
           }
          ],
          "parcoords": [
           {
            "line": {
             "colorbar": {
              "outlinewidth": 0,
              "ticks": ""
             }
            },
            "type": "parcoords"
           }
          ],
          "pie": [
           {
            "automargin": true,
            "type": "pie"
           }
          ],
          "scatter": [
           {
            "fillpattern": {
             "fillmode": "overlay",
             "size": 10,
             "solidity": 0.2
            },
            "type": "scatter"
           }
          ],
          "scatter3d": [
           {
            "line": {
             "colorbar": {
              "outlinewidth": 0,
              "ticks": ""
             }
            },
            "marker": {
             "colorbar": {
              "outlinewidth": 0,
              "ticks": ""
             }
            },
            "type": "scatter3d"
           }
          ],
          "scattercarpet": [
           {
            "marker": {
             "colorbar": {
              "outlinewidth": 0,
              "ticks": ""
             }
            },
            "type": "scattercarpet"
           }
          ],
          "scattergeo": [
           {
            "marker": {
             "colorbar": {
              "outlinewidth": 0,
              "ticks": ""
             }
            },
            "type": "scattergeo"
           }
          ],
          "scattergl": [
           {
            "marker": {
             "colorbar": {
              "outlinewidth": 0,
              "ticks": ""
             }
            },
            "type": "scattergl"
           }
          ],
          "scattermapbox": [
           {
            "marker": {
             "colorbar": {
              "outlinewidth": 0,
              "ticks": ""
             }
            },
            "type": "scattermapbox"
           }
          ],
          "scatterpolar": [
           {
            "marker": {
             "colorbar": {
              "outlinewidth": 0,
              "ticks": ""
             }
            },
            "type": "scatterpolar"
           }
          ],
          "scatterpolargl": [
           {
            "marker": {
             "colorbar": {
              "outlinewidth": 0,
              "ticks": ""
             }
            },
            "type": "scatterpolargl"
           }
          ],
          "scatterternary": [
           {
            "marker": {
             "colorbar": {
              "outlinewidth": 0,
              "ticks": ""
             }
            },
            "type": "scatterternary"
           }
          ],
          "surface": [
           {
            "colorbar": {
             "outlinewidth": 0,
             "ticks": ""
            },
            "colorscale": [
             [
              0,
              "#0d0887"
             ],
             [
              0.1111111111111111,
              "#46039f"
             ],
             [
              0.2222222222222222,
              "#7201a8"
             ],
             [
              0.3333333333333333,
              "#9c179e"
             ],
             [
              0.4444444444444444,
              "#bd3786"
             ],
             [
              0.5555555555555556,
              "#d8576b"
             ],
             [
              0.6666666666666666,
              "#ed7953"
             ],
             [
              0.7777777777777778,
              "#fb9f3a"
             ],
             [
              0.8888888888888888,
              "#fdca26"
             ],
             [
              1,
              "#f0f921"
             ]
            ],
            "type": "surface"
           }
          ],
          "table": [
           {
            "cells": {
             "fill": {
              "color": "#EBF0F8"
             },
             "line": {
              "color": "white"
             }
            },
            "header": {
             "fill": {
              "color": "#C8D4E3"
             },
             "line": {
              "color": "white"
             }
            },
            "type": "table"
           }
          ]
         },
         "layout": {
          "annotationdefaults": {
           "arrowcolor": "#2a3f5f",
           "arrowhead": 0,
           "arrowwidth": 1
          },
          "autotypenumbers": "strict",
          "coloraxis": {
           "colorbar": {
            "outlinewidth": 0,
            "ticks": ""
           }
          },
          "colorscale": {
           "diverging": [
            [
             0,
             "#8e0152"
            ],
            [
             0.1,
             "#c51b7d"
            ],
            [
             0.2,
             "#de77ae"
            ],
            [
             0.3,
             "#f1b6da"
            ],
            [
             0.4,
             "#fde0ef"
            ],
            [
             0.5,
             "#f7f7f7"
            ],
            [
             0.6,
             "#e6f5d0"
            ],
            [
             0.7,
             "#b8e186"
            ],
            [
             0.8,
             "#7fbc41"
            ],
            [
             0.9,
             "#4d9221"
            ],
            [
             1,
             "#276419"
            ]
           ],
           "sequential": [
            [
             0,
             "#0d0887"
            ],
            [
             0.1111111111111111,
             "#46039f"
            ],
            [
             0.2222222222222222,
             "#7201a8"
            ],
            [
             0.3333333333333333,
             "#9c179e"
            ],
            [
             0.4444444444444444,
             "#bd3786"
            ],
            [
             0.5555555555555556,
             "#d8576b"
            ],
            [
             0.6666666666666666,
             "#ed7953"
            ],
            [
             0.7777777777777778,
             "#fb9f3a"
            ],
            [
             0.8888888888888888,
             "#fdca26"
            ],
            [
             1,
             "#f0f921"
            ]
           ],
           "sequentialminus": [
            [
             0,
             "#0d0887"
            ],
            [
             0.1111111111111111,
             "#46039f"
            ],
            [
             0.2222222222222222,
             "#7201a8"
            ],
            [
             0.3333333333333333,
             "#9c179e"
            ],
            [
             0.4444444444444444,
             "#bd3786"
            ],
            [
             0.5555555555555556,
             "#d8576b"
            ],
            [
             0.6666666666666666,
             "#ed7953"
            ],
            [
             0.7777777777777778,
             "#fb9f3a"
            ],
            [
             0.8888888888888888,
             "#fdca26"
            ],
            [
             1,
             "#f0f921"
            ]
           ]
          },
          "colorway": [
           "#636efa",
           "#EF553B",
           "#00cc96",
           "#ab63fa",
           "#FFA15A",
           "#19d3f3",
           "#FF6692",
           "#B6E880",
           "#FF97FF",
           "#FECB52"
          ],
          "font": {
           "color": "#2a3f5f"
          },
          "geo": {
           "bgcolor": "white",
           "lakecolor": "white",
           "landcolor": "#E5ECF6",
           "showlakes": true,
           "showland": true,
           "subunitcolor": "white"
          },
          "hoverlabel": {
           "align": "left"
          },
          "hovermode": "closest",
          "mapbox": {
           "style": "light"
          },
          "paper_bgcolor": "white",
          "plot_bgcolor": "#E5ECF6",
          "polar": {
           "angularaxis": {
            "gridcolor": "white",
            "linecolor": "white",
            "ticks": ""
           },
           "bgcolor": "#E5ECF6",
           "radialaxis": {
            "gridcolor": "white",
            "linecolor": "white",
            "ticks": ""
           }
          },
          "scene": {
           "xaxis": {
            "backgroundcolor": "#E5ECF6",
            "gridcolor": "white",
            "gridwidth": 2,
            "linecolor": "white",
            "showbackground": true,
            "ticks": "",
            "zerolinecolor": "white"
           },
           "yaxis": {
            "backgroundcolor": "#E5ECF6",
            "gridcolor": "white",
            "gridwidth": 2,
            "linecolor": "white",
            "showbackground": true,
            "ticks": "",
            "zerolinecolor": "white"
           },
           "zaxis": {
            "backgroundcolor": "#E5ECF6",
            "gridcolor": "white",
            "gridwidth": 2,
            "linecolor": "white",
            "showbackground": true,
            "ticks": "",
            "zerolinecolor": "white"
           }
          },
          "shapedefaults": {
           "line": {
            "color": "#2a3f5f"
           }
          },
          "ternary": {
           "aaxis": {
            "gridcolor": "white",
            "linecolor": "white",
            "ticks": ""
           },
           "baxis": {
            "gridcolor": "white",
            "linecolor": "white",
            "ticks": ""
           },
           "bgcolor": "#E5ECF6",
           "caxis": {
            "gridcolor": "white",
            "linecolor": "white",
            "ticks": ""
           }
          },
          "title": {
           "x": 0.05
          },
          "xaxis": {
           "automargin": true,
           "gridcolor": "white",
           "linecolor": "white",
           "ticks": "",
           "title": {
            "standoff": 15
           },
           "zerolinecolor": "white",
           "zerolinewidth": 2
          },
          "yaxis": {
           "automargin": true,
           "gridcolor": "white",
           "linecolor": "white",
           "ticks": "",
           "title": {
            "standoff": 15
           },
           "zerolinecolor": "white",
           "zerolinewidth": 2
          }
         }
        },
        "title": {
         "text": "Opções de Contemplação Lance Fixo por data de assembleia"
        },
        "xaxis": {
         "anchor": "y",
         "domain": [
          0,
          1
         ],
         "title": {
          "text": "Data da assembleia"
         }
        },
        "yaxis": {
         "anchor": "x",
         "domain": [
          0,
          1
         ],
         "title": {
          "text": "Numero de Cotas"
         }
        }
       }
      },
      "text/html": [
       "<div>                            <div id=\"83cee927-536f-4499-b79a-be0939c92e6e\" class=\"plotly-graph-div\" style=\"height:525px; width:100%;\"></div>            <script type=\"text/javascript\">                require([\"plotly\"], function(Plotly) {                    window.PLOTLYENV=window.PLOTLYENV || {};                                    if (document.getElementById(\"83cee927-536f-4499-b79a-be0939c92e6e\")) {                    Plotly.newPlot(                        \"83cee927-536f-4499-b79a-be0939c92e6e\",                        [{\"alignmentgroup\":\"True\",\"hovertemplate\":\"Data da assembleia=%{x}\\u003cbr\\u003eNumero de Cotas=%{y}\\u003cbr\\u003eversao=%{marker.color}\\u003cextra\\u003e\\u003c\\u002fextra\\u003e\",\"legendgroup\":\"\",\"marker\":{\"color\":[0.0,0.0,0.0,0.0,0.0,0.0,0.0,0.0,0.0,0.0,0.0,0.0,0.0,0.0,0.0,0.0,0.0,0.0,0.0,0.0,0.0,0.0,0.0,0.0,0.0,0.0,0.0,0.0,0.0,0.0,0.0,0.0,0.0,0.0,0.0,0.0,0.0,0.0,0.0,0.0,0.0,0.0,0.0,0.0,0.0,0.0,0.0,1.0,1.0,1.0,1.0,1.0,1.0,1.0,1.0,1.0,1.0,1.0,1.0,1.0,1.0,1.0,1.0,1.0,1.0,1.0,1.0,1.0,1.0,1.0,1.0,1.0,1.0,1.0,1.0,1.0,1.0,1.0,1.0,1.0,1.0,1.0,1.0,1.0,1.0,1.0,1.0,1.0,1.0,2.0,2.0,2.0,2.0,2.0,2.0,2.0,2.0,2.0,2.0,2.0,2.0,2.0,2.0,2.0,2.0,2.0,2.0,2.0,2.0,2.0,2.0,2.0,2.0,2.0,2.0,2.0,2.0,2.0,2.0,2.0,2.0,2.0,2.0,2.0,2.0,2.0,2.0,2.0,2.0,2.0,2.0,2.0,3.0,3.0,3.0,3.0,3.0,3.0,3.0,3.0,3.0,3.0,3.0,3.0,3.0,3.0,3.0,3.0,3.0,3.0,3.0,3.0,3.0,3.0,3.0,3.0,3.0,3.0,3.0,3.0,3.0,3.0,3.0,3.0,3.0,3.0,3.0,3.0,3.0,3.0,3.0,3.0,3.0,3.0,4.0,4.0,4.0,4.0,4.0,4.0,4.0,4.0,4.0,4.0,4.0,4.0,4.0,4.0,4.0,4.0,4.0,4.0,4.0,4.0,4.0,4.0,4.0,4.0,4.0,4.0,4.0,4.0,4.0,4.0,4.0,4.0,4.0,4.0,4.0,4.0,4.0,4.0,4.0,5.0,5.0,5.0,5.0,5.0,5.0,5.0,5.0,5.0,5.0,5.0,5.0,5.0,5.0,5.0,5.0,5.0,5.0,5.0,5.0,5.0,5.0,5.0,5.0,5.0,5.0,6.0,6.0,6.0,6.0,6.0,6.0,6.0,6.0,7.0,7.0,7.0,7.0,7.0,30.0,31.0],\"coloraxis\":\"coloraxis\",\"pattern\":{\"shape\":\"\"}},\"name\":\"\",\"offsetgroup\":\"\",\"orientation\":\"v\",\"showlegend\":false,\"textposition\":\"auto\",\"x\":[\"2020-10-15T00:00:00\",\"2020-11-12T00:00:00\",\"2021-01-14T00:00:00\",\"2020-12-14T00:00:00\",\"2021-03-12T00:00:00\",\"2021-04-14T00:00:00\",\"2021-02-12T00:00:00\",\"2021-05-13T00:00:00\",\"2021-08-12T00:00:00\",\"2021-07-15T00:00:00\",\"2021-10-15T00:00:00\",\"2021-09-14T00:00:00\",\"2021-06-14T00:00:00\",\"2022-01-13T00:00:00\",\"2021-12-14T00:00:00\",\"2021-11-12T00:00:00\",\"2022-05-12T00:00:00\",\"2022-06-15T00:00:00\",\"2022-04-14T00:00:00\",\"2022-03-15T00:00:00\",\"2022-02-15T00:00:00\",\"2022-09-15T00:00:00\",\"2022-07-14T00:00:00\",\"2022-08-12T00:00:00\",\"2023-04-13T00:00:00\",\"2023-05-12T00:00:00\",\"2023-03-14T00:00:00\",\"2023-02-14T00:00:00\",\"2023-01-12T00:00:00\",\"2022-12-15T00:00:00\",\"2022-11-14T00:00:00\",\"2022-10-13T00:00:00\",\"2023-08-15T00:00:00\",\"2023-09-14T00:00:00\",\"2023-10-17T00:00:00\",\"2023-11-14T00:00:00\",\"2023-12-14T00:00:00\",\"2024-03-14T00:00:00\",\"2023-07-13T00:00:00\",\"2023-06-15T00:00:00\",\"2024-08-14T00:00:00\",\"2024-04-12T00:00:00\",\"2024-06-12T00:00:00\",\"2024-05-14T00:00:00\",\"2024-02-15T00:00:00\",\"2024-07-12T00:00:00\",\"2024-01-12T00:00:00\",\"2020-10-15T00:00:00\",\"2021-12-14T00:00:00\",\"2022-01-13T00:00:00\",\"2021-11-12T00:00:00\",\"2022-03-15T00:00:00\",\"2022-02-15T00:00:00\",\"2021-10-15T00:00:00\",\"2021-07-15T00:00:00\",\"2021-08-12T00:00:00\",\"2021-05-13T00:00:00\",\"2021-06-14T00:00:00\",\"2021-04-14T00:00:00\",\"2021-03-12T00:00:00\",\"2021-09-14T00:00:00\",\"2021-02-12T00:00:00\",\"2021-01-14T00:00:00\",\"2020-11-12T00:00:00\",\"2022-11-14T00:00:00\",\"2022-12-15T00:00:00\",\"2022-10-13T00:00:00\",\"2023-01-12T00:00:00\",\"2023-02-14T00:00:00\",\"2023-03-14T00:00:00\",\"2023-05-12T00:00:00\",\"2023-04-13T00:00:00\",\"2023-07-13T00:00:00\",\"2020-12-14T00:00:00\",\"2022-08-12T00:00:00\",\"2022-09-15T00:00:00\",\"2022-04-14T00:00:00\",\"2022-07-14T00:00:00\",\"2022-06-15T00:00:00\",\"2022-05-12T00:00:00\",\"2023-11-14T00:00:00\",\"2023-12-14T00:00:00\",\"2024-01-12T00:00:00\",\"2024-02-15T00:00:00\",\"2023-06-15T00:00:00\",\"2023-08-15T00:00:00\",\"2023-10-17T00:00:00\",\"2024-08-14T00:00:00\",\"2023-09-14T00:00:00\",\"2023-10-17T00:00:00\",\"2023-12-14T00:00:00\",\"2024-01-12T00:00:00\",\"2024-03-14T00:00:00\",\"2024-04-12T00:00:00\",\"2024-02-15T00:00:00\",\"2023-11-14T00:00:00\",\"2022-06-15T00:00:00\",\"2022-03-15T00:00:00\",\"2022-08-12T00:00:00\",\"2022-05-12T00:00:00\",\"2021-12-14T00:00:00\",\"2022-02-15T00:00:00\",\"2021-11-12T00:00:00\",\"2022-01-13T00:00:00\",\"2023-04-13T00:00:00\",\"2023-05-12T00:00:00\",\"2023-07-13T00:00:00\",\"2023-06-15T00:00:00\",\"2023-08-15T00:00:00\",\"2023-09-14T00:00:00\",\"2023-01-12T00:00:00\",\"2023-03-14T00:00:00\",\"2021-10-15T00:00:00\",\"2021-08-12T00:00:00\",\"2021-09-14T00:00:00\",\"2021-04-14T00:00:00\",\"2021-07-15T00:00:00\",\"2021-06-14T00:00:00\",\"2021-05-13T00:00:00\",\"2022-04-14T00:00:00\",\"2022-09-15T00:00:00\",\"2022-07-14T00:00:00\",\"2020-12-14T00:00:00\",\"2021-01-14T00:00:00\",\"2021-03-12T00:00:00\",\"2021-02-12T00:00:00\",\"2020-10-15T00:00:00\",\"2020-11-12T00:00:00\",\"2022-11-14T00:00:00\",\"2023-02-14T00:00:00\",\"2022-10-13T00:00:00\",\"2022-12-15T00:00:00\",\"2023-11-14T00:00:00\",\"2023-12-14T00:00:00\",\"2023-10-17T00:00:00\",\"2023-09-14T00:00:00\",\"2024-01-12T00:00:00\",\"2024-03-14T00:00:00\",\"2023-08-15T00:00:00\",\"2024-02-15T00:00:00\",\"2022-11-14T00:00:00\",\"2022-10-13T00:00:00\",\"2021-02-12T00:00:00\",\"2021-03-12T00:00:00\",\"2022-05-12T00:00:00\",\"2022-06-15T00:00:00\",\"2022-02-15T00:00:00\",\"2022-03-15T00:00:00\",\"2022-07-14T00:00:00\",\"2022-09-15T00:00:00\",\"2022-08-12T00:00:00\",\"2022-04-14T00:00:00\",\"2023-03-14T00:00:00\",\"2023-04-13T00:00:00\",\"2023-07-13T00:00:00\",\"2023-05-12T00:00:00\",\"2023-06-15T00:00:00\",\"2022-12-15T00:00:00\",\"2023-01-12T00:00:00\",\"2023-02-14T00:00:00\",\"2021-10-15T00:00:00\",\"2021-08-12T00:00:00\",\"2021-07-15T00:00:00\",\"2021-06-14T00:00:00\",\"2021-12-14T00:00:00\",\"2021-11-12T00:00:00\",\"2022-01-13T00:00:00\",\"2021-09-14T00:00:00\",\"2020-12-14T00:00:00\",\"2021-01-14T00:00:00\",\"2020-11-12T00:00:00\",\"2020-10-15T00:00:00\",\"2021-05-13T00:00:00\",\"2021-04-14T00:00:00\",\"2022-04-14T00:00:00\",\"2022-05-12T00:00:00\",\"2022-01-13T00:00:00\",\"2021-12-14T00:00:00\",\"2021-10-15T00:00:00\",\"2021-11-12T00:00:00\",\"2021-01-14T00:00:00\",\"2021-02-12T00:00:00\",\"2021-04-14T00:00:00\",\"2021-03-12T00:00:00\",\"2021-06-14T00:00:00\",\"2021-07-15T00:00:00\",\"2021-08-12T00:00:00\",\"2021-05-13T00:00:00\",\"2021-09-14T00:00:00\",\"2022-02-15T00:00:00\",\"2022-08-12T00:00:00\",\"2022-09-15T00:00:00\",\"2023-02-14T00:00:00\",\"2022-12-15T00:00:00\",\"2022-10-13T00:00:00\",\"2023-01-12T00:00:00\",\"2023-06-15T00:00:00\",\"2023-04-13T00:00:00\",\"2023-07-13T00:00:00\",\"2022-11-14T00:00:00\",\"2023-09-14T00:00:00\",\"2023-08-15T00:00:00\",\"2023-10-17T00:00:00\",\"2022-06-15T00:00:00\",\"2022-03-15T00:00:00\",\"2022-07-14T00:00:00\",\"2024-03-14T00:00:00\",\"2024-01-12T00:00:00\",\"2024-02-15T00:00:00\",\"2023-11-14T00:00:00\",\"2023-03-14T00:00:00\",\"2023-12-14T00:00:00\",\"2023-05-12T00:00:00\",\"2024-03-14T00:00:00\",\"2023-11-14T00:00:00\",\"2024-04-12T00:00:00\",\"2020-12-14T00:00:00\",\"2020-11-12T00:00:00\",\"2022-03-15T00:00:00\",\"2023-12-14T00:00:00\",\"2022-05-12T00:00:00\",\"2022-04-14T00:00:00\",\"2022-02-15T00:00:00\",\"2022-07-14T00:00:00\",\"2024-01-12T00:00:00\",\"2024-05-14T00:00:00\",\"2024-02-15T00:00:00\",\"2023-02-14T00:00:00\",\"2023-10-17T00:00:00\",\"2023-05-12T00:00:00\",\"2023-06-15T00:00:00\",\"2023-07-13T00:00:00\",\"2023-04-13T00:00:00\",\"2023-03-14T00:00:00\",\"2023-01-12T00:00:00\",\"2023-09-14T00:00:00\",\"2022-10-13T00:00:00\",\"2022-12-15T00:00:00\",\"2023-08-15T00:00:00\",\"2022-08-12T00:00:00\",\"2024-03-14T00:00:00\",\"2023-06-15T00:00:00\",\"2022-05-12T00:00:00\",\"2023-07-13T00:00:00\",\"2023-03-14T00:00:00\",\"2023-04-13T00:00:00\",\"2023-05-12T00:00:00\",\"2023-10-17T00:00:00\",\"2024-02-15T00:00:00\",\"2024-03-14T00:00:00\",\"2023-11-14T00:00:00\",\"2023-12-14T00:00:00\",\"2020-11-12T00:00:00\",\"2022-07-14T00:00:00\"],\"xaxis\":\"x\",\"y\":[42,51,83,64,90,93,85,102,104,117,122,116,93,127,121,126,119,122,110,118,121,129,127,128,122,130,117,118,121,120,121,109,139,133,146,134,149,151,135,142,142,153,145,149,147,142,158,44,64,47,62,28,56,71,99,92,93,83,97,89,85,74,80,64,11,9,10,12,9,9,7,12,7,81,18,15,28,20,27,24,2,2,3,3,4,5,3,1,6,3,3,5,6,1,4,4,29,22,21,20,44,41,40,37,18,10,13,4,8,6,28,12,39,31,34,16,28,23,21,24,17,16,9,8,13,10,4,7,26,17,23,27,4,6,3,8,4,8,10,4,15,12,3,3,13,15,17,12,19,17,19,9,14,19,14,21,10,20,18,15,3,3,2,5,11,10,10,6,1,3,2,2,3,1,2,3,3,2,2,2,1,1,1,1,1,3,2,1,3,3,8,8,12,12,4,9,8,12,11,4,4,5,8,2,3,2,7,10,5,5,12,5,15,8,1,1,1,1,1,2,1,1,1,1,7,1,4,2,1,2,1,3,1,2,2,1,1,2,2,1,2,1,1,1,1,1,1,1,1,1,1,1,1,1],\"yaxis\":\"y\",\"type\":\"bar\"}],                        {\"template\":{\"data\":{\"histogram2dcontour\":[{\"type\":\"histogram2dcontour\",\"colorbar\":{\"outlinewidth\":0,\"ticks\":\"\"},\"colorscale\":[[0.0,\"#0d0887\"],[0.1111111111111111,\"#46039f\"],[0.2222222222222222,\"#7201a8\"],[0.3333333333333333,\"#9c179e\"],[0.4444444444444444,\"#bd3786\"],[0.5555555555555556,\"#d8576b\"],[0.6666666666666666,\"#ed7953\"],[0.7777777777777778,\"#fb9f3a\"],[0.8888888888888888,\"#fdca26\"],[1.0,\"#f0f921\"]]}],\"choropleth\":[{\"type\":\"choropleth\",\"colorbar\":{\"outlinewidth\":0,\"ticks\":\"\"}}],\"histogram2d\":[{\"type\":\"histogram2d\",\"colorbar\":{\"outlinewidth\":0,\"ticks\":\"\"},\"colorscale\":[[0.0,\"#0d0887\"],[0.1111111111111111,\"#46039f\"],[0.2222222222222222,\"#7201a8\"],[0.3333333333333333,\"#9c179e\"],[0.4444444444444444,\"#bd3786\"],[0.5555555555555556,\"#d8576b\"],[0.6666666666666666,\"#ed7953\"],[0.7777777777777778,\"#fb9f3a\"],[0.8888888888888888,\"#fdca26\"],[1.0,\"#f0f921\"]]}],\"heatmap\":[{\"type\":\"heatmap\",\"colorbar\":{\"outlinewidth\":0,\"ticks\":\"\"},\"colorscale\":[[0.0,\"#0d0887\"],[0.1111111111111111,\"#46039f\"],[0.2222222222222222,\"#7201a8\"],[0.3333333333333333,\"#9c179e\"],[0.4444444444444444,\"#bd3786\"],[0.5555555555555556,\"#d8576b\"],[0.6666666666666666,\"#ed7953\"],[0.7777777777777778,\"#fb9f3a\"],[0.8888888888888888,\"#fdca26\"],[1.0,\"#f0f921\"]]}],\"heatmapgl\":[{\"type\":\"heatmapgl\",\"colorbar\":{\"outlinewidth\":0,\"ticks\":\"\"},\"colorscale\":[[0.0,\"#0d0887\"],[0.1111111111111111,\"#46039f\"],[0.2222222222222222,\"#7201a8\"],[0.3333333333333333,\"#9c179e\"],[0.4444444444444444,\"#bd3786\"],[0.5555555555555556,\"#d8576b\"],[0.6666666666666666,\"#ed7953\"],[0.7777777777777778,\"#fb9f3a\"],[0.8888888888888888,\"#fdca26\"],[1.0,\"#f0f921\"]]}],\"contourcarpet\":[{\"type\":\"contourcarpet\",\"colorbar\":{\"outlinewidth\":0,\"ticks\":\"\"}}],\"contour\":[{\"type\":\"contour\",\"colorbar\":{\"outlinewidth\":0,\"ticks\":\"\"},\"colorscale\":[[0.0,\"#0d0887\"],[0.1111111111111111,\"#46039f\"],[0.2222222222222222,\"#7201a8\"],[0.3333333333333333,\"#9c179e\"],[0.4444444444444444,\"#bd3786\"],[0.5555555555555556,\"#d8576b\"],[0.6666666666666666,\"#ed7953\"],[0.7777777777777778,\"#fb9f3a\"],[0.8888888888888888,\"#fdca26\"],[1.0,\"#f0f921\"]]}],\"surface\":[{\"type\":\"surface\",\"colorbar\":{\"outlinewidth\":0,\"ticks\":\"\"},\"colorscale\":[[0.0,\"#0d0887\"],[0.1111111111111111,\"#46039f\"],[0.2222222222222222,\"#7201a8\"],[0.3333333333333333,\"#9c179e\"],[0.4444444444444444,\"#bd3786\"],[0.5555555555555556,\"#d8576b\"],[0.6666666666666666,\"#ed7953\"],[0.7777777777777778,\"#fb9f3a\"],[0.8888888888888888,\"#fdca26\"],[1.0,\"#f0f921\"]]}],\"mesh3d\":[{\"type\":\"mesh3d\",\"colorbar\":{\"outlinewidth\":0,\"ticks\":\"\"}}],\"scatter\":[{\"fillpattern\":{\"fillmode\":\"overlay\",\"size\":10,\"solidity\":0.2},\"type\":\"scatter\"}],\"parcoords\":[{\"type\":\"parcoords\",\"line\":{\"colorbar\":{\"outlinewidth\":0,\"ticks\":\"\"}}}],\"scatterpolargl\":[{\"type\":\"scatterpolargl\",\"marker\":{\"colorbar\":{\"outlinewidth\":0,\"ticks\":\"\"}}}],\"bar\":[{\"error_x\":{\"color\":\"#2a3f5f\"},\"error_y\":{\"color\":\"#2a3f5f\"},\"marker\":{\"line\":{\"color\":\"#E5ECF6\",\"width\":0.5},\"pattern\":{\"fillmode\":\"overlay\",\"size\":10,\"solidity\":0.2}},\"type\":\"bar\"}],\"scattergeo\":[{\"type\":\"scattergeo\",\"marker\":{\"colorbar\":{\"outlinewidth\":0,\"ticks\":\"\"}}}],\"scatterpolar\":[{\"type\":\"scatterpolar\",\"marker\":{\"colorbar\":{\"outlinewidth\":0,\"ticks\":\"\"}}}],\"histogram\":[{\"marker\":{\"pattern\":{\"fillmode\":\"overlay\",\"size\":10,\"solidity\":0.2}},\"type\":\"histogram\"}],\"scattergl\":[{\"type\":\"scattergl\",\"marker\":{\"colorbar\":{\"outlinewidth\":0,\"ticks\":\"\"}}}],\"scatter3d\":[{\"type\":\"scatter3d\",\"line\":{\"colorbar\":{\"outlinewidth\":0,\"ticks\":\"\"}},\"marker\":{\"colorbar\":{\"outlinewidth\":0,\"ticks\":\"\"}}}],\"scattermapbox\":[{\"type\":\"scattermapbox\",\"marker\":{\"colorbar\":{\"outlinewidth\":0,\"ticks\":\"\"}}}],\"scatterternary\":[{\"type\":\"scatterternary\",\"marker\":{\"colorbar\":{\"outlinewidth\":0,\"ticks\":\"\"}}}],\"scattercarpet\":[{\"type\":\"scattercarpet\",\"marker\":{\"colorbar\":{\"outlinewidth\":0,\"ticks\":\"\"}}}],\"carpet\":[{\"aaxis\":{\"endlinecolor\":\"#2a3f5f\",\"gridcolor\":\"white\",\"linecolor\":\"white\",\"minorgridcolor\":\"white\",\"startlinecolor\":\"#2a3f5f\"},\"baxis\":{\"endlinecolor\":\"#2a3f5f\",\"gridcolor\":\"white\",\"linecolor\":\"white\",\"minorgridcolor\":\"white\",\"startlinecolor\":\"#2a3f5f\"},\"type\":\"carpet\"}],\"table\":[{\"cells\":{\"fill\":{\"color\":\"#EBF0F8\"},\"line\":{\"color\":\"white\"}},\"header\":{\"fill\":{\"color\":\"#C8D4E3\"},\"line\":{\"color\":\"white\"}},\"type\":\"table\"}],\"barpolar\":[{\"marker\":{\"line\":{\"color\":\"#E5ECF6\",\"width\":0.5},\"pattern\":{\"fillmode\":\"overlay\",\"size\":10,\"solidity\":0.2}},\"type\":\"barpolar\"}],\"pie\":[{\"automargin\":true,\"type\":\"pie\"}]},\"layout\":{\"autotypenumbers\":\"strict\",\"colorway\":[\"#636efa\",\"#EF553B\",\"#00cc96\",\"#ab63fa\",\"#FFA15A\",\"#19d3f3\",\"#FF6692\",\"#B6E880\",\"#FF97FF\",\"#FECB52\"],\"font\":{\"color\":\"#2a3f5f\"},\"hovermode\":\"closest\",\"hoverlabel\":{\"align\":\"left\"},\"paper_bgcolor\":\"white\",\"plot_bgcolor\":\"#E5ECF6\",\"polar\":{\"bgcolor\":\"#E5ECF6\",\"angularaxis\":{\"gridcolor\":\"white\",\"linecolor\":\"white\",\"ticks\":\"\"},\"radialaxis\":{\"gridcolor\":\"white\",\"linecolor\":\"white\",\"ticks\":\"\"}},\"ternary\":{\"bgcolor\":\"#E5ECF6\",\"aaxis\":{\"gridcolor\":\"white\",\"linecolor\":\"white\",\"ticks\":\"\"},\"baxis\":{\"gridcolor\":\"white\",\"linecolor\":\"white\",\"ticks\":\"\"},\"caxis\":{\"gridcolor\":\"white\",\"linecolor\":\"white\",\"ticks\":\"\"}},\"coloraxis\":{\"colorbar\":{\"outlinewidth\":0,\"ticks\":\"\"}},\"colorscale\":{\"sequential\":[[0.0,\"#0d0887\"],[0.1111111111111111,\"#46039f\"],[0.2222222222222222,\"#7201a8\"],[0.3333333333333333,\"#9c179e\"],[0.4444444444444444,\"#bd3786\"],[0.5555555555555556,\"#d8576b\"],[0.6666666666666666,\"#ed7953\"],[0.7777777777777778,\"#fb9f3a\"],[0.8888888888888888,\"#fdca26\"],[1.0,\"#f0f921\"]],\"sequentialminus\":[[0.0,\"#0d0887\"],[0.1111111111111111,\"#46039f\"],[0.2222222222222222,\"#7201a8\"],[0.3333333333333333,\"#9c179e\"],[0.4444444444444444,\"#bd3786\"],[0.5555555555555556,\"#d8576b\"],[0.6666666666666666,\"#ed7953\"],[0.7777777777777778,\"#fb9f3a\"],[0.8888888888888888,\"#fdca26\"],[1.0,\"#f0f921\"]],\"diverging\":[[0,\"#8e0152\"],[0.1,\"#c51b7d\"],[0.2,\"#de77ae\"],[0.3,\"#f1b6da\"],[0.4,\"#fde0ef\"],[0.5,\"#f7f7f7\"],[0.6,\"#e6f5d0\"],[0.7,\"#b8e186\"],[0.8,\"#7fbc41\"],[0.9,\"#4d9221\"],[1,\"#276419\"]]},\"xaxis\":{\"gridcolor\":\"white\",\"linecolor\":\"white\",\"ticks\":\"\",\"title\":{\"standoff\":15},\"zerolinecolor\":\"white\",\"automargin\":true,\"zerolinewidth\":2},\"yaxis\":{\"gridcolor\":\"white\",\"linecolor\":\"white\",\"ticks\":\"\",\"title\":{\"standoff\":15},\"zerolinecolor\":\"white\",\"automargin\":true,\"zerolinewidth\":2},\"scene\":{\"xaxis\":{\"backgroundcolor\":\"#E5ECF6\",\"gridcolor\":\"white\",\"linecolor\":\"white\",\"showbackground\":true,\"ticks\":\"\",\"zerolinecolor\":\"white\",\"gridwidth\":2},\"yaxis\":{\"backgroundcolor\":\"#E5ECF6\",\"gridcolor\":\"white\",\"linecolor\":\"white\",\"showbackground\":true,\"ticks\":\"\",\"zerolinecolor\":\"white\",\"gridwidth\":2},\"zaxis\":{\"backgroundcolor\":\"#E5ECF6\",\"gridcolor\":\"white\",\"linecolor\":\"white\",\"showbackground\":true,\"ticks\":\"\",\"zerolinecolor\":\"white\",\"gridwidth\":2}},\"shapedefaults\":{\"line\":{\"color\":\"#2a3f5f\"}},\"annotationdefaults\":{\"arrowcolor\":\"#2a3f5f\",\"arrowhead\":0,\"arrowwidth\":1},\"geo\":{\"bgcolor\":\"white\",\"landcolor\":\"#E5ECF6\",\"subunitcolor\":\"white\",\"showland\":true,\"showlakes\":true,\"lakecolor\":\"white\"},\"title\":{\"x\":0.05},\"mapbox\":{\"style\":\"light\"}}},\"xaxis\":{\"anchor\":\"y\",\"domain\":[0.0,1.0],\"title\":{\"text\":\"Data da assembleia\"}},\"yaxis\":{\"anchor\":\"x\",\"domain\":[0.0,1.0],\"title\":{\"text\":\"Numero de Cotas\"}},\"coloraxis\":{\"colorbar\":{\"title\":{\"text\":\"versao\"}},\"colorscale\":[[0.0,\"#0d0887\"],[0.1111111111111111,\"#46039f\"],[0.2222222222222222,\"#7201a8\"],[0.3333333333333333,\"#9c179e\"],[0.4444444444444444,\"#bd3786\"],[0.5555555555555556,\"#d8576b\"],[0.6666666666666666,\"#ed7953\"],[0.7777777777777778,\"#fb9f3a\"],[0.8888888888888888,\"#fdca26\"],[1.0,\"#f0f921\"]]},\"legend\":{\"tracegroupgap\":0},\"title\":{\"text\":\"Op\\u00e7\\u00f5es de Contempla\\u00e7\\u00e3o Lance Fixo por data de assembleia\"},\"barmode\":\"relative\"},                        {\"responsive\": true}                    ).then(function(){\n",
       "                            \n",
       "var gd = document.getElementById('83cee927-536f-4499-b79a-be0939c92e6e');\n",
       "var x = new MutationObserver(function (mutations, observer) {{\n",
       "        var display = window.getComputedStyle(gd).display;\n",
       "        if (!display || display === 'none') {{\n",
       "            console.log([gd, 'removed!']);\n",
       "            Plotly.purge(gd);\n",
       "            observer.disconnect();\n",
       "        }}\n",
       "}});\n",
       "\n",
       "// Listen for the removal of the full notebook cells\n",
       "var notebookContainer = gd.closest('#notebook-container');\n",
       "if (notebookContainer) {{\n",
       "    x.observe(notebookContainer, {childList: true});\n",
       "}}\n",
       "\n",
       "// Listen for the clearing of the current output cell\n",
       "var outputEl = gd.closest('.output');\n",
       "if (outputEl) {{\n",
       "    x.observe(outputEl, {childList: true});\n",
       "}}\n",
       "\n",
       "                        })                };                });            </script>        </div>"
      ]
     },
     "metadata": {},
     "output_type": "display_data"
    },
    {
     "data": {
      "application/vnd.plotly.v1+json": {
       "config": {
        "plotlyServerURL": "https://plot.ly"
       },
       "data": [
        {
         "alignmentgroup": "True",
         "hovertemplate": "Data da assembleia=%{x}<br>Numero de Cotas=%{y}<br>versao=%{marker.color}<extra></extra>",
         "legendgroup": "",
         "marker": {
          "color": [
           1,
           1,
           1,
           1,
           1,
           1,
           1,
           1,
           1,
           1,
           1,
           1,
           1,
           1,
           1,
           1,
           1,
           1,
           1,
           1,
           1,
           1,
           1,
           1,
           1,
           1,
           1,
           1,
           1,
           1,
           1,
           1,
           1,
           1,
           1,
           1,
           1,
           1,
           1,
           1,
           1,
           1,
           1,
           1,
           1,
           1,
           1,
           2,
           2,
           2,
           2,
           2,
           2,
           2,
           2,
           2,
           2,
           2,
           2,
           2,
           2,
           2,
           2,
           2,
           2,
           2,
           2,
           2,
           2,
           2,
           2,
           2,
           2,
           2,
           2,
           2,
           2,
           2,
           2,
           2,
           2,
           2,
           2,
           2,
           2,
           2,
           2,
           2,
           2,
           2,
           2,
           2,
           2,
           2,
           3,
           3,
           3,
           3,
           3,
           3,
           3,
           3,
           3,
           3,
           3,
           3,
           3,
           3,
           3,
           3,
           3,
           3,
           3,
           3,
           3,
           3,
           3,
           3,
           3,
           3,
           3,
           3,
           3,
           3,
           3,
           3,
           3,
           3,
           3,
           3,
           3,
           3,
           3,
           3,
           3,
           3,
           3,
           3,
           3,
           3,
           3,
           4,
           4,
           4,
           4,
           4,
           4,
           4,
           4,
           4,
           4,
           4,
           4,
           4,
           4,
           4,
           4,
           4,
           4,
           4,
           4,
           4,
           4,
           4,
           4,
           4,
           4,
           4,
           4,
           4,
           4,
           4,
           4,
           4,
           4,
           4,
           4,
           4,
           4,
           4,
           4,
           4,
           4,
           4,
           4,
           5,
           5,
           5,
           5,
           5,
           5,
           5,
           5,
           5,
           5,
           5,
           5,
           5,
           5,
           5,
           5,
           5,
           5,
           5,
           5,
           5,
           5,
           5,
           5,
           5,
           5,
           5,
           5,
           5,
           5,
           5,
           5,
           5,
           5,
           5,
           5,
           5,
           5,
           5,
           5,
           5,
           5,
           5,
           5,
           5,
           5,
           5,
           6,
           6,
           6,
           6,
           6,
           6,
           6,
           6,
           6,
           6,
           6,
           6,
           6,
           6,
           6,
           6,
           6,
           6,
           6,
           6,
           6,
           6,
           7,
           7,
           7,
           7,
           7,
           7,
           7,
           7,
           30,
           30,
           30,
           30,
           30,
           30,
           30,
           30,
           30,
           30,
           30,
           30,
           30,
           30,
           30,
           30,
           30,
           30,
           30,
           30,
           30,
           30,
           30,
           30,
           30,
           30,
           30,
           30,
           30,
           30,
           30,
           30,
           30,
           30,
           30,
           30,
           31,
           31,
           31,
           31,
           31,
           31,
           31,
           31,
           31,
           31,
           31,
           31,
           31,
           31,
           31,
           31,
           31,
           31,
           31,
           33
          ],
          "coloraxis": "coloraxis",
          "pattern": {
           "shape": ""
          }
         },
         "name": "",
         "offsetgroup": "",
         "orientation": "v",
         "showlegend": false,
         "textposition": "auto",
         "type": "bar",
         "x": [
          "2020-10-15T00:00:00",
          "2020-11-12T00:00:00",
          "2020-12-14T00:00:00",
          "2024-08-14T00:00:00",
          "2021-01-14T00:00:00",
          "2024-07-12T00:00:00",
          "2021-08-12T00:00:00",
          "2021-07-15T00:00:00",
          "2021-09-14T00:00:00",
          "2021-10-15T00:00:00",
          "2021-11-12T00:00:00",
          "2024-02-15T00:00:00",
          "2024-01-12T00:00:00",
          "2023-12-14T00:00:00",
          "2023-11-14T00:00:00",
          "2023-10-17T00:00:00",
          "2023-06-15T00:00:00",
          "2023-07-13T00:00:00",
          "2023-08-15T00:00:00",
          "2023-09-14T00:00:00",
          "2021-12-14T00:00:00",
          "2022-07-14T00:00:00",
          "2022-06-15T00:00:00",
          "2022-05-12T00:00:00",
          "2023-03-14T00:00:00",
          "2023-04-13T00:00:00",
          "2023-05-12T00:00:00",
          "2023-02-14T00:00:00",
          "2022-04-14T00:00:00",
          "2022-03-15T00:00:00",
          "2022-02-15T00:00:00",
          "2022-01-13T00:00:00",
          "2022-08-12T00:00:00",
          "2022-09-15T00:00:00",
          "2022-10-13T00:00:00",
          "2022-11-14T00:00:00",
          "2022-12-15T00:00:00",
          "2021-03-12T00:00:00",
          "2021-02-12T00:00:00",
          "2023-01-12T00:00:00",
          "2021-04-14T00:00:00",
          "2021-05-13T00:00:00",
          "2021-06-14T00:00:00",
          "2024-03-14T00:00:00",
          "2024-06-12T00:00:00",
          "2024-05-14T00:00:00",
          "2024-04-12T00:00:00",
          "2024-01-12T00:00:00",
          "2021-12-14T00:00:00",
          "2023-09-14T00:00:00",
          "2023-08-15T00:00:00",
          "2023-06-15T00:00:00",
          "2023-07-13T00:00:00",
          "2021-08-12T00:00:00",
          "2021-07-15T00:00:00",
          "2021-06-14T00:00:00",
          "2021-11-12T00:00:00",
          "2021-10-15T00:00:00",
          "2021-09-14T00:00:00",
          "2020-11-12T00:00:00",
          "2023-05-12T00:00:00",
          "2023-11-14T00:00:00",
          "2023-12-14T00:00:00",
          "2023-10-17T00:00:00",
          "2021-05-13T00:00:00",
          "2021-04-14T00:00:00",
          "2021-02-12T00:00:00",
          "2021-01-14T00:00:00",
          "2021-03-12T00:00:00",
          "2022-11-14T00:00:00",
          "2022-09-15T00:00:00",
          "2022-08-12T00:00:00",
          "2022-12-15T00:00:00",
          "2022-10-13T00:00:00",
          "2023-01-12T00:00:00",
          "2022-04-14T00:00:00",
          "2023-02-14T00:00:00",
          "2022-02-15T00:00:00",
          "2022-03-15T00:00:00",
          "2022-01-13T00:00:00",
          "2022-07-14T00:00:00",
          "2022-06-15T00:00:00",
          "2022-05-12T00:00:00",
          "2023-03-14T00:00:00",
          "2023-04-13T00:00:00",
          "2024-02-15T00:00:00",
          "2024-08-14T00:00:00",
          "2020-10-15T00:00:00",
          "2024-03-14T00:00:00",
          "2024-05-14T00:00:00",
          "2024-06-12T00:00:00",
          "2024-04-12T00:00:00",
          "2024-07-12T00:00:00",
          "2020-12-14T00:00:00",
          "2020-10-15T00:00:00",
          "2020-11-12T00:00:00",
          "2021-12-14T00:00:00",
          "2021-11-12T00:00:00",
          "2023-08-15T00:00:00",
          "2023-09-14T00:00:00",
          "2023-06-15T00:00:00",
          "2023-07-13T00:00:00",
          "2024-01-12T00:00:00",
          "2023-05-12T00:00:00",
          "2023-11-14T00:00:00",
          "2023-12-14T00:00:00",
          "2023-10-17T00:00:00",
          "2022-01-13T00:00:00",
          "2022-02-15T00:00:00",
          "2022-03-15T00:00:00",
          "2023-01-12T00:00:00",
          "2023-02-14T00:00:00",
          "2022-06-15T00:00:00",
          "2022-05-12T00:00:00",
          "2023-04-13T00:00:00",
          "2022-04-14T00:00:00",
          "2023-03-14T00:00:00",
          "2022-07-14T00:00:00",
          "2022-08-12T00:00:00",
          "2022-09-15T00:00:00",
          "2020-12-14T00:00:00",
          "2024-07-12T00:00:00",
          "2024-08-14T00:00:00",
          "2021-06-14T00:00:00",
          "2021-08-12T00:00:00",
          "2021-07-15T00:00:00",
          "2021-09-14T00:00:00",
          "2021-10-15T00:00:00",
          "2021-05-13T00:00:00",
          "2021-04-14T00:00:00",
          "2021-03-12T00:00:00",
          "2021-02-12T00:00:00",
          "2021-01-14T00:00:00",
          "2022-10-13T00:00:00",
          "2022-11-14T00:00:00",
          "2022-12-15T00:00:00",
          "2024-04-12T00:00:00",
          "2024-03-14T00:00:00",
          "2024-02-15T00:00:00",
          "2024-05-14T00:00:00",
          "2024-06-12T00:00:00",
          "2024-06-12T00:00:00",
          "2024-04-12T00:00:00",
          "2024-03-14T00:00:00",
          "2024-05-14T00:00:00",
          "2024-02-15T00:00:00",
          "2021-02-12T00:00:00",
          "2021-04-14T00:00:00",
          "2021-05-13T00:00:00",
          "2022-09-15T00:00:00",
          "2022-08-12T00:00:00",
          "2022-06-15T00:00:00",
          "2022-10-13T00:00:00",
          "2022-11-14T00:00:00",
          "2022-12-15T00:00:00",
          "2021-01-14T00:00:00",
          "2021-03-12T00:00:00",
          "2022-02-15T00:00:00",
          "2021-12-14T00:00:00",
          "2021-11-12T00:00:00",
          "2022-01-13T00:00:00",
          "2023-08-15T00:00:00",
          "2023-06-15T00:00:00",
          "2023-07-13T00:00:00",
          "2023-09-14T00:00:00",
          "2023-02-14T00:00:00",
          "2023-01-12T00:00:00",
          "2022-03-15T00:00:00",
          "2023-03-14T00:00:00",
          "2023-04-13T00:00:00",
          "2022-04-14T00:00:00",
          "2022-05-12T00:00:00",
          "2022-07-14T00:00:00",
          "2023-05-12T00:00:00",
          "2021-08-12T00:00:00",
          "2021-07-15T00:00:00",
          "2021-09-14T00:00:00",
          "2023-11-14T00:00:00",
          "2021-06-14T00:00:00",
          "2024-08-14T00:00:00",
          "2024-07-12T00:00:00",
          "2021-10-15T00:00:00",
          "2023-10-17T00:00:00",
          "2023-12-14T00:00:00",
          "2024-01-12T00:00:00",
          "2023-01-12T00:00:00",
          "2021-01-14T00:00:00",
          "2023-04-13T00:00:00",
          "2022-05-12T00:00:00",
          "2021-03-12T00:00:00",
          "2022-12-15T00:00:00",
          "2022-11-14T00:00:00",
          "2022-10-13T00:00:00",
          "2022-08-12T00:00:00",
          "2022-03-15T00:00:00",
          "2023-02-14T00:00:00",
          "2022-04-14T00:00:00",
          "2022-01-13T00:00:00",
          "2023-06-15T00:00:00",
          "2023-09-14T00:00:00",
          "2023-07-13T00:00:00",
          "2021-12-14T00:00:00",
          "2022-02-15T00:00:00",
          "2021-11-12T00:00:00",
          "2023-03-14T00:00:00",
          "2023-08-15T00:00:00",
          "2023-05-12T00:00:00",
          "2021-10-15T00:00:00",
          "2023-12-14T00:00:00",
          "2021-08-12T00:00:00",
          "2022-06-15T00:00:00",
          "2022-09-15T00:00:00",
          "2021-07-15T00:00:00",
          "2020-10-15T00:00:00",
          "2024-01-12T00:00:00",
          "2023-11-14T00:00:00",
          "2020-12-14T00:00:00",
          "2024-07-12T00:00:00",
          "2024-08-14T00:00:00",
          "2020-11-12T00:00:00",
          "2021-06-14T00:00:00",
          "2021-09-14T00:00:00",
          "2023-10-17T00:00:00",
          "2021-02-12T00:00:00",
          "2021-04-14T00:00:00",
          "2021-05-13T00:00:00",
          "2024-05-14T00:00:00",
          "2024-04-12T00:00:00",
          "2022-07-14T00:00:00",
          "2024-03-14T00:00:00",
          "2024-02-15T00:00:00",
          "2024-06-12T00:00:00",
          "2023-07-13T00:00:00",
          "2023-05-12T00:00:00",
          "2023-06-15T00:00:00",
          "2023-02-14T00:00:00",
          "2022-05-12T00:00:00",
          "2023-09-14T00:00:00",
          "2024-07-12T00:00:00",
          "2024-08-14T00:00:00",
          "2024-01-12T00:00:00",
          "2023-10-17T00:00:00",
          "2023-11-14T00:00:00",
          "2023-12-14T00:00:00",
          "2023-08-15T00:00:00",
          "2023-03-14T00:00:00",
          "2023-04-13T00:00:00",
          "2024-04-12T00:00:00",
          "2024-03-14T00:00:00",
          "2024-06-12T00:00:00",
          "2024-02-15T00:00:00",
          "2022-08-12T00:00:00",
          "2023-01-12T00:00:00",
          "2024-05-14T00:00:00",
          "2024-03-14T00:00:00",
          "2024-02-15T00:00:00",
          "2024-06-12T00:00:00",
          "2024-07-12T00:00:00",
          "2023-12-14T00:00:00",
          "2023-10-17T00:00:00",
          "2023-11-14T00:00:00",
          "2024-08-14T00:00:00",
          "2021-02-12T00:00:00",
          "2022-09-15T00:00:00",
          "2021-05-13T00:00:00",
          "2022-06-15T00:00:00",
          "2021-03-12T00:00:00",
          "2024-02-15T00:00:00",
          "2021-04-14T00:00:00",
          "2022-07-14T00:00:00",
          "2021-01-14T00:00:00",
          "2022-10-13T00:00:00",
          "2022-08-12T00:00:00",
          "2022-11-14T00:00:00",
          "2024-01-12T00:00:00",
          "2023-12-14T00:00:00",
          "2021-09-14T00:00:00",
          "2020-11-12T00:00:00",
          "2021-06-14T00:00:00",
          "2021-08-12T00:00:00",
          "2021-07-15T00:00:00",
          "2021-10-15T00:00:00",
          "2020-12-14T00:00:00",
          "2020-10-15T00:00:00",
          "2022-02-15T00:00:00",
          "2023-01-12T00:00:00",
          "2022-03-15T00:00:00",
          "2023-03-14T00:00:00",
          "2023-02-14T00:00:00",
          "2022-05-12T00:00:00",
          "2023-04-13T00:00:00",
          "2022-12-15T00:00:00",
          "2022-04-14T00:00:00",
          "2022-01-13T00:00:00",
          "2021-11-12T00:00:00",
          "2021-12-14T00:00:00",
          "2023-05-12T00:00:00",
          "2023-06-15T00:00:00",
          "2021-03-12T00:00:00",
          "2021-02-12T00:00:00",
          "2022-06-15T00:00:00",
          "2021-08-12T00:00:00",
          "2023-06-15T00:00:00",
          "2022-01-13T00:00:00",
          "2022-04-14T00:00:00",
          "2023-04-13T00:00:00",
          "2023-03-14T00:00:00",
          "2023-02-14T00:00:00",
          "2023-01-12T00:00:00",
          "2022-05-12T00:00:00",
          "2022-11-14T00:00:00",
          "2022-10-13T00:00:00",
          "2022-12-15T00:00:00",
          "2022-09-15T00:00:00",
          "2022-08-12T00:00:00",
          "2022-07-14T00:00:00",
          "2023-05-12T00:00:00",
          "2022-01-13T00:00:00"
         ],
         "xaxis": "x",
         "y": [
          79,
          117,
          167,
          247,
          210,
          247,
          389,
          384,
          396,
          400,
          398,
          265,
          269,
          274,
          275,
          287,
          305,
          305,
          296,
          297,
          395,
          322,
          328,
          307,
          312,
          314,
          309,
          311,
          304,
          298,
          393,
          397,
          321,
          321,
          330,
          327,
          313,
          292,
          255,
          322,
          322,
          342,
          361,
          258,
          255,
          254,
          254,
          237,
          186,
          239,
          231,
          221,
          231,
          117,
          101,
          72,
          163,
          156,
          138,
          7,
          211,
          241,
          240,
          244,
          55,
          33,
          20,
          15,
          26,
          219,
          190,
          178,
          213,
          208,
          212,
          142,
          211,
          221,
          123,
          200,
          169,
          169,
          149,
          209,
          215,
          234,
          225,
          7,
          234,
          223,
          226,
          225,
          224,
          11,
          2,
          2,
          42,
          35,
          108,
          113,
          109,
          110,
          127,
          110,
          127,
          131,
          118,
          47,
          63,
          31,
          78,
          84,
          59,
          39,
          99,
          33,
          85,
          61,
          72,
          64,
          3,
          122,
          121,
          13,
          22,
          14,
          26,
          27,
          13,
          11,
          11,
          7,
          7,
          64,
          81,
          89,
          116,
          125,
          124,
          117,
          118,
          57,
          53,
          57,
          54,
          57,
          1,
          1,
          1,
          20,
          20,
          10,
          19,
          18,
          28,
          1,
          1,
          12,
          9,
          8,
          11,
          33,
          36,
          39,
          41,
          31,
          30,
          8,
          30,
          36,
          6,
          7,
          11,
          40,
          7,
          6,
          7,
          49,
          3,
          55,
          58,
          8,
          50,
          49,
          57,
          5,
          1,
          4,
          2,
          1,
          4,
          4,
          3,
          2,
          2,
          6,
          2,
          1,
          7,
          9,
          9,
          1,
          2,
          1,
          6,
          6,
          4,
          1,
          14,
          1,
          2,
          3,
          1,
          1,
          19,
          11,
          1,
          19,
          19,
          1,
          1,
          1,
          9,
          1,
          1,
          1,
          15,
          16,
          3,
          21,
          19,
          18,
          1,
          2,
          2,
          1,
          1,
          2,
          3,
          3,
          2,
          1,
          1,
          2,
          1,
          3,
          2,
          2,
          4,
          3,
          2,
          1,
          1,
          2,
          1,
          1,
          1,
          1,
          1,
          1,
          1,
          1,
          2,
          5,
          2,
          5,
          1,
          1,
          2,
          5,
          1,
          5,
          5,
          5,
          1,
          1,
          2,
          1,
          2,
          1,
          2,
          3,
          1,
          1,
          4,
          5,
          6,
          4,
          5,
          4,
          4,
          5,
          5,
          3,
          2,
          3,
          4,
          4,
          1,
          1,
          1,
          1,
          1,
          1,
          1,
          1,
          1,
          1,
          1,
          1,
          1,
          1,
          1,
          1,
          1,
          2,
          1,
          1
         ],
         "yaxis": "y"
        }
       ],
       "layout": {
        "barmode": "relative",
        "coloraxis": {
         "colorbar": {
          "title": {
           "text": "versao"
          }
         },
         "colorscale": [
          [
           0,
           "#0d0887"
          ],
          [
           0.1111111111111111,
           "#46039f"
          ],
          [
           0.2222222222222222,
           "#7201a8"
          ],
          [
           0.3333333333333333,
           "#9c179e"
          ],
          [
           0.4444444444444444,
           "#bd3786"
          ],
          [
           0.5555555555555556,
           "#d8576b"
          ],
          [
           0.6666666666666666,
           "#ed7953"
          ],
          [
           0.7777777777777778,
           "#fb9f3a"
          ],
          [
           0.8888888888888888,
           "#fdca26"
          ],
          [
           1,
           "#f0f921"
          ]
         ]
        },
        "legend": {
         "tracegroupgap": 0
        },
        "template": {
         "data": {
          "bar": [
           {
            "error_x": {
             "color": "#2a3f5f"
            },
            "error_y": {
             "color": "#2a3f5f"
            },
            "marker": {
             "line": {
              "color": "#E5ECF6",
              "width": 0.5
             },
             "pattern": {
              "fillmode": "overlay",
              "size": 10,
              "solidity": 0.2
             }
            },
            "type": "bar"
           }
          ],
          "barpolar": [
           {
            "marker": {
             "line": {
              "color": "#E5ECF6",
              "width": 0.5
             },
             "pattern": {
              "fillmode": "overlay",
              "size": 10,
              "solidity": 0.2
             }
            },
            "type": "barpolar"
           }
          ],
          "carpet": [
           {
            "aaxis": {
             "endlinecolor": "#2a3f5f",
             "gridcolor": "white",
             "linecolor": "white",
             "minorgridcolor": "white",
             "startlinecolor": "#2a3f5f"
            },
            "baxis": {
             "endlinecolor": "#2a3f5f",
             "gridcolor": "white",
             "linecolor": "white",
             "minorgridcolor": "white",
             "startlinecolor": "#2a3f5f"
            },
            "type": "carpet"
           }
          ],
          "choropleth": [
           {
            "colorbar": {
             "outlinewidth": 0,
             "ticks": ""
            },
            "type": "choropleth"
           }
          ],
          "contour": [
           {
            "colorbar": {
             "outlinewidth": 0,
             "ticks": ""
            },
            "colorscale": [
             [
              0,
              "#0d0887"
             ],
             [
              0.1111111111111111,
              "#46039f"
             ],
             [
              0.2222222222222222,
              "#7201a8"
             ],
             [
              0.3333333333333333,
              "#9c179e"
             ],
             [
              0.4444444444444444,
              "#bd3786"
             ],
             [
              0.5555555555555556,
              "#d8576b"
             ],
             [
              0.6666666666666666,
              "#ed7953"
             ],
             [
              0.7777777777777778,
              "#fb9f3a"
             ],
             [
              0.8888888888888888,
              "#fdca26"
             ],
             [
              1,
              "#f0f921"
             ]
            ],
            "type": "contour"
           }
          ],
          "contourcarpet": [
           {
            "colorbar": {
             "outlinewidth": 0,
             "ticks": ""
            },
            "type": "contourcarpet"
           }
          ],
          "heatmap": [
           {
            "colorbar": {
             "outlinewidth": 0,
             "ticks": ""
            },
            "colorscale": [
             [
              0,
              "#0d0887"
             ],
             [
              0.1111111111111111,
              "#46039f"
             ],
             [
              0.2222222222222222,
              "#7201a8"
             ],
             [
              0.3333333333333333,
              "#9c179e"
             ],
             [
              0.4444444444444444,
              "#bd3786"
             ],
             [
              0.5555555555555556,
              "#d8576b"
             ],
             [
              0.6666666666666666,
              "#ed7953"
             ],
             [
              0.7777777777777778,
              "#fb9f3a"
             ],
             [
              0.8888888888888888,
              "#fdca26"
             ],
             [
              1,
              "#f0f921"
             ]
            ],
            "type": "heatmap"
           }
          ],
          "heatmapgl": [
           {
            "colorbar": {
             "outlinewidth": 0,
             "ticks": ""
            },
            "colorscale": [
             [
              0,
              "#0d0887"
             ],
             [
              0.1111111111111111,
              "#46039f"
             ],
             [
              0.2222222222222222,
              "#7201a8"
             ],
             [
              0.3333333333333333,
              "#9c179e"
             ],
             [
              0.4444444444444444,
              "#bd3786"
             ],
             [
              0.5555555555555556,
              "#d8576b"
             ],
             [
              0.6666666666666666,
              "#ed7953"
             ],
             [
              0.7777777777777778,
              "#fb9f3a"
             ],
             [
              0.8888888888888888,
              "#fdca26"
             ],
             [
              1,
              "#f0f921"
             ]
            ],
            "type": "heatmapgl"
           }
          ],
          "histogram": [
           {
            "marker": {
             "pattern": {
              "fillmode": "overlay",
              "size": 10,
              "solidity": 0.2
             }
            },
            "type": "histogram"
           }
          ],
          "histogram2d": [
           {
            "colorbar": {
             "outlinewidth": 0,
             "ticks": ""
            },
            "colorscale": [
             [
              0,
              "#0d0887"
             ],
             [
              0.1111111111111111,
              "#46039f"
             ],
             [
              0.2222222222222222,
              "#7201a8"
             ],
             [
              0.3333333333333333,
              "#9c179e"
             ],
             [
              0.4444444444444444,
              "#bd3786"
             ],
             [
              0.5555555555555556,
              "#d8576b"
             ],
             [
              0.6666666666666666,
              "#ed7953"
             ],
             [
              0.7777777777777778,
              "#fb9f3a"
             ],
             [
              0.8888888888888888,
              "#fdca26"
             ],
             [
              1,
              "#f0f921"
             ]
            ],
            "type": "histogram2d"
           }
          ],
          "histogram2dcontour": [
           {
            "colorbar": {
             "outlinewidth": 0,
             "ticks": ""
            },
            "colorscale": [
             [
              0,
              "#0d0887"
             ],
             [
              0.1111111111111111,
              "#46039f"
             ],
             [
              0.2222222222222222,
              "#7201a8"
             ],
             [
              0.3333333333333333,
              "#9c179e"
             ],
             [
              0.4444444444444444,
              "#bd3786"
             ],
             [
              0.5555555555555556,
              "#d8576b"
             ],
             [
              0.6666666666666666,
              "#ed7953"
             ],
             [
              0.7777777777777778,
              "#fb9f3a"
             ],
             [
              0.8888888888888888,
              "#fdca26"
             ],
             [
              1,
              "#f0f921"
             ]
            ],
            "type": "histogram2dcontour"
           }
          ],
          "mesh3d": [
           {
            "colorbar": {
             "outlinewidth": 0,
             "ticks": ""
            },
            "type": "mesh3d"
           }
          ],
          "parcoords": [
           {
            "line": {
             "colorbar": {
              "outlinewidth": 0,
              "ticks": ""
             }
            },
            "type": "parcoords"
           }
          ],
          "pie": [
           {
            "automargin": true,
            "type": "pie"
           }
          ],
          "scatter": [
           {
            "fillpattern": {
             "fillmode": "overlay",
             "size": 10,
             "solidity": 0.2
            },
            "type": "scatter"
           }
          ],
          "scatter3d": [
           {
            "line": {
             "colorbar": {
              "outlinewidth": 0,
              "ticks": ""
             }
            },
            "marker": {
             "colorbar": {
              "outlinewidth": 0,
              "ticks": ""
             }
            },
            "type": "scatter3d"
           }
          ],
          "scattercarpet": [
           {
            "marker": {
             "colorbar": {
              "outlinewidth": 0,
              "ticks": ""
             }
            },
            "type": "scattercarpet"
           }
          ],
          "scattergeo": [
           {
            "marker": {
             "colorbar": {
              "outlinewidth": 0,
              "ticks": ""
             }
            },
            "type": "scattergeo"
           }
          ],
          "scattergl": [
           {
            "marker": {
             "colorbar": {
              "outlinewidth": 0,
              "ticks": ""
             }
            },
            "type": "scattergl"
           }
          ],
          "scattermapbox": [
           {
            "marker": {
             "colorbar": {
              "outlinewidth": 0,
              "ticks": ""
             }
            },
            "type": "scattermapbox"
           }
          ],
          "scatterpolar": [
           {
            "marker": {
             "colorbar": {
              "outlinewidth": 0,
              "ticks": ""
             }
            },
            "type": "scatterpolar"
           }
          ],
          "scatterpolargl": [
           {
            "marker": {
             "colorbar": {
              "outlinewidth": 0,
              "ticks": ""
             }
            },
            "type": "scatterpolargl"
           }
          ],
          "scatterternary": [
           {
            "marker": {
             "colorbar": {
              "outlinewidth": 0,
              "ticks": ""
             }
            },
            "type": "scatterternary"
           }
          ],
          "surface": [
           {
            "colorbar": {
             "outlinewidth": 0,
             "ticks": ""
            },
            "colorscale": [
             [
              0,
              "#0d0887"
             ],
             [
              0.1111111111111111,
              "#46039f"
             ],
             [
              0.2222222222222222,
              "#7201a8"
             ],
             [
              0.3333333333333333,
              "#9c179e"
             ],
             [
              0.4444444444444444,
              "#bd3786"
             ],
             [
              0.5555555555555556,
              "#d8576b"
             ],
             [
              0.6666666666666666,
              "#ed7953"
             ],
             [
              0.7777777777777778,
              "#fb9f3a"
             ],
             [
              0.8888888888888888,
              "#fdca26"
             ],
             [
              1,
              "#f0f921"
             ]
            ],
            "type": "surface"
           }
          ],
          "table": [
           {
            "cells": {
             "fill": {
              "color": "#EBF0F8"
             },
             "line": {
              "color": "white"
             }
            },
            "header": {
             "fill": {
              "color": "#C8D4E3"
             },
             "line": {
              "color": "white"
             }
            },
            "type": "table"
           }
          ]
         },
         "layout": {
          "annotationdefaults": {
           "arrowcolor": "#2a3f5f",
           "arrowhead": 0,
           "arrowwidth": 1
          },
          "autotypenumbers": "strict",
          "coloraxis": {
           "colorbar": {
            "outlinewidth": 0,
            "ticks": ""
           }
          },
          "colorscale": {
           "diverging": [
            [
             0,
             "#8e0152"
            ],
            [
             0.1,
             "#c51b7d"
            ],
            [
             0.2,
             "#de77ae"
            ],
            [
             0.3,
             "#f1b6da"
            ],
            [
             0.4,
             "#fde0ef"
            ],
            [
             0.5,
             "#f7f7f7"
            ],
            [
             0.6,
             "#e6f5d0"
            ],
            [
             0.7,
             "#b8e186"
            ],
            [
             0.8,
             "#7fbc41"
            ],
            [
             0.9,
             "#4d9221"
            ],
            [
             1,
             "#276419"
            ]
           ],
           "sequential": [
            [
             0,
             "#0d0887"
            ],
            [
             0.1111111111111111,
             "#46039f"
            ],
            [
             0.2222222222222222,
             "#7201a8"
            ],
            [
             0.3333333333333333,
             "#9c179e"
            ],
            [
             0.4444444444444444,
             "#bd3786"
            ],
            [
             0.5555555555555556,
             "#d8576b"
            ],
            [
             0.6666666666666666,
             "#ed7953"
            ],
            [
             0.7777777777777778,
             "#fb9f3a"
            ],
            [
             0.8888888888888888,
             "#fdca26"
            ],
            [
             1,
             "#f0f921"
            ]
           ],
           "sequentialminus": [
            [
             0,
             "#0d0887"
            ],
            [
             0.1111111111111111,
             "#46039f"
            ],
            [
             0.2222222222222222,
             "#7201a8"
            ],
            [
             0.3333333333333333,
             "#9c179e"
            ],
            [
             0.4444444444444444,
             "#bd3786"
            ],
            [
             0.5555555555555556,
             "#d8576b"
            ],
            [
             0.6666666666666666,
             "#ed7953"
            ],
            [
             0.7777777777777778,
             "#fb9f3a"
            ],
            [
             0.8888888888888888,
             "#fdca26"
            ],
            [
             1,
             "#f0f921"
            ]
           ]
          },
          "colorway": [
           "#636efa",
           "#EF553B",
           "#00cc96",
           "#ab63fa",
           "#FFA15A",
           "#19d3f3",
           "#FF6692",
           "#B6E880",
           "#FF97FF",
           "#FECB52"
          ],
          "font": {
           "color": "#2a3f5f"
          },
          "geo": {
           "bgcolor": "white",
           "lakecolor": "white",
           "landcolor": "#E5ECF6",
           "showlakes": true,
           "showland": true,
           "subunitcolor": "white"
          },
          "hoverlabel": {
           "align": "left"
          },
          "hovermode": "closest",
          "mapbox": {
           "style": "light"
          },
          "paper_bgcolor": "white",
          "plot_bgcolor": "#E5ECF6",
          "polar": {
           "angularaxis": {
            "gridcolor": "white",
            "linecolor": "white",
            "ticks": ""
           },
           "bgcolor": "#E5ECF6",
           "radialaxis": {
            "gridcolor": "white",
            "linecolor": "white",
            "ticks": ""
           }
          },
          "scene": {
           "xaxis": {
            "backgroundcolor": "#E5ECF6",
            "gridcolor": "white",
            "gridwidth": 2,
            "linecolor": "white",
            "showbackground": true,
            "ticks": "",
            "zerolinecolor": "white"
           },
           "yaxis": {
            "backgroundcolor": "#E5ECF6",
            "gridcolor": "white",
            "gridwidth": 2,
            "linecolor": "white",
            "showbackground": true,
            "ticks": "",
            "zerolinecolor": "white"
           },
           "zaxis": {
            "backgroundcolor": "#E5ECF6",
            "gridcolor": "white",
            "gridwidth": 2,
            "linecolor": "white",
            "showbackground": true,
            "ticks": "",
            "zerolinecolor": "white"
           }
          },
          "shapedefaults": {
           "line": {
            "color": "#2a3f5f"
           }
          },
          "ternary": {
           "aaxis": {
            "gridcolor": "white",
            "linecolor": "white",
            "ticks": ""
           },
           "baxis": {
            "gridcolor": "white",
            "linecolor": "white",
            "ticks": ""
           },
           "bgcolor": "#E5ECF6",
           "caxis": {
            "gridcolor": "white",
            "linecolor": "white",
            "ticks": ""
           }
          },
          "title": {
           "x": 0.05
          },
          "xaxis": {
           "automargin": true,
           "gridcolor": "white",
           "linecolor": "white",
           "ticks": "",
           "title": {
            "standoff": 15
           },
           "zerolinecolor": "white",
           "zerolinewidth": 2
          },
          "yaxis": {
           "automargin": true,
           "gridcolor": "white",
           "linecolor": "white",
           "ticks": "",
           "title": {
            "standoff": 15
           },
           "zerolinecolor": "white",
           "zerolinewidth": 2
          }
         }
        },
        "title": {
         "text": "Opções de Contemplação Sort. Canceladas por data de assembleia"
        },
        "xaxis": {
         "anchor": "y",
         "domain": [
          0,
          1
         ],
         "title": {
          "text": "Data da assembleia"
         }
        },
        "yaxis": {
         "anchor": "x",
         "domain": [
          0,
          1
         ],
         "title": {
          "text": "Numero de Cotas"
         }
        }
       }
      },
      "text/html": [
       "<div>                            <div id=\"471b6fa7-3607-41fd-9e52-ea1a62ef35bc\" class=\"plotly-graph-div\" style=\"height:525px; width:100%;\"></div>            <script type=\"text/javascript\">                require([\"plotly\"], function(Plotly) {                    window.PLOTLYENV=window.PLOTLYENV || {};                                    if (document.getElementById(\"471b6fa7-3607-41fd-9e52-ea1a62ef35bc\")) {                    Plotly.newPlot(                        \"471b6fa7-3607-41fd-9e52-ea1a62ef35bc\",                        [{\"alignmentgroup\":\"True\",\"hovertemplate\":\"Data da assembleia=%{x}\\u003cbr\\u003eNumero de Cotas=%{y}\\u003cbr\\u003eversao=%{marker.color}\\u003cextra\\u003e\\u003c\\u002fextra\\u003e\",\"legendgroup\":\"\",\"marker\":{\"color\":[1.0,1.0,1.0,1.0,1.0,1.0,1.0,1.0,1.0,1.0,1.0,1.0,1.0,1.0,1.0,1.0,1.0,1.0,1.0,1.0,1.0,1.0,1.0,1.0,1.0,1.0,1.0,1.0,1.0,1.0,1.0,1.0,1.0,1.0,1.0,1.0,1.0,1.0,1.0,1.0,1.0,1.0,1.0,1.0,1.0,1.0,1.0,2.0,2.0,2.0,2.0,2.0,2.0,2.0,2.0,2.0,2.0,2.0,2.0,2.0,2.0,2.0,2.0,2.0,2.0,2.0,2.0,2.0,2.0,2.0,2.0,2.0,2.0,2.0,2.0,2.0,2.0,2.0,2.0,2.0,2.0,2.0,2.0,2.0,2.0,2.0,2.0,2.0,2.0,2.0,2.0,2.0,2.0,2.0,3.0,3.0,3.0,3.0,3.0,3.0,3.0,3.0,3.0,3.0,3.0,3.0,3.0,3.0,3.0,3.0,3.0,3.0,3.0,3.0,3.0,3.0,3.0,3.0,3.0,3.0,3.0,3.0,3.0,3.0,3.0,3.0,3.0,3.0,3.0,3.0,3.0,3.0,3.0,3.0,3.0,3.0,3.0,3.0,3.0,3.0,3.0,4.0,4.0,4.0,4.0,4.0,4.0,4.0,4.0,4.0,4.0,4.0,4.0,4.0,4.0,4.0,4.0,4.0,4.0,4.0,4.0,4.0,4.0,4.0,4.0,4.0,4.0,4.0,4.0,4.0,4.0,4.0,4.0,4.0,4.0,4.0,4.0,4.0,4.0,4.0,4.0,4.0,4.0,4.0,4.0,5.0,5.0,5.0,5.0,5.0,5.0,5.0,5.0,5.0,5.0,5.0,5.0,5.0,5.0,5.0,5.0,5.0,5.0,5.0,5.0,5.0,5.0,5.0,5.0,5.0,5.0,5.0,5.0,5.0,5.0,5.0,5.0,5.0,5.0,5.0,5.0,5.0,5.0,5.0,5.0,5.0,5.0,5.0,5.0,5.0,5.0,5.0,6.0,6.0,6.0,6.0,6.0,6.0,6.0,6.0,6.0,6.0,6.0,6.0,6.0,6.0,6.0,6.0,6.0,6.0,6.0,6.0,6.0,6.0,7.0,7.0,7.0,7.0,7.0,7.0,7.0,7.0,30.0,30.0,30.0,30.0,30.0,30.0,30.0,30.0,30.0,30.0,30.0,30.0,30.0,30.0,30.0,30.0,30.0,30.0,30.0,30.0,30.0,30.0,30.0,30.0,30.0,30.0,30.0,30.0,30.0,30.0,30.0,30.0,30.0,30.0,30.0,30.0,31.0,31.0,31.0,31.0,31.0,31.0,31.0,31.0,31.0,31.0,31.0,31.0,31.0,31.0,31.0,31.0,31.0,31.0,31.0,33.0],\"coloraxis\":\"coloraxis\",\"pattern\":{\"shape\":\"\"}},\"name\":\"\",\"offsetgroup\":\"\",\"orientation\":\"v\",\"showlegend\":false,\"textposition\":\"auto\",\"x\":[\"2020-10-15T00:00:00\",\"2020-11-12T00:00:00\",\"2020-12-14T00:00:00\",\"2024-08-14T00:00:00\",\"2021-01-14T00:00:00\",\"2024-07-12T00:00:00\",\"2021-08-12T00:00:00\",\"2021-07-15T00:00:00\",\"2021-09-14T00:00:00\",\"2021-10-15T00:00:00\",\"2021-11-12T00:00:00\",\"2024-02-15T00:00:00\",\"2024-01-12T00:00:00\",\"2023-12-14T00:00:00\",\"2023-11-14T00:00:00\",\"2023-10-17T00:00:00\",\"2023-06-15T00:00:00\",\"2023-07-13T00:00:00\",\"2023-08-15T00:00:00\",\"2023-09-14T00:00:00\",\"2021-12-14T00:00:00\",\"2022-07-14T00:00:00\",\"2022-06-15T00:00:00\",\"2022-05-12T00:00:00\",\"2023-03-14T00:00:00\",\"2023-04-13T00:00:00\",\"2023-05-12T00:00:00\",\"2023-02-14T00:00:00\",\"2022-04-14T00:00:00\",\"2022-03-15T00:00:00\",\"2022-02-15T00:00:00\",\"2022-01-13T00:00:00\",\"2022-08-12T00:00:00\",\"2022-09-15T00:00:00\",\"2022-10-13T00:00:00\",\"2022-11-14T00:00:00\",\"2022-12-15T00:00:00\",\"2021-03-12T00:00:00\",\"2021-02-12T00:00:00\",\"2023-01-12T00:00:00\",\"2021-04-14T00:00:00\",\"2021-05-13T00:00:00\",\"2021-06-14T00:00:00\",\"2024-03-14T00:00:00\",\"2024-06-12T00:00:00\",\"2024-05-14T00:00:00\",\"2024-04-12T00:00:00\",\"2024-01-12T00:00:00\",\"2021-12-14T00:00:00\",\"2023-09-14T00:00:00\",\"2023-08-15T00:00:00\",\"2023-06-15T00:00:00\",\"2023-07-13T00:00:00\",\"2021-08-12T00:00:00\",\"2021-07-15T00:00:00\",\"2021-06-14T00:00:00\",\"2021-11-12T00:00:00\",\"2021-10-15T00:00:00\",\"2021-09-14T00:00:00\",\"2020-11-12T00:00:00\",\"2023-05-12T00:00:00\",\"2023-11-14T00:00:00\",\"2023-12-14T00:00:00\",\"2023-10-17T00:00:00\",\"2021-05-13T00:00:00\",\"2021-04-14T00:00:00\",\"2021-02-12T00:00:00\",\"2021-01-14T00:00:00\",\"2021-03-12T00:00:00\",\"2022-11-14T00:00:00\",\"2022-09-15T00:00:00\",\"2022-08-12T00:00:00\",\"2022-12-15T00:00:00\",\"2022-10-13T00:00:00\",\"2023-01-12T00:00:00\",\"2022-04-14T00:00:00\",\"2023-02-14T00:00:00\",\"2022-02-15T00:00:00\",\"2022-03-15T00:00:00\",\"2022-01-13T00:00:00\",\"2022-07-14T00:00:00\",\"2022-06-15T00:00:00\",\"2022-05-12T00:00:00\",\"2023-03-14T00:00:00\",\"2023-04-13T00:00:00\",\"2024-02-15T00:00:00\",\"2024-08-14T00:00:00\",\"2020-10-15T00:00:00\",\"2024-03-14T00:00:00\",\"2024-05-14T00:00:00\",\"2024-06-12T00:00:00\",\"2024-04-12T00:00:00\",\"2024-07-12T00:00:00\",\"2020-12-14T00:00:00\",\"2020-10-15T00:00:00\",\"2020-11-12T00:00:00\",\"2021-12-14T00:00:00\",\"2021-11-12T00:00:00\",\"2023-08-15T00:00:00\",\"2023-09-14T00:00:00\",\"2023-06-15T00:00:00\",\"2023-07-13T00:00:00\",\"2024-01-12T00:00:00\",\"2023-05-12T00:00:00\",\"2023-11-14T00:00:00\",\"2023-12-14T00:00:00\",\"2023-10-17T00:00:00\",\"2022-01-13T00:00:00\",\"2022-02-15T00:00:00\",\"2022-03-15T00:00:00\",\"2023-01-12T00:00:00\",\"2023-02-14T00:00:00\",\"2022-06-15T00:00:00\",\"2022-05-12T00:00:00\",\"2023-04-13T00:00:00\",\"2022-04-14T00:00:00\",\"2023-03-14T00:00:00\",\"2022-07-14T00:00:00\",\"2022-08-12T00:00:00\",\"2022-09-15T00:00:00\",\"2020-12-14T00:00:00\",\"2024-07-12T00:00:00\",\"2024-08-14T00:00:00\",\"2021-06-14T00:00:00\",\"2021-08-12T00:00:00\",\"2021-07-15T00:00:00\",\"2021-09-14T00:00:00\",\"2021-10-15T00:00:00\",\"2021-05-13T00:00:00\",\"2021-04-14T00:00:00\",\"2021-03-12T00:00:00\",\"2021-02-12T00:00:00\",\"2021-01-14T00:00:00\",\"2022-10-13T00:00:00\",\"2022-11-14T00:00:00\",\"2022-12-15T00:00:00\",\"2024-04-12T00:00:00\",\"2024-03-14T00:00:00\",\"2024-02-15T00:00:00\",\"2024-05-14T00:00:00\",\"2024-06-12T00:00:00\",\"2024-06-12T00:00:00\",\"2024-04-12T00:00:00\",\"2024-03-14T00:00:00\",\"2024-05-14T00:00:00\",\"2024-02-15T00:00:00\",\"2021-02-12T00:00:00\",\"2021-04-14T00:00:00\",\"2021-05-13T00:00:00\",\"2022-09-15T00:00:00\",\"2022-08-12T00:00:00\",\"2022-06-15T00:00:00\",\"2022-10-13T00:00:00\",\"2022-11-14T00:00:00\",\"2022-12-15T00:00:00\",\"2021-01-14T00:00:00\",\"2021-03-12T00:00:00\",\"2022-02-15T00:00:00\",\"2021-12-14T00:00:00\",\"2021-11-12T00:00:00\",\"2022-01-13T00:00:00\",\"2023-08-15T00:00:00\",\"2023-06-15T00:00:00\",\"2023-07-13T00:00:00\",\"2023-09-14T00:00:00\",\"2023-02-14T00:00:00\",\"2023-01-12T00:00:00\",\"2022-03-15T00:00:00\",\"2023-03-14T00:00:00\",\"2023-04-13T00:00:00\",\"2022-04-14T00:00:00\",\"2022-05-12T00:00:00\",\"2022-07-14T00:00:00\",\"2023-05-12T00:00:00\",\"2021-08-12T00:00:00\",\"2021-07-15T00:00:00\",\"2021-09-14T00:00:00\",\"2023-11-14T00:00:00\",\"2021-06-14T00:00:00\",\"2024-08-14T00:00:00\",\"2024-07-12T00:00:00\",\"2021-10-15T00:00:00\",\"2023-10-17T00:00:00\",\"2023-12-14T00:00:00\",\"2024-01-12T00:00:00\",\"2023-01-12T00:00:00\",\"2021-01-14T00:00:00\",\"2023-04-13T00:00:00\",\"2022-05-12T00:00:00\",\"2021-03-12T00:00:00\",\"2022-12-15T00:00:00\",\"2022-11-14T00:00:00\",\"2022-10-13T00:00:00\",\"2022-08-12T00:00:00\",\"2022-03-15T00:00:00\",\"2023-02-14T00:00:00\",\"2022-04-14T00:00:00\",\"2022-01-13T00:00:00\",\"2023-06-15T00:00:00\",\"2023-09-14T00:00:00\",\"2023-07-13T00:00:00\",\"2021-12-14T00:00:00\",\"2022-02-15T00:00:00\",\"2021-11-12T00:00:00\",\"2023-03-14T00:00:00\",\"2023-08-15T00:00:00\",\"2023-05-12T00:00:00\",\"2021-10-15T00:00:00\",\"2023-12-14T00:00:00\",\"2021-08-12T00:00:00\",\"2022-06-15T00:00:00\",\"2022-09-15T00:00:00\",\"2021-07-15T00:00:00\",\"2020-10-15T00:00:00\",\"2024-01-12T00:00:00\",\"2023-11-14T00:00:00\",\"2020-12-14T00:00:00\",\"2024-07-12T00:00:00\",\"2024-08-14T00:00:00\",\"2020-11-12T00:00:00\",\"2021-06-14T00:00:00\",\"2021-09-14T00:00:00\",\"2023-10-17T00:00:00\",\"2021-02-12T00:00:00\",\"2021-04-14T00:00:00\",\"2021-05-13T00:00:00\",\"2024-05-14T00:00:00\",\"2024-04-12T00:00:00\",\"2022-07-14T00:00:00\",\"2024-03-14T00:00:00\",\"2024-02-15T00:00:00\",\"2024-06-12T00:00:00\",\"2023-07-13T00:00:00\",\"2023-05-12T00:00:00\",\"2023-06-15T00:00:00\",\"2023-02-14T00:00:00\",\"2022-05-12T00:00:00\",\"2023-09-14T00:00:00\",\"2024-07-12T00:00:00\",\"2024-08-14T00:00:00\",\"2024-01-12T00:00:00\",\"2023-10-17T00:00:00\",\"2023-11-14T00:00:00\",\"2023-12-14T00:00:00\",\"2023-08-15T00:00:00\",\"2023-03-14T00:00:00\",\"2023-04-13T00:00:00\",\"2024-04-12T00:00:00\",\"2024-03-14T00:00:00\",\"2024-06-12T00:00:00\",\"2024-02-15T00:00:00\",\"2022-08-12T00:00:00\",\"2023-01-12T00:00:00\",\"2024-05-14T00:00:00\",\"2024-03-14T00:00:00\",\"2024-02-15T00:00:00\",\"2024-06-12T00:00:00\",\"2024-07-12T00:00:00\",\"2023-12-14T00:00:00\",\"2023-10-17T00:00:00\",\"2023-11-14T00:00:00\",\"2024-08-14T00:00:00\",\"2021-02-12T00:00:00\",\"2022-09-15T00:00:00\",\"2021-05-13T00:00:00\",\"2022-06-15T00:00:00\",\"2021-03-12T00:00:00\",\"2024-02-15T00:00:00\",\"2021-04-14T00:00:00\",\"2022-07-14T00:00:00\",\"2021-01-14T00:00:00\",\"2022-10-13T00:00:00\",\"2022-08-12T00:00:00\",\"2022-11-14T00:00:00\",\"2024-01-12T00:00:00\",\"2023-12-14T00:00:00\",\"2021-09-14T00:00:00\",\"2020-11-12T00:00:00\",\"2021-06-14T00:00:00\",\"2021-08-12T00:00:00\",\"2021-07-15T00:00:00\",\"2021-10-15T00:00:00\",\"2020-12-14T00:00:00\",\"2020-10-15T00:00:00\",\"2022-02-15T00:00:00\",\"2023-01-12T00:00:00\",\"2022-03-15T00:00:00\",\"2023-03-14T00:00:00\",\"2023-02-14T00:00:00\",\"2022-05-12T00:00:00\",\"2023-04-13T00:00:00\",\"2022-12-15T00:00:00\",\"2022-04-14T00:00:00\",\"2022-01-13T00:00:00\",\"2021-11-12T00:00:00\",\"2021-12-14T00:00:00\",\"2023-05-12T00:00:00\",\"2023-06-15T00:00:00\",\"2021-03-12T00:00:00\",\"2021-02-12T00:00:00\",\"2022-06-15T00:00:00\",\"2021-08-12T00:00:00\",\"2023-06-15T00:00:00\",\"2022-01-13T00:00:00\",\"2022-04-14T00:00:00\",\"2023-04-13T00:00:00\",\"2023-03-14T00:00:00\",\"2023-02-14T00:00:00\",\"2023-01-12T00:00:00\",\"2022-05-12T00:00:00\",\"2022-11-14T00:00:00\",\"2022-10-13T00:00:00\",\"2022-12-15T00:00:00\",\"2022-09-15T00:00:00\",\"2022-08-12T00:00:00\",\"2022-07-14T00:00:00\",\"2023-05-12T00:00:00\",\"2022-01-13T00:00:00\"],\"xaxis\":\"x\",\"y\":[79,117,167,247,210,247,389,384,396,400,398,265,269,274,275,287,305,305,296,297,395,322,328,307,312,314,309,311,304,298,393,397,321,321,330,327,313,292,255,322,322,342,361,258,255,254,254,237,186,239,231,221,231,117,101,72,163,156,138,7,211,241,240,244,55,33,20,15,26,219,190,178,213,208,212,142,211,221,123,200,169,169,149,209,215,234,225,7,234,223,226,225,224,11,2,2,42,35,108,113,109,110,127,110,127,131,118,47,63,31,78,84,59,39,99,33,85,61,72,64,3,122,121,13,22,14,26,27,13,11,11,7,7,64,81,89,116,125,124,117,118,57,53,57,54,57,1,1,1,20,20,10,19,18,28,1,1,12,9,8,11,33,36,39,41,31,30,8,30,36,6,7,11,40,7,6,7,49,3,55,58,8,50,49,57,5,1,4,2,1,4,4,3,2,2,6,2,1,7,9,9,1,2,1,6,6,4,1,14,1,2,3,1,1,19,11,1,19,19,1,1,1,9,1,1,1,15,16,3,21,19,18,1,2,2,1,1,2,3,3,2,1,1,2,1,3,2,2,4,3,2,1,1,2,1,1,1,1,1,1,1,1,2,5,2,5,1,1,2,5,1,5,5,5,1,1,2,1,2,1,2,3,1,1,4,5,6,4,5,4,4,5,5,3,2,3,4,4,1,1,1,1,1,1,1,1,1,1,1,1,1,1,1,1,1,2,1,1],\"yaxis\":\"y\",\"type\":\"bar\"}],                        {\"template\":{\"data\":{\"histogram2dcontour\":[{\"type\":\"histogram2dcontour\",\"colorbar\":{\"outlinewidth\":0,\"ticks\":\"\"},\"colorscale\":[[0.0,\"#0d0887\"],[0.1111111111111111,\"#46039f\"],[0.2222222222222222,\"#7201a8\"],[0.3333333333333333,\"#9c179e\"],[0.4444444444444444,\"#bd3786\"],[0.5555555555555556,\"#d8576b\"],[0.6666666666666666,\"#ed7953\"],[0.7777777777777778,\"#fb9f3a\"],[0.8888888888888888,\"#fdca26\"],[1.0,\"#f0f921\"]]}],\"choropleth\":[{\"type\":\"choropleth\",\"colorbar\":{\"outlinewidth\":0,\"ticks\":\"\"}}],\"histogram2d\":[{\"type\":\"histogram2d\",\"colorbar\":{\"outlinewidth\":0,\"ticks\":\"\"},\"colorscale\":[[0.0,\"#0d0887\"],[0.1111111111111111,\"#46039f\"],[0.2222222222222222,\"#7201a8\"],[0.3333333333333333,\"#9c179e\"],[0.4444444444444444,\"#bd3786\"],[0.5555555555555556,\"#d8576b\"],[0.6666666666666666,\"#ed7953\"],[0.7777777777777778,\"#fb9f3a\"],[0.8888888888888888,\"#fdca26\"],[1.0,\"#f0f921\"]]}],\"heatmap\":[{\"type\":\"heatmap\",\"colorbar\":{\"outlinewidth\":0,\"ticks\":\"\"},\"colorscale\":[[0.0,\"#0d0887\"],[0.1111111111111111,\"#46039f\"],[0.2222222222222222,\"#7201a8\"],[0.3333333333333333,\"#9c179e\"],[0.4444444444444444,\"#bd3786\"],[0.5555555555555556,\"#d8576b\"],[0.6666666666666666,\"#ed7953\"],[0.7777777777777778,\"#fb9f3a\"],[0.8888888888888888,\"#fdca26\"],[1.0,\"#f0f921\"]]}],\"heatmapgl\":[{\"type\":\"heatmapgl\",\"colorbar\":{\"outlinewidth\":0,\"ticks\":\"\"},\"colorscale\":[[0.0,\"#0d0887\"],[0.1111111111111111,\"#46039f\"],[0.2222222222222222,\"#7201a8\"],[0.3333333333333333,\"#9c179e\"],[0.4444444444444444,\"#bd3786\"],[0.5555555555555556,\"#d8576b\"],[0.6666666666666666,\"#ed7953\"],[0.7777777777777778,\"#fb9f3a\"],[0.8888888888888888,\"#fdca26\"],[1.0,\"#f0f921\"]]}],\"contourcarpet\":[{\"type\":\"contourcarpet\",\"colorbar\":{\"outlinewidth\":0,\"ticks\":\"\"}}],\"contour\":[{\"type\":\"contour\",\"colorbar\":{\"outlinewidth\":0,\"ticks\":\"\"},\"colorscale\":[[0.0,\"#0d0887\"],[0.1111111111111111,\"#46039f\"],[0.2222222222222222,\"#7201a8\"],[0.3333333333333333,\"#9c179e\"],[0.4444444444444444,\"#bd3786\"],[0.5555555555555556,\"#d8576b\"],[0.6666666666666666,\"#ed7953\"],[0.7777777777777778,\"#fb9f3a\"],[0.8888888888888888,\"#fdca26\"],[1.0,\"#f0f921\"]]}],\"surface\":[{\"type\":\"surface\",\"colorbar\":{\"outlinewidth\":0,\"ticks\":\"\"},\"colorscale\":[[0.0,\"#0d0887\"],[0.1111111111111111,\"#46039f\"],[0.2222222222222222,\"#7201a8\"],[0.3333333333333333,\"#9c179e\"],[0.4444444444444444,\"#bd3786\"],[0.5555555555555556,\"#d8576b\"],[0.6666666666666666,\"#ed7953\"],[0.7777777777777778,\"#fb9f3a\"],[0.8888888888888888,\"#fdca26\"],[1.0,\"#f0f921\"]]}],\"mesh3d\":[{\"type\":\"mesh3d\",\"colorbar\":{\"outlinewidth\":0,\"ticks\":\"\"}}],\"scatter\":[{\"fillpattern\":{\"fillmode\":\"overlay\",\"size\":10,\"solidity\":0.2},\"type\":\"scatter\"}],\"parcoords\":[{\"type\":\"parcoords\",\"line\":{\"colorbar\":{\"outlinewidth\":0,\"ticks\":\"\"}}}],\"scatterpolargl\":[{\"type\":\"scatterpolargl\",\"marker\":{\"colorbar\":{\"outlinewidth\":0,\"ticks\":\"\"}}}],\"bar\":[{\"error_x\":{\"color\":\"#2a3f5f\"},\"error_y\":{\"color\":\"#2a3f5f\"},\"marker\":{\"line\":{\"color\":\"#E5ECF6\",\"width\":0.5},\"pattern\":{\"fillmode\":\"overlay\",\"size\":10,\"solidity\":0.2}},\"type\":\"bar\"}],\"scattergeo\":[{\"type\":\"scattergeo\",\"marker\":{\"colorbar\":{\"outlinewidth\":0,\"ticks\":\"\"}}}],\"scatterpolar\":[{\"type\":\"scatterpolar\",\"marker\":{\"colorbar\":{\"outlinewidth\":0,\"ticks\":\"\"}}}],\"histogram\":[{\"marker\":{\"pattern\":{\"fillmode\":\"overlay\",\"size\":10,\"solidity\":0.2}},\"type\":\"histogram\"}],\"scattergl\":[{\"type\":\"scattergl\",\"marker\":{\"colorbar\":{\"outlinewidth\":0,\"ticks\":\"\"}}}],\"scatter3d\":[{\"type\":\"scatter3d\",\"line\":{\"colorbar\":{\"outlinewidth\":0,\"ticks\":\"\"}},\"marker\":{\"colorbar\":{\"outlinewidth\":0,\"ticks\":\"\"}}}],\"scattermapbox\":[{\"type\":\"scattermapbox\",\"marker\":{\"colorbar\":{\"outlinewidth\":0,\"ticks\":\"\"}}}],\"scatterternary\":[{\"type\":\"scatterternary\",\"marker\":{\"colorbar\":{\"outlinewidth\":0,\"ticks\":\"\"}}}],\"scattercarpet\":[{\"type\":\"scattercarpet\",\"marker\":{\"colorbar\":{\"outlinewidth\":0,\"ticks\":\"\"}}}],\"carpet\":[{\"aaxis\":{\"endlinecolor\":\"#2a3f5f\",\"gridcolor\":\"white\",\"linecolor\":\"white\",\"minorgridcolor\":\"white\",\"startlinecolor\":\"#2a3f5f\"},\"baxis\":{\"endlinecolor\":\"#2a3f5f\",\"gridcolor\":\"white\",\"linecolor\":\"white\",\"minorgridcolor\":\"white\",\"startlinecolor\":\"#2a3f5f\"},\"type\":\"carpet\"}],\"table\":[{\"cells\":{\"fill\":{\"color\":\"#EBF0F8\"},\"line\":{\"color\":\"white\"}},\"header\":{\"fill\":{\"color\":\"#C8D4E3\"},\"line\":{\"color\":\"white\"}},\"type\":\"table\"}],\"barpolar\":[{\"marker\":{\"line\":{\"color\":\"#E5ECF6\",\"width\":0.5},\"pattern\":{\"fillmode\":\"overlay\",\"size\":10,\"solidity\":0.2}},\"type\":\"barpolar\"}],\"pie\":[{\"automargin\":true,\"type\":\"pie\"}]},\"layout\":{\"autotypenumbers\":\"strict\",\"colorway\":[\"#636efa\",\"#EF553B\",\"#00cc96\",\"#ab63fa\",\"#FFA15A\",\"#19d3f3\",\"#FF6692\",\"#B6E880\",\"#FF97FF\",\"#FECB52\"],\"font\":{\"color\":\"#2a3f5f\"},\"hovermode\":\"closest\",\"hoverlabel\":{\"align\":\"left\"},\"paper_bgcolor\":\"white\",\"plot_bgcolor\":\"#E5ECF6\",\"polar\":{\"bgcolor\":\"#E5ECF6\",\"angularaxis\":{\"gridcolor\":\"white\",\"linecolor\":\"white\",\"ticks\":\"\"},\"radialaxis\":{\"gridcolor\":\"white\",\"linecolor\":\"white\",\"ticks\":\"\"}},\"ternary\":{\"bgcolor\":\"#E5ECF6\",\"aaxis\":{\"gridcolor\":\"white\",\"linecolor\":\"white\",\"ticks\":\"\"},\"baxis\":{\"gridcolor\":\"white\",\"linecolor\":\"white\",\"ticks\":\"\"},\"caxis\":{\"gridcolor\":\"white\",\"linecolor\":\"white\",\"ticks\":\"\"}},\"coloraxis\":{\"colorbar\":{\"outlinewidth\":0,\"ticks\":\"\"}},\"colorscale\":{\"sequential\":[[0.0,\"#0d0887\"],[0.1111111111111111,\"#46039f\"],[0.2222222222222222,\"#7201a8\"],[0.3333333333333333,\"#9c179e\"],[0.4444444444444444,\"#bd3786\"],[0.5555555555555556,\"#d8576b\"],[0.6666666666666666,\"#ed7953\"],[0.7777777777777778,\"#fb9f3a\"],[0.8888888888888888,\"#fdca26\"],[1.0,\"#f0f921\"]],\"sequentialminus\":[[0.0,\"#0d0887\"],[0.1111111111111111,\"#46039f\"],[0.2222222222222222,\"#7201a8\"],[0.3333333333333333,\"#9c179e\"],[0.4444444444444444,\"#bd3786\"],[0.5555555555555556,\"#d8576b\"],[0.6666666666666666,\"#ed7953\"],[0.7777777777777778,\"#fb9f3a\"],[0.8888888888888888,\"#fdca26\"],[1.0,\"#f0f921\"]],\"diverging\":[[0,\"#8e0152\"],[0.1,\"#c51b7d\"],[0.2,\"#de77ae\"],[0.3,\"#f1b6da\"],[0.4,\"#fde0ef\"],[0.5,\"#f7f7f7\"],[0.6,\"#e6f5d0\"],[0.7,\"#b8e186\"],[0.8,\"#7fbc41\"],[0.9,\"#4d9221\"],[1,\"#276419\"]]},\"xaxis\":{\"gridcolor\":\"white\",\"linecolor\":\"white\",\"ticks\":\"\",\"title\":{\"standoff\":15},\"zerolinecolor\":\"white\",\"automargin\":true,\"zerolinewidth\":2},\"yaxis\":{\"gridcolor\":\"white\",\"linecolor\":\"white\",\"ticks\":\"\",\"title\":{\"standoff\":15},\"zerolinecolor\":\"white\",\"automargin\":true,\"zerolinewidth\":2},\"scene\":{\"xaxis\":{\"backgroundcolor\":\"#E5ECF6\",\"gridcolor\":\"white\",\"linecolor\":\"white\",\"showbackground\":true,\"ticks\":\"\",\"zerolinecolor\":\"white\",\"gridwidth\":2},\"yaxis\":{\"backgroundcolor\":\"#E5ECF6\",\"gridcolor\":\"white\",\"linecolor\":\"white\",\"showbackground\":true,\"ticks\":\"\",\"zerolinecolor\":\"white\",\"gridwidth\":2},\"zaxis\":{\"backgroundcolor\":\"#E5ECF6\",\"gridcolor\":\"white\",\"linecolor\":\"white\",\"showbackground\":true,\"ticks\":\"\",\"zerolinecolor\":\"white\",\"gridwidth\":2}},\"shapedefaults\":{\"line\":{\"color\":\"#2a3f5f\"}},\"annotationdefaults\":{\"arrowcolor\":\"#2a3f5f\",\"arrowhead\":0,\"arrowwidth\":1},\"geo\":{\"bgcolor\":\"white\",\"landcolor\":\"#E5ECF6\",\"subunitcolor\":\"white\",\"showland\":true,\"showlakes\":true,\"lakecolor\":\"white\"},\"title\":{\"x\":0.05},\"mapbox\":{\"style\":\"light\"}}},\"xaxis\":{\"anchor\":\"y\",\"domain\":[0.0,1.0],\"title\":{\"text\":\"Data da assembleia\"}},\"yaxis\":{\"anchor\":\"x\",\"domain\":[0.0,1.0],\"title\":{\"text\":\"Numero de Cotas\"}},\"coloraxis\":{\"colorbar\":{\"title\":{\"text\":\"versao\"}},\"colorscale\":[[0.0,\"#0d0887\"],[0.1111111111111111,\"#46039f\"],[0.2222222222222222,\"#7201a8\"],[0.3333333333333333,\"#9c179e\"],[0.4444444444444444,\"#bd3786\"],[0.5555555555555556,\"#d8576b\"],[0.6666666666666666,\"#ed7953\"],[0.7777777777777778,\"#fb9f3a\"],[0.8888888888888888,\"#fdca26\"],[1.0,\"#f0f921\"]]},\"legend\":{\"tracegroupgap\":0},\"title\":{\"text\":\"Op\\u00e7\\u00f5es de Contempla\\u00e7\\u00e3o Sort. Canceladas por data de assembleia\"},\"barmode\":\"relative\"},                        {\"responsive\": true}                    ).then(function(){\n",
       "                            \n",
       "var gd = document.getElementById('471b6fa7-3607-41fd-9e52-ea1a62ef35bc');\n",
       "var x = new MutationObserver(function (mutations, observer) {{\n",
       "        var display = window.getComputedStyle(gd).display;\n",
       "        if (!display || display === 'none') {{\n",
       "            console.log([gd, 'removed!']);\n",
       "            Plotly.purge(gd);\n",
       "            observer.disconnect();\n",
       "        }}\n",
       "}});\n",
       "\n",
       "// Listen for the removal of the full notebook cells\n",
       "var notebookContainer = gd.closest('#notebook-container');\n",
       "if (notebookContainer) {{\n",
       "    x.observe(notebookContainer, {childList: true});\n",
       "}}\n",
       "\n",
       "// Listen for the clearing of the current output cell\n",
       "var outputEl = gd.closest('.output');\n",
       "if (outputEl) {{\n",
       "    x.observe(outputEl, {childList: true});\n",
       "}}\n",
       "\n",
       "                        })                };                });            </script>        </div>"
      ]
     },
     "metadata": {},
     "output_type": "display_data"
    },
    {
     "data": {
      "application/vnd.plotly.v1+json": {
       "config": {
        "plotlyServerURL": "https://plot.ly"
       },
       "data": [
        {
         "alignmentgroup": "True",
         "hovertemplate": "Data da assembleia=%{x}<br>Numero de Cotas=%{y}<br>versao=%{marker.color}<extra></extra>",
         "legendgroup": "",
         "marker": {
          "color": [
           0,
           0,
           0,
           0,
           0,
           0,
           0,
           0,
           0,
           0,
           0,
           0,
           0,
           0,
           0,
           0,
           0,
           0,
           0,
           0,
           0,
           0,
           0,
           0,
           0,
           0,
           0,
           0,
           0,
           0,
           0,
           0,
           0,
           0,
           0,
           0,
           0,
           0,
           0,
           0,
           0,
           0,
           0,
           0,
           0,
           0,
           0,
           1,
           1,
           1,
           1,
           1,
           1,
           1,
           1,
           1,
           1,
           1,
           1,
           1,
           1,
           1,
           1,
           1,
           1,
           1,
           1,
           1,
           1,
           1,
           1,
           1,
           1,
           1,
           1,
           1,
           1,
           1,
           1,
           1,
           1,
           1,
           1,
           2,
           2,
           2,
           2,
           2,
           2,
           2,
           2,
           2,
           2,
           2,
           2,
           2,
           2,
           2,
           2,
           2,
           2,
           2,
           2,
           2,
           2,
           2,
           2,
           2,
           2,
           2,
           2,
           2,
           2,
           2,
           2,
           2,
           2,
           2,
           2,
           2,
           3,
           3,
           3,
           3,
           3,
           3,
           3,
           3,
           3,
           3,
           3,
           3,
           3,
           3,
           3,
           3,
           3,
           3,
           3,
           3,
           3,
           3,
           3,
           3,
           3,
           3,
           3,
           3,
           3,
           3,
           3,
           3,
           3,
           3,
           3,
           3,
           3,
           3,
           3,
           4,
           4,
           4,
           4,
           4,
           4,
           4,
           4,
           4,
           4,
           4,
           4,
           4,
           4,
           4,
           4,
           4,
           4,
           4,
           4,
           4,
           4,
           4,
           4,
           4,
           4,
           4,
           4,
           4,
           4,
           4,
           5,
           5,
           5,
           5,
           5,
           5,
           5
          ],
          "coloraxis": "coloraxis",
          "pattern": {
           "shape": ""
          }
         },
         "name": "",
         "offsetgroup": "",
         "orientation": "v",
         "showlegend": false,
         "textposition": "auto",
         "type": "bar",
         "x": [
          "2020-10-15T00:00:00",
          "2020-11-12T00:00:00",
          "2020-12-14T00:00:00",
          "2021-01-14T00:00:00",
          "2021-02-12T00:00:00",
          "2021-05-13T00:00:00",
          "2021-04-14T00:00:00",
          "2021-03-12T00:00:00",
          "2021-09-14T00:00:00",
          "2021-10-15T00:00:00",
          "2021-12-14T00:00:00",
          "2021-11-12T00:00:00",
          "2021-07-15T00:00:00",
          "2021-08-12T00:00:00",
          "2021-06-14T00:00:00",
          "2022-01-13T00:00:00",
          "2022-07-14T00:00:00",
          "2022-08-12T00:00:00",
          "2022-06-15T00:00:00",
          "2022-10-13T00:00:00",
          "2022-12-15T00:00:00",
          "2023-01-12T00:00:00",
          "2022-11-14T00:00:00",
          "2022-09-15T00:00:00",
          "2022-04-14T00:00:00",
          "2022-03-15T00:00:00",
          "2022-02-15T00:00:00",
          "2022-05-12T00:00:00",
          "2023-05-12T00:00:00",
          "2023-04-13T00:00:00",
          "2023-03-14T00:00:00",
          "2023-02-14T00:00:00",
          "2023-08-15T00:00:00",
          "2023-09-14T00:00:00",
          "2023-10-17T00:00:00",
          "2024-05-14T00:00:00",
          "2024-04-12T00:00:00",
          "2024-02-15T00:00:00",
          "2023-12-14T00:00:00",
          "2023-11-14T00:00:00",
          "2024-03-14T00:00:00",
          "2024-01-12T00:00:00",
          "2023-07-13T00:00:00",
          "2023-06-15T00:00:00",
          "2024-08-14T00:00:00",
          "2024-06-12T00:00:00",
          "2024-07-12T00:00:00",
          "2022-07-14T00:00:00",
          "2021-12-14T00:00:00",
          "2022-02-15T00:00:00",
          "2022-05-12T00:00:00",
          "2021-06-14T00:00:00",
          "2021-10-15T00:00:00",
          "2022-04-14T00:00:00",
          "2022-06-15T00:00:00",
          "2022-01-13T00:00:00",
          "2022-10-13T00:00:00",
          "2022-11-14T00:00:00",
          "2023-01-12T00:00:00",
          "2022-12-15T00:00:00",
          "2021-07-15T00:00:00",
          "2021-03-12T00:00:00",
          "2021-05-13T00:00:00",
          "2021-01-14T00:00:00",
          "2021-02-12T00:00:00",
          "2020-12-14T00:00:00",
          "2020-11-12T00:00:00",
          "2021-04-14T00:00:00",
          "2020-10-15T00:00:00",
          "2023-02-14T00:00:00",
          "2023-10-17T00:00:00",
          "2023-03-14T00:00:00",
          "2023-06-15T00:00:00",
          "2023-07-13T00:00:00",
          "2023-05-12T00:00:00",
          "2023-08-15T00:00:00",
          "2023-04-13T00:00:00",
          "2022-09-15T00:00:00",
          "2022-03-15T00:00:00",
          "2022-08-12T00:00:00",
          "2021-09-14T00:00:00",
          "2021-11-12T00:00:00",
          "2021-08-12T00:00:00",
          "2022-12-15T00:00:00",
          "2022-03-15T00:00:00",
          "2022-11-14T00:00:00",
          "2022-09-15T00:00:00",
          "2022-10-13T00:00:00",
          "2021-09-14T00:00:00",
          "2021-11-12T00:00:00",
          "2023-03-14T00:00:00",
          "2024-06-12T00:00:00",
          "2023-01-12T00:00:00",
          "2023-02-14T00:00:00",
          "2023-08-15T00:00:00",
          "2023-07-13T00:00:00",
          "2023-10-17T00:00:00",
          "2023-09-14T00:00:00",
          "2023-05-12T00:00:00",
          "2023-04-13T00:00:00",
          "2023-06-15T00:00:00",
          "2022-04-14T00:00:00",
          "2022-07-14T00:00:00",
          "2022-08-12T00:00:00",
          "2021-08-12T00:00:00",
          "2021-06-14T00:00:00",
          "2021-07-15T00:00:00",
          "2022-05-12T00:00:00",
          "2022-06-15T00:00:00",
          "2022-01-13T00:00:00",
          "2022-02-15T00:00:00",
          "2021-12-14T00:00:00",
          "2020-10-15T00:00:00",
          "2021-01-14T00:00:00",
          "2021-10-15T00:00:00",
          "2020-12-14T00:00:00",
          "2021-02-12T00:00:00",
          "2021-05-13T00:00:00",
          "2021-03-12T00:00:00",
          "2021-04-14T00:00:00",
          "2022-02-15T00:00:00",
          "2022-04-14T00:00:00",
          "2021-04-14T00:00:00",
          "2021-03-12T00:00:00",
          "2021-11-12T00:00:00",
          "2021-01-14T00:00:00",
          "2020-12-14T00:00:00",
          "2021-02-12T00:00:00",
          "2021-10-15T00:00:00",
          "2021-09-14T00:00:00",
          "2021-08-12T00:00:00",
          "2021-07-15T00:00:00",
          "2021-06-14T00:00:00",
          "2021-05-13T00:00:00",
          "2023-10-17T00:00:00",
          "2024-01-12T00:00:00",
          "2023-03-14T00:00:00",
          "2023-02-14T00:00:00",
          "2023-01-12T00:00:00",
          "2023-06-15T00:00:00",
          "2023-07-13T00:00:00",
          "2023-08-15T00:00:00",
          "2024-03-14T00:00:00",
          "2023-12-14T00:00:00",
          "2023-05-12T00:00:00",
          "2023-04-13T00:00:00",
          "2023-09-14T00:00:00",
          "2023-11-14T00:00:00",
          "2022-08-12T00:00:00",
          "2021-12-14T00:00:00",
          "2022-01-13T00:00:00",
          "2022-07-14T00:00:00",
          "2022-06-15T00:00:00",
          "2022-05-12T00:00:00",
          "2022-03-15T00:00:00",
          "2022-09-15T00:00:00",
          "2022-11-14T00:00:00",
          "2022-10-13T00:00:00",
          "2022-12-15T00:00:00",
          "2021-06-14T00:00:00",
          "2024-05-14T00:00:00",
          "2024-03-14T00:00:00",
          "2021-10-15T00:00:00",
          "2021-07-15T00:00:00",
          "2022-12-15T00:00:00",
          "2022-11-14T00:00:00",
          "2022-10-13T00:00:00",
          "2022-09-15T00:00:00",
          "2022-02-15T00:00:00",
          "2022-01-13T00:00:00",
          "2021-12-14T00:00:00",
          "2021-11-12T00:00:00",
          "2022-08-12T00:00:00",
          "2022-07-14T00:00:00",
          "2022-05-12T00:00:00",
          "2022-06-15T00:00:00",
          "2021-08-12T00:00:00",
          "2021-09-14T00:00:00",
          "2023-07-13T00:00:00",
          "2023-08-15T00:00:00",
          "2023-12-14T00:00:00",
          "2023-09-14T00:00:00",
          "2023-06-15T00:00:00",
          "2023-05-12T00:00:00",
          "2023-10-17T00:00:00",
          "2023-11-14T00:00:00",
          "2023-04-13T00:00:00",
          "2023-01-12T00:00:00",
          "2023-02-14T00:00:00",
          "2023-03-14T00:00:00",
          "2020-10-15T00:00:00",
          "2021-01-14T00:00:00",
          "2021-04-14T00:00:00",
          "2021-03-12T00:00:00",
          "2023-03-14T00:00:00",
          "2023-02-14T00:00:00",
          "2023-07-13T00:00:00"
         ],
         "xaxis": "x",
         "y": [
          11,
          8,
          11,
          13,
          11,
          16,
          18,
          12,
          17,
          12,
          9,
          10,
          20,
          20,
          15,
          10,
          17,
          20,
          21,
          20,
          29,
          23,
          26,
          22,
          22,
          17,
          20,
          15,
          29,
          29,
          33,
          32,
          30,
          34,
          29,
          36,
          36,
          31,
          36,
          20,
          34,
          29,
          34,
          30,
          37,
          40,
          29,
          9,
          10,
          13,
          7,
          29,
          16,
          8,
          10,
          17,
          5,
          5,
          3,
          4,
          28,
          41,
          22,
          32,
          39,
          27,
          14,
          42,
          10,
          2,
          1,
          2,
          4,
          3,
          5,
          2,
          3,
          3,
          9,
          6,
          25,
          20,
          31,
          9,
          11,
          12,
          11,
          9,
          14,
          13,
          10,
          1,
          10,
          14,
          4,
          4,
          3,
          1,
          4,
          9,
          4,
          16,
          12,
          10,
          13,
          4,
          6,
          15,
          13,
          14,
          17,
          16,
          3,
          3,
          14,
          1,
          3,
          8,
          3,
          6,
          3,
          7,
          3,
          5,
          4,
          2,
          1,
          2,
          2,
          2,
          1,
          3,
          1,
          1,
          3,
          1,
          2,
          9,
          4,
          6,
          5,
          3,
          1,
          2,
          5,
          3,
          3,
          1,
          8,
          1,
          1,
          2,
          6,
          5,
          4,
          5,
          6,
          7,
          4,
          2,
          1,
          1,
          2,
          1,
          4,
          6,
          2,
          2,
          1,
          1,
          2,
          2,
          1,
          2,
          1,
          1,
          2,
          2,
          2,
          3,
          1,
          1,
          7,
          7,
          1,
          1,
          6,
          5,
          4,
          4,
          1,
          1,
          1,
          1,
          1,
          1,
          1
         ],
         "yaxis": "y"
        }
       ],
       "layout": {
        "barmode": "relative",
        "coloraxis": {
         "colorbar": {
          "title": {
           "text": "versao"
          }
         },
         "colorscale": [
          [
           0,
           "#0d0887"
          ],
          [
           0.1111111111111111,
           "#46039f"
          ],
          [
           0.2222222222222222,
           "#7201a8"
          ],
          [
           0.3333333333333333,
           "#9c179e"
          ],
          [
           0.4444444444444444,
           "#bd3786"
          ],
          [
           0.5555555555555556,
           "#d8576b"
          ],
          [
           0.6666666666666666,
           "#ed7953"
          ],
          [
           0.7777777777777778,
           "#fb9f3a"
          ],
          [
           0.8888888888888888,
           "#fdca26"
          ],
          [
           1,
           "#f0f921"
          ]
         ]
        },
        "legend": {
         "tracegroupgap": 0
        },
        "template": {
         "data": {
          "bar": [
           {
            "error_x": {
             "color": "#2a3f5f"
            },
            "error_y": {
             "color": "#2a3f5f"
            },
            "marker": {
             "line": {
              "color": "#E5ECF6",
              "width": 0.5
             },
             "pattern": {
              "fillmode": "overlay",
              "size": 10,
              "solidity": 0.2
             }
            },
            "type": "bar"
           }
          ],
          "barpolar": [
           {
            "marker": {
             "line": {
              "color": "#E5ECF6",
              "width": 0.5
             },
             "pattern": {
              "fillmode": "overlay",
              "size": 10,
              "solidity": 0.2
             }
            },
            "type": "barpolar"
           }
          ],
          "carpet": [
           {
            "aaxis": {
             "endlinecolor": "#2a3f5f",
             "gridcolor": "white",
             "linecolor": "white",
             "minorgridcolor": "white",
             "startlinecolor": "#2a3f5f"
            },
            "baxis": {
             "endlinecolor": "#2a3f5f",
             "gridcolor": "white",
             "linecolor": "white",
             "minorgridcolor": "white",
             "startlinecolor": "#2a3f5f"
            },
            "type": "carpet"
           }
          ],
          "choropleth": [
           {
            "colorbar": {
             "outlinewidth": 0,
             "ticks": ""
            },
            "type": "choropleth"
           }
          ],
          "contour": [
           {
            "colorbar": {
             "outlinewidth": 0,
             "ticks": ""
            },
            "colorscale": [
             [
              0,
              "#0d0887"
             ],
             [
              0.1111111111111111,
              "#46039f"
             ],
             [
              0.2222222222222222,
              "#7201a8"
             ],
             [
              0.3333333333333333,
              "#9c179e"
             ],
             [
              0.4444444444444444,
              "#bd3786"
             ],
             [
              0.5555555555555556,
              "#d8576b"
             ],
             [
              0.6666666666666666,
              "#ed7953"
             ],
             [
              0.7777777777777778,
              "#fb9f3a"
             ],
             [
              0.8888888888888888,
              "#fdca26"
             ],
             [
              1,
              "#f0f921"
             ]
            ],
            "type": "contour"
           }
          ],
          "contourcarpet": [
           {
            "colorbar": {
             "outlinewidth": 0,
             "ticks": ""
            },
            "type": "contourcarpet"
           }
          ],
          "heatmap": [
           {
            "colorbar": {
             "outlinewidth": 0,
             "ticks": ""
            },
            "colorscale": [
             [
              0,
              "#0d0887"
             ],
             [
              0.1111111111111111,
              "#46039f"
             ],
             [
              0.2222222222222222,
              "#7201a8"
             ],
             [
              0.3333333333333333,
              "#9c179e"
             ],
             [
              0.4444444444444444,
              "#bd3786"
             ],
             [
              0.5555555555555556,
              "#d8576b"
             ],
             [
              0.6666666666666666,
              "#ed7953"
             ],
             [
              0.7777777777777778,
              "#fb9f3a"
             ],
             [
              0.8888888888888888,
              "#fdca26"
             ],
             [
              1,
              "#f0f921"
             ]
            ],
            "type": "heatmap"
           }
          ],
          "heatmapgl": [
           {
            "colorbar": {
             "outlinewidth": 0,
             "ticks": ""
            },
            "colorscale": [
             [
              0,
              "#0d0887"
             ],
             [
              0.1111111111111111,
              "#46039f"
             ],
             [
              0.2222222222222222,
              "#7201a8"
             ],
             [
              0.3333333333333333,
              "#9c179e"
             ],
             [
              0.4444444444444444,
              "#bd3786"
             ],
             [
              0.5555555555555556,
              "#d8576b"
             ],
             [
              0.6666666666666666,
              "#ed7953"
             ],
             [
              0.7777777777777778,
              "#fb9f3a"
             ],
             [
              0.8888888888888888,
              "#fdca26"
             ],
             [
              1,
              "#f0f921"
             ]
            ],
            "type": "heatmapgl"
           }
          ],
          "histogram": [
           {
            "marker": {
             "pattern": {
              "fillmode": "overlay",
              "size": 10,
              "solidity": 0.2
             }
            },
            "type": "histogram"
           }
          ],
          "histogram2d": [
           {
            "colorbar": {
             "outlinewidth": 0,
             "ticks": ""
            },
            "colorscale": [
             [
              0,
              "#0d0887"
             ],
             [
              0.1111111111111111,
              "#46039f"
             ],
             [
              0.2222222222222222,
              "#7201a8"
             ],
             [
              0.3333333333333333,
              "#9c179e"
             ],
             [
              0.4444444444444444,
              "#bd3786"
             ],
             [
              0.5555555555555556,
              "#d8576b"
             ],
             [
              0.6666666666666666,
              "#ed7953"
             ],
             [
              0.7777777777777778,
              "#fb9f3a"
             ],
             [
              0.8888888888888888,
              "#fdca26"
             ],
             [
              1,
              "#f0f921"
             ]
            ],
            "type": "histogram2d"
           }
          ],
          "histogram2dcontour": [
           {
            "colorbar": {
             "outlinewidth": 0,
             "ticks": ""
            },
            "colorscale": [
             [
              0,
              "#0d0887"
             ],
             [
              0.1111111111111111,
              "#46039f"
             ],
             [
              0.2222222222222222,
              "#7201a8"
             ],
             [
              0.3333333333333333,
              "#9c179e"
             ],
             [
              0.4444444444444444,
              "#bd3786"
             ],
             [
              0.5555555555555556,
              "#d8576b"
             ],
             [
              0.6666666666666666,
              "#ed7953"
             ],
             [
              0.7777777777777778,
              "#fb9f3a"
             ],
             [
              0.8888888888888888,
              "#fdca26"
             ],
             [
              1,
              "#f0f921"
             ]
            ],
            "type": "histogram2dcontour"
           }
          ],
          "mesh3d": [
           {
            "colorbar": {
             "outlinewidth": 0,
             "ticks": ""
            },
            "type": "mesh3d"
           }
          ],
          "parcoords": [
           {
            "line": {
             "colorbar": {
              "outlinewidth": 0,
              "ticks": ""
             }
            },
            "type": "parcoords"
           }
          ],
          "pie": [
           {
            "automargin": true,
            "type": "pie"
           }
          ],
          "scatter": [
           {
            "fillpattern": {
             "fillmode": "overlay",
             "size": 10,
             "solidity": 0.2
            },
            "type": "scatter"
           }
          ],
          "scatter3d": [
           {
            "line": {
             "colorbar": {
              "outlinewidth": 0,
              "ticks": ""
             }
            },
            "marker": {
             "colorbar": {
              "outlinewidth": 0,
              "ticks": ""
             }
            },
            "type": "scatter3d"
           }
          ],
          "scattercarpet": [
           {
            "marker": {
             "colorbar": {
              "outlinewidth": 0,
              "ticks": ""
             }
            },
            "type": "scattercarpet"
           }
          ],
          "scattergeo": [
           {
            "marker": {
             "colorbar": {
              "outlinewidth": 0,
              "ticks": ""
             }
            },
            "type": "scattergeo"
           }
          ],
          "scattergl": [
           {
            "marker": {
             "colorbar": {
              "outlinewidth": 0,
              "ticks": ""
             }
            },
            "type": "scattergl"
           }
          ],
          "scattermapbox": [
           {
            "marker": {
             "colorbar": {
              "outlinewidth": 0,
              "ticks": ""
             }
            },
            "type": "scattermapbox"
           }
          ],
          "scatterpolar": [
           {
            "marker": {
             "colorbar": {
              "outlinewidth": 0,
              "ticks": ""
             }
            },
            "type": "scatterpolar"
           }
          ],
          "scatterpolargl": [
           {
            "marker": {
             "colorbar": {
              "outlinewidth": 0,
              "ticks": ""
             }
            },
            "type": "scatterpolargl"
           }
          ],
          "scatterternary": [
           {
            "marker": {
             "colorbar": {
              "outlinewidth": 0,
              "ticks": ""
             }
            },
            "type": "scatterternary"
           }
          ],
          "surface": [
           {
            "colorbar": {
             "outlinewidth": 0,
             "ticks": ""
            },
            "colorscale": [
             [
              0,
              "#0d0887"
             ],
             [
              0.1111111111111111,
              "#46039f"
             ],
             [
              0.2222222222222222,
              "#7201a8"
             ],
             [
              0.3333333333333333,
              "#9c179e"
             ],
             [
              0.4444444444444444,
              "#bd3786"
             ],
             [
              0.5555555555555556,
              "#d8576b"
             ],
             [
              0.6666666666666666,
              "#ed7953"
             ],
             [
              0.7777777777777778,
              "#fb9f3a"
             ],
             [
              0.8888888888888888,
              "#fdca26"
             ],
             [
              1,
              "#f0f921"
             ]
            ],
            "type": "surface"
           }
          ],
          "table": [
           {
            "cells": {
             "fill": {
              "color": "#EBF0F8"
             },
             "line": {
              "color": "white"
             }
            },
            "header": {
             "fill": {
              "color": "#C8D4E3"
             },
             "line": {
              "color": "white"
             }
            },
            "type": "table"
           }
          ]
         },
         "layout": {
          "annotationdefaults": {
           "arrowcolor": "#2a3f5f",
           "arrowhead": 0,
           "arrowwidth": 1
          },
          "autotypenumbers": "strict",
          "coloraxis": {
           "colorbar": {
            "outlinewidth": 0,
            "ticks": ""
           }
          },
          "colorscale": {
           "diverging": [
            [
             0,
             "#8e0152"
            ],
            [
             0.1,
             "#c51b7d"
            ],
            [
             0.2,
             "#de77ae"
            ],
            [
             0.3,
             "#f1b6da"
            ],
            [
             0.4,
             "#fde0ef"
            ],
            [
             0.5,
             "#f7f7f7"
            ],
            [
             0.6,
             "#e6f5d0"
            ],
            [
             0.7,
             "#b8e186"
            ],
            [
             0.8,
             "#7fbc41"
            ],
            [
             0.9,
             "#4d9221"
            ],
            [
             1,
             "#276419"
            ]
           ],
           "sequential": [
            [
             0,
             "#0d0887"
            ],
            [
             0.1111111111111111,
             "#46039f"
            ],
            [
             0.2222222222222222,
             "#7201a8"
            ],
            [
             0.3333333333333333,
             "#9c179e"
            ],
            [
             0.4444444444444444,
             "#bd3786"
            ],
            [
             0.5555555555555556,
             "#d8576b"
            ],
            [
             0.6666666666666666,
             "#ed7953"
            ],
            [
             0.7777777777777778,
             "#fb9f3a"
            ],
            [
             0.8888888888888888,
             "#fdca26"
            ],
            [
             1,
             "#f0f921"
            ]
           ],
           "sequentialminus": [
            [
             0,
             "#0d0887"
            ],
            [
             0.1111111111111111,
             "#46039f"
            ],
            [
             0.2222222222222222,
             "#7201a8"
            ],
            [
             0.3333333333333333,
             "#9c179e"
            ],
            [
             0.4444444444444444,
             "#bd3786"
            ],
            [
             0.5555555555555556,
             "#d8576b"
            ],
            [
             0.6666666666666666,
             "#ed7953"
            ],
            [
             0.7777777777777778,
             "#fb9f3a"
            ],
            [
             0.8888888888888888,
             "#fdca26"
            ],
            [
             1,
             "#f0f921"
            ]
           ]
          },
          "colorway": [
           "#636efa",
           "#EF553B",
           "#00cc96",
           "#ab63fa",
           "#FFA15A",
           "#19d3f3",
           "#FF6692",
           "#B6E880",
           "#FF97FF",
           "#FECB52"
          ],
          "font": {
           "color": "#2a3f5f"
          },
          "geo": {
           "bgcolor": "white",
           "lakecolor": "white",
           "landcolor": "#E5ECF6",
           "showlakes": true,
           "showland": true,
           "subunitcolor": "white"
          },
          "hoverlabel": {
           "align": "left"
          },
          "hovermode": "closest",
          "mapbox": {
           "style": "light"
          },
          "paper_bgcolor": "white",
          "plot_bgcolor": "#E5ECF6",
          "polar": {
           "angularaxis": {
            "gridcolor": "white",
            "linecolor": "white",
            "ticks": ""
           },
           "bgcolor": "#E5ECF6",
           "radialaxis": {
            "gridcolor": "white",
            "linecolor": "white",
            "ticks": ""
           }
          },
          "scene": {
           "xaxis": {
            "backgroundcolor": "#E5ECF6",
            "gridcolor": "white",
            "gridwidth": 2,
            "linecolor": "white",
            "showbackground": true,
            "ticks": "",
            "zerolinecolor": "white"
           },
           "yaxis": {
            "backgroundcolor": "#E5ECF6",
            "gridcolor": "white",
            "gridwidth": 2,
            "linecolor": "white",
            "showbackground": true,
            "ticks": "",
            "zerolinecolor": "white"
           },
           "zaxis": {
            "backgroundcolor": "#E5ECF6",
            "gridcolor": "white",
            "gridwidth": 2,
            "linecolor": "white",
            "showbackground": true,
            "ticks": "",
            "zerolinecolor": "white"
           }
          },
          "shapedefaults": {
           "line": {
            "color": "#2a3f5f"
           }
          },
          "ternary": {
           "aaxis": {
            "gridcolor": "white",
            "linecolor": "white",
            "ticks": ""
           },
           "baxis": {
            "gridcolor": "white",
            "linecolor": "white",
            "ticks": ""
           },
           "bgcolor": "#E5ECF6",
           "caxis": {
            "gridcolor": "white",
            "linecolor": "white",
            "ticks": ""
           }
          },
          "title": {
           "x": 0.05
          },
          "xaxis": {
           "automargin": true,
           "gridcolor": "white",
           "linecolor": "white",
           "ticks": "",
           "title": {
            "standoff": 15
           },
           "zerolinecolor": "white",
           "zerolinewidth": 2
          },
          "yaxis": {
           "automargin": true,
           "gridcolor": "white",
           "linecolor": "white",
           "ticks": "",
           "title": {
            "standoff": 15
           },
           "zerolinecolor": "white",
           "zerolinewidth": 2
          }
         }
        },
        "title": {
         "text": "Opções de Contemplação Lance Livre por data de assembleia"
        },
        "xaxis": {
         "anchor": "y",
         "domain": [
          0,
          1
         ],
         "title": {
          "text": "Data da assembleia"
         }
        },
        "yaxis": {
         "anchor": "x",
         "domain": [
          0,
          1
         ],
         "title": {
          "text": "Numero de Cotas"
         }
        }
       }
      },
      "text/html": [
       "<div>                            <div id=\"0eb870cd-d780-4574-aa1d-71c07cdc452e\" class=\"plotly-graph-div\" style=\"height:525px; width:100%;\"></div>            <script type=\"text/javascript\">                require([\"plotly\"], function(Plotly) {                    window.PLOTLYENV=window.PLOTLYENV || {};                                    if (document.getElementById(\"0eb870cd-d780-4574-aa1d-71c07cdc452e\")) {                    Plotly.newPlot(                        \"0eb870cd-d780-4574-aa1d-71c07cdc452e\",                        [{\"alignmentgroup\":\"True\",\"hovertemplate\":\"Data da assembleia=%{x}\\u003cbr\\u003eNumero de Cotas=%{y}\\u003cbr\\u003eversao=%{marker.color}\\u003cextra\\u003e\\u003c\\u002fextra\\u003e\",\"legendgroup\":\"\",\"marker\":{\"color\":[0.0,0.0,0.0,0.0,0.0,0.0,0.0,0.0,0.0,0.0,0.0,0.0,0.0,0.0,0.0,0.0,0.0,0.0,0.0,0.0,0.0,0.0,0.0,0.0,0.0,0.0,0.0,0.0,0.0,0.0,0.0,0.0,0.0,0.0,0.0,0.0,0.0,0.0,0.0,0.0,0.0,0.0,0.0,0.0,0.0,0.0,0.0,1.0,1.0,1.0,1.0,1.0,1.0,1.0,1.0,1.0,1.0,1.0,1.0,1.0,1.0,1.0,1.0,1.0,1.0,1.0,1.0,1.0,1.0,1.0,1.0,1.0,1.0,1.0,1.0,1.0,1.0,1.0,1.0,1.0,1.0,1.0,1.0,2.0,2.0,2.0,2.0,2.0,2.0,2.0,2.0,2.0,2.0,2.0,2.0,2.0,2.0,2.0,2.0,2.0,2.0,2.0,2.0,2.0,2.0,2.0,2.0,2.0,2.0,2.0,2.0,2.0,2.0,2.0,2.0,2.0,2.0,2.0,2.0,2.0,3.0,3.0,3.0,3.0,3.0,3.0,3.0,3.0,3.0,3.0,3.0,3.0,3.0,3.0,3.0,3.0,3.0,3.0,3.0,3.0,3.0,3.0,3.0,3.0,3.0,3.0,3.0,3.0,3.0,3.0,3.0,3.0,3.0,3.0,3.0,3.0,3.0,3.0,3.0,4.0,4.0,4.0,4.0,4.0,4.0,4.0,4.0,4.0,4.0,4.0,4.0,4.0,4.0,4.0,4.0,4.0,4.0,4.0,4.0,4.0,4.0,4.0,4.0,4.0,4.0,4.0,4.0,4.0,4.0,4.0,5.0,5.0,5.0,5.0,5.0,5.0,5.0],\"coloraxis\":\"coloraxis\",\"pattern\":{\"shape\":\"\"}},\"name\":\"\",\"offsetgroup\":\"\",\"orientation\":\"v\",\"showlegend\":false,\"textposition\":\"auto\",\"x\":[\"2020-10-15T00:00:00\",\"2020-11-12T00:00:00\",\"2020-12-14T00:00:00\",\"2021-01-14T00:00:00\",\"2021-02-12T00:00:00\",\"2021-05-13T00:00:00\",\"2021-04-14T00:00:00\",\"2021-03-12T00:00:00\",\"2021-09-14T00:00:00\",\"2021-10-15T00:00:00\",\"2021-12-14T00:00:00\",\"2021-11-12T00:00:00\",\"2021-07-15T00:00:00\",\"2021-08-12T00:00:00\",\"2021-06-14T00:00:00\",\"2022-01-13T00:00:00\",\"2022-07-14T00:00:00\",\"2022-08-12T00:00:00\",\"2022-06-15T00:00:00\",\"2022-10-13T00:00:00\",\"2022-12-15T00:00:00\",\"2023-01-12T00:00:00\",\"2022-11-14T00:00:00\",\"2022-09-15T00:00:00\",\"2022-04-14T00:00:00\",\"2022-03-15T00:00:00\",\"2022-02-15T00:00:00\",\"2022-05-12T00:00:00\",\"2023-05-12T00:00:00\",\"2023-04-13T00:00:00\",\"2023-03-14T00:00:00\",\"2023-02-14T00:00:00\",\"2023-08-15T00:00:00\",\"2023-09-14T00:00:00\",\"2023-10-17T00:00:00\",\"2024-05-14T00:00:00\",\"2024-04-12T00:00:00\",\"2024-02-15T00:00:00\",\"2023-12-14T00:00:00\",\"2023-11-14T00:00:00\",\"2024-03-14T00:00:00\",\"2024-01-12T00:00:00\",\"2023-07-13T00:00:00\",\"2023-06-15T00:00:00\",\"2024-08-14T00:00:00\",\"2024-06-12T00:00:00\",\"2024-07-12T00:00:00\",\"2022-07-14T00:00:00\",\"2021-12-14T00:00:00\",\"2022-02-15T00:00:00\",\"2022-05-12T00:00:00\",\"2021-06-14T00:00:00\",\"2021-10-15T00:00:00\",\"2022-04-14T00:00:00\",\"2022-06-15T00:00:00\",\"2022-01-13T00:00:00\",\"2022-10-13T00:00:00\",\"2022-11-14T00:00:00\",\"2023-01-12T00:00:00\",\"2022-12-15T00:00:00\",\"2021-07-15T00:00:00\",\"2021-03-12T00:00:00\",\"2021-05-13T00:00:00\",\"2021-01-14T00:00:00\",\"2021-02-12T00:00:00\",\"2020-12-14T00:00:00\",\"2020-11-12T00:00:00\",\"2021-04-14T00:00:00\",\"2020-10-15T00:00:00\",\"2023-02-14T00:00:00\",\"2023-10-17T00:00:00\",\"2023-03-14T00:00:00\",\"2023-06-15T00:00:00\",\"2023-07-13T00:00:00\",\"2023-05-12T00:00:00\",\"2023-08-15T00:00:00\",\"2023-04-13T00:00:00\",\"2022-09-15T00:00:00\",\"2022-03-15T00:00:00\",\"2022-08-12T00:00:00\",\"2021-09-14T00:00:00\",\"2021-11-12T00:00:00\",\"2021-08-12T00:00:00\",\"2022-12-15T00:00:00\",\"2022-03-15T00:00:00\",\"2022-11-14T00:00:00\",\"2022-09-15T00:00:00\",\"2022-10-13T00:00:00\",\"2021-09-14T00:00:00\",\"2021-11-12T00:00:00\",\"2023-03-14T00:00:00\",\"2024-06-12T00:00:00\",\"2023-01-12T00:00:00\",\"2023-02-14T00:00:00\",\"2023-08-15T00:00:00\",\"2023-07-13T00:00:00\",\"2023-10-17T00:00:00\",\"2023-09-14T00:00:00\",\"2023-05-12T00:00:00\",\"2023-04-13T00:00:00\",\"2023-06-15T00:00:00\",\"2022-04-14T00:00:00\",\"2022-07-14T00:00:00\",\"2022-08-12T00:00:00\",\"2021-08-12T00:00:00\",\"2021-06-14T00:00:00\",\"2021-07-15T00:00:00\",\"2022-05-12T00:00:00\",\"2022-06-15T00:00:00\",\"2022-01-13T00:00:00\",\"2022-02-15T00:00:00\",\"2021-12-14T00:00:00\",\"2020-10-15T00:00:00\",\"2021-01-14T00:00:00\",\"2021-10-15T00:00:00\",\"2020-12-14T00:00:00\",\"2021-02-12T00:00:00\",\"2021-05-13T00:00:00\",\"2021-03-12T00:00:00\",\"2021-04-14T00:00:00\",\"2022-02-15T00:00:00\",\"2022-04-14T00:00:00\",\"2021-04-14T00:00:00\",\"2021-03-12T00:00:00\",\"2021-11-12T00:00:00\",\"2021-01-14T00:00:00\",\"2020-12-14T00:00:00\",\"2021-02-12T00:00:00\",\"2021-10-15T00:00:00\",\"2021-09-14T00:00:00\",\"2021-08-12T00:00:00\",\"2021-07-15T00:00:00\",\"2021-06-14T00:00:00\",\"2021-05-13T00:00:00\",\"2023-10-17T00:00:00\",\"2024-01-12T00:00:00\",\"2023-03-14T00:00:00\",\"2023-02-14T00:00:00\",\"2023-01-12T00:00:00\",\"2023-06-15T00:00:00\",\"2023-07-13T00:00:00\",\"2023-08-15T00:00:00\",\"2024-03-14T00:00:00\",\"2023-12-14T00:00:00\",\"2023-05-12T00:00:00\",\"2023-04-13T00:00:00\",\"2023-09-14T00:00:00\",\"2023-11-14T00:00:00\",\"2022-08-12T00:00:00\",\"2021-12-14T00:00:00\",\"2022-01-13T00:00:00\",\"2022-07-14T00:00:00\",\"2022-06-15T00:00:00\",\"2022-05-12T00:00:00\",\"2022-03-15T00:00:00\",\"2022-09-15T00:00:00\",\"2022-11-14T00:00:00\",\"2022-10-13T00:00:00\",\"2022-12-15T00:00:00\",\"2021-06-14T00:00:00\",\"2024-05-14T00:00:00\",\"2024-03-14T00:00:00\",\"2021-10-15T00:00:00\",\"2021-07-15T00:00:00\",\"2022-12-15T00:00:00\",\"2022-11-14T00:00:00\",\"2022-10-13T00:00:00\",\"2022-09-15T00:00:00\",\"2022-02-15T00:00:00\",\"2022-01-13T00:00:00\",\"2021-12-14T00:00:00\",\"2021-11-12T00:00:00\",\"2022-08-12T00:00:00\",\"2022-07-14T00:00:00\",\"2022-05-12T00:00:00\",\"2022-06-15T00:00:00\",\"2021-08-12T00:00:00\",\"2021-09-14T00:00:00\",\"2023-07-13T00:00:00\",\"2023-08-15T00:00:00\",\"2023-12-14T00:00:00\",\"2023-09-14T00:00:00\",\"2023-06-15T00:00:00\",\"2023-05-12T00:00:00\",\"2023-10-17T00:00:00\",\"2023-11-14T00:00:00\",\"2023-04-13T00:00:00\",\"2023-01-12T00:00:00\",\"2023-02-14T00:00:00\",\"2023-03-14T00:00:00\",\"2020-10-15T00:00:00\",\"2021-01-14T00:00:00\",\"2021-04-14T00:00:00\",\"2021-03-12T00:00:00\",\"2023-03-14T00:00:00\",\"2023-02-14T00:00:00\",\"2023-07-13T00:00:00\"],\"xaxis\":\"x\",\"y\":[11,8,11,13,11,16,18,12,17,12,9,10,20,20,15,10,17,20,21,20,29,23,26,22,22,17,20,15,29,29,33,32,30,34,29,36,36,31,36,20,34,29,34,30,37,40,29,9,10,13,7,29,16,8,10,17,5,5,3,4,28,41,22,32,39,27,14,42,10,2,1,2,4,3,5,2,3,3,9,6,25,20,31,9,11,12,11,9,14,13,10,1,10,14,4,4,3,1,4,9,4,16,12,10,13,4,6,15,13,14,17,16,3,3,14,1,3,8,3,6,3,7,3,5,4,2,1,2,2,2,1,3,1,1,3,1,2,9,4,6,5,3,1,2,5,3,3,1,8,1,1,2,6,5,4,5,6,7,4,2,1,1,2,1,4,6,2,2,1,1,2,2,1,2,1,1,2,2,2,3,1,1,7,7,1,1,6,5,4,4,1,1,1,1,1,1,1],\"yaxis\":\"y\",\"type\":\"bar\"}],                        {\"template\":{\"data\":{\"histogram2dcontour\":[{\"type\":\"histogram2dcontour\",\"colorbar\":{\"outlinewidth\":0,\"ticks\":\"\"},\"colorscale\":[[0.0,\"#0d0887\"],[0.1111111111111111,\"#46039f\"],[0.2222222222222222,\"#7201a8\"],[0.3333333333333333,\"#9c179e\"],[0.4444444444444444,\"#bd3786\"],[0.5555555555555556,\"#d8576b\"],[0.6666666666666666,\"#ed7953\"],[0.7777777777777778,\"#fb9f3a\"],[0.8888888888888888,\"#fdca26\"],[1.0,\"#f0f921\"]]}],\"choropleth\":[{\"type\":\"choropleth\",\"colorbar\":{\"outlinewidth\":0,\"ticks\":\"\"}}],\"histogram2d\":[{\"type\":\"histogram2d\",\"colorbar\":{\"outlinewidth\":0,\"ticks\":\"\"},\"colorscale\":[[0.0,\"#0d0887\"],[0.1111111111111111,\"#46039f\"],[0.2222222222222222,\"#7201a8\"],[0.3333333333333333,\"#9c179e\"],[0.4444444444444444,\"#bd3786\"],[0.5555555555555556,\"#d8576b\"],[0.6666666666666666,\"#ed7953\"],[0.7777777777777778,\"#fb9f3a\"],[0.8888888888888888,\"#fdca26\"],[1.0,\"#f0f921\"]]}],\"heatmap\":[{\"type\":\"heatmap\",\"colorbar\":{\"outlinewidth\":0,\"ticks\":\"\"},\"colorscale\":[[0.0,\"#0d0887\"],[0.1111111111111111,\"#46039f\"],[0.2222222222222222,\"#7201a8\"],[0.3333333333333333,\"#9c179e\"],[0.4444444444444444,\"#bd3786\"],[0.5555555555555556,\"#d8576b\"],[0.6666666666666666,\"#ed7953\"],[0.7777777777777778,\"#fb9f3a\"],[0.8888888888888888,\"#fdca26\"],[1.0,\"#f0f921\"]]}],\"heatmapgl\":[{\"type\":\"heatmapgl\",\"colorbar\":{\"outlinewidth\":0,\"ticks\":\"\"},\"colorscale\":[[0.0,\"#0d0887\"],[0.1111111111111111,\"#46039f\"],[0.2222222222222222,\"#7201a8\"],[0.3333333333333333,\"#9c179e\"],[0.4444444444444444,\"#bd3786\"],[0.5555555555555556,\"#d8576b\"],[0.6666666666666666,\"#ed7953\"],[0.7777777777777778,\"#fb9f3a\"],[0.8888888888888888,\"#fdca26\"],[1.0,\"#f0f921\"]]}],\"contourcarpet\":[{\"type\":\"contourcarpet\",\"colorbar\":{\"outlinewidth\":0,\"ticks\":\"\"}}],\"contour\":[{\"type\":\"contour\",\"colorbar\":{\"outlinewidth\":0,\"ticks\":\"\"},\"colorscale\":[[0.0,\"#0d0887\"],[0.1111111111111111,\"#46039f\"],[0.2222222222222222,\"#7201a8\"],[0.3333333333333333,\"#9c179e\"],[0.4444444444444444,\"#bd3786\"],[0.5555555555555556,\"#d8576b\"],[0.6666666666666666,\"#ed7953\"],[0.7777777777777778,\"#fb9f3a\"],[0.8888888888888888,\"#fdca26\"],[1.0,\"#f0f921\"]]}],\"surface\":[{\"type\":\"surface\",\"colorbar\":{\"outlinewidth\":0,\"ticks\":\"\"},\"colorscale\":[[0.0,\"#0d0887\"],[0.1111111111111111,\"#46039f\"],[0.2222222222222222,\"#7201a8\"],[0.3333333333333333,\"#9c179e\"],[0.4444444444444444,\"#bd3786\"],[0.5555555555555556,\"#d8576b\"],[0.6666666666666666,\"#ed7953\"],[0.7777777777777778,\"#fb9f3a\"],[0.8888888888888888,\"#fdca26\"],[1.0,\"#f0f921\"]]}],\"mesh3d\":[{\"type\":\"mesh3d\",\"colorbar\":{\"outlinewidth\":0,\"ticks\":\"\"}}],\"scatter\":[{\"fillpattern\":{\"fillmode\":\"overlay\",\"size\":10,\"solidity\":0.2},\"type\":\"scatter\"}],\"parcoords\":[{\"type\":\"parcoords\",\"line\":{\"colorbar\":{\"outlinewidth\":0,\"ticks\":\"\"}}}],\"scatterpolargl\":[{\"type\":\"scatterpolargl\",\"marker\":{\"colorbar\":{\"outlinewidth\":0,\"ticks\":\"\"}}}],\"bar\":[{\"error_x\":{\"color\":\"#2a3f5f\"},\"error_y\":{\"color\":\"#2a3f5f\"},\"marker\":{\"line\":{\"color\":\"#E5ECF6\",\"width\":0.5},\"pattern\":{\"fillmode\":\"overlay\",\"size\":10,\"solidity\":0.2}},\"type\":\"bar\"}],\"scattergeo\":[{\"type\":\"scattergeo\",\"marker\":{\"colorbar\":{\"outlinewidth\":0,\"ticks\":\"\"}}}],\"scatterpolar\":[{\"type\":\"scatterpolar\",\"marker\":{\"colorbar\":{\"outlinewidth\":0,\"ticks\":\"\"}}}],\"histogram\":[{\"marker\":{\"pattern\":{\"fillmode\":\"overlay\",\"size\":10,\"solidity\":0.2}},\"type\":\"histogram\"}],\"scattergl\":[{\"type\":\"scattergl\",\"marker\":{\"colorbar\":{\"outlinewidth\":0,\"ticks\":\"\"}}}],\"scatter3d\":[{\"type\":\"scatter3d\",\"line\":{\"colorbar\":{\"outlinewidth\":0,\"ticks\":\"\"}},\"marker\":{\"colorbar\":{\"outlinewidth\":0,\"ticks\":\"\"}}}],\"scattermapbox\":[{\"type\":\"scattermapbox\",\"marker\":{\"colorbar\":{\"outlinewidth\":0,\"ticks\":\"\"}}}],\"scatterternary\":[{\"type\":\"scatterternary\",\"marker\":{\"colorbar\":{\"outlinewidth\":0,\"ticks\":\"\"}}}],\"scattercarpet\":[{\"type\":\"scattercarpet\",\"marker\":{\"colorbar\":{\"outlinewidth\":0,\"ticks\":\"\"}}}],\"carpet\":[{\"aaxis\":{\"endlinecolor\":\"#2a3f5f\",\"gridcolor\":\"white\",\"linecolor\":\"white\",\"minorgridcolor\":\"white\",\"startlinecolor\":\"#2a3f5f\"},\"baxis\":{\"endlinecolor\":\"#2a3f5f\",\"gridcolor\":\"white\",\"linecolor\":\"white\",\"minorgridcolor\":\"white\",\"startlinecolor\":\"#2a3f5f\"},\"type\":\"carpet\"}],\"table\":[{\"cells\":{\"fill\":{\"color\":\"#EBF0F8\"},\"line\":{\"color\":\"white\"}},\"header\":{\"fill\":{\"color\":\"#C8D4E3\"},\"line\":{\"color\":\"white\"}},\"type\":\"table\"}],\"barpolar\":[{\"marker\":{\"line\":{\"color\":\"#E5ECF6\",\"width\":0.5},\"pattern\":{\"fillmode\":\"overlay\",\"size\":10,\"solidity\":0.2}},\"type\":\"barpolar\"}],\"pie\":[{\"automargin\":true,\"type\":\"pie\"}]},\"layout\":{\"autotypenumbers\":\"strict\",\"colorway\":[\"#636efa\",\"#EF553B\",\"#00cc96\",\"#ab63fa\",\"#FFA15A\",\"#19d3f3\",\"#FF6692\",\"#B6E880\",\"#FF97FF\",\"#FECB52\"],\"font\":{\"color\":\"#2a3f5f\"},\"hovermode\":\"closest\",\"hoverlabel\":{\"align\":\"left\"},\"paper_bgcolor\":\"white\",\"plot_bgcolor\":\"#E5ECF6\",\"polar\":{\"bgcolor\":\"#E5ECF6\",\"angularaxis\":{\"gridcolor\":\"white\",\"linecolor\":\"white\",\"ticks\":\"\"},\"radialaxis\":{\"gridcolor\":\"white\",\"linecolor\":\"white\",\"ticks\":\"\"}},\"ternary\":{\"bgcolor\":\"#E5ECF6\",\"aaxis\":{\"gridcolor\":\"white\",\"linecolor\":\"white\",\"ticks\":\"\"},\"baxis\":{\"gridcolor\":\"white\",\"linecolor\":\"white\",\"ticks\":\"\"},\"caxis\":{\"gridcolor\":\"white\",\"linecolor\":\"white\",\"ticks\":\"\"}},\"coloraxis\":{\"colorbar\":{\"outlinewidth\":0,\"ticks\":\"\"}},\"colorscale\":{\"sequential\":[[0.0,\"#0d0887\"],[0.1111111111111111,\"#46039f\"],[0.2222222222222222,\"#7201a8\"],[0.3333333333333333,\"#9c179e\"],[0.4444444444444444,\"#bd3786\"],[0.5555555555555556,\"#d8576b\"],[0.6666666666666666,\"#ed7953\"],[0.7777777777777778,\"#fb9f3a\"],[0.8888888888888888,\"#fdca26\"],[1.0,\"#f0f921\"]],\"sequentialminus\":[[0.0,\"#0d0887\"],[0.1111111111111111,\"#46039f\"],[0.2222222222222222,\"#7201a8\"],[0.3333333333333333,\"#9c179e\"],[0.4444444444444444,\"#bd3786\"],[0.5555555555555556,\"#d8576b\"],[0.6666666666666666,\"#ed7953\"],[0.7777777777777778,\"#fb9f3a\"],[0.8888888888888888,\"#fdca26\"],[1.0,\"#f0f921\"]],\"diverging\":[[0,\"#8e0152\"],[0.1,\"#c51b7d\"],[0.2,\"#de77ae\"],[0.3,\"#f1b6da\"],[0.4,\"#fde0ef\"],[0.5,\"#f7f7f7\"],[0.6,\"#e6f5d0\"],[0.7,\"#b8e186\"],[0.8,\"#7fbc41\"],[0.9,\"#4d9221\"],[1,\"#276419\"]]},\"xaxis\":{\"gridcolor\":\"white\",\"linecolor\":\"white\",\"ticks\":\"\",\"title\":{\"standoff\":15},\"zerolinecolor\":\"white\",\"automargin\":true,\"zerolinewidth\":2},\"yaxis\":{\"gridcolor\":\"white\",\"linecolor\":\"white\",\"ticks\":\"\",\"title\":{\"standoff\":15},\"zerolinecolor\":\"white\",\"automargin\":true,\"zerolinewidth\":2},\"scene\":{\"xaxis\":{\"backgroundcolor\":\"#E5ECF6\",\"gridcolor\":\"white\",\"linecolor\":\"white\",\"showbackground\":true,\"ticks\":\"\",\"zerolinecolor\":\"white\",\"gridwidth\":2},\"yaxis\":{\"backgroundcolor\":\"#E5ECF6\",\"gridcolor\":\"white\",\"linecolor\":\"white\",\"showbackground\":true,\"ticks\":\"\",\"zerolinecolor\":\"white\",\"gridwidth\":2},\"zaxis\":{\"backgroundcolor\":\"#E5ECF6\",\"gridcolor\":\"white\",\"linecolor\":\"white\",\"showbackground\":true,\"ticks\":\"\",\"zerolinecolor\":\"white\",\"gridwidth\":2}},\"shapedefaults\":{\"line\":{\"color\":\"#2a3f5f\"}},\"annotationdefaults\":{\"arrowcolor\":\"#2a3f5f\",\"arrowhead\":0,\"arrowwidth\":1},\"geo\":{\"bgcolor\":\"white\",\"landcolor\":\"#E5ECF6\",\"subunitcolor\":\"white\",\"showland\":true,\"showlakes\":true,\"lakecolor\":\"white\"},\"title\":{\"x\":0.05},\"mapbox\":{\"style\":\"light\"}}},\"xaxis\":{\"anchor\":\"y\",\"domain\":[0.0,1.0],\"title\":{\"text\":\"Data da assembleia\"}},\"yaxis\":{\"anchor\":\"x\",\"domain\":[0.0,1.0],\"title\":{\"text\":\"Numero de Cotas\"}},\"coloraxis\":{\"colorbar\":{\"title\":{\"text\":\"versao\"}},\"colorscale\":[[0.0,\"#0d0887\"],[0.1111111111111111,\"#46039f\"],[0.2222222222222222,\"#7201a8\"],[0.3333333333333333,\"#9c179e\"],[0.4444444444444444,\"#bd3786\"],[0.5555555555555556,\"#d8576b\"],[0.6666666666666666,\"#ed7953\"],[0.7777777777777778,\"#fb9f3a\"],[0.8888888888888888,\"#fdca26\"],[1.0,\"#f0f921\"]]},\"legend\":{\"tracegroupgap\":0},\"title\":{\"text\":\"Op\\u00e7\\u00f5es de Contempla\\u00e7\\u00e3o Lance Livre por data de assembleia\"},\"barmode\":\"relative\"},                        {\"responsive\": true}                    ).then(function(){\n",
       "                            \n",
       "var gd = document.getElementById('0eb870cd-d780-4574-aa1d-71c07cdc452e');\n",
       "var x = new MutationObserver(function (mutations, observer) {{\n",
       "        var display = window.getComputedStyle(gd).display;\n",
       "        if (!display || display === 'none') {{\n",
       "            console.log([gd, 'removed!']);\n",
       "            Plotly.purge(gd);\n",
       "            observer.disconnect();\n",
       "        }}\n",
       "}});\n",
       "\n",
       "// Listen for the removal of the full notebook cells\n",
       "var notebookContainer = gd.closest('#notebook-container');\n",
       "if (notebookContainer) {{\n",
       "    x.observe(notebookContainer, {childList: true});\n",
       "}}\n",
       "\n",
       "// Listen for the clearing of the current output cell\n",
       "var outputEl = gd.closest('.output');\n",
       "if (outputEl) {{\n",
       "    x.observe(outputEl, {childList: true});\n",
       "}}\n",
       "\n",
       "                        })                };                });            </script>        </div>"
      ]
     },
     "metadata": {},
     "output_type": "display_data"
    }
   ],
   "source": [
    "modalidades = df[\"modalidade\"].unique()\n",
    "\n",
    "for modalidade in modalidades:\n",
    "    df_chart = (\n",
    "        df.where(df[\"modalidade\"] == modalidade)\n",
    "        .groupby([\"data_assembleia\", \"versao\"])\n",
    "        .count()\n",
    "        .reset_index()\n",
    "        .sort_values(\"versao\")\n",
    "    )\n",
    "    fig = px.bar(\n",
    "        df_chart,\n",
    "        x=\"data_assembleia\",\n",
    "        y=\"str_cota\",\n",
    "        color=\"versao\",\n",
    "        labels={\"data_assembleia\": \"Data da assembleia\", \"str_cota\": \"Numero de Cotas\"},\n",
    "        title=f\"Opções de Contemplação {modalidade} por data de assembleia\",\n",
    "    )\n",
    "    fig.show()"
   ]
  },
  {
   "cell_type": "code",
   "execution_count": 78,
   "metadata": {},
   "outputs": [
    {
     "data": {
      "application/vnd.plotly.v1+json": {
       "config": {
        "plotlyServerURL": "https://plot.ly"
       },
       "data": [
        {
         "alignmentgroup": "True",
         "hovertemplate": "Data da assembleia=%{x}<br>Número de cotas=%{y}<br>Versão=%{marker.color}<extra></extra>",
         "legendgroup": "",
         "marker": {
          "color": [
           0,
           1,
           2,
           3,
           5,
           30,
           0,
           1,
           2,
           3,
           5,
           30,
           0,
           1,
           2,
           3,
           5,
           30,
           0,
           1,
           2,
           3,
           4,
           5,
           30,
           0,
           1,
           2,
           3,
           4,
           5,
           30,
           31,
           0,
           1,
           2,
           3,
           4,
           5,
           30,
           31,
           0,
           1,
           2,
           3,
           4,
           5,
           30,
           0,
           1,
           2,
           3,
           4,
           5,
           30,
           0,
           1,
           2,
           3,
           4,
           5,
           30,
           0,
           1,
           2,
           3,
           4,
           5,
           30,
           0,
           1,
           2,
           3,
           4,
           5,
           30,
           31,
           0,
           1,
           2,
           3,
           4,
           5,
           30,
           0,
           1,
           2,
           3,
           4,
           5,
           30,
           0,
           1,
           2,
           3,
           4,
           5,
           30,
           0,
           1,
           2,
           3,
           4,
           5,
           30,
           0,
           1,
           2,
           3,
           4,
           5,
           30,
           31,
           33,
           0,
           1,
           2,
           3,
           4,
           5,
           30,
           0,
           1,
           2,
           3,
           4,
           5,
           30,
           0,
           1,
           2,
           3,
           4,
           5,
           30,
           31,
           0,
           1,
           2,
           3,
           4,
           5,
           6,
           30,
           31,
           0,
           1,
           2,
           3,
           4,
           5,
           30,
           31,
           0,
           1,
           2,
           3,
           4,
           5,
           30,
           31,
           0,
           1,
           2,
           3,
           4,
           5,
           6,
           30,
           31,
           0,
           1,
           2,
           3,
           4,
           5,
           30,
           31,
           0,
           1,
           2,
           3,
           4,
           5,
           30,
           31,
           0,
           1,
           2,
           3,
           4,
           5,
           30,
           31,
           0,
           1,
           2,
           3,
           4,
           5,
           30,
           31,
           0,
           1,
           2,
           3,
           4,
           5,
           6,
           30,
           31,
           0,
           1,
           2,
           3,
           4,
           5,
           6,
           30,
           31,
           0,
           1,
           2,
           3,
           4,
           5,
           6,
           30,
           31,
           0,
           1,
           2,
           3,
           4,
           5,
           6,
           30,
           31,
           0,
           1,
           2,
           3,
           4,
           5,
           6,
           30,
           31,
           0,
           1,
           2,
           3,
           4,
           5,
           6,
           30,
           31,
           0,
           1,
           2,
           3,
           4,
           5,
           6,
           0,
           1,
           2,
           3,
           4,
           5,
           6,
           0,
           1,
           2,
           3,
           4,
           5,
           6,
           0,
           1,
           2,
           3,
           4,
           5,
           6,
           7,
           0,
           1,
           2,
           3,
           4,
           5,
           6,
           7,
           0,
           1,
           2,
           3,
           4,
           5,
           6,
           7,
           30,
           0,
           1,
           2,
           3,
           4,
           5,
           6,
           30,
           0,
           1,
           2,
           3,
           4,
           5,
           6,
           7,
           30,
           0,
           1,
           2,
           3,
           4,
           5,
           6,
           7,
           0,
           1,
           2,
           3,
           4,
           5,
           6,
           0,
           1,
           2,
           3,
           4,
           5,
           6,
           0,
           1,
           2,
           3,
           4,
           5,
           6,
           7,
           0,
           1,
           2,
           3,
           4,
           5,
           6,
           7,
           0,
           1,
           2,
           3,
           4,
           5,
           6,
           7
          ],
          "coloraxis": "coloraxis",
          "pattern": {
           "shape": ""
          }
         },
         "name": "",
         "offsetgroup": "",
         "orientation": "v",
         "showlegend": false,
         "textposition": "auto",
         "type": "bar",
         "x": [
          "2020-10-15T00:00:00",
          "2020-10-15T00:00:00",
          "2020-10-15T00:00:00",
          "2020-10-15T00:00:00",
          "2020-10-15T00:00:00",
          "2020-10-15T00:00:00",
          "2020-11-12T00:00:00",
          "2020-11-12T00:00:00",
          "2020-11-12T00:00:00",
          "2020-11-12T00:00:00",
          "2020-11-12T00:00:00",
          "2020-11-12T00:00:00",
          "2020-12-14T00:00:00",
          "2020-12-14T00:00:00",
          "2020-12-14T00:00:00",
          "2020-12-14T00:00:00",
          "2020-12-14T00:00:00",
          "2020-12-14T00:00:00",
          "2021-01-14T00:00:00",
          "2021-01-14T00:00:00",
          "2021-01-14T00:00:00",
          "2021-01-14T00:00:00",
          "2021-01-14T00:00:00",
          "2021-01-14T00:00:00",
          "2021-01-14T00:00:00",
          "2021-02-12T00:00:00",
          "2021-02-12T00:00:00",
          "2021-02-12T00:00:00",
          "2021-02-12T00:00:00",
          "2021-02-12T00:00:00",
          "2021-02-12T00:00:00",
          "2021-02-12T00:00:00",
          "2021-02-12T00:00:00",
          "2021-03-12T00:00:00",
          "2021-03-12T00:00:00",
          "2021-03-12T00:00:00",
          "2021-03-12T00:00:00",
          "2021-03-12T00:00:00",
          "2021-03-12T00:00:00",
          "2021-03-12T00:00:00",
          "2021-03-12T00:00:00",
          "2021-04-14T00:00:00",
          "2021-04-14T00:00:00",
          "2021-04-14T00:00:00",
          "2021-04-14T00:00:00",
          "2021-04-14T00:00:00",
          "2021-04-14T00:00:00",
          "2021-04-14T00:00:00",
          "2021-05-13T00:00:00",
          "2021-05-13T00:00:00",
          "2021-05-13T00:00:00",
          "2021-05-13T00:00:00",
          "2021-05-13T00:00:00",
          "2021-05-13T00:00:00",
          "2021-05-13T00:00:00",
          "2021-06-14T00:00:00",
          "2021-06-14T00:00:00",
          "2021-06-14T00:00:00",
          "2021-06-14T00:00:00",
          "2021-06-14T00:00:00",
          "2021-06-14T00:00:00",
          "2021-06-14T00:00:00",
          "2021-07-15T00:00:00",
          "2021-07-15T00:00:00",
          "2021-07-15T00:00:00",
          "2021-07-15T00:00:00",
          "2021-07-15T00:00:00",
          "2021-07-15T00:00:00",
          "2021-07-15T00:00:00",
          "2021-08-12T00:00:00",
          "2021-08-12T00:00:00",
          "2021-08-12T00:00:00",
          "2021-08-12T00:00:00",
          "2021-08-12T00:00:00",
          "2021-08-12T00:00:00",
          "2021-08-12T00:00:00",
          "2021-08-12T00:00:00",
          "2021-09-14T00:00:00",
          "2021-09-14T00:00:00",
          "2021-09-14T00:00:00",
          "2021-09-14T00:00:00",
          "2021-09-14T00:00:00",
          "2021-09-14T00:00:00",
          "2021-09-14T00:00:00",
          "2021-10-15T00:00:00",
          "2021-10-15T00:00:00",
          "2021-10-15T00:00:00",
          "2021-10-15T00:00:00",
          "2021-10-15T00:00:00",
          "2021-10-15T00:00:00",
          "2021-10-15T00:00:00",
          "2021-11-12T00:00:00",
          "2021-11-12T00:00:00",
          "2021-11-12T00:00:00",
          "2021-11-12T00:00:00",
          "2021-11-12T00:00:00",
          "2021-11-12T00:00:00",
          "2021-11-12T00:00:00",
          "2021-12-14T00:00:00",
          "2021-12-14T00:00:00",
          "2021-12-14T00:00:00",
          "2021-12-14T00:00:00",
          "2021-12-14T00:00:00",
          "2021-12-14T00:00:00",
          "2021-12-14T00:00:00",
          "2022-01-13T00:00:00",
          "2022-01-13T00:00:00",
          "2022-01-13T00:00:00",
          "2022-01-13T00:00:00",
          "2022-01-13T00:00:00",
          "2022-01-13T00:00:00",
          "2022-01-13T00:00:00",
          "2022-01-13T00:00:00",
          "2022-01-13T00:00:00",
          "2022-02-15T00:00:00",
          "2022-02-15T00:00:00",
          "2022-02-15T00:00:00",
          "2022-02-15T00:00:00",
          "2022-02-15T00:00:00",
          "2022-02-15T00:00:00",
          "2022-02-15T00:00:00",
          "2022-03-15T00:00:00",
          "2022-03-15T00:00:00",
          "2022-03-15T00:00:00",
          "2022-03-15T00:00:00",
          "2022-03-15T00:00:00",
          "2022-03-15T00:00:00",
          "2022-03-15T00:00:00",
          "2022-04-14T00:00:00",
          "2022-04-14T00:00:00",
          "2022-04-14T00:00:00",
          "2022-04-14T00:00:00",
          "2022-04-14T00:00:00",
          "2022-04-14T00:00:00",
          "2022-04-14T00:00:00",
          "2022-04-14T00:00:00",
          "2022-05-12T00:00:00",
          "2022-05-12T00:00:00",
          "2022-05-12T00:00:00",
          "2022-05-12T00:00:00",
          "2022-05-12T00:00:00",
          "2022-05-12T00:00:00",
          "2022-05-12T00:00:00",
          "2022-05-12T00:00:00",
          "2022-05-12T00:00:00",
          "2022-06-15T00:00:00",
          "2022-06-15T00:00:00",
          "2022-06-15T00:00:00",
          "2022-06-15T00:00:00",
          "2022-06-15T00:00:00",
          "2022-06-15T00:00:00",
          "2022-06-15T00:00:00",
          "2022-06-15T00:00:00",
          "2022-07-14T00:00:00",
          "2022-07-14T00:00:00",
          "2022-07-14T00:00:00",
          "2022-07-14T00:00:00",
          "2022-07-14T00:00:00",
          "2022-07-14T00:00:00",
          "2022-07-14T00:00:00",
          "2022-07-14T00:00:00",
          "2022-08-12T00:00:00",
          "2022-08-12T00:00:00",
          "2022-08-12T00:00:00",
          "2022-08-12T00:00:00",
          "2022-08-12T00:00:00",
          "2022-08-12T00:00:00",
          "2022-08-12T00:00:00",
          "2022-08-12T00:00:00",
          "2022-08-12T00:00:00",
          "2022-09-15T00:00:00",
          "2022-09-15T00:00:00",
          "2022-09-15T00:00:00",
          "2022-09-15T00:00:00",
          "2022-09-15T00:00:00",
          "2022-09-15T00:00:00",
          "2022-09-15T00:00:00",
          "2022-09-15T00:00:00",
          "2022-10-13T00:00:00",
          "2022-10-13T00:00:00",
          "2022-10-13T00:00:00",
          "2022-10-13T00:00:00",
          "2022-10-13T00:00:00",
          "2022-10-13T00:00:00",
          "2022-10-13T00:00:00",
          "2022-10-13T00:00:00",
          "2022-11-14T00:00:00",
          "2022-11-14T00:00:00",
          "2022-11-14T00:00:00",
          "2022-11-14T00:00:00",
          "2022-11-14T00:00:00",
          "2022-11-14T00:00:00",
          "2022-11-14T00:00:00",
          "2022-11-14T00:00:00",
          "2022-12-15T00:00:00",
          "2022-12-15T00:00:00",
          "2022-12-15T00:00:00",
          "2022-12-15T00:00:00",
          "2022-12-15T00:00:00",
          "2022-12-15T00:00:00",
          "2022-12-15T00:00:00",
          "2022-12-15T00:00:00",
          "2023-01-12T00:00:00",
          "2023-01-12T00:00:00",
          "2023-01-12T00:00:00",
          "2023-01-12T00:00:00",
          "2023-01-12T00:00:00",
          "2023-01-12T00:00:00",
          "2023-01-12T00:00:00",
          "2023-01-12T00:00:00",
          "2023-01-12T00:00:00",
          "2023-02-14T00:00:00",
          "2023-02-14T00:00:00",
          "2023-02-14T00:00:00",
          "2023-02-14T00:00:00",
          "2023-02-14T00:00:00",
          "2023-02-14T00:00:00",
          "2023-02-14T00:00:00",
          "2023-02-14T00:00:00",
          "2023-02-14T00:00:00",
          "2023-03-14T00:00:00",
          "2023-03-14T00:00:00",
          "2023-03-14T00:00:00",
          "2023-03-14T00:00:00",
          "2023-03-14T00:00:00",
          "2023-03-14T00:00:00",
          "2023-03-14T00:00:00",
          "2023-03-14T00:00:00",
          "2023-03-14T00:00:00",
          "2023-04-13T00:00:00",
          "2023-04-13T00:00:00",
          "2023-04-13T00:00:00",
          "2023-04-13T00:00:00",
          "2023-04-13T00:00:00",
          "2023-04-13T00:00:00",
          "2023-04-13T00:00:00",
          "2023-04-13T00:00:00",
          "2023-04-13T00:00:00",
          "2023-05-12T00:00:00",
          "2023-05-12T00:00:00",
          "2023-05-12T00:00:00",
          "2023-05-12T00:00:00",
          "2023-05-12T00:00:00",
          "2023-05-12T00:00:00",
          "2023-05-12T00:00:00",
          "2023-05-12T00:00:00",
          "2023-05-12T00:00:00",
          "2023-06-15T00:00:00",
          "2023-06-15T00:00:00",
          "2023-06-15T00:00:00",
          "2023-06-15T00:00:00",
          "2023-06-15T00:00:00",
          "2023-06-15T00:00:00",
          "2023-06-15T00:00:00",
          "2023-06-15T00:00:00",
          "2023-06-15T00:00:00",
          "2023-07-13T00:00:00",
          "2023-07-13T00:00:00",
          "2023-07-13T00:00:00",
          "2023-07-13T00:00:00",
          "2023-07-13T00:00:00",
          "2023-07-13T00:00:00",
          "2023-07-13T00:00:00",
          "2023-08-15T00:00:00",
          "2023-08-15T00:00:00",
          "2023-08-15T00:00:00",
          "2023-08-15T00:00:00",
          "2023-08-15T00:00:00",
          "2023-08-15T00:00:00",
          "2023-08-15T00:00:00",
          "2023-09-14T00:00:00",
          "2023-09-14T00:00:00",
          "2023-09-14T00:00:00",
          "2023-09-14T00:00:00",
          "2023-09-14T00:00:00",
          "2023-09-14T00:00:00",
          "2023-09-14T00:00:00",
          "2023-10-17T00:00:00",
          "2023-10-17T00:00:00",
          "2023-10-17T00:00:00",
          "2023-10-17T00:00:00",
          "2023-10-17T00:00:00",
          "2023-10-17T00:00:00",
          "2023-10-17T00:00:00",
          "2023-10-17T00:00:00",
          "2023-11-14T00:00:00",
          "2023-11-14T00:00:00",
          "2023-11-14T00:00:00",
          "2023-11-14T00:00:00",
          "2023-11-14T00:00:00",
          "2023-11-14T00:00:00",
          "2023-11-14T00:00:00",
          "2023-11-14T00:00:00",
          "2023-12-14T00:00:00",
          "2023-12-14T00:00:00",
          "2023-12-14T00:00:00",
          "2023-12-14T00:00:00",
          "2023-12-14T00:00:00",
          "2023-12-14T00:00:00",
          "2023-12-14T00:00:00",
          "2023-12-14T00:00:00",
          "2023-12-14T00:00:00",
          "2024-01-12T00:00:00",
          "2024-01-12T00:00:00",
          "2024-01-12T00:00:00",
          "2024-01-12T00:00:00",
          "2024-01-12T00:00:00",
          "2024-01-12T00:00:00",
          "2024-01-12T00:00:00",
          "2024-01-12T00:00:00",
          "2024-02-15T00:00:00",
          "2024-02-15T00:00:00",
          "2024-02-15T00:00:00",
          "2024-02-15T00:00:00",
          "2024-02-15T00:00:00",
          "2024-02-15T00:00:00",
          "2024-02-15T00:00:00",
          "2024-02-15T00:00:00",
          "2024-02-15T00:00:00",
          "2024-03-14T00:00:00",
          "2024-03-14T00:00:00",
          "2024-03-14T00:00:00",
          "2024-03-14T00:00:00",
          "2024-03-14T00:00:00",
          "2024-03-14T00:00:00",
          "2024-03-14T00:00:00",
          "2024-03-14T00:00:00",
          "2024-04-12T00:00:00",
          "2024-04-12T00:00:00",
          "2024-04-12T00:00:00",
          "2024-04-12T00:00:00",
          "2024-04-12T00:00:00",
          "2024-04-12T00:00:00",
          "2024-04-12T00:00:00",
          "2024-05-14T00:00:00",
          "2024-05-14T00:00:00",
          "2024-05-14T00:00:00",
          "2024-05-14T00:00:00",
          "2024-05-14T00:00:00",
          "2024-05-14T00:00:00",
          "2024-05-14T00:00:00",
          "2024-06-12T00:00:00",
          "2024-06-12T00:00:00",
          "2024-06-12T00:00:00",
          "2024-06-12T00:00:00",
          "2024-06-12T00:00:00",
          "2024-06-12T00:00:00",
          "2024-06-12T00:00:00",
          "2024-06-12T00:00:00",
          "2024-07-12T00:00:00",
          "2024-07-12T00:00:00",
          "2024-07-12T00:00:00",
          "2024-07-12T00:00:00",
          "2024-07-12T00:00:00",
          "2024-07-12T00:00:00",
          "2024-07-12T00:00:00",
          "2024-07-12T00:00:00",
          "2024-08-14T00:00:00",
          "2024-08-14T00:00:00",
          "2024-08-14T00:00:00",
          "2024-08-14T00:00:00",
          "2024-08-14T00:00:00",
          "2024-08-14T00:00:00",
          "2024-08-14T00:00:00",
          "2024-08-14T00:00:00"
         ],
         "xaxis": "x",
         "y": [
          121,
          133,
          14,
          4,
          2,
          1,
          145,
          195,
          14,
          4,
          2,
          2,
          186,
          275,
          21,
          5,
          2,
          1,
          229,
          322,
          26,
          12,
          2,
          2,
          1,
          234,
          368,
          33,
          12,
          2,
          1,
          2,
          1,
          252,
          422,
          42,
          19,
          2,
          2,
          1,
          1,
          268,
          461,
          55,
          15,
          2,
          2,
          2,
          281,
          457,
          84,
          17,
          2,
          1,
          2,
          276,
          473,
          99,
          19,
          6,
          1,
          2,
          316,
          511,
          135,
          19,
          10,
          1,
          2,
          311,
          512,
          161,
          26,
          11,
          1,
          1,
          1,
          328,
          506,
          186,
          34,
          12,
          1,
          2,
          336,
          487,
          209,
          32,
          12,
          1,
          3,
          347,
          480,
          216,
          49,
          12,
          1,
          2,
          346,
          469,
          246,
          54,
          13,
          1,
          3,
          353,
          461,
          251,
          58,
          15,
          1,
          3,
          1,
          1,
          361,
          462,
          279,
          83,
          16,
          3,
          4,
          318,
          335,
          156,
          47,
          11,
          3,
          6,
          333,
          340,
          182,
          49,
          8,
          3,
          5,
          1,
          331,
          338,
          184,
          57,
          11,
          3,
          2,
          4,
          1,
          350,
          365,
          211,
          80,
          13,
          2,
          5,
          1,
          348,
          351,
          197,
          82,
          15,
          4,
          5,
          3,
          363,
          345,
          209,
          99,
          29,
          2,
          2,
          5,
          1,
          377,
          339,
          218,
          86,
          30,
          3,
          5,
          1,
          343,
          345,
          240,
          83,
          25,
          4,
          5,
          1,
          374,
          343,
          257,
          102,
          28,
          4,
          5,
          1,
          379,
          326,
          249,
          113,
          44,
          6,
          5,
          1,
          373,
          337,
          250,
          100,
          44,
          7,
          1,
          5,
          1,
          375,
          322,
          242,
          108,
          47,
          9,
          1,
          5,
          1,
          382,
          323,
          231,
          101,
          46,
          9,
          4,
          4,
          1,
          372,
          329,
          242,
          121,
          54,
          5,
          3,
          4,
          1,
          396,
          321,
          225,
          136,
          62,
          6,
          3,
          4,
          1,
          420,
          313,
          229,
          125,
          51,
          8,
          3,
          4,
          1,
          422,
          315,
          248,
          129,
          52,
          13,
          2,
          421,
          303,
          243,
          121,
          41,
          8,
          1,
          415,
          303,
          246,
          124,
          46,
          10,
          2,
          425,
          291,
          250,
          124,
          59,
          10,
          1,
          2,
          399,
          277,
          245,
          132,
          55,
          12,
          1,
          2,
          453,
          276,
          243,
          139,
          55,
          16,
          2,
          2,
          1,
          456,
          272,
          242,
          132,
          67,
          26,
          2,
          1,
          428,
          268,
          238,
          128,
          62,
          23,
          2,
          2,
          1,
          469,
          258,
          240,
          134,
          65,
          29,
          6,
          2,
          474,
          254,
          226,
          116,
          53,
          17,
          2,
          457,
          254,
          223,
          117,
          55,
          16,
          2,
          452,
          255,
          227,
          118,
          57,
          18,
          3,
          1,
          433,
          247,
          224,
          122,
          58,
          19,
          3,
          1,
          452,
          248,
          225,
          121,
          55,
          19,
          3,
          1
         ],
         "yaxis": "y"
        }
       ],
       "layout": {
        "barmode": "relative",
        "coloraxis": {
         "colorbar": {
          "title": {
           "text": "Versão"
          }
         },
         "colorscale": [
          [
           0,
           "#0d0887"
          ],
          [
           0.1111111111111111,
           "#46039f"
          ],
          [
           0.2222222222222222,
           "#7201a8"
          ],
          [
           0.3333333333333333,
           "#9c179e"
          ],
          [
           0.4444444444444444,
           "#bd3786"
          ],
          [
           0.5555555555555556,
           "#d8576b"
          ],
          [
           0.6666666666666666,
           "#ed7953"
          ],
          [
           0.7777777777777778,
           "#fb9f3a"
          ],
          [
           0.8888888888888888,
           "#fdca26"
          ],
          [
           1,
           "#f0f921"
          ]
         ]
        },
        "legend": {
         "tracegroupgap": 0
        },
        "template": {
         "data": {
          "bar": [
           {
            "error_x": {
             "color": "#2a3f5f"
            },
            "error_y": {
             "color": "#2a3f5f"
            },
            "marker": {
             "line": {
              "color": "#E5ECF6",
              "width": 0.5
             },
             "pattern": {
              "fillmode": "overlay",
              "size": 10,
              "solidity": 0.2
             }
            },
            "type": "bar"
           }
          ],
          "barpolar": [
           {
            "marker": {
             "line": {
              "color": "#E5ECF6",
              "width": 0.5
             },
             "pattern": {
              "fillmode": "overlay",
              "size": 10,
              "solidity": 0.2
             }
            },
            "type": "barpolar"
           }
          ],
          "carpet": [
           {
            "aaxis": {
             "endlinecolor": "#2a3f5f",
             "gridcolor": "white",
             "linecolor": "white",
             "minorgridcolor": "white",
             "startlinecolor": "#2a3f5f"
            },
            "baxis": {
             "endlinecolor": "#2a3f5f",
             "gridcolor": "white",
             "linecolor": "white",
             "minorgridcolor": "white",
             "startlinecolor": "#2a3f5f"
            },
            "type": "carpet"
           }
          ],
          "choropleth": [
           {
            "colorbar": {
             "outlinewidth": 0,
             "ticks": ""
            },
            "type": "choropleth"
           }
          ],
          "contour": [
           {
            "colorbar": {
             "outlinewidth": 0,
             "ticks": ""
            },
            "colorscale": [
             [
              0,
              "#0d0887"
             ],
             [
              0.1111111111111111,
              "#46039f"
             ],
             [
              0.2222222222222222,
              "#7201a8"
             ],
             [
              0.3333333333333333,
              "#9c179e"
             ],
             [
              0.4444444444444444,
              "#bd3786"
             ],
             [
              0.5555555555555556,
              "#d8576b"
             ],
             [
              0.6666666666666666,
              "#ed7953"
             ],
             [
              0.7777777777777778,
              "#fb9f3a"
             ],
             [
              0.8888888888888888,
              "#fdca26"
             ],
             [
              1,
              "#f0f921"
             ]
            ],
            "type": "contour"
           }
          ],
          "contourcarpet": [
           {
            "colorbar": {
             "outlinewidth": 0,
             "ticks": ""
            },
            "type": "contourcarpet"
           }
          ],
          "heatmap": [
           {
            "colorbar": {
             "outlinewidth": 0,
             "ticks": ""
            },
            "colorscale": [
             [
              0,
              "#0d0887"
             ],
             [
              0.1111111111111111,
              "#46039f"
             ],
             [
              0.2222222222222222,
              "#7201a8"
             ],
             [
              0.3333333333333333,
              "#9c179e"
             ],
             [
              0.4444444444444444,
              "#bd3786"
             ],
             [
              0.5555555555555556,
              "#d8576b"
             ],
             [
              0.6666666666666666,
              "#ed7953"
             ],
             [
              0.7777777777777778,
              "#fb9f3a"
             ],
             [
              0.8888888888888888,
              "#fdca26"
             ],
             [
              1,
              "#f0f921"
             ]
            ],
            "type": "heatmap"
           }
          ],
          "heatmapgl": [
           {
            "colorbar": {
             "outlinewidth": 0,
             "ticks": ""
            },
            "colorscale": [
             [
              0,
              "#0d0887"
             ],
             [
              0.1111111111111111,
              "#46039f"
             ],
             [
              0.2222222222222222,
              "#7201a8"
             ],
             [
              0.3333333333333333,
              "#9c179e"
             ],
             [
              0.4444444444444444,
              "#bd3786"
             ],
             [
              0.5555555555555556,
              "#d8576b"
             ],
             [
              0.6666666666666666,
              "#ed7953"
             ],
             [
              0.7777777777777778,
              "#fb9f3a"
             ],
             [
              0.8888888888888888,
              "#fdca26"
             ],
             [
              1,
              "#f0f921"
             ]
            ],
            "type": "heatmapgl"
           }
          ],
          "histogram": [
           {
            "marker": {
             "pattern": {
              "fillmode": "overlay",
              "size": 10,
              "solidity": 0.2
             }
            },
            "type": "histogram"
           }
          ],
          "histogram2d": [
           {
            "colorbar": {
             "outlinewidth": 0,
             "ticks": ""
            },
            "colorscale": [
             [
              0,
              "#0d0887"
             ],
             [
              0.1111111111111111,
              "#46039f"
             ],
             [
              0.2222222222222222,
              "#7201a8"
             ],
             [
              0.3333333333333333,
              "#9c179e"
             ],
             [
              0.4444444444444444,
              "#bd3786"
             ],
             [
              0.5555555555555556,
              "#d8576b"
             ],
             [
              0.6666666666666666,
              "#ed7953"
             ],
             [
              0.7777777777777778,
              "#fb9f3a"
             ],
             [
              0.8888888888888888,
              "#fdca26"
             ],
             [
              1,
              "#f0f921"
             ]
            ],
            "type": "histogram2d"
           }
          ],
          "histogram2dcontour": [
           {
            "colorbar": {
             "outlinewidth": 0,
             "ticks": ""
            },
            "colorscale": [
             [
              0,
              "#0d0887"
             ],
             [
              0.1111111111111111,
              "#46039f"
             ],
             [
              0.2222222222222222,
              "#7201a8"
             ],
             [
              0.3333333333333333,
              "#9c179e"
             ],
             [
              0.4444444444444444,
              "#bd3786"
             ],
             [
              0.5555555555555556,
              "#d8576b"
             ],
             [
              0.6666666666666666,
              "#ed7953"
             ],
             [
              0.7777777777777778,
              "#fb9f3a"
             ],
             [
              0.8888888888888888,
              "#fdca26"
             ],
             [
              1,
              "#f0f921"
             ]
            ],
            "type": "histogram2dcontour"
           }
          ],
          "mesh3d": [
           {
            "colorbar": {
             "outlinewidth": 0,
             "ticks": ""
            },
            "type": "mesh3d"
           }
          ],
          "parcoords": [
           {
            "line": {
             "colorbar": {
              "outlinewidth": 0,
              "ticks": ""
             }
            },
            "type": "parcoords"
           }
          ],
          "pie": [
           {
            "automargin": true,
            "type": "pie"
           }
          ],
          "scatter": [
           {
            "fillpattern": {
             "fillmode": "overlay",
             "size": 10,
             "solidity": 0.2
            },
            "type": "scatter"
           }
          ],
          "scatter3d": [
           {
            "line": {
             "colorbar": {
              "outlinewidth": 0,
              "ticks": ""
             }
            },
            "marker": {
             "colorbar": {
              "outlinewidth": 0,
              "ticks": ""
             }
            },
            "type": "scatter3d"
           }
          ],
          "scattercarpet": [
           {
            "marker": {
             "colorbar": {
              "outlinewidth": 0,
              "ticks": ""
             }
            },
            "type": "scattercarpet"
           }
          ],
          "scattergeo": [
           {
            "marker": {
             "colorbar": {
              "outlinewidth": 0,
              "ticks": ""
             }
            },
            "type": "scattergeo"
           }
          ],
          "scattergl": [
           {
            "marker": {
             "colorbar": {
              "outlinewidth": 0,
              "ticks": ""
             }
            },
            "type": "scattergl"
           }
          ],
          "scattermapbox": [
           {
            "marker": {
             "colorbar": {
              "outlinewidth": 0,
              "ticks": ""
             }
            },
            "type": "scattermapbox"
           }
          ],
          "scatterpolar": [
           {
            "marker": {
             "colorbar": {
              "outlinewidth": 0,
              "ticks": ""
             }
            },
            "type": "scatterpolar"
           }
          ],
          "scatterpolargl": [
           {
            "marker": {
             "colorbar": {
              "outlinewidth": 0,
              "ticks": ""
             }
            },
            "type": "scatterpolargl"
           }
          ],
          "scatterternary": [
           {
            "marker": {
             "colorbar": {
              "outlinewidth": 0,
              "ticks": ""
             }
            },
            "type": "scatterternary"
           }
          ],
          "surface": [
           {
            "colorbar": {
             "outlinewidth": 0,
             "ticks": ""
            },
            "colorscale": [
             [
              0,
              "#0d0887"
             ],
             [
              0.1111111111111111,
              "#46039f"
             ],
             [
              0.2222222222222222,
              "#7201a8"
             ],
             [
              0.3333333333333333,
              "#9c179e"
             ],
             [
              0.4444444444444444,
              "#bd3786"
             ],
             [
              0.5555555555555556,
              "#d8576b"
             ],
             [
              0.6666666666666666,
              "#ed7953"
             ],
             [
              0.7777777777777778,
              "#fb9f3a"
             ],
             [
              0.8888888888888888,
              "#fdca26"
             ],
             [
              1,
              "#f0f921"
             ]
            ],
            "type": "surface"
           }
          ],
          "table": [
           {
            "cells": {
             "fill": {
              "color": "#EBF0F8"
             },
             "line": {
              "color": "white"
             }
            },
            "header": {
             "fill": {
              "color": "#C8D4E3"
             },
             "line": {
              "color": "white"
             }
            },
            "type": "table"
           }
          ]
         },
         "layout": {
          "annotationdefaults": {
           "arrowcolor": "#2a3f5f",
           "arrowhead": 0,
           "arrowwidth": 1
          },
          "autotypenumbers": "strict",
          "coloraxis": {
           "colorbar": {
            "outlinewidth": 0,
            "ticks": ""
           }
          },
          "colorscale": {
           "diverging": [
            [
             0,
             "#8e0152"
            ],
            [
             0.1,
             "#c51b7d"
            ],
            [
             0.2,
             "#de77ae"
            ],
            [
             0.3,
             "#f1b6da"
            ],
            [
             0.4,
             "#fde0ef"
            ],
            [
             0.5,
             "#f7f7f7"
            ],
            [
             0.6,
             "#e6f5d0"
            ],
            [
             0.7,
             "#b8e186"
            ],
            [
             0.8,
             "#7fbc41"
            ],
            [
             0.9,
             "#4d9221"
            ],
            [
             1,
             "#276419"
            ]
           ],
           "sequential": [
            [
             0,
             "#0d0887"
            ],
            [
             0.1111111111111111,
             "#46039f"
            ],
            [
             0.2222222222222222,
             "#7201a8"
            ],
            [
             0.3333333333333333,
             "#9c179e"
            ],
            [
             0.4444444444444444,
             "#bd3786"
            ],
            [
             0.5555555555555556,
             "#d8576b"
            ],
            [
             0.6666666666666666,
             "#ed7953"
            ],
            [
             0.7777777777777778,
             "#fb9f3a"
            ],
            [
             0.8888888888888888,
             "#fdca26"
            ],
            [
             1,
             "#f0f921"
            ]
           ],
           "sequentialminus": [
            [
             0,
             "#0d0887"
            ],
            [
             0.1111111111111111,
             "#46039f"
            ],
            [
             0.2222222222222222,
             "#7201a8"
            ],
            [
             0.3333333333333333,
             "#9c179e"
            ],
            [
             0.4444444444444444,
             "#bd3786"
            ],
            [
             0.5555555555555556,
             "#d8576b"
            ],
            [
             0.6666666666666666,
             "#ed7953"
            ],
            [
             0.7777777777777778,
             "#fb9f3a"
            ],
            [
             0.8888888888888888,
             "#fdca26"
            ],
            [
             1,
             "#f0f921"
            ]
           ]
          },
          "colorway": [
           "#636efa",
           "#EF553B",
           "#00cc96",
           "#ab63fa",
           "#FFA15A",
           "#19d3f3",
           "#FF6692",
           "#B6E880",
           "#FF97FF",
           "#FECB52"
          ],
          "font": {
           "color": "#2a3f5f"
          },
          "geo": {
           "bgcolor": "white",
           "lakecolor": "white",
           "landcolor": "#E5ECF6",
           "showlakes": true,
           "showland": true,
           "subunitcolor": "white"
          },
          "hoverlabel": {
           "align": "left"
          },
          "hovermode": "closest",
          "mapbox": {
           "style": "light"
          },
          "paper_bgcolor": "white",
          "plot_bgcolor": "#E5ECF6",
          "polar": {
           "angularaxis": {
            "gridcolor": "white",
            "linecolor": "white",
            "ticks": ""
           },
           "bgcolor": "#E5ECF6",
           "radialaxis": {
            "gridcolor": "white",
            "linecolor": "white",
            "ticks": ""
           }
          },
          "scene": {
           "xaxis": {
            "backgroundcolor": "#E5ECF6",
            "gridcolor": "white",
            "gridwidth": 2,
            "linecolor": "white",
            "showbackground": true,
            "ticks": "",
            "zerolinecolor": "white"
           },
           "yaxis": {
            "backgroundcolor": "#E5ECF6",
            "gridcolor": "white",
            "gridwidth": 2,
            "linecolor": "white",
            "showbackground": true,
            "ticks": "",
            "zerolinecolor": "white"
           },
           "zaxis": {
            "backgroundcolor": "#E5ECF6",
            "gridcolor": "white",
            "gridwidth": 2,
            "linecolor": "white",
            "showbackground": true,
            "ticks": "",
            "zerolinecolor": "white"
           }
          },
          "shapedefaults": {
           "line": {
            "color": "#2a3f5f"
           }
          },
          "ternary": {
           "aaxis": {
            "gridcolor": "white",
            "linecolor": "white",
            "ticks": ""
           },
           "baxis": {
            "gridcolor": "white",
            "linecolor": "white",
            "ticks": ""
           },
           "bgcolor": "#E5ECF6",
           "caxis": {
            "gridcolor": "white",
            "linecolor": "white",
            "ticks": ""
           }
          },
          "title": {
           "x": 0.05
          },
          "xaxis": {
           "automargin": true,
           "gridcolor": "white",
           "linecolor": "white",
           "ticks": "",
           "title": {
            "standoff": 15
           },
           "zerolinecolor": "white",
           "zerolinewidth": 2
          },
          "yaxis": {
           "automargin": true,
           "gridcolor": "white",
           "linecolor": "white",
           "ticks": "",
           "title": {
            "standoff": 15
           },
           "zerolinecolor": "white",
           "zerolinewidth": 2
          }
         }
        },
        "title": {
         "text": "Número de cotas por versão"
        },
        "xaxis": {
         "anchor": "y",
         "domain": [
          0,
          1
         ],
         "title": {
          "text": "Data da assembleia"
         }
        },
        "yaxis": {
         "anchor": "x",
         "domain": [
          0,
          1
         ],
         "title": {
          "text": "Número de cotas"
         }
        }
       }
      },
      "text/html": [
       "<div>                            <div id=\"99ed790c-2f17-4493-a156-30267ab9fd89\" class=\"plotly-graph-div\" style=\"height:525px; width:100%;\"></div>            <script type=\"text/javascript\">                require([\"plotly\"], function(Plotly) {                    window.PLOTLYENV=window.PLOTLYENV || {};                                    if (document.getElementById(\"99ed790c-2f17-4493-a156-30267ab9fd89\")) {                    Plotly.newPlot(                        \"99ed790c-2f17-4493-a156-30267ab9fd89\",                        [{\"alignmentgroup\":\"True\",\"hovertemplate\":\"Data da assembleia=%{x}\\u003cbr\\u003eN\\u00famero de cotas=%{y}\\u003cbr\\u003eVers\\u00e3o=%{marker.color}\\u003cextra\\u003e\\u003c\\u002fextra\\u003e\",\"legendgroup\":\"\",\"marker\":{\"color\":[0,1,2,3,5,30,0,1,2,3,5,30,0,1,2,3,5,30,0,1,2,3,4,5,30,0,1,2,3,4,5,30,31,0,1,2,3,4,5,30,31,0,1,2,3,4,5,30,0,1,2,3,4,5,30,0,1,2,3,4,5,30,0,1,2,3,4,5,30,0,1,2,3,4,5,30,31,0,1,2,3,4,5,30,0,1,2,3,4,5,30,0,1,2,3,4,5,30,0,1,2,3,4,5,30,0,1,2,3,4,5,30,31,33,0,1,2,3,4,5,30,0,1,2,3,4,5,30,0,1,2,3,4,5,30,31,0,1,2,3,4,5,6,30,31,0,1,2,3,4,5,30,31,0,1,2,3,4,5,30,31,0,1,2,3,4,5,6,30,31,0,1,2,3,4,5,30,31,0,1,2,3,4,5,30,31,0,1,2,3,4,5,30,31,0,1,2,3,4,5,30,31,0,1,2,3,4,5,6,30,31,0,1,2,3,4,5,6,30,31,0,1,2,3,4,5,6,30,31,0,1,2,3,4,5,6,30,31,0,1,2,3,4,5,6,30,31,0,1,2,3,4,5,6,30,31,0,1,2,3,4,5,6,0,1,2,3,4,5,6,0,1,2,3,4,5,6,0,1,2,3,4,5,6,7,0,1,2,3,4,5,6,7,0,1,2,3,4,5,6,7,30,0,1,2,3,4,5,6,30,0,1,2,3,4,5,6,7,30,0,1,2,3,4,5,6,7,0,1,2,3,4,5,6,0,1,2,3,4,5,6,0,1,2,3,4,5,6,7,0,1,2,3,4,5,6,7,0,1,2,3,4,5,6,7],\"coloraxis\":\"coloraxis\",\"pattern\":{\"shape\":\"\"}},\"name\":\"\",\"offsetgroup\":\"\",\"orientation\":\"v\",\"showlegend\":false,\"textposition\":\"auto\",\"x\":[\"2020-10-15T00:00:00\",\"2020-10-15T00:00:00\",\"2020-10-15T00:00:00\",\"2020-10-15T00:00:00\",\"2020-10-15T00:00:00\",\"2020-10-15T00:00:00\",\"2020-11-12T00:00:00\",\"2020-11-12T00:00:00\",\"2020-11-12T00:00:00\",\"2020-11-12T00:00:00\",\"2020-11-12T00:00:00\",\"2020-11-12T00:00:00\",\"2020-12-14T00:00:00\",\"2020-12-14T00:00:00\",\"2020-12-14T00:00:00\",\"2020-12-14T00:00:00\",\"2020-12-14T00:00:00\",\"2020-12-14T00:00:00\",\"2021-01-14T00:00:00\",\"2021-01-14T00:00:00\",\"2021-01-14T00:00:00\",\"2021-01-14T00:00:00\",\"2021-01-14T00:00:00\",\"2021-01-14T00:00:00\",\"2021-01-14T00:00:00\",\"2021-02-12T00:00:00\",\"2021-02-12T00:00:00\",\"2021-02-12T00:00:00\",\"2021-02-12T00:00:00\",\"2021-02-12T00:00:00\",\"2021-02-12T00:00:00\",\"2021-02-12T00:00:00\",\"2021-02-12T00:00:00\",\"2021-03-12T00:00:00\",\"2021-03-12T00:00:00\",\"2021-03-12T00:00:00\",\"2021-03-12T00:00:00\",\"2021-03-12T00:00:00\",\"2021-03-12T00:00:00\",\"2021-03-12T00:00:00\",\"2021-03-12T00:00:00\",\"2021-04-14T00:00:00\",\"2021-04-14T00:00:00\",\"2021-04-14T00:00:00\",\"2021-04-14T00:00:00\",\"2021-04-14T00:00:00\",\"2021-04-14T00:00:00\",\"2021-04-14T00:00:00\",\"2021-05-13T00:00:00\",\"2021-05-13T00:00:00\",\"2021-05-13T00:00:00\",\"2021-05-13T00:00:00\",\"2021-05-13T00:00:00\",\"2021-05-13T00:00:00\",\"2021-05-13T00:00:00\",\"2021-06-14T00:00:00\",\"2021-06-14T00:00:00\",\"2021-06-14T00:00:00\",\"2021-06-14T00:00:00\",\"2021-06-14T00:00:00\",\"2021-06-14T00:00:00\",\"2021-06-14T00:00:00\",\"2021-07-15T00:00:00\",\"2021-07-15T00:00:00\",\"2021-07-15T00:00:00\",\"2021-07-15T00:00:00\",\"2021-07-15T00:00:00\",\"2021-07-15T00:00:00\",\"2021-07-15T00:00:00\",\"2021-08-12T00:00:00\",\"2021-08-12T00:00:00\",\"2021-08-12T00:00:00\",\"2021-08-12T00:00:00\",\"2021-08-12T00:00:00\",\"2021-08-12T00:00:00\",\"2021-08-12T00:00:00\",\"2021-08-12T00:00:00\",\"2021-09-14T00:00:00\",\"2021-09-14T00:00:00\",\"2021-09-14T00:00:00\",\"2021-09-14T00:00:00\",\"2021-09-14T00:00:00\",\"2021-09-14T00:00:00\",\"2021-09-14T00:00:00\",\"2021-10-15T00:00:00\",\"2021-10-15T00:00:00\",\"2021-10-15T00:00:00\",\"2021-10-15T00:00:00\",\"2021-10-15T00:00:00\",\"2021-10-15T00:00:00\",\"2021-10-15T00:00:00\",\"2021-11-12T00:00:00\",\"2021-11-12T00:00:00\",\"2021-11-12T00:00:00\",\"2021-11-12T00:00:00\",\"2021-11-12T00:00:00\",\"2021-11-12T00:00:00\",\"2021-11-12T00:00:00\",\"2021-12-14T00:00:00\",\"2021-12-14T00:00:00\",\"2021-12-14T00:00:00\",\"2021-12-14T00:00:00\",\"2021-12-14T00:00:00\",\"2021-12-14T00:00:00\",\"2021-12-14T00:00:00\",\"2022-01-13T00:00:00\",\"2022-01-13T00:00:00\",\"2022-01-13T00:00:00\",\"2022-01-13T00:00:00\",\"2022-01-13T00:00:00\",\"2022-01-13T00:00:00\",\"2022-01-13T00:00:00\",\"2022-01-13T00:00:00\",\"2022-01-13T00:00:00\",\"2022-02-15T00:00:00\",\"2022-02-15T00:00:00\",\"2022-02-15T00:00:00\",\"2022-02-15T00:00:00\",\"2022-02-15T00:00:00\",\"2022-02-15T00:00:00\",\"2022-02-15T00:00:00\",\"2022-03-15T00:00:00\",\"2022-03-15T00:00:00\",\"2022-03-15T00:00:00\",\"2022-03-15T00:00:00\",\"2022-03-15T00:00:00\",\"2022-03-15T00:00:00\",\"2022-03-15T00:00:00\",\"2022-04-14T00:00:00\",\"2022-04-14T00:00:00\",\"2022-04-14T00:00:00\",\"2022-04-14T00:00:00\",\"2022-04-14T00:00:00\",\"2022-04-14T00:00:00\",\"2022-04-14T00:00:00\",\"2022-04-14T00:00:00\",\"2022-05-12T00:00:00\",\"2022-05-12T00:00:00\",\"2022-05-12T00:00:00\",\"2022-05-12T00:00:00\",\"2022-05-12T00:00:00\",\"2022-05-12T00:00:00\",\"2022-05-12T00:00:00\",\"2022-05-12T00:00:00\",\"2022-05-12T00:00:00\",\"2022-06-15T00:00:00\",\"2022-06-15T00:00:00\",\"2022-06-15T00:00:00\",\"2022-06-15T00:00:00\",\"2022-06-15T00:00:00\",\"2022-06-15T00:00:00\",\"2022-06-15T00:00:00\",\"2022-06-15T00:00:00\",\"2022-07-14T00:00:00\",\"2022-07-14T00:00:00\",\"2022-07-14T00:00:00\",\"2022-07-14T00:00:00\",\"2022-07-14T00:00:00\",\"2022-07-14T00:00:00\",\"2022-07-14T00:00:00\",\"2022-07-14T00:00:00\",\"2022-08-12T00:00:00\",\"2022-08-12T00:00:00\",\"2022-08-12T00:00:00\",\"2022-08-12T00:00:00\",\"2022-08-12T00:00:00\",\"2022-08-12T00:00:00\",\"2022-08-12T00:00:00\",\"2022-08-12T00:00:00\",\"2022-08-12T00:00:00\",\"2022-09-15T00:00:00\",\"2022-09-15T00:00:00\",\"2022-09-15T00:00:00\",\"2022-09-15T00:00:00\",\"2022-09-15T00:00:00\",\"2022-09-15T00:00:00\",\"2022-09-15T00:00:00\",\"2022-09-15T00:00:00\",\"2022-10-13T00:00:00\",\"2022-10-13T00:00:00\",\"2022-10-13T00:00:00\",\"2022-10-13T00:00:00\",\"2022-10-13T00:00:00\",\"2022-10-13T00:00:00\",\"2022-10-13T00:00:00\",\"2022-10-13T00:00:00\",\"2022-11-14T00:00:00\",\"2022-11-14T00:00:00\",\"2022-11-14T00:00:00\",\"2022-11-14T00:00:00\",\"2022-11-14T00:00:00\",\"2022-11-14T00:00:00\",\"2022-11-14T00:00:00\",\"2022-11-14T00:00:00\",\"2022-12-15T00:00:00\",\"2022-12-15T00:00:00\",\"2022-12-15T00:00:00\",\"2022-12-15T00:00:00\",\"2022-12-15T00:00:00\",\"2022-12-15T00:00:00\",\"2022-12-15T00:00:00\",\"2022-12-15T00:00:00\",\"2023-01-12T00:00:00\",\"2023-01-12T00:00:00\",\"2023-01-12T00:00:00\",\"2023-01-12T00:00:00\",\"2023-01-12T00:00:00\",\"2023-01-12T00:00:00\",\"2023-01-12T00:00:00\",\"2023-01-12T00:00:00\",\"2023-01-12T00:00:00\",\"2023-02-14T00:00:00\",\"2023-02-14T00:00:00\",\"2023-02-14T00:00:00\",\"2023-02-14T00:00:00\",\"2023-02-14T00:00:00\",\"2023-02-14T00:00:00\",\"2023-02-14T00:00:00\",\"2023-02-14T00:00:00\",\"2023-02-14T00:00:00\",\"2023-03-14T00:00:00\",\"2023-03-14T00:00:00\",\"2023-03-14T00:00:00\",\"2023-03-14T00:00:00\",\"2023-03-14T00:00:00\",\"2023-03-14T00:00:00\",\"2023-03-14T00:00:00\",\"2023-03-14T00:00:00\",\"2023-03-14T00:00:00\",\"2023-04-13T00:00:00\",\"2023-04-13T00:00:00\",\"2023-04-13T00:00:00\",\"2023-04-13T00:00:00\",\"2023-04-13T00:00:00\",\"2023-04-13T00:00:00\",\"2023-04-13T00:00:00\",\"2023-04-13T00:00:00\",\"2023-04-13T00:00:00\",\"2023-05-12T00:00:00\",\"2023-05-12T00:00:00\",\"2023-05-12T00:00:00\",\"2023-05-12T00:00:00\",\"2023-05-12T00:00:00\",\"2023-05-12T00:00:00\",\"2023-05-12T00:00:00\",\"2023-05-12T00:00:00\",\"2023-05-12T00:00:00\",\"2023-06-15T00:00:00\",\"2023-06-15T00:00:00\",\"2023-06-15T00:00:00\",\"2023-06-15T00:00:00\",\"2023-06-15T00:00:00\",\"2023-06-15T00:00:00\",\"2023-06-15T00:00:00\",\"2023-06-15T00:00:00\",\"2023-06-15T00:00:00\",\"2023-07-13T00:00:00\",\"2023-07-13T00:00:00\",\"2023-07-13T00:00:00\",\"2023-07-13T00:00:00\",\"2023-07-13T00:00:00\",\"2023-07-13T00:00:00\",\"2023-07-13T00:00:00\",\"2023-08-15T00:00:00\",\"2023-08-15T00:00:00\",\"2023-08-15T00:00:00\",\"2023-08-15T00:00:00\",\"2023-08-15T00:00:00\",\"2023-08-15T00:00:00\",\"2023-08-15T00:00:00\",\"2023-09-14T00:00:00\",\"2023-09-14T00:00:00\",\"2023-09-14T00:00:00\",\"2023-09-14T00:00:00\",\"2023-09-14T00:00:00\",\"2023-09-14T00:00:00\",\"2023-09-14T00:00:00\",\"2023-10-17T00:00:00\",\"2023-10-17T00:00:00\",\"2023-10-17T00:00:00\",\"2023-10-17T00:00:00\",\"2023-10-17T00:00:00\",\"2023-10-17T00:00:00\",\"2023-10-17T00:00:00\",\"2023-10-17T00:00:00\",\"2023-11-14T00:00:00\",\"2023-11-14T00:00:00\",\"2023-11-14T00:00:00\",\"2023-11-14T00:00:00\",\"2023-11-14T00:00:00\",\"2023-11-14T00:00:00\",\"2023-11-14T00:00:00\",\"2023-11-14T00:00:00\",\"2023-12-14T00:00:00\",\"2023-12-14T00:00:00\",\"2023-12-14T00:00:00\",\"2023-12-14T00:00:00\",\"2023-12-14T00:00:00\",\"2023-12-14T00:00:00\",\"2023-12-14T00:00:00\",\"2023-12-14T00:00:00\",\"2023-12-14T00:00:00\",\"2024-01-12T00:00:00\",\"2024-01-12T00:00:00\",\"2024-01-12T00:00:00\",\"2024-01-12T00:00:00\",\"2024-01-12T00:00:00\",\"2024-01-12T00:00:00\",\"2024-01-12T00:00:00\",\"2024-01-12T00:00:00\",\"2024-02-15T00:00:00\",\"2024-02-15T00:00:00\",\"2024-02-15T00:00:00\",\"2024-02-15T00:00:00\",\"2024-02-15T00:00:00\",\"2024-02-15T00:00:00\",\"2024-02-15T00:00:00\",\"2024-02-15T00:00:00\",\"2024-02-15T00:00:00\",\"2024-03-14T00:00:00\",\"2024-03-14T00:00:00\",\"2024-03-14T00:00:00\",\"2024-03-14T00:00:00\",\"2024-03-14T00:00:00\",\"2024-03-14T00:00:00\",\"2024-03-14T00:00:00\",\"2024-03-14T00:00:00\",\"2024-04-12T00:00:00\",\"2024-04-12T00:00:00\",\"2024-04-12T00:00:00\",\"2024-04-12T00:00:00\",\"2024-04-12T00:00:00\",\"2024-04-12T00:00:00\",\"2024-04-12T00:00:00\",\"2024-05-14T00:00:00\",\"2024-05-14T00:00:00\",\"2024-05-14T00:00:00\",\"2024-05-14T00:00:00\",\"2024-05-14T00:00:00\",\"2024-05-14T00:00:00\",\"2024-05-14T00:00:00\",\"2024-06-12T00:00:00\",\"2024-06-12T00:00:00\",\"2024-06-12T00:00:00\",\"2024-06-12T00:00:00\",\"2024-06-12T00:00:00\",\"2024-06-12T00:00:00\",\"2024-06-12T00:00:00\",\"2024-06-12T00:00:00\",\"2024-07-12T00:00:00\",\"2024-07-12T00:00:00\",\"2024-07-12T00:00:00\",\"2024-07-12T00:00:00\",\"2024-07-12T00:00:00\",\"2024-07-12T00:00:00\",\"2024-07-12T00:00:00\",\"2024-07-12T00:00:00\",\"2024-08-14T00:00:00\",\"2024-08-14T00:00:00\",\"2024-08-14T00:00:00\",\"2024-08-14T00:00:00\",\"2024-08-14T00:00:00\",\"2024-08-14T00:00:00\",\"2024-08-14T00:00:00\",\"2024-08-14T00:00:00\"],\"xaxis\":\"x\",\"y\":[121,133,14,4,2,1,145,195,14,4,2,2,186,275,21,5,2,1,229,322,26,12,2,2,1,234,368,33,12,2,1,2,1,252,422,42,19,2,2,1,1,268,461,55,15,2,2,2,281,457,84,17,2,1,2,276,473,99,19,6,1,2,316,511,135,19,10,1,2,311,512,161,26,11,1,1,1,328,506,186,34,12,1,2,336,487,209,32,12,1,3,347,480,216,49,12,1,2,346,469,246,54,13,1,3,353,461,251,58,15,1,3,1,1,361,462,279,83,16,3,4,318,335,156,47,11,3,6,333,340,182,49,8,3,5,1,331,338,184,57,11,3,2,4,1,350,365,211,80,13,2,5,1,348,351,197,82,15,4,5,3,363,345,209,99,29,2,2,5,1,377,339,218,86,30,3,5,1,343,345,240,83,25,4,5,1,374,343,257,102,28,4,5,1,379,326,249,113,44,6,5,1,373,337,250,100,44,7,1,5,1,375,322,242,108,47,9,1,5,1,382,323,231,101,46,9,4,4,1,372,329,242,121,54,5,3,4,1,396,321,225,136,62,6,3,4,1,420,313,229,125,51,8,3,4,1,422,315,248,129,52,13,2,421,303,243,121,41,8,1,415,303,246,124,46,10,2,425,291,250,124,59,10,1,2,399,277,245,132,55,12,1,2,453,276,243,139,55,16,2,2,1,456,272,242,132,67,26,2,1,428,268,238,128,62,23,2,2,1,469,258,240,134,65,29,6,2,474,254,226,116,53,17,2,457,254,223,117,55,16,2,452,255,227,118,57,18,3,1,433,247,224,122,58,19,3,1,452,248,225,121,55,19,3,1],\"yaxis\":\"y\",\"type\":\"bar\"}],                        {\"template\":{\"data\":{\"histogram2dcontour\":[{\"type\":\"histogram2dcontour\",\"colorbar\":{\"outlinewidth\":0,\"ticks\":\"\"},\"colorscale\":[[0.0,\"#0d0887\"],[0.1111111111111111,\"#46039f\"],[0.2222222222222222,\"#7201a8\"],[0.3333333333333333,\"#9c179e\"],[0.4444444444444444,\"#bd3786\"],[0.5555555555555556,\"#d8576b\"],[0.6666666666666666,\"#ed7953\"],[0.7777777777777778,\"#fb9f3a\"],[0.8888888888888888,\"#fdca26\"],[1.0,\"#f0f921\"]]}],\"choropleth\":[{\"type\":\"choropleth\",\"colorbar\":{\"outlinewidth\":0,\"ticks\":\"\"}}],\"histogram2d\":[{\"type\":\"histogram2d\",\"colorbar\":{\"outlinewidth\":0,\"ticks\":\"\"},\"colorscale\":[[0.0,\"#0d0887\"],[0.1111111111111111,\"#46039f\"],[0.2222222222222222,\"#7201a8\"],[0.3333333333333333,\"#9c179e\"],[0.4444444444444444,\"#bd3786\"],[0.5555555555555556,\"#d8576b\"],[0.6666666666666666,\"#ed7953\"],[0.7777777777777778,\"#fb9f3a\"],[0.8888888888888888,\"#fdca26\"],[1.0,\"#f0f921\"]]}],\"heatmap\":[{\"type\":\"heatmap\",\"colorbar\":{\"outlinewidth\":0,\"ticks\":\"\"},\"colorscale\":[[0.0,\"#0d0887\"],[0.1111111111111111,\"#46039f\"],[0.2222222222222222,\"#7201a8\"],[0.3333333333333333,\"#9c179e\"],[0.4444444444444444,\"#bd3786\"],[0.5555555555555556,\"#d8576b\"],[0.6666666666666666,\"#ed7953\"],[0.7777777777777778,\"#fb9f3a\"],[0.8888888888888888,\"#fdca26\"],[1.0,\"#f0f921\"]]}],\"heatmapgl\":[{\"type\":\"heatmapgl\",\"colorbar\":{\"outlinewidth\":0,\"ticks\":\"\"},\"colorscale\":[[0.0,\"#0d0887\"],[0.1111111111111111,\"#46039f\"],[0.2222222222222222,\"#7201a8\"],[0.3333333333333333,\"#9c179e\"],[0.4444444444444444,\"#bd3786\"],[0.5555555555555556,\"#d8576b\"],[0.6666666666666666,\"#ed7953\"],[0.7777777777777778,\"#fb9f3a\"],[0.8888888888888888,\"#fdca26\"],[1.0,\"#f0f921\"]]}],\"contourcarpet\":[{\"type\":\"contourcarpet\",\"colorbar\":{\"outlinewidth\":0,\"ticks\":\"\"}}],\"contour\":[{\"type\":\"contour\",\"colorbar\":{\"outlinewidth\":0,\"ticks\":\"\"},\"colorscale\":[[0.0,\"#0d0887\"],[0.1111111111111111,\"#46039f\"],[0.2222222222222222,\"#7201a8\"],[0.3333333333333333,\"#9c179e\"],[0.4444444444444444,\"#bd3786\"],[0.5555555555555556,\"#d8576b\"],[0.6666666666666666,\"#ed7953\"],[0.7777777777777778,\"#fb9f3a\"],[0.8888888888888888,\"#fdca26\"],[1.0,\"#f0f921\"]]}],\"surface\":[{\"type\":\"surface\",\"colorbar\":{\"outlinewidth\":0,\"ticks\":\"\"},\"colorscale\":[[0.0,\"#0d0887\"],[0.1111111111111111,\"#46039f\"],[0.2222222222222222,\"#7201a8\"],[0.3333333333333333,\"#9c179e\"],[0.4444444444444444,\"#bd3786\"],[0.5555555555555556,\"#d8576b\"],[0.6666666666666666,\"#ed7953\"],[0.7777777777777778,\"#fb9f3a\"],[0.8888888888888888,\"#fdca26\"],[1.0,\"#f0f921\"]]}],\"mesh3d\":[{\"type\":\"mesh3d\",\"colorbar\":{\"outlinewidth\":0,\"ticks\":\"\"}}],\"scatter\":[{\"fillpattern\":{\"fillmode\":\"overlay\",\"size\":10,\"solidity\":0.2},\"type\":\"scatter\"}],\"parcoords\":[{\"type\":\"parcoords\",\"line\":{\"colorbar\":{\"outlinewidth\":0,\"ticks\":\"\"}}}],\"scatterpolargl\":[{\"type\":\"scatterpolargl\",\"marker\":{\"colorbar\":{\"outlinewidth\":0,\"ticks\":\"\"}}}],\"bar\":[{\"error_x\":{\"color\":\"#2a3f5f\"},\"error_y\":{\"color\":\"#2a3f5f\"},\"marker\":{\"line\":{\"color\":\"#E5ECF6\",\"width\":0.5},\"pattern\":{\"fillmode\":\"overlay\",\"size\":10,\"solidity\":0.2}},\"type\":\"bar\"}],\"scattergeo\":[{\"type\":\"scattergeo\",\"marker\":{\"colorbar\":{\"outlinewidth\":0,\"ticks\":\"\"}}}],\"scatterpolar\":[{\"type\":\"scatterpolar\",\"marker\":{\"colorbar\":{\"outlinewidth\":0,\"ticks\":\"\"}}}],\"histogram\":[{\"marker\":{\"pattern\":{\"fillmode\":\"overlay\",\"size\":10,\"solidity\":0.2}},\"type\":\"histogram\"}],\"scattergl\":[{\"type\":\"scattergl\",\"marker\":{\"colorbar\":{\"outlinewidth\":0,\"ticks\":\"\"}}}],\"scatter3d\":[{\"type\":\"scatter3d\",\"line\":{\"colorbar\":{\"outlinewidth\":0,\"ticks\":\"\"}},\"marker\":{\"colorbar\":{\"outlinewidth\":0,\"ticks\":\"\"}}}],\"scattermapbox\":[{\"type\":\"scattermapbox\",\"marker\":{\"colorbar\":{\"outlinewidth\":0,\"ticks\":\"\"}}}],\"scatterternary\":[{\"type\":\"scatterternary\",\"marker\":{\"colorbar\":{\"outlinewidth\":0,\"ticks\":\"\"}}}],\"scattercarpet\":[{\"type\":\"scattercarpet\",\"marker\":{\"colorbar\":{\"outlinewidth\":0,\"ticks\":\"\"}}}],\"carpet\":[{\"aaxis\":{\"endlinecolor\":\"#2a3f5f\",\"gridcolor\":\"white\",\"linecolor\":\"white\",\"minorgridcolor\":\"white\",\"startlinecolor\":\"#2a3f5f\"},\"baxis\":{\"endlinecolor\":\"#2a3f5f\",\"gridcolor\":\"white\",\"linecolor\":\"white\",\"minorgridcolor\":\"white\",\"startlinecolor\":\"#2a3f5f\"},\"type\":\"carpet\"}],\"table\":[{\"cells\":{\"fill\":{\"color\":\"#EBF0F8\"},\"line\":{\"color\":\"white\"}},\"header\":{\"fill\":{\"color\":\"#C8D4E3\"},\"line\":{\"color\":\"white\"}},\"type\":\"table\"}],\"barpolar\":[{\"marker\":{\"line\":{\"color\":\"#E5ECF6\",\"width\":0.5},\"pattern\":{\"fillmode\":\"overlay\",\"size\":10,\"solidity\":0.2}},\"type\":\"barpolar\"}],\"pie\":[{\"automargin\":true,\"type\":\"pie\"}]},\"layout\":{\"autotypenumbers\":\"strict\",\"colorway\":[\"#636efa\",\"#EF553B\",\"#00cc96\",\"#ab63fa\",\"#FFA15A\",\"#19d3f3\",\"#FF6692\",\"#B6E880\",\"#FF97FF\",\"#FECB52\"],\"font\":{\"color\":\"#2a3f5f\"},\"hovermode\":\"closest\",\"hoverlabel\":{\"align\":\"left\"},\"paper_bgcolor\":\"white\",\"plot_bgcolor\":\"#E5ECF6\",\"polar\":{\"bgcolor\":\"#E5ECF6\",\"angularaxis\":{\"gridcolor\":\"white\",\"linecolor\":\"white\",\"ticks\":\"\"},\"radialaxis\":{\"gridcolor\":\"white\",\"linecolor\":\"white\",\"ticks\":\"\"}},\"ternary\":{\"bgcolor\":\"#E5ECF6\",\"aaxis\":{\"gridcolor\":\"white\",\"linecolor\":\"white\",\"ticks\":\"\"},\"baxis\":{\"gridcolor\":\"white\",\"linecolor\":\"white\",\"ticks\":\"\"},\"caxis\":{\"gridcolor\":\"white\",\"linecolor\":\"white\",\"ticks\":\"\"}},\"coloraxis\":{\"colorbar\":{\"outlinewidth\":0,\"ticks\":\"\"}},\"colorscale\":{\"sequential\":[[0.0,\"#0d0887\"],[0.1111111111111111,\"#46039f\"],[0.2222222222222222,\"#7201a8\"],[0.3333333333333333,\"#9c179e\"],[0.4444444444444444,\"#bd3786\"],[0.5555555555555556,\"#d8576b\"],[0.6666666666666666,\"#ed7953\"],[0.7777777777777778,\"#fb9f3a\"],[0.8888888888888888,\"#fdca26\"],[1.0,\"#f0f921\"]],\"sequentialminus\":[[0.0,\"#0d0887\"],[0.1111111111111111,\"#46039f\"],[0.2222222222222222,\"#7201a8\"],[0.3333333333333333,\"#9c179e\"],[0.4444444444444444,\"#bd3786\"],[0.5555555555555556,\"#d8576b\"],[0.6666666666666666,\"#ed7953\"],[0.7777777777777778,\"#fb9f3a\"],[0.8888888888888888,\"#fdca26\"],[1.0,\"#f0f921\"]],\"diverging\":[[0,\"#8e0152\"],[0.1,\"#c51b7d\"],[0.2,\"#de77ae\"],[0.3,\"#f1b6da\"],[0.4,\"#fde0ef\"],[0.5,\"#f7f7f7\"],[0.6,\"#e6f5d0\"],[0.7,\"#b8e186\"],[0.8,\"#7fbc41\"],[0.9,\"#4d9221\"],[1,\"#276419\"]]},\"xaxis\":{\"gridcolor\":\"white\",\"linecolor\":\"white\",\"ticks\":\"\",\"title\":{\"standoff\":15},\"zerolinecolor\":\"white\",\"automargin\":true,\"zerolinewidth\":2},\"yaxis\":{\"gridcolor\":\"white\",\"linecolor\":\"white\",\"ticks\":\"\",\"title\":{\"standoff\":15},\"zerolinecolor\":\"white\",\"automargin\":true,\"zerolinewidth\":2},\"scene\":{\"xaxis\":{\"backgroundcolor\":\"#E5ECF6\",\"gridcolor\":\"white\",\"linecolor\":\"white\",\"showbackground\":true,\"ticks\":\"\",\"zerolinecolor\":\"white\",\"gridwidth\":2},\"yaxis\":{\"backgroundcolor\":\"#E5ECF6\",\"gridcolor\":\"white\",\"linecolor\":\"white\",\"showbackground\":true,\"ticks\":\"\",\"zerolinecolor\":\"white\",\"gridwidth\":2},\"zaxis\":{\"backgroundcolor\":\"#E5ECF6\",\"gridcolor\":\"white\",\"linecolor\":\"white\",\"showbackground\":true,\"ticks\":\"\",\"zerolinecolor\":\"white\",\"gridwidth\":2}},\"shapedefaults\":{\"line\":{\"color\":\"#2a3f5f\"}},\"annotationdefaults\":{\"arrowcolor\":\"#2a3f5f\",\"arrowhead\":0,\"arrowwidth\":1},\"geo\":{\"bgcolor\":\"white\",\"landcolor\":\"#E5ECF6\",\"subunitcolor\":\"white\",\"showland\":true,\"showlakes\":true,\"lakecolor\":\"white\"},\"title\":{\"x\":0.05},\"mapbox\":{\"style\":\"light\"}}},\"xaxis\":{\"anchor\":\"y\",\"domain\":[0.0,1.0],\"title\":{\"text\":\"Data da assembleia\"}},\"yaxis\":{\"anchor\":\"x\",\"domain\":[0.0,1.0],\"title\":{\"text\":\"N\\u00famero de cotas\"}},\"coloraxis\":{\"colorbar\":{\"title\":{\"text\":\"Vers\\u00e3o\"}},\"colorscale\":[[0.0,\"#0d0887\"],[0.1111111111111111,\"#46039f\"],[0.2222222222222222,\"#7201a8\"],[0.3333333333333333,\"#9c179e\"],[0.4444444444444444,\"#bd3786\"],[0.5555555555555556,\"#d8576b\"],[0.6666666666666666,\"#ed7953\"],[0.7777777777777778,\"#fb9f3a\"],[0.8888888888888888,\"#fdca26\"],[1.0,\"#f0f921\"]]},\"legend\":{\"tracegroupgap\":0},\"title\":{\"text\":\"N\\u00famero de cotas por vers\\u00e3o\"},\"barmode\":\"relative\"},                        {\"responsive\": true}                    ).then(function(){\n",
       "                            \n",
       "var gd = document.getElementById('99ed790c-2f17-4493-a156-30267ab9fd89');\n",
       "var x = new MutationObserver(function (mutations, observer) {{\n",
       "        var display = window.getComputedStyle(gd).display;\n",
       "        if (!display || display === 'none') {{\n",
       "            console.log([gd, 'removed!']);\n",
       "            Plotly.purge(gd);\n",
       "            observer.disconnect();\n",
       "        }}\n",
       "}});\n",
       "\n",
       "// Listen for the removal of the full notebook cells\n",
       "var notebookContainer = gd.closest('#notebook-container');\n",
       "if (notebookContainer) {{\n",
       "    x.observe(notebookContainer, {childList: true});\n",
       "}}\n",
       "\n",
       "// Listen for the clearing of the current output cell\n",
       "var outputEl = gd.closest('.output');\n",
       "if (outputEl) {{\n",
       "    x.observe(outputEl, {childList: true});\n",
       "}}\n",
       "\n",
       "                        })                };                });            </script>        </div>"
      ]
     },
     "metadata": {},
     "output_type": "display_data"
    }
   ],
   "source": [
    "fig = px.bar(\n",
    "    df.groupby([\"data_assembleia\", \"versao\"]).count().reset_index(),\n",
    "    x=\"data_assembleia\",\n",
    "    y=\"cota\",\n",
    "    color=\"versao\",\n",
    "    labels={\n",
    "        \"data_assembleia\": \"Data da assembleia\",\n",
    "        \"versao\": \"Versão\",\n",
    "        \"cota\": \"Número de cotas\",\n",
    "    },\n",
    "    title=f\"Número de cotas por versão\",\n",
    ")\n",
    "fig.show()"
   ]
  },
  {
   "cell_type": "markdown",
   "metadata": {},
   "source": [
    "## Número de Contemplações  "
   ]
  },
  {
   "cell_type": "code",
   "execution_count": 79,
   "metadata": {},
   "outputs": [],
   "source": [
    "df[\"total_contemplados\"] = df[\"contemplado\"].cumsum()"
   ]
  },
  {
   "cell_type": "code",
   "execution_count": 80,
   "metadata": {},
   "outputs": [],
   "source": [
    "df_linear = df[[\"data_assembleia\"]].drop_duplicates()\n",
    "df_linear[\"lin_contemplacoes\"] = 650 / 219\n",
    "df_linear[\"tot_lin\"] = df_linear[\"lin_contemplacoes\"].cumsum()\n",
    "# df_linear"
   ]
  },
  {
   "cell_type": "code",
   "execution_count": 81,
   "metadata": {},
   "outputs": [
    {
     "data": {
      "application/vnd.plotly.v1+json": {
       "config": {
        "plotlyServerURL": "https://plot.ly"
       },
       "data": [
        {
         "hovertemplate": "Data da assembleia=%{x}<br>Número de contemplações=%{y}<extra></extra>",
         "legendgroup": "",
         "line": {
          "color": "#636efa",
          "dash": "solid"
         },
         "marker": {
          "symbol": "circle"
         },
         "mode": "lines",
         "name": "",
         "orientation": "v",
         "showlegend": false,
         "type": "scatter",
         "x": [
          "2020-10-15T00:00:00",
          "2020-11-12T00:00:00",
          "2020-12-14T00:00:00",
          "2021-01-14T00:00:00",
          "2021-02-12T00:00:00",
          "2021-03-12T00:00:00",
          "2021-04-14T00:00:00",
          "2021-05-13T00:00:00",
          "2021-06-14T00:00:00",
          "2021-07-15T00:00:00",
          "2021-08-12T00:00:00",
          "2021-09-14T00:00:00",
          "2021-10-15T00:00:00",
          "2021-11-12T00:00:00",
          "2021-12-14T00:00:00",
          "2022-01-13T00:00:00",
          "2022-02-15T00:00:00",
          "2022-03-15T00:00:00",
          "2022-04-14T00:00:00",
          "2022-05-12T00:00:00",
          "2022-06-15T00:00:00",
          "2022-07-14T00:00:00",
          "2022-08-12T00:00:00",
          "2022-09-15T00:00:00",
          "2022-10-13T00:00:00",
          "2022-11-14T00:00:00",
          "2022-12-15T00:00:00",
          "2023-01-12T00:00:00",
          "2023-02-14T00:00:00",
          "2023-03-14T00:00:00",
          "2023-04-13T00:00:00",
          "2023-05-12T00:00:00",
          "2023-06-15T00:00:00",
          "2023-07-13T00:00:00",
          "2023-08-15T00:00:00",
          "2023-09-14T00:00:00",
          "2023-10-17T00:00:00",
          "2023-11-14T00:00:00",
          "2023-12-14T00:00:00",
          "2024-01-12T00:00:00",
          "2024-02-15T00:00:00",
          "2024-03-14T00:00:00",
          "2024-04-12T00:00:00",
          "2024-05-14T00:00:00",
          "2024-06-12T00:00:00",
          "2024-07-12T00:00:00",
          "2024-08-14T00:00:00"
         ],
         "xaxis": "x",
         "y": [
          2,
          3,
          7,
          12,
          15,
          17,
          21,
          22,
          23,
          25,
          26,
          28,
          30,
          33,
          34,
          37,
          41,
          46,
          47,
          51,
          56,
          63,
          68,
          94,
          96,
          102,
          105,
          109,
          110,
          113,
          114,
          115,
          116,
          117,
          120,
          123,
          127,
          137,
          142,
          146,
          153,
          165,
          168,
          171,
          174,
          178,
          183
         ],
         "yaxis": "y"
        },
        {
         "mode": "lines",
         "name": "Se fossem distribuídas linearmente",
         "type": "scatter",
         "x": [
          "2020-10-15T00:00:00",
          "2020-11-12T00:00:00",
          "2020-12-14T00:00:00",
          "2021-01-14T00:00:00",
          "2021-02-12T00:00:00",
          "2021-03-12T00:00:00",
          "2021-04-14T00:00:00",
          "2021-05-13T00:00:00",
          "2021-06-14T00:00:00",
          "2021-07-15T00:00:00",
          "2021-08-12T00:00:00",
          "2021-09-14T00:00:00",
          "2021-10-15T00:00:00",
          "2021-11-12T00:00:00",
          "2021-12-14T00:00:00",
          "2022-01-13T00:00:00",
          "2022-02-15T00:00:00",
          "2022-03-15T00:00:00",
          "2022-04-14T00:00:00",
          "2022-05-12T00:00:00",
          "2022-06-15T00:00:00",
          "2022-07-14T00:00:00",
          "2022-08-12T00:00:00",
          "2022-09-15T00:00:00",
          "2022-10-13T00:00:00",
          "2022-11-14T00:00:00",
          "2022-12-15T00:00:00",
          "2023-01-12T00:00:00",
          "2023-02-14T00:00:00",
          "2023-03-14T00:00:00",
          "2023-04-13T00:00:00",
          "2023-05-12T00:00:00",
          "2023-06-15T00:00:00",
          "2023-07-13T00:00:00",
          "2023-08-15T00:00:00",
          "2023-09-14T00:00:00",
          "2023-10-17T00:00:00",
          "2023-11-14T00:00:00",
          "2023-12-14T00:00:00",
          "2024-01-12T00:00:00",
          "2024-02-15T00:00:00",
          "2024-03-14T00:00:00",
          "2024-04-12T00:00:00",
          "2024-05-14T00:00:00",
          "2024-06-12T00:00:00",
          "2024-07-12T00:00:00",
          "2024-08-14T00:00:00"
         ],
         "y": [
          2.9680365296803655,
          5.936073059360731,
          8.904109589041097,
          11.872146118721462,
          14.840182648401827,
          17.808219178082194,
          20.77625570776256,
          23.744292237442924,
          26.71232876712329,
          29.680365296803654,
          32.64840182648402,
          35.61643835616439,
          38.584474885844756,
          41.552511415525125,
          44.52054794520549,
          47.48858447488586,
          50.45662100456623,
          53.4246575342466,
          56.39269406392697,
          59.360730593607336,
          62.328767123287705,
          65.29680365296807,
          68.26484018264843,
          71.23287671232879,
          74.20091324200915,
          77.16894977168951,
          80.13698630136987,
          83.10502283105023,
          86.0730593607306,
          89.04109589041096,
          92.00913242009132,
          94.97716894977168,
          97.94520547945204,
          100.9132420091324,
          103.88127853881277,
          106.84931506849313,
          109.81735159817349,
          112.78538812785385,
          115.75342465753421,
          118.72146118721457,
          121.68949771689493,
          124.6575342465753,
          127.62557077625566,
          130.59360730593602,
          133.5616438356164,
          136.52968036529677,
          139.49771689497715
         ]
        }
       ],
       "layout": {
        "annotations": [
         {
          "showarrow": false,
          "text": "Total de cotas",
          "x": 1,
          "xanchor": "right",
          "xref": "x domain",
          "y": 650,
          "yanchor": "top",
          "yref": "y"
         }
        ],
        "legend": {
         "tracegroupgap": 0
        },
        "shapes": [
         {
          "line": {
           "dash": "dot"
          },
          "type": "line",
          "x0": 0,
          "x1": 1,
          "xref": "x domain",
          "y0": 650,
          "y1": 650,
          "yref": "y"
         }
        ],
        "template": {
         "data": {
          "bar": [
           {
            "error_x": {
             "color": "#2a3f5f"
            },
            "error_y": {
             "color": "#2a3f5f"
            },
            "marker": {
             "line": {
              "color": "#E5ECF6",
              "width": 0.5
             },
             "pattern": {
              "fillmode": "overlay",
              "size": 10,
              "solidity": 0.2
             }
            },
            "type": "bar"
           }
          ],
          "barpolar": [
           {
            "marker": {
             "line": {
              "color": "#E5ECF6",
              "width": 0.5
             },
             "pattern": {
              "fillmode": "overlay",
              "size": 10,
              "solidity": 0.2
             }
            },
            "type": "barpolar"
           }
          ],
          "carpet": [
           {
            "aaxis": {
             "endlinecolor": "#2a3f5f",
             "gridcolor": "white",
             "linecolor": "white",
             "minorgridcolor": "white",
             "startlinecolor": "#2a3f5f"
            },
            "baxis": {
             "endlinecolor": "#2a3f5f",
             "gridcolor": "white",
             "linecolor": "white",
             "minorgridcolor": "white",
             "startlinecolor": "#2a3f5f"
            },
            "type": "carpet"
           }
          ],
          "choropleth": [
           {
            "colorbar": {
             "outlinewidth": 0,
             "ticks": ""
            },
            "type": "choropleth"
           }
          ],
          "contour": [
           {
            "colorbar": {
             "outlinewidth": 0,
             "ticks": ""
            },
            "colorscale": [
             [
              0,
              "#0d0887"
             ],
             [
              0.1111111111111111,
              "#46039f"
             ],
             [
              0.2222222222222222,
              "#7201a8"
             ],
             [
              0.3333333333333333,
              "#9c179e"
             ],
             [
              0.4444444444444444,
              "#bd3786"
             ],
             [
              0.5555555555555556,
              "#d8576b"
             ],
             [
              0.6666666666666666,
              "#ed7953"
             ],
             [
              0.7777777777777778,
              "#fb9f3a"
             ],
             [
              0.8888888888888888,
              "#fdca26"
             ],
             [
              1,
              "#f0f921"
             ]
            ],
            "type": "contour"
           }
          ],
          "contourcarpet": [
           {
            "colorbar": {
             "outlinewidth": 0,
             "ticks": ""
            },
            "type": "contourcarpet"
           }
          ],
          "heatmap": [
           {
            "colorbar": {
             "outlinewidth": 0,
             "ticks": ""
            },
            "colorscale": [
             [
              0,
              "#0d0887"
             ],
             [
              0.1111111111111111,
              "#46039f"
             ],
             [
              0.2222222222222222,
              "#7201a8"
             ],
             [
              0.3333333333333333,
              "#9c179e"
             ],
             [
              0.4444444444444444,
              "#bd3786"
             ],
             [
              0.5555555555555556,
              "#d8576b"
             ],
             [
              0.6666666666666666,
              "#ed7953"
             ],
             [
              0.7777777777777778,
              "#fb9f3a"
             ],
             [
              0.8888888888888888,
              "#fdca26"
             ],
             [
              1,
              "#f0f921"
             ]
            ],
            "type": "heatmap"
           }
          ],
          "heatmapgl": [
           {
            "colorbar": {
             "outlinewidth": 0,
             "ticks": ""
            },
            "colorscale": [
             [
              0,
              "#0d0887"
             ],
             [
              0.1111111111111111,
              "#46039f"
             ],
             [
              0.2222222222222222,
              "#7201a8"
             ],
             [
              0.3333333333333333,
              "#9c179e"
             ],
             [
              0.4444444444444444,
              "#bd3786"
             ],
             [
              0.5555555555555556,
              "#d8576b"
             ],
             [
              0.6666666666666666,
              "#ed7953"
             ],
             [
              0.7777777777777778,
              "#fb9f3a"
             ],
             [
              0.8888888888888888,
              "#fdca26"
             ],
             [
              1,
              "#f0f921"
             ]
            ],
            "type": "heatmapgl"
           }
          ],
          "histogram": [
           {
            "marker": {
             "pattern": {
              "fillmode": "overlay",
              "size": 10,
              "solidity": 0.2
             }
            },
            "type": "histogram"
           }
          ],
          "histogram2d": [
           {
            "colorbar": {
             "outlinewidth": 0,
             "ticks": ""
            },
            "colorscale": [
             [
              0,
              "#0d0887"
             ],
             [
              0.1111111111111111,
              "#46039f"
             ],
             [
              0.2222222222222222,
              "#7201a8"
             ],
             [
              0.3333333333333333,
              "#9c179e"
             ],
             [
              0.4444444444444444,
              "#bd3786"
             ],
             [
              0.5555555555555556,
              "#d8576b"
             ],
             [
              0.6666666666666666,
              "#ed7953"
             ],
             [
              0.7777777777777778,
              "#fb9f3a"
             ],
             [
              0.8888888888888888,
              "#fdca26"
             ],
             [
              1,
              "#f0f921"
             ]
            ],
            "type": "histogram2d"
           }
          ],
          "histogram2dcontour": [
           {
            "colorbar": {
             "outlinewidth": 0,
             "ticks": ""
            },
            "colorscale": [
             [
              0,
              "#0d0887"
             ],
             [
              0.1111111111111111,
              "#46039f"
             ],
             [
              0.2222222222222222,
              "#7201a8"
             ],
             [
              0.3333333333333333,
              "#9c179e"
             ],
             [
              0.4444444444444444,
              "#bd3786"
             ],
             [
              0.5555555555555556,
              "#d8576b"
             ],
             [
              0.6666666666666666,
              "#ed7953"
             ],
             [
              0.7777777777777778,
              "#fb9f3a"
             ],
             [
              0.8888888888888888,
              "#fdca26"
             ],
             [
              1,
              "#f0f921"
             ]
            ],
            "type": "histogram2dcontour"
           }
          ],
          "mesh3d": [
           {
            "colorbar": {
             "outlinewidth": 0,
             "ticks": ""
            },
            "type": "mesh3d"
           }
          ],
          "parcoords": [
           {
            "line": {
             "colorbar": {
              "outlinewidth": 0,
              "ticks": ""
             }
            },
            "type": "parcoords"
           }
          ],
          "pie": [
           {
            "automargin": true,
            "type": "pie"
           }
          ],
          "scatter": [
           {
            "fillpattern": {
             "fillmode": "overlay",
             "size": 10,
             "solidity": 0.2
            },
            "type": "scatter"
           }
          ],
          "scatter3d": [
           {
            "line": {
             "colorbar": {
              "outlinewidth": 0,
              "ticks": ""
             }
            },
            "marker": {
             "colorbar": {
              "outlinewidth": 0,
              "ticks": ""
             }
            },
            "type": "scatter3d"
           }
          ],
          "scattercarpet": [
           {
            "marker": {
             "colorbar": {
              "outlinewidth": 0,
              "ticks": ""
             }
            },
            "type": "scattercarpet"
           }
          ],
          "scattergeo": [
           {
            "marker": {
             "colorbar": {
              "outlinewidth": 0,
              "ticks": ""
             }
            },
            "type": "scattergeo"
           }
          ],
          "scattergl": [
           {
            "marker": {
             "colorbar": {
              "outlinewidth": 0,
              "ticks": ""
             }
            },
            "type": "scattergl"
           }
          ],
          "scattermapbox": [
           {
            "marker": {
             "colorbar": {
              "outlinewidth": 0,
              "ticks": ""
             }
            },
            "type": "scattermapbox"
           }
          ],
          "scatterpolar": [
           {
            "marker": {
             "colorbar": {
              "outlinewidth": 0,
              "ticks": ""
             }
            },
            "type": "scatterpolar"
           }
          ],
          "scatterpolargl": [
           {
            "marker": {
             "colorbar": {
              "outlinewidth": 0,
              "ticks": ""
             }
            },
            "type": "scatterpolargl"
           }
          ],
          "scatterternary": [
           {
            "marker": {
             "colorbar": {
              "outlinewidth": 0,
              "ticks": ""
             }
            },
            "type": "scatterternary"
           }
          ],
          "surface": [
           {
            "colorbar": {
             "outlinewidth": 0,
             "ticks": ""
            },
            "colorscale": [
             [
              0,
              "#0d0887"
             ],
             [
              0.1111111111111111,
              "#46039f"
             ],
             [
              0.2222222222222222,
              "#7201a8"
             ],
             [
              0.3333333333333333,
              "#9c179e"
             ],
             [
              0.4444444444444444,
              "#bd3786"
             ],
             [
              0.5555555555555556,
              "#d8576b"
             ],
             [
              0.6666666666666666,
              "#ed7953"
             ],
             [
              0.7777777777777778,
              "#fb9f3a"
             ],
             [
              0.8888888888888888,
              "#fdca26"
             ],
             [
              1,
              "#f0f921"
             ]
            ],
            "type": "surface"
           }
          ],
          "table": [
           {
            "cells": {
             "fill": {
              "color": "#EBF0F8"
             },
             "line": {
              "color": "white"
             }
            },
            "header": {
             "fill": {
              "color": "#C8D4E3"
             },
             "line": {
              "color": "white"
             }
            },
            "type": "table"
           }
          ]
         },
         "layout": {
          "annotationdefaults": {
           "arrowcolor": "#2a3f5f",
           "arrowhead": 0,
           "arrowwidth": 1
          },
          "autotypenumbers": "strict",
          "coloraxis": {
           "colorbar": {
            "outlinewidth": 0,
            "ticks": ""
           }
          },
          "colorscale": {
           "diverging": [
            [
             0,
             "#8e0152"
            ],
            [
             0.1,
             "#c51b7d"
            ],
            [
             0.2,
             "#de77ae"
            ],
            [
             0.3,
             "#f1b6da"
            ],
            [
             0.4,
             "#fde0ef"
            ],
            [
             0.5,
             "#f7f7f7"
            ],
            [
             0.6,
             "#e6f5d0"
            ],
            [
             0.7,
             "#b8e186"
            ],
            [
             0.8,
             "#7fbc41"
            ],
            [
             0.9,
             "#4d9221"
            ],
            [
             1,
             "#276419"
            ]
           ],
           "sequential": [
            [
             0,
             "#0d0887"
            ],
            [
             0.1111111111111111,
             "#46039f"
            ],
            [
             0.2222222222222222,
             "#7201a8"
            ],
            [
             0.3333333333333333,
             "#9c179e"
            ],
            [
             0.4444444444444444,
             "#bd3786"
            ],
            [
             0.5555555555555556,
             "#d8576b"
            ],
            [
             0.6666666666666666,
             "#ed7953"
            ],
            [
             0.7777777777777778,
             "#fb9f3a"
            ],
            [
             0.8888888888888888,
             "#fdca26"
            ],
            [
             1,
             "#f0f921"
            ]
           ],
           "sequentialminus": [
            [
             0,
             "#0d0887"
            ],
            [
             0.1111111111111111,
             "#46039f"
            ],
            [
             0.2222222222222222,
             "#7201a8"
            ],
            [
             0.3333333333333333,
             "#9c179e"
            ],
            [
             0.4444444444444444,
             "#bd3786"
            ],
            [
             0.5555555555555556,
             "#d8576b"
            ],
            [
             0.6666666666666666,
             "#ed7953"
            ],
            [
             0.7777777777777778,
             "#fb9f3a"
            ],
            [
             0.8888888888888888,
             "#fdca26"
            ],
            [
             1,
             "#f0f921"
            ]
           ]
          },
          "colorway": [
           "#636efa",
           "#EF553B",
           "#00cc96",
           "#ab63fa",
           "#FFA15A",
           "#19d3f3",
           "#FF6692",
           "#B6E880",
           "#FF97FF",
           "#FECB52"
          ],
          "font": {
           "color": "#2a3f5f"
          },
          "geo": {
           "bgcolor": "white",
           "lakecolor": "white",
           "landcolor": "#E5ECF6",
           "showlakes": true,
           "showland": true,
           "subunitcolor": "white"
          },
          "hoverlabel": {
           "align": "left"
          },
          "hovermode": "closest",
          "mapbox": {
           "style": "light"
          },
          "paper_bgcolor": "white",
          "plot_bgcolor": "#E5ECF6",
          "polar": {
           "angularaxis": {
            "gridcolor": "white",
            "linecolor": "white",
            "ticks": ""
           },
           "bgcolor": "#E5ECF6",
           "radialaxis": {
            "gridcolor": "white",
            "linecolor": "white",
            "ticks": ""
           }
          },
          "scene": {
           "xaxis": {
            "backgroundcolor": "#E5ECF6",
            "gridcolor": "white",
            "gridwidth": 2,
            "linecolor": "white",
            "showbackground": true,
            "ticks": "",
            "zerolinecolor": "white"
           },
           "yaxis": {
            "backgroundcolor": "#E5ECF6",
            "gridcolor": "white",
            "gridwidth": 2,
            "linecolor": "white",
            "showbackground": true,
            "ticks": "",
            "zerolinecolor": "white"
           },
           "zaxis": {
            "backgroundcolor": "#E5ECF6",
            "gridcolor": "white",
            "gridwidth": 2,
            "linecolor": "white",
            "showbackground": true,
            "ticks": "",
            "zerolinecolor": "white"
           }
          },
          "shapedefaults": {
           "line": {
            "color": "#2a3f5f"
           }
          },
          "ternary": {
           "aaxis": {
            "gridcolor": "white",
            "linecolor": "white",
            "ticks": ""
           },
           "baxis": {
            "gridcolor": "white",
            "linecolor": "white",
            "ticks": ""
           },
           "bgcolor": "#E5ECF6",
           "caxis": {
            "gridcolor": "white",
            "linecolor": "white",
            "ticks": ""
           }
          },
          "title": {
           "x": 0.05
          },
          "xaxis": {
           "automargin": true,
           "gridcolor": "white",
           "linecolor": "white",
           "ticks": "",
           "title": {
            "standoff": 15
           },
           "zerolinecolor": "white",
           "zerolinewidth": 2
          },
          "yaxis": {
           "automargin": true,
           "gridcolor": "white",
           "linecolor": "white",
           "ticks": "",
           "title": {
            "standoff": 15
           },
           "zerolinecolor": "white",
           "zerolinewidth": 2
          }
         }
        },
        "title": {
         "text": "Total de Contemplações"
        },
        "xaxis": {
         "anchor": "y",
         "domain": [
          0,
          1
         ],
         "title": {
          "text": "Data da assembleia"
         }
        },
        "yaxis": {
         "anchor": "x",
         "domain": [
          0,
          1
         ],
         "title": {
          "text": "Número de contemplações"
         }
        }
       }
      },
      "text/html": [
       "<div>                            <div id=\"95b2f39f-7303-469b-9f5f-79e8c294aae1\" class=\"plotly-graph-div\" style=\"height:525px; width:100%;\"></div>            <script type=\"text/javascript\">                require([\"plotly\"], function(Plotly) {                    window.PLOTLYENV=window.PLOTLYENV || {};                                    if (document.getElementById(\"95b2f39f-7303-469b-9f5f-79e8c294aae1\")) {                    Plotly.newPlot(                        \"95b2f39f-7303-469b-9f5f-79e8c294aae1\",                        [{\"hovertemplate\":\"Data da assembleia=%{x}\\u003cbr\\u003eN\\u00famero de contempla\\u00e7\\u00f5es=%{y}\\u003cextra\\u003e\\u003c\\u002fextra\\u003e\",\"legendgroup\":\"\",\"line\":{\"color\":\"#636efa\",\"dash\":\"solid\"},\"marker\":{\"symbol\":\"circle\"},\"mode\":\"lines\",\"name\":\"\",\"orientation\":\"v\",\"showlegend\":false,\"x\":[\"2020-10-15T00:00:00\",\"2020-11-12T00:00:00\",\"2020-12-14T00:00:00\",\"2021-01-14T00:00:00\",\"2021-02-12T00:00:00\",\"2021-03-12T00:00:00\",\"2021-04-14T00:00:00\",\"2021-05-13T00:00:00\",\"2021-06-14T00:00:00\",\"2021-07-15T00:00:00\",\"2021-08-12T00:00:00\",\"2021-09-14T00:00:00\",\"2021-10-15T00:00:00\",\"2021-11-12T00:00:00\",\"2021-12-14T00:00:00\",\"2022-01-13T00:00:00\",\"2022-02-15T00:00:00\",\"2022-03-15T00:00:00\",\"2022-04-14T00:00:00\",\"2022-05-12T00:00:00\",\"2022-06-15T00:00:00\",\"2022-07-14T00:00:00\",\"2022-08-12T00:00:00\",\"2022-09-15T00:00:00\",\"2022-10-13T00:00:00\",\"2022-11-14T00:00:00\",\"2022-12-15T00:00:00\",\"2023-01-12T00:00:00\",\"2023-02-14T00:00:00\",\"2023-03-14T00:00:00\",\"2023-04-13T00:00:00\",\"2023-05-12T00:00:00\",\"2023-06-15T00:00:00\",\"2023-07-13T00:00:00\",\"2023-08-15T00:00:00\",\"2023-09-14T00:00:00\",\"2023-10-17T00:00:00\",\"2023-11-14T00:00:00\",\"2023-12-14T00:00:00\",\"2024-01-12T00:00:00\",\"2024-02-15T00:00:00\",\"2024-03-14T00:00:00\",\"2024-04-12T00:00:00\",\"2024-05-14T00:00:00\",\"2024-06-12T00:00:00\",\"2024-07-12T00:00:00\",\"2024-08-14T00:00:00\"],\"xaxis\":\"x\",\"y\":[2,3,7,12,15,17,21,22,23,25,26,28,30,33,34,37,41,46,47,51,56,63,68,94,96,102,105,109,110,113,114,115,116,117,120,123,127,137,142,146,153,165,168,171,174,178,183],\"yaxis\":\"y\",\"type\":\"scatter\"},{\"mode\":\"lines\",\"name\":\"Se fossem distribu\\u00eddas linearmente\",\"x\":[\"2020-10-15T00:00:00\",\"2020-11-12T00:00:00\",\"2020-12-14T00:00:00\",\"2021-01-14T00:00:00\",\"2021-02-12T00:00:00\",\"2021-03-12T00:00:00\",\"2021-04-14T00:00:00\",\"2021-05-13T00:00:00\",\"2021-06-14T00:00:00\",\"2021-07-15T00:00:00\",\"2021-08-12T00:00:00\",\"2021-09-14T00:00:00\",\"2021-10-15T00:00:00\",\"2021-11-12T00:00:00\",\"2021-12-14T00:00:00\",\"2022-01-13T00:00:00\",\"2022-02-15T00:00:00\",\"2022-03-15T00:00:00\",\"2022-04-14T00:00:00\",\"2022-05-12T00:00:00\",\"2022-06-15T00:00:00\",\"2022-07-14T00:00:00\",\"2022-08-12T00:00:00\",\"2022-09-15T00:00:00\",\"2022-10-13T00:00:00\",\"2022-11-14T00:00:00\",\"2022-12-15T00:00:00\",\"2023-01-12T00:00:00\",\"2023-02-14T00:00:00\",\"2023-03-14T00:00:00\",\"2023-04-13T00:00:00\",\"2023-05-12T00:00:00\",\"2023-06-15T00:00:00\",\"2023-07-13T00:00:00\",\"2023-08-15T00:00:00\",\"2023-09-14T00:00:00\",\"2023-10-17T00:00:00\",\"2023-11-14T00:00:00\",\"2023-12-14T00:00:00\",\"2024-01-12T00:00:00\",\"2024-02-15T00:00:00\",\"2024-03-14T00:00:00\",\"2024-04-12T00:00:00\",\"2024-05-14T00:00:00\",\"2024-06-12T00:00:00\",\"2024-07-12T00:00:00\",\"2024-08-14T00:00:00\"],\"y\":[2.9680365296803655,5.936073059360731,8.904109589041097,11.872146118721462,14.840182648401827,17.808219178082194,20.77625570776256,23.744292237442924,26.71232876712329,29.680365296803654,32.64840182648402,35.61643835616439,38.584474885844756,41.552511415525125,44.52054794520549,47.48858447488586,50.45662100456623,53.4246575342466,56.39269406392697,59.360730593607336,62.328767123287705,65.29680365296807,68.26484018264843,71.23287671232879,74.20091324200915,77.16894977168951,80.13698630136987,83.10502283105023,86.0730593607306,89.04109589041096,92.00913242009132,94.97716894977168,97.94520547945204,100.9132420091324,103.88127853881277,106.84931506849313,109.81735159817349,112.78538812785385,115.75342465753421,118.72146118721457,121.68949771689493,124.6575342465753,127.62557077625566,130.59360730593602,133.5616438356164,136.52968036529677,139.49771689497715],\"type\":\"scatter\"}],                        {\"template\":{\"data\":{\"histogram2dcontour\":[{\"type\":\"histogram2dcontour\",\"colorbar\":{\"outlinewidth\":0,\"ticks\":\"\"},\"colorscale\":[[0.0,\"#0d0887\"],[0.1111111111111111,\"#46039f\"],[0.2222222222222222,\"#7201a8\"],[0.3333333333333333,\"#9c179e\"],[0.4444444444444444,\"#bd3786\"],[0.5555555555555556,\"#d8576b\"],[0.6666666666666666,\"#ed7953\"],[0.7777777777777778,\"#fb9f3a\"],[0.8888888888888888,\"#fdca26\"],[1.0,\"#f0f921\"]]}],\"choropleth\":[{\"type\":\"choropleth\",\"colorbar\":{\"outlinewidth\":0,\"ticks\":\"\"}}],\"histogram2d\":[{\"type\":\"histogram2d\",\"colorbar\":{\"outlinewidth\":0,\"ticks\":\"\"},\"colorscale\":[[0.0,\"#0d0887\"],[0.1111111111111111,\"#46039f\"],[0.2222222222222222,\"#7201a8\"],[0.3333333333333333,\"#9c179e\"],[0.4444444444444444,\"#bd3786\"],[0.5555555555555556,\"#d8576b\"],[0.6666666666666666,\"#ed7953\"],[0.7777777777777778,\"#fb9f3a\"],[0.8888888888888888,\"#fdca26\"],[1.0,\"#f0f921\"]]}],\"heatmap\":[{\"type\":\"heatmap\",\"colorbar\":{\"outlinewidth\":0,\"ticks\":\"\"},\"colorscale\":[[0.0,\"#0d0887\"],[0.1111111111111111,\"#46039f\"],[0.2222222222222222,\"#7201a8\"],[0.3333333333333333,\"#9c179e\"],[0.4444444444444444,\"#bd3786\"],[0.5555555555555556,\"#d8576b\"],[0.6666666666666666,\"#ed7953\"],[0.7777777777777778,\"#fb9f3a\"],[0.8888888888888888,\"#fdca26\"],[1.0,\"#f0f921\"]]}],\"heatmapgl\":[{\"type\":\"heatmapgl\",\"colorbar\":{\"outlinewidth\":0,\"ticks\":\"\"},\"colorscale\":[[0.0,\"#0d0887\"],[0.1111111111111111,\"#46039f\"],[0.2222222222222222,\"#7201a8\"],[0.3333333333333333,\"#9c179e\"],[0.4444444444444444,\"#bd3786\"],[0.5555555555555556,\"#d8576b\"],[0.6666666666666666,\"#ed7953\"],[0.7777777777777778,\"#fb9f3a\"],[0.8888888888888888,\"#fdca26\"],[1.0,\"#f0f921\"]]}],\"contourcarpet\":[{\"type\":\"contourcarpet\",\"colorbar\":{\"outlinewidth\":0,\"ticks\":\"\"}}],\"contour\":[{\"type\":\"contour\",\"colorbar\":{\"outlinewidth\":0,\"ticks\":\"\"},\"colorscale\":[[0.0,\"#0d0887\"],[0.1111111111111111,\"#46039f\"],[0.2222222222222222,\"#7201a8\"],[0.3333333333333333,\"#9c179e\"],[0.4444444444444444,\"#bd3786\"],[0.5555555555555556,\"#d8576b\"],[0.6666666666666666,\"#ed7953\"],[0.7777777777777778,\"#fb9f3a\"],[0.8888888888888888,\"#fdca26\"],[1.0,\"#f0f921\"]]}],\"surface\":[{\"type\":\"surface\",\"colorbar\":{\"outlinewidth\":0,\"ticks\":\"\"},\"colorscale\":[[0.0,\"#0d0887\"],[0.1111111111111111,\"#46039f\"],[0.2222222222222222,\"#7201a8\"],[0.3333333333333333,\"#9c179e\"],[0.4444444444444444,\"#bd3786\"],[0.5555555555555556,\"#d8576b\"],[0.6666666666666666,\"#ed7953\"],[0.7777777777777778,\"#fb9f3a\"],[0.8888888888888888,\"#fdca26\"],[1.0,\"#f0f921\"]]}],\"mesh3d\":[{\"type\":\"mesh3d\",\"colorbar\":{\"outlinewidth\":0,\"ticks\":\"\"}}],\"scatter\":[{\"fillpattern\":{\"fillmode\":\"overlay\",\"size\":10,\"solidity\":0.2},\"type\":\"scatter\"}],\"parcoords\":[{\"type\":\"parcoords\",\"line\":{\"colorbar\":{\"outlinewidth\":0,\"ticks\":\"\"}}}],\"scatterpolargl\":[{\"type\":\"scatterpolargl\",\"marker\":{\"colorbar\":{\"outlinewidth\":0,\"ticks\":\"\"}}}],\"bar\":[{\"error_x\":{\"color\":\"#2a3f5f\"},\"error_y\":{\"color\":\"#2a3f5f\"},\"marker\":{\"line\":{\"color\":\"#E5ECF6\",\"width\":0.5},\"pattern\":{\"fillmode\":\"overlay\",\"size\":10,\"solidity\":0.2}},\"type\":\"bar\"}],\"scattergeo\":[{\"type\":\"scattergeo\",\"marker\":{\"colorbar\":{\"outlinewidth\":0,\"ticks\":\"\"}}}],\"scatterpolar\":[{\"type\":\"scatterpolar\",\"marker\":{\"colorbar\":{\"outlinewidth\":0,\"ticks\":\"\"}}}],\"histogram\":[{\"marker\":{\"pattern\":{\"fillmode\":\"overlay\",\"size\":10,\"solidity\":0.2}},\"type\":\"histogram\"}],\"scattergl\":[{\"type\":\"scattergl\",\"marker\":{\"colorbar\":{\"outlinewidth\":0,\"ticks\":\"\"}}}],\"scatter3d\":[{\"type\":\"scatter3d\",\"line\":{\"colorbar\":{\"outlinewidth\":0,\"ticks\":\"\"}},\"marker\":{\"colorbar\":{\"outlinewidth\":0,\"ticks\":\"\"}}}],\"scattermapbox\":[{\"type\":\"scattermapbox\",\"marker\":{\"colorbar\":{\"outlinewidth\":0,\"ticks\":\"\"}}}],\"scatterternary\":[{\"type\":\"scatterternary\",\"marker\":{\"colorbar\":{\"outlinewidth\":0,\"ticks\":\"\"}}}],\"scattercarpet\":[{\"type\":\"scattercarpet\",\"marker\":{\"colorbar\":{\"outlinewidth\":0,\"ticks\":\"\"}}}],\"carpet\":[{\"aaxis\":{\"endlinecolor\":\"#2a3f5f\",\"gridcolor\":\"white\",\"linecolor\":\"white\",\"minorgridcolor\":\"white\",\"startlinecolor\":\"#2a3f5f\"},\"baxis\":{\"endlinecolor\":\"#2a3f5f\",\"gridcolor\":\"white\",\"linecolor\":\"white\",\"minorgridcolor\":\"white\",\"startlinecolor\":\"#2a3f5f\"},\"type\":\"carpet\"}],\"table\":[{\"cells\":{\"fill\":{\"color\":\"#EBF0F8\"},\"line\":{\"color\":\"white\"}},\"header\":{\"fill\":{\"color\":\"#C8D4E3\"},\"line\":{\"color\":\"white\"}},\"type\":\"table\"}],\"barpolar\":[{\"marker\":{\"line\":{\"color\":\"#E5ECF6\",\"width\":0.5},\"pattern\":{\"fillmode\":\"overlay\",\"size\":10,\"solidity\":0.2}},\"type\":\"barpolar\"}],\"pie\":[{\"automargin\":true,\"type\":\"pie\"}]},\"layout\":{\"autotypenumbers\":\"strict\",\"colorway\":[\"#636efa\",\"#EF553B\",\"#00cc96\",\"#ab63fa\",\"#FFA15A\",\"#19d3f3\",\"#FF6692\",\"#B6E880\",\"#FF97FF\",\"#FECB52\"],\"font\":{\"color\":\"#2a3f5f\"},\"hovermode\":\"closest\",\"hoverlabel\":{\"align\":\"left\"},\"paper_bgcolor\":\"white\",\"plot_bgcolor\":\"#E5ECF6\",\"polar\":{\"bgcolor\":\"#E5ECF6\",\"angularaxis\":{\"gridcolor\":\"white\",\"linecolor\":\"white\",\"ticks\":\"\"},\"radialaxis\":{\"gridcolor\":\"white\",\"linecolor\":\"white\",\"ticks\":\"\"}},\"ternary\":{\"bgcolor\":\"#E5ECF6\",\"aaxis\":{\"gridcolor\":\"white\",\"linecolor\":\"white\",\"ticks\":\"\"},\"baxis\":{\"gridcolor\":\"white\",\"linecolor\":\"white\",\"ticks\":\"\"},\"caxis\":{\"gridcolor\":\"white\",\"linecolor\":\"white\",\"ticks\":\"\"}},\"coloraxis\":{\"colorbar\":{\"outlinewidth\":0,\"ticks\":\"\"}},\"colorscale\":{\"sequential\":[[0.0,\"#0d0887\"],[0.1111111111111111,\"#46039f\"],[0.2222222222222222,\"#7201a8\"],[0.3333333333333333,\"#9c179e\"],[0.4444444444444444,\"#bd3786\"],[0.5555555555555556,\"#d8576b\"],[0.6666666666666666,\"#ed7953\"],[0.7777777777777778,\"#fb9f3a\"],[0.8888888888888888,\"#fdca26\"],[1.0,\"#f0f921\"]],\"sequentialminus\":[[0.0,\"#0d0887\"],[0.1111111111111111,\"#46039f\"],[0.2222222222222222,\"#7201a8\"],[0.3333333333333333,\"#9c179e\"],[0.4444444444444444,\"#bd3786\"],[0.5555555555555556,\"#d8576b\"],[0.6666666666666666,\"#ed7953\"],[0.7777777777777778,\"#fb9f3a\"],[0.8888888888888888,\"#fdca26\"],[1.0,\"#f0f921\"]],\"diverging\":[[0,\"#8e0152\"],[0.1,\"#c51b7d\"],[0.2,\"#de77ae\"],[0.3,\"#f1b6da\"],[0.4,\"#fde0ef\"],[0.5,\"#f7f7f7\"],[0.6,\"#e6f5d0\"],[0.7,\"#b8e186\"],[0.8,\"#7fbc41\"],[0.9,\"#4d9221\"],[1,\"#276419\"]]},\"xaxis\":{\"gridcolor\":\"white\",\"linecolor\":\"white\",\"ticks\":\"\",\"title\":{\"standoff\":15},\"zerolinecolor\":\"white\",\"automargin\":true,\"zerolinewidth\":2},\"yaxis\":{\"gridcolor\":\"white\",\"linecolor\":\"white\",\"ticks\":\"\",\"title\":{\"standoff\":15},\"zerolinecolor\":\"white\",\"automargin\":true,\"zerolinewidth\":2},\"scene\":{\"xaxis\":{\"backgroundcolor\":\"#E5ECF6\",\"gridcolor\":\"white\",\"linecolor\":\"white\",\"showbackground\":true,\"ticks\":\"\",\"zerolinecolor\":\"white\",\"gridwidth\":2},\"yaxis\":{\"backgroundcolor\":\"#E5ECF6\",\"gridcolor\":\"white\",\"linecolor\":\"white\",\"showbackground\":true,\"ticks\":\"\",\"zerolinecolor\":\"white\",\"gridwidth\":2},\"zaxis\":{\"backgroundcolor\":\"#E5ECF6\",\"gridcolor\":\"white\",\"linecolor\":\"white\",\"showbackground\":true,\"ticks\":\"\",\"zerolinecolor\":\"white\",\"gridwidth\":2}},\"shapedefaults\":{\"line\":{\"color\":\"#2a3f5f\"}},\"annotationdefaults\":{\"arrowcolor\":\"#2a3f5f\",\"arrowhead\":0,\"arrowwidth\":1},\"geo\":{\"bgcolor\":\"white\",\"landcolor\":\"#E5ECF6\",\"subunitcolor\":\"white\",\"showland\":true,\"showlakes\":true,\"lakecolor\":\"white\"},\"title\":{\"x\":0.05},\"mapbox\":{\"style\":\"light\"}}},\"xaxis\":{\"anchor\":\"y\",\"domain\":[0.0,1.0],\"title\":{\"text\":\"Data da assembleia\"}},\"yaxis\":{\"anchor\":\"x\",\"domain\":[0.0,1.0],\"title\":{\"text\":\"N\\u00famero de contempla\\u00e7\\u00f5es\"}},\"legend\":{\"tracegroupgap\":0},\"title\":{\"text\":\"Total de Contempla\\u00e7\\u00f5es\"},\"shapes\":[{\"line\":{\"dash\":\"dot\"},\"type\":\"line\",\"x0\":0,\"x1\":1,\"xref\":\"x domain\",\"y0\":650,\"y1\":650,\"yref\":\"y\"}],\"annotations\":[{\"showarrow\":false,\"text\":\"Total de cotas\",\"x\":1,\"xanchor\":\"right\",\"xref\":\"x domain\",\"y\":650,\"yanchor\":\"top\",\"yref\":\"y\"}]},                        {\"responsive\": true}                    ).then(function(){\n",
       "                            \n",
       "var gd = document.getElementById('95b2f39f-7303-469b-9f5f-79e8c294aae1');\n",
       "var x = new MutationObserver(function (mutations, observer) {{\n",
       "        var display = window.getComputedStyle(gd).display;\n",
       "        if (!display || display === 'none') {{\n",
       "            console.log([gd, 'removed!']);\n",
       "            Plotly.purge(gd);\n",
       "            observer.disconnect();\n",
       "        }}\n",
       "}});\n",
       "\n",
       "// Listen for the removal of the full notebook cells\n",
       "var notebookContainer = gd.closest('#notebook-container');\n",
       "if (notebookContainer) {{\n",
       "    x.observe(notebookContainer, {childList: true});\n",
       "}}\n",
       "\n",
       "// Listen for the clearing of the current output cell\n",
       "var outputEl = gd.closest('.output');\n",
       "if (outputEl) {{\n",
       "    x.observe(outputEl, {childList: true});\n",
       "}}\n",
       "\n",
       "                        })                };                });            </script>        </div>"
      ]
     },
     "metadata": {},
     "output_type": "display_data"
    }
   ],
   "source": [
    "chart_df = (\n",
    "    df[[\"data_assembleia\", \"total_contemplados\"]]\n",
    "    .groupby(\"data_assembleia\")\n",
    "    .max()\n",
    "    .reset_index()\n",
    ")\n",
    "fig = px.line(\n",
    "    chart_df,\n",
    "    x=\"data_assembleia\",\n",
    "    y=\"total_contemplados\",\n",
    "    labels={\n",
    "        \"data_assembleia\": \"Data da assembleia\",\n",
    "        \"total_contemplados\": \"Número de contemplações\",\n",
    "    },\n",
    "    title=f\"Total de Contemplações\",\n",
    ")\n",
    "fig.add_hline(\n",
    "    y=650,\n",
    "    line_dash=\"dot\",\n",
    "    annotation_text=\"Total de cotas\",\n",
    "    annotation_position=\"bottom right\",\n",
    ")\n",
    "fig.add_scatter(\n",
    "    x=df_linear[\"data_assembleia\"],\n",
    "    y=df_linear[\"tot_lin\"],\n",
    "    mode=\"lines\",\n",
    "    name=\"Se fossem distribuídas linearmente\",\n",
    ")\n",
    "fig.show()"
   ]
  }
 ],
 "metadata": {
  "kernelspec": {
   "display_name": ".venv",
   "language": "python",
   "name": "python3"
  },
  "language_info": {
   "codemirror_mode": {
    "name": "ipython",
    "version": 3
   },
   "file_extension": ".py",
   "mimetype": "text/x-python",
   "name": "python",
   "nbconvert_exporter": "python",
   "pygments_lexer": "ipython3",
   "version": "3.10.12"
  }
 },
 "nbformat": 4,
 "nbformat_minor": 2
}
